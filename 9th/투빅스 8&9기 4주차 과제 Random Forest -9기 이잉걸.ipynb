{
 "cells": [
  {
   "cell_type": "code",
   "execution_count": null,
   "metadata": {},
   "outputs": [],
   "source": [
    "################랜덤포레스트 과제################\n",
    "from sklearn.model_selection import train_test_split\n",
    "from sklearn.tree import DecisionTreeClassifier\n",
    "from sklearn.datasets import load_breast_cancer\n",
    "import numpy as np\n",
    "import pandas as pd\n",
    "from sklearn import metrics\n",
    "load_breast_cancer()\n",
    "cancer = load_breast_cancer()\n",
    "dat = pd.concat([pd.DataFrame(cancer.data, columns= cancer.feature_names),\n",
    "        pd.DataFrame(cancer.target, columns=[\"is_cancer\"])], axis=1)\n",
    " \n",
    "test, train = train_test_split(dat, test_size = 0.7, random_state = 930904)\n",
    "test.shape\n",
    "# (170, 31)\n",
    "train.shape\n",
    "# (399, 31)\n",
    " \n",
    "def my_rf(train, test, n_estimators, max_features):\n",
    "    result = []\n",
    "    col = train.columns\n",
    "    compare = np.zeros((n_estimators, len(test))) # 트리들의 예측값들을 모아 vote(이자 비교)하기 위해 만든 임시 array\n",
    "    for i in range(n_estimators):\n",
    "        select = np.random.choice(col[:-1], max_features, replace=False)\n",
    "        # 비복원 추출로 변수 뽑기\n",
    "        tree = DecisionTreeClassifier()\n",
    "        tree.fit(X=train[select], y=train[col[-1]])\n",
    "        pred = tree.predict(X=test[select])\n",
    "        # n_estimators 수만큼 트리모델(일부 변수만을 뽑은)을 생성하고 test set의 모든 관측치들에 대해 예측\n",
    "        compare[i] = pred\n",
    "    compare = pd.DataFrame(compare) # 밑의 코드를 실행하기 위해서는 데이터프레임화를 할 필요가 있습니다.\n",
    "    for j in range(len(test)):\n",
    "        result.append(compare[j].value_counts().index[0])\n",
    "        # 각 트리들의 예측값들을 데이터프레임의 열마다 vote해 다수결 결과값을 예측결과 리스트에 저장\n",
    "    return(result)\n",
    " \n",
    "my_pred = my_rf(train, test, 10, 6)\n",
    "my_pred\n",
    "#[1.0, 0.0, 0.0, 1.0, 1.0,  0.0, 1.0, 0.0, 0.0, 0.0, 1.0, 1.0, 1.0, 1.0, ..., 0.0]\n",
    "print(metrics.classification_report(my_pred, test['is_cancer']))\n",
    "#             precision    recall  f1-score   support\n",
    " \n",
    "#        0.0       0.85      0.98      0.91        59\n",
    "#        1.0       0.99      0.91      0.95       111\n",
    " \n",
    "#avg / total       0.94      0.94      0.94       170\n",
    " \n",
    "#RandomForestClassifier 모듈과 거의 흡사한 결과를 보입니다!\n"
   ]
  }
 ],
 "metadata": {
  "language_info": {
   "name": "python"
  }
 },
 "nbformat": 4,
 "nbformat_minor": 2
}
