{
 "cells": [
  {
   "cell_type": "code",
   "execution_count": null,
   "id": "5577ebfd",
   "metadata": {},
   "outputs": [],
   "source": [
    "## Selenium Homework\n",
    "# 셀레늄 가져오기\n",
    "from selenium import webdriver \n",
    "import urllib\n",
    "\n",
    "driver = webdriver.Chrome('C:\\\\Users\\\\user\\\\Desktop\\\\chromedriver_win32\\\\chromedriver.exe')"
   ]
  },
  {
   "cell_type": "code",
   "execution_count": null,
   "id": "bd5d7200",
   "metadata": {},
   "outputs": [],
   "source": [
    "# 페이지 이동 / 확인\n",
    "driver.get(\"https://google.co.kr\")\n",
    "print(driver.current_url)"
   ]
  },
  {
   "cell_type": "code",
   "execution_count": null,
   "id": "7f1e9ff1",
   "metadata": {},
   "outputs": [],
   "source": [
    "# search 상자와 검색 버튼 지정\n",
    "from selenium.webdriver.common.keys import Keys\n",
    "\n",
    "search=driver.find_element_by_class_name('gsfi')\n",
    "search_btn=driver.find_element_by_class_name('jsb').find_element_by_tag_name('input')"
   ]
  },
  {
   "cell_type": "code",
   "execution_count": null,
   "id": "2f95a1a3",
   "metadata": {},
   "outputs": [],
   "source": [
    "# 검색 진행\n",
    "search.send_keys(\"IOI배경\")\n",
    "search_btn.click()"
   ]
  },
  {
   "cell_type": "code",
   "execution_count": null,
   "id": "1433fc22",
   "metadata": {},
   "outputs": [],
   "source": [
    "# 이미지 페이지로 이동\n",
    "image_btn=driver.find_element_by_class_name('q')\n",
    "image_btn.click()"
   ]
  },
  {
   "cell_type": "code",
   "execution_count": null,
   "id": "c0765c63",
   "metadata": {},
   "outputs": [],
   "source": [
    "# 스크린 샷 및 이미지 저장\n",
    "import urllib.request\n",
    "images=driver.find_elements_by_class_name('rg_ic')\n",
    "k = 0\n",
    "for image in images:\n",
    "    try:\n",
    "        source = image.get_attribute('src')\n",
    "        urllib.request.urlretrieve(source, \"shot\" + str(k) + '.png')\n",
    "    except:\n",
    "        print('Null')\n",
    "    k = k + 1"
   ]
  },
  {
   "cell_type": "code",
   "execution_count": null,
   "id": "bbac4e19",
   "metadata": {},
   "outputs": [],
   "source": [
    "# 종료\n",
    "driver.quit()"
   ]
  },
  {
   "cell_type": "code",
   "execution_count": null,
   "id": "2fe6cf10",
   "metadata": {},
   "outputs": [],
   "source": [
    "#결과: IOI사진 400장 크롤링"
   ]
  }
 ],
 "metadata": {
  "kernelspec": {
   "display_name": "Python 3 (ipykernel)",
   "language": "python",
   "name": "python3"
  },
  "language_info": {
   "codemirror_mode": {
    "name": "ipython",
    "version": 3
   },
   "file_extension": ".py",
   "mimetype": "text/x-python",
   "name": "python",
   "nbconvert_exporter": "python",
   "pygments_lexer": "ipython3",
   "version": "3.11.4"
  }
 },
 "nbformat": 4,
 "nbformat_minor": 5
}
