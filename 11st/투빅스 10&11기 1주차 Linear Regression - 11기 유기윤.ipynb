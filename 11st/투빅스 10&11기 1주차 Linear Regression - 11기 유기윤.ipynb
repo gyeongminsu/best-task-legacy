{
 "cells": [
  {
   "cell_type": "markdown",
   "metadata": {},
   "source": [
    "# Data "
   ]
  },
  {
   "cell_type": "markdown",
   "metadata": {},
   "source": [
    "### Import Data"
   ]
  },
  {
   "cell_type": "code",
   "execution_count": 1,
   "metadata": {},
   "outputs": [],
   "source": [
    "import os\n",
    "import pandas as pd"
   ]
  },
  {
   "cell_type": "code",
   "execution_count": 2,
   "metadata": {},
   "outputs": [
    {
     "data": {
      "text/plain": [
       "'C:\\\\Users\\\\Ki Yoon Yoo\\\\Desktop\\\\투빅스\\\\1주차\\\\Assignment\\\\부동산경매'"
      ]
     },
     "execution_count": 2,
     "metadata": {},
     "output_type": "execute_result"
    }
   ],
   "source": [
    "os.getcwd()"
   ]
  },
  {
   "cell_type": "code",
   "execution_count": 3,
   "metadata": {},
   "outputs": [],
   "source": [
    "df = pd.read_csv('Auction_master/Auction_master_train.csv')"
   ]
  },
  {
   "cell_type": "code",
   "execution_count": 4,
   "metadata": {},
   "outputs": [
    {
     "data": {
      "text/html": [
       "<div>\n",
       "<style scoped>\n",
       "    .dataframe tbody tr th:only-of-type {\n",
       "        vertical-align: middle;\n",
       "    }\n",
       "\n",
       "    .dataframe tbody tr th {\n",
       "        vertical-align: top;\n",
       "    }\n",
       "\n",
       "    .dataframe thead th {\n",
       "        text-align: right;\n",
       "    }\n",
       "</style>\n",
       "<table border=\"1\" class=\"dataframe\">\n",
       "  <thead>\n",
       "    <tr style=\"text-align: right;\">\n",
       "      <th></th>\n",
       "      <th>Auction_key</th>\n",
       "      <th>Auction_class</th>\n",
       "      <th>Bid_class</th>\n",
       "      <th>Claim_price</th>\n",
       "      <th>Appraisal_company</th>\n",
       "      <th>Appraisal_date</th>\n",
       "      <th>Auction_count</th>\n",
       "      <th>Auction_miscarriage_count</th>\n",
       "      <th>Total_land_gross_area</th>\n",
       "      <th>Total_land_real_area</th>\n",
       "      <th>...</th>\n",
       "      <th>Specific</th>\n",
       "      <th>Share_auction_YorN</th>\n",
       "      <th>road_name</th>\n",
       "      <th>road_bunji1</th>\n",
       "      <th>road_bunji2</th>\n",
       "      <th>Close_date</th>\n",
       "      <th>Close_result</th>\n",
       "      <th>point.y</th>\n",
       "      <th>point.x</th>\n",
       "      <th>Hammer_price</th>\n",
       "    </tr>\n",
       "  </thead>\n",
       "  <tbody>\n",
       "    <tr>\n",
       "      <th>0</th>\n",
       "      <td>2687</td>\n",
       "      <td>임의</td>\n",
       "      <td>개별</td>\n",
       "      <td>1766037301</td>\n",
       "      <td>정명감정</td>\n",
       "      <td>2017-07-26 00:00:00</td>\n",
       "      <td>2</td>\n",
       "      <td>1</td>\n",
       "      <td>12592.0</td>\n",
       "      <td>37.35</td>\n",
       "      <td>...</td>\n",
       "      <td>NaN</td>\n",
       "      <td>N</td>\n",
       "      <td>해운대해변로</td>\n",
       "      <td>30.0</td>\n",
       "      <td>NaN</td>\n",
       "      <td>2018-06-14 00:00:00</td>\n",
       "      <td>배당</td>\n",
       "      <td>35.162717</td>\n",
       "      <td>129.137048</td>\n",
       "      <td>760000000</td>\n",
       "    </tr>\n",
       "    <tr>\n",
       "      <th>1</th>\n",
       "      <td>2577</td>\n",
       "      <td>임의</td>\n",
       "      <td>일반</td>\n",
       "      <td>152946867</td>\n",
       "      <td>희감정</td>\n",
       "      <td>2016-09-12 00:00:00</td>\n",
       "      <td>2</td>\n",
       "      <td>1</td>\n",
       "      <td>42478.1</td>\n",
       "      <td>18.76</td>\n",
       "      <td>...</td>\n",
       "      <td>NaN</td>\n",
       "      <td>N</td>\n",
       "      <td>마린시티2로</td>\n",
       "      <td>33.0</td>\n",
       "      <td>NaN</td>\n",
       "      <td>2017-03-30 00:00:00</td>\n",
       "      <td>배당</td>\n",
       "      <td>35.156633</td>\n",
       "      <td>129.145068</td>\n",
       "      <td>971889999</td>\n",
       "    </tr>\n",
       "    <tr>\n",
       "      <th>2</th>\n",
       "      <td>2197</td>\n",
       "      <td>임의</td>\n",
       "      <td>개별</td>\n",
       "      <td>11326510</td>\n",
       "      <td>혜림감정</td>\n",
       "      <td>2016-11-22 00:00:00</td>\n",
       "      <td>3</td>\n",
       "      <td>2</td>\n",
       "      <td>149683.1</td>\n",
       "      <td>71.00</td>\n",
       "      <td>...</td>\n",
       "      <td>NaN</td>\n",
       "      <td>N</td>\n",
       "      <td>모라로110번길</td>\n",
       "      <td>88.0</td>\n",
       "      <td>NaN</td>\n",
       "      <td>2017-12-13 00:00:00</td>\n",
       "      <td>배당</td>\n",
       "      <td>35.184601</td>\n",
       "      <td>128.996765</td>\n",
       "      <td>93399999</td>\n",
       "    </tr>\n",
       "    <tr>\n",
       "      <th>3</th>\n",
       "      <td>2642</td>\n",
       "      <td>임의</td>\n",
       "      <td>일반</td>\n",
       "      <td>183581724</td>\n",
       "      <td>신라감정</td>\n",
       "      <td>2016-12-13 00:00:00</td>\n",
       "      <td>2</td>\n",
       "      <td>1</td>\n",
       "      <td>24405.0</td>\n",
       "      <td>32.98</td>\n",
       "      <td>...</td>\n",
       "      <td>NaN</td>\n",
       "      <td>N</td>\n",
       "      <td>황령대로319번가길</td>\n",
       "      <td>110.0</td>\n",
       "      <td>NaN</td>\n",
       "      <td>2017-12-27 00:00:00</td>\n",
       "      <td>배당</td>\n",
       "      <td>35.154180</td>\n",
       "      <td>129.089081</td>\n",
       "      <td>256899000</td>\n",
       "    </tr>\n",
       "    <tr>\n",
       "      <th>4</th>\n",
       "      <td>1958</td>\n",
       "      <td>강제</td>\n",
       "      <td>일반</td>\n",
       "      <td>45887671</td>\n",
       "      <td>나라감정</td>\n",
       "      <td>2016-03-07 00:00:00</td>\n",
       "      <td>2</td>\n",
       "      <td>1</td>\n",
       "      <td>774.0</td>\n",
       "      <td>45.18</td>\n",
       "      <td>...</td>\n",
       "      <td>NaN</td>\n",
       "      <td>N</td>\n",
       "      <td>오작로</td>\n",
       "      <td>51.0</td>\n",
       "      <td>NaN</td>\n",
       "      <td>2016-10-04 00:00:00</td>\n",
       "      <td>배당</td>\n",
       "      <td>35.099630</td>\n",
       "      <td>128.998874</td>\n",
       "      <td>158660000</td>\n",
       "    </tr>\n",
       "  </tbody>\n",
       "</table>\n",
       "<p>5 rows × 41 columns</p>\n",
       "</div>"
      ],
      "text/plain": [
       "   Auction_key Auction_class Bid_class  Claim_price Appraisal_company  \\\n",
       "0         2687            임의        개별   1766037301              정명감정   \n",
       "1         2577            임의        일반    152946867               희감정   \n",
       "2         2197            임의        개별     11326510              혜림감정   \n",
       "3         2642            임의        일반    183581724              신라감정   \n",
       "4         1958            강제        일반     45887671              나라감정   \n",
       "\n",
       "        Appraisal_date  Auction_count  Auction_miscarriage_count  \\\n",
       "0  2017-07-26 00:00:00              2                          1   \n",
       "1  2016-09-12 00:00:00              2                          1   \n",
       "2  2016-11-22 00:00:00              3                          2   \n",
       "3  2016-12-13 00:00:00              2                          1   \n",
       "4  2016-03-07 00:00:00              2                          1   \n",
       "\n",
       "   Total_land_gross_area  Total_land_real_area     ...       Specific  \\\n",
       "0                12592.0                 37.35     ...            NaN   \n",
       "1                42478.1                 18.76     ...            NaN   \n",
       "2               149683.1                 71.00     ...            NaN   \n",
       "3                24405.0                 32.98     ...            NaN   \n",
       "4                  774.0                 45.18     ...            NaN   \n",
       "\n",
       "   Share_auction_YorN   road_name  road_bunji1  road_bunji2  \\\n",
       "0                   N      해운대해변로         30.0          NaN   \n",
       "1                   N      마린시티2로         33.0          NaN   \n",
       "2                   N    모라로110번길         88.0          NaN   \n",
       "3                   N  황령대로319번가길        110.0          NaN   \n",
       "4                   N         오작로         51.0          NaN   \n",
       "\n",
       "            Close_date Close_result    point.y     point.x Hammer_price  \n",
       "0  2018-06-14 00:00:00           배당  35.162717  129.137048    760000000  \n",
       "1  2017-03-30 00:00:00           배당  35.156633  129.145068    971889999  \n",
       "2  2017-12-13 00:00:00           배당  35.184601  128.996765     93399999  \n",
       "3  2017-12-27 00:00:00           배당  35.154180  129.089081    256899000  \n",
       "4  2016-10-04 00:00:00           배당  35.099630  128.998874    158660000  \n",
       "\n",
       "[5 rows x 41 columns]"
      ]
     },
     "execution_count": 4,
     "metadata": {},
     "output_type": "execute_result"
    }
   ],
   "source": [
    "df.head()"
   ]
  },
  {
   "cell_type": "code",
   "execution_count": 5,
   "metadata": {},
   "outputs": [
    {
     "data": {
      "text/plain": [
       "(1933, 41)"
      ]
     },
     "execution_count": 5,
     "metadata": {},
     "output_type": "execute_result"
    }
   ],
   "source": [
    "df.shape"
   ]
  },
  {
   "cell_type": "markdown",
   "metadata": {},
   "source": [
    "## Data Exploration"
   ]
  },
  {
   "cell_type": "code",
   "execution_count": 6,
   "metadata": {},
   "outputs": [],
   "source": [
    "import matplotlib\n",
    "import matplotlib.pyplot as plt\n",
    "import seaborn as sns\n",
    "import numpy as np"
   ]
  },
  {
   "cell_type": "code",
   "execution_count": 7,
   "metadata": {},
   "outputs": [],
   "source": [
    "#for using Korean font\n",
    "matplotlib.rc('font', family='NanumBarunGothic')\n",
    "plt.rcParams['axes.unicode_minus'] = False"
   ]
  },
  {
   "cell_type": "code",
   "execution_count": 8,
   "metadata": {
    "scrolled": true
   },
   "outputs": [
    {
     "name": "stdout",
     "output_type": "stream",
     "text": [
      "<class 'pandas.core.frame.DataFrame'>\n",
      "RangeIndex: 1933 entries, 0 to 1932\n",
      "Data columns (total 41 columns):\n",
      "Auction_key                    1933 non-null int64\n",
      "Auction_class                  1933 non-null object\n",
      "Bid_class                      1933 non-null object\n",
      "Claim_price                    1933 non-null int64\n",
      "Appraisal_company              1933 non-null object\n",
      "Appraisal_date                 1933 non-null object\n",
      "Auction_count                  1933 non-null int64\n",
      "Auction_miscarriage_count      1933 non-null int64\n",
      "Total_land_gross_area          1933 non-null float64\n",
      "Total_land_real_area           1933 non-null float64\n",
      "Total_land_auction_area        1933 non-null float64\n",
      "Total_building_area            1933 non-null float64\n",
      "Total_building_auction_area    1933 non-null float64\n",
      "Total_appraisal_price          1933 non-null int64\n",
      "Minimum_sales_price            1933 non-null int64\n",
      "First_auction_date             1933 non-null object\n",
      "Final_auction_date             1933 non-null object\n",
      "Final_result                   1933 non-null object\n",
      "Creditor                       1933 non-null object\n",
      "addr_do                        1933 non-null object\n",
      "addr_si                        1933 non-null object\n",
      "addr_dong                      1933 non-null object\n",
      "addr_li                        23 non-null object\n",
      "addr_san                       1933 non-null object\n",
      "addr_bunji1                    1929 non-null float64\n",
      "addr_bunji2                    889 non-null float64\n",
      "addr_etc                       1933 non-null object\n",
      "Apartment_usage                1933 non-null object\n",
      "Preserve_regist_date           1933 non-null object\n",
      "Total_floor                    1933 non-null int64\n",
      "Current_floor                  1933 non-null int64\n",
      "Specific                       64 non-null object\n",
      "Share_auction_YorN             1933 non-null object\n",
      "road_name                      1933 non-null object\n",
      "road_bunji1                    1909 non-null float64\n",
      "road_bunji2                    155 non-null float64\n",
      "Close_date                     1933 non-null object\n",
      "Close_result                   1933 non-null object\n",
      "point.y                        1933 non-null float64\n",
      "point.x                        1933 non-null float64\n",
      "Hammer_price                   1933 non-null int64\n",
      "dtypes: float64(11), int64(9), object(21)\n",
      "memory usage: 619.2+ KB\n"
     ]
    },
    {
     "data": {
      "text/plain": [
       "None"
      ]
     },
     "metadata": {},
     "output_type": "display_data"
    }
   ],
   "source": [
    "display(df.info())"
   ]
  },
  {
   "cell_type": "code",
   "execution_count": 9,
   "metadata": {
    "scrolled": true
   },
   "outputs": [
    {
     "data": {
      "text/html": [
       "<div>\n",
       "<style scoped>\n",
       "    .dataframe tbody tr th:only-of-type {\n",
       "        vertical-align: middle;\n",
       "    }\n",
       "\n",
       "    .dataframe tbody tr th {\n",
       "        vertical-align: top;\n",
       "    }\n",
       "\n",
       "    .dataframe thead th {\n",
       "        text-align: right;\n",
       "    }\n",
       "</style>\n",
       "<table border=\"1\" class=\"dataframe\">\n",
       "  <thead>\n",
       "    <tr style=\"text-align: right;\">\n",
       "      <th></th>\n",
       "      <th>Auction_key</th>\n",
       "      <th>Claim_price</th>\n",
       "      <th>Auction_count</th>\n",
       "      <th>Auction_miscarriage_count</th>\n",
       "      <th>Total_land_gross_area</th>\n",
       "      <th>Total_land_real_area</th>\n",
       "      <th>Total_land_auction_area</th>\n",
       "      <th>Total_building_area</th>\n",
       "      <th>Total_building_auction_area</th>\n",
       "      <th>Total_appraisal_price</th>\n",
       "      <th>Minimum_sales_price</th>\n",
       "      <th>addr_bunji1</th>\n",
       "      <th>addr_bunji2</th>\n",
       "      <th>Total_floor</th>\n",
       "      <th>Current_floor</th>\n",
       "      <th>road_bunji1</th>\n",
       "      <th>road_bunji2</th>\n",
       "      <th>point.y</th>\n",
       "      <th>point.x</th>\n",
       "      <th>Hammer_price</th>\n",
       "    </tr>\n",
       "  </thead>\n",
       "  <tbody>\n",
       "    <tr>\n",
       "      <th>count</th>\n",
       "      <td>1933.000000</td>\n",
       "      <td>1.933000e+03</td>\n",
       "      <td>1933.000000</td>\n",
       "      <td>1933.000000</td>\n",
       "      <td>1.933000e+03</td>\n",
       "      <td>1933.000000</td>\n",
       "      <td>1933.000000</td>\n",
       "      <td>1933.000000</td>\n",
       "      <td>1933.000000</td>\n",
       "      <td>1.933000e+03</td>\n",
       "      <td>1.933000e+03</td>\n",
       "      <td>1929.000000</td>\n",
       "      <td>889.000000</td>\n",
       "      <td>1933.000000</td>\n",
       "      <td>1933.000000</td>\n",
       "      <td>1909.000000</td>\n",
       "      <td>155.000000</td>\n",
       "      <td>1933.000000</td>\n",
       "      <td>1933.000000</td>\n",
       "      <td>1.933000e+03</td>\n",
       "    </tr>\n",
       "    <tr>\n",
       "      <th>mean</th>\n",
       "      <td>1380.271081</td>\n",
       "      <td>3.703908e+08</td>\n",
       "      <td>1.836006</td>\n",
       "      <td>0.788412</td>\n",
       "      <td>3.458714e+04</td>\n",
       "      <td>42.333802</td>\n",
       "      <td>41.310776</td>\n",
       "      <td>96.417693</td>\n",
       "      <td>94.148810</td>\n",
       "      <td>4.973592e+08</td>\n",
       "      <td>4.155955e+08</td>\n",
       "      <td>601.952307</td>\n",
       "      <td>22.742407</td>\n",
       "      <td>16.980859</td>\n",
       "      <td>8.817900</td>\n",
       "      <td>127.441069</td>\n",
       "      <td>12.748387</td>\n",
       "      <td>36.698018</td>\n",
       "      <td>127.731667</td>\n",
       "      <td>4.726901e+08</td>\n",
       "    </tr>\n",
       "    <tr>\n",
       "      <th>std</th>\n",
       "      <td>801.670470</td>\n",
       "      <td>1.337869e+09</td>\n",
       "      <td>0.938319</td>\n",
       "      <td>0.831715</td>\n",
       "      <td>9.442101e+04</td>\n",
       "      <td>65.274404</td>\n",
       "      <td>65.385900</td>\n",
       "      <td>106.323240</td>\n",
       "      <td>106.845985</td>\n",
       "      <td>7.873851e+08</td>\n",
       "      <td>5.030312e+08</td>\n",
       "      <td>554.119824</td>\n",
       "      <td>67.000807</td>\n",
       "      <td>9.509021</td>\n",
       "      <td>8.044644</td>\n",
       "      <td>188.394217</td>\n",
       "      <td>10.735663</td>\n",
       "      <td>1.150269</td>\n",
       "      <td>0.993055</td>\n",
       "      <td>5.574493e+08</td>\n",
       "    </tr>\n",
       "    <tr>\n",
       "      <th>min</th>\n",
       "      <td>1.000000</td>\n",
       "      <td>0.000000e+00</td>\n",
       "      <td>1.000000</td>\n",
       "      <td>0.000000</td>\n",
       "      <td>0.000000e+00</td>\n",
       "      <td>0.000000</td>\n",
       "      <td>0.000000</td>\n",
       "      <td>9.390000</td>\n",
       "      <td>1.500000</td>\n",
       "      <td>4.285000e+06</td>\n",
       "      <td>4.285000e+06</td>\n",
       "      <td>1.000000</td>\n",
       "      <td>1.000000</td>\n",
       "      <td>3.000000</td>\n",
       "      <td>0.000000</td>\n",
       "      <td>1.000000</td>\n",
       "      <td>1.000000</td>\n",
       "      <td>35.051385</td>\n",
       "      <td>126.809393</td>\n",
       "      <td>6.303000e+06</td>\n",
       "    </tr>\n",
       "    <tr>\n",
       "      <th>25%</th>\n",
       "      <td>691.000000</td>\n",
       "      <td>7.746112e+07</td>\n",
       "      <td>1.000000</td>\n",
       "      <td>0.000000</td>\n",
       "      <td>2.997000e+03</td>\n",
       "      <td>25.870000</td>\n",
       "      <td>24.570000</td>\n",
       "      <td>61.520000</td>\n",
       "      <td>59.970000</td>\n",
       "      <td>2.090000e+08</td>\n",
       "      <td>1.750000e+08</td>\n",
       "      <td>189.000000</td>\n",
       "      <td>1.000000</td>\n",
       "      <td>12.000000</td>\n",
       "      <td>3.000000</td>\n",
       "      <td>24.000000</td>\n",
       "      <td>5.000000</td>\n",
       "      <td>35.188590</td>\n",
       "      <td>126.959167</td>\n",
       "      <td>1.975550e+08</td>\n",
       "    </tr>\n",
       "    <tr>\n",
       "      <th>50%</th>\n",
       "      <td>1395.000000</td>\n",
       "      <td>1.728143e+08</td>\n",
       "      <td>2.000000</td>\n",
       "      <td>1.000000</td>\n",
       "      <td>1.424140e+04</td>\n",
       "      <td>37.510000</td>\n",
       "      <td>36.790000</td>\n",
       "      <td>84.900000</td>\n",
       "      <td>84.860000</td>\n",
       "      <td>3.600000e+08</td>\n",
       "      <td>3.120000e+08</td>\n",
       "      <td>482.000000</td>\n",
       "      <td>5.000000</td>\n",
       "      <td>15.000000</td>\n",
       "      <td>7.000000</td>\n",
       "      <td>57.000000</td>\n",
       "      <td>9.000000</td>\n",
       "      <td>37.500862</td>\n",
       "      <td>127.065003</td>\n",
       "      <td>3.544500e+08</td>\n",
       "    </tr>\n",
       "    <tr>\n",
       "      <th>75%</th>\n",
       "      <td>2062.000000</td>\n",
       "      <td>3.565089e+08</td>\n",
       "      <td>2.000000</td>\n",
       "      <td>1.000000</td>\n",
       "      <td>4.140310e+04</td>\n",
       "      <td>51.790000</td>\n",
       "      <td>51.320000</td>\n",
       "      <td>114.940000</td>\n",
       "      <td>114.850000</td>\n",
       "      <td>5.720000e+08</td>\n",
       "      <td>4.864000e+08</td>\n",
       "      <td>834.000000</td>\n",
       "      <td>18.000000</td>\n",
       "      <td>21.000000</td>\n",
       "      <td>12.000000</td>\n",
       "      <td>145.000000</td>\n",
       "      <td>17.500000</td>\n",
       "      <td>37.566116</td>\n",
       "      <td>129.018054</td>\n",
       "      <td>5.599000e+08</td>\n",
       "    </tr>\n",
       "    <tr>\n",
       "      <th>max</th>\n",
       "      <td>2762.000000</td>\n",
       "      <td>2.286481e+10</td>\n",
       "      <td>13.000000</td>\n",
       "      <td>9.000000</td>\n",
       "      <td>3.511936e+06</td>\n",
       "      <td>2665.840000</td>\n",
       "      <td>2665.840000</td>\n",
       "      <td>4255.070000</td>\n",
       "      <td>4255.070000</td>\n",
       "      <td>2.777500e+10</td>\n",
       "      <td>1.422080e+10</td>\n",
       "      <td>4937.000000</td>\n",
       "      <td>1414.000000</td>\n",
       "      <td>80.000000</td>\n",
       "      <td>65.000000</td>\n",
       "      <td>1716.000000</td>\n",
       "      <td>55.000000</td>\n",
       "      <td>37.685575</td>\n",
       "      <td>129.255872</td>\n",
       "      <td>1.515100e+10</td>\n",
       "    </tr>\n",
       "  </tbody>\n",
       "</table>\n",
       "</div>"
      ],
      "text/plain": [
       "       Auction_key   Claim_price  Auction_count  Auction_miscarriage_count  \\\n",
       "count  1933.000000  1.933000e+03    1933.000000                1933.000000   \n",
       "mean   1380.271081  3.703908e+08       1.836006                   0.788412   \n",
       "std     801.670470  1.337869e+09       0.938319                   0.831715   \n",
       "min       1.000000  0.000000e+00       1.000000                   0.000000   \n",
       "25%     691.000000  7.746112e+07       1.000000                   0.000000   \n",
       "50%    1395.000000  1.728143e+08       2.000000                   1.000000   \n",
       "75%    2062.000000  3.565089e+08       2.000000                   1.000000   \n",
       "max    2762.000000  2.286481e+10      13.000000                   9.000000   \n",
       "\n",
       "       Total_land_gross_area  Total_land_real_area  Total_land_auction_area  \\\n",
       "count           1.933000e+03           1933.000000              1933.000000   \n",
       "mean            3.458714e+04             42.333802                41.310776   \n",
       "std             9.442101e+04             65.274404                65.385900   \n",
       "min             0.000000e+00              0.000000                 0.000000   \n",
       "25%             2.997000e+03             25.870000                24.570000   \n",
       "50%             1.424140e+04             37.510000                36.790000   \n",
       "75%             4.140310e+04             51.790000                51.320000   \n",
       "max             3.511936e+06           2665.840000              2665.840000   \n",
       "\n",
       "       Total_building_area  Total_building_auction_area  \\\n",
       "count          1933.000000                  1933.000000   \n",
       "mean             96.417693                    94.148810   \n",
       "std             106.323240                   106.845985   \n",
       "min               9.390000                     1.500000   \n",
       "25%              61.520000                    59.970000   \n",
       "50%              84.900000                    84.860000   \n",
       "75%             114.940000                   114.850000   \n",
       "max            4255.070000                  4255.070000   \n",
       "\n",
       "       Total_appraisal_price  Minimum_sales_price  addr_bunji1  addr_bunji2  \\\n",
       "count           1.933000e+03         1.933000e+03  1929.000000   889.000000   \n",
       "mean            4.973592e+08         4.155955e+08   601.952307    22.742407   \n",
       "std             7.873851e+08         5.030312e+08   554.119824    67.000807   \n",
       "min             4.285000e+06         4.285000e+06     1.000000     1.000000   \n",
       "25%             2.090000e+08         1.750000e+08   189.000000     1.000000   \n",
       "50%             3.600000e+08         3.120000e+08   482.000000     5.000000   \n",
       "75%             5.720000e+08         4.864000e+08   834.000000    18.000000   \n",
       "max             2.777500e+10         1.422080e+10  4937.000000  1414.000000   \n",
       "\n",
       "       Total_floor  Current_floor  road_bunji1  road_bunji2      point.y  \\\n",
       "count  1933.000000    1933.000000  1909.000000   155.000000  1933.000000   \n",
       "mean     16.980859       8.817900   127.441069    12.748387    36.698018   \n",
       "std       9.509021       8.044644   188.394217    10.735663     1.150269   \n",
       "min       3.000000       0.000000     1.000000     1.000000    35.051385   \n",
       "25%      12.000000       3.000000    24.000000     5.000000    35.188590   \n",
       "50%      15.000000       7.000000    57.000000     9.000000    37.500862   \n",
       "75%      21.000000      12.000000   145.000000    17.500000    37.566116   \n",
       "max      80.000000      65.000000  1716.000000    55.000000    37.685575   \n",
       "\n",
       "           point.x  Hammer_price  \n",
       "count  1933.000000  1.933000e+03  \n",
       "mean    127.731667  4.726901e+08  \n",
       "std       0.993055  5.574493e+08  \n",
       "min     126.809393  6.303000e+06  \n",
       "25%     126.959167  1.975550e+08  \n",
       "50%     127.065003  3.544500e+08  \n",
       "75%     129.018054  5.599000e+08  \n",
       "max     129.255872  1.515100e+10  "
      ]
     },
     "metadata": {},
     "output_type": "display_data"
    }
   ],
   "source": [
    "display(df.describe())"
   ]
  },
  {
   "cell_type": "code",
   "execution_count": 10,
   "metadata": {},
   "outputs": [
    {
     "data": {
      "text/plain": [
       "238"
      ]
     },
     "execution_count": 10,
     "metadata": {},
     "output_type": "execute_result"
    }
   ],
   "source": [
    "len(set(df['Appraisal_company']))"
   ]
  },
  {
   "cell_type": "markdown",
   "metadata": {},
   "source": [
    "# Data Preprocessing"
   ]
  },
  {
   "cell_type": "markdown",
   "metadata": {},
   "source": [
    "#### 범주형 변수 처리"
   ]
  },
  {
   "cell_type": "code",
   "execution_count": 11,
   "metadata": {},
   "outputs": [],
   "source": [
    "categorical_col = list(df.select_dtypes(include='object').columns)"
   ]
  },
  {
   "cell_type": "code",
   "execution_count": 12,
   "metadata": {
    "scrolled": true
   },
   "outputs": [
    {
     "data": {
      "text/plain": [
       "['Auction_class',\n",
       " 'Bid_class',\n",
       " 'Appraisal_company',\n",
       " 'Appraisal_date',\n",
       " 'First_auction_date',\n",
       " 'Final_auction_date',\n",
       " 'Final_result',\n",
       " 'Creditor',\n",
       " 'addr_do',\n",
       " 'addr_si',\n",
       " 'addr_dong',\n",
       " 'addr_li',\n",
       " 'addr_san',\n",
       " 'addr_etc',\n",
       " 'Apartment_usage',\n",
       " 'Preserve_regist_date',\n",
       " 'Specific',\n",
       " 'Share_auction_YorN',\n",
       " 'road_name',\n",
       " 'Close_date',\n",
       " 'Close_result']"
      ]
     },
     "execution_count": 12,
     "metadata": {},
     "output_type": "execute_result"
    }
   ],
   "source": [
    "categorical_col"
   ]
  },
  {
   "cell_type": "code",
   "execution_count": 13,
   "metadata": {},
   "outputs": [
    {
     "name": "stdout",
     "output_type": "stream",
     "text": [
      "Auction_class:   2\n",
      "Bid_class:   3\n",
      "Appraisal_company:   238\n",
      "Appraisal_date:   712\n",
      "First_auction_date:   498\n",
      "Final_auction_date:   405\n",
      "Final_result:   1\n",
      "Creditor:   448\n",
      "addr_do:   2\n",
      "addr_si:   39\n",
      "addr_dong:   285\n",
      "addr_li:   10\n",
      "addr_san:   2\n",
      "addr_etc:   1929\n",
      "Apartment_usage:   2\n",
      "Preserve_regist_date:   1256\n",
      "Specific:   56\n",
      "Share_auction_YorN:   2\n",
      "road_name:   1038\n",
      "Close_date:   389\n",
      "Close_result:   2\n"
     ]
    }
   ],
   "source": [
    "#범주형 변수 unique 값 개수 \n",
    "for col in categorical_col:\n",
    "    print(col+ ':  ',len(set(df[str(col)])))"
   ]
  },
  {
   "cell_type": "code",
   "execution_count": 14,
   "metadata": {},
   "outputs": [],
   "source": [
    "# (날짜를 제외하고) 범주형 변수 중 unique 값이 10개 이상인 \n",
    "# Appraisal_company, Creditor, addr_si, addr_dong, addr_dong, addr_li, Specific, road_name,\n",
    "del df['Appraisal_company']\n",
    "del df['Creditor']\n",
    "del df['addr_si']\n",
    "del df['addr_dong']\n",
    "del df['addr_li']\n",
    "del df['Specific']\n",
    "del df['road_name']\n",
    "del df['addr_etc']\n"
   ]
  },
  {
   "cell_type": "code",
   "execution_count": 15,
   "metadata": {},
   "outputs": [],
   "source": [
    "# 예측에 의미 없는 FInal result\n",
    "del df['Final_result']\n",
    "del df['Auction_key']"
   ]
  },
  {
   "cell_type": "code",
   "execution_count": null,
   "metadata": {},
   "outputs": [],
   "source": [
    "#위치에 대한 정보는 서울/부산이 충분하다고 가정; 구체적 주소인 road_bunji2 는 제거\n",
    "del processed_df['road_bunji2']"
   ]
  },
  {
   "cell_type": "code",
   "execution_count": 16,
   "metadata": {},
   "outputs": [
    {
     "data": {
      "text/plain": [
       "{'N', 'Y'}"
      ]
     },
     "execution_count": 16,
     "metadata": {},
     "output_type": "execute_result"
    }
   ],
   "source": [
    "set(df.Share_auction_YorN)"
   ]
  },
  {
   "cell_type": "code",
   "execution_count": 17,
   "metadata": {},
   "outputs": [
    {
     "data": {
      "text/plain": [
       "{'강제', '임의'}"
      ]
     },
     "execution_count": 17,
     "metadata": {},
     "output_type": "execute_result"
    }
   ],
   "source": [
    "set(df.Auction_class)"
   ]
  },
  {
   "cell_type": "code",
   "execution_count": 18,
   "metadata": {},
   "outputs": [],
   "source": [
    "df.addr_do.replace({'부산':0, '서울':1},inplace=True)\n",
    "df.Apartment_usage.replace({'주상복합':0, '아파트':1},inplace=True)\n",
    "df.Close_result.replace({'    ':0,'배당':1}, inplace=True)\n",
    "df.Bid_class.replace({'개별':0,'일괄':1,'일반':2}, inplace=True)\n",
    "df.Share_auction_YorN.replace({'N':0,'Y':1}, inplace=True)"
   ]
  },
  {
   "cell_type": "code",
   "execution_count": 19,
   "metadata": {},
   "outputs": [],
   "source": [
    "df.addr_san.replace({'N':0,'Y':1},inplace=True)\n",
    "df.Auction_class.replace({'강제':0,'임의':1},inplace=True)"
   ]
  },
  {
   "cell_type": "markdown",
   "metadata": {},
   "source": [
    "#### 날짜 변수 처리"
   ]
  },
  {
   "cell_type": "code",
   "execution_count": 20,
   "metadata": {},
   "outputs": [],
   "source": [
    "#Julian Date 로 변환하는 함수\n",
    "import math\n",
    "\n",
    "def date_to_jd(date):\n",
    "    \"\"\"\n",
    "    Convert a date to Julian Day.\n",
    "    \n",
    "    Algorithm from 'Practical Astronomy with your Calculator or Spreadsheet', \n",
    "        4th ed., Duffet-Smith and Zwart, 2011.\n",
    "    \n",
    "    Parameters\n",
    "    ----------\n",
    "    year : int\n",
    "        Year as integer. Years preceding 1 A.D. should be 0 or negative.\n",
    "        The year before 1 A.D. is 0, 10 B.C. is year -9.\n",
    "        \n",
    "    month : int\n",
    "        Month as integer, Jan = 1, Feb. = 2, etc.\n",
    "    \n",
    "    day : float\n",
    "        Day, may contain fractional part.\n",
    "    \n",
    "    Returns\n",
    "    -------\n",
    "    jd : float\n",
    "        Julian Day\n",
    "        \n",
    "    Examples\n",
    "    --------\n",
    "    Convert 6 a.m., February 17, 1985 to Julian Day\n",
    "    \n",
    "    >>> date_to_jd(1985,2,17.25)\n",
    "    2446113.75\n",
    "    \n",
    "    \"\"\"\n",
    "    year = int(date[:4])\n",
    "    month = int(date[5:7])\n",
    "    day = int(date[8:10])\n",
    "    if month == 1 or month == 2:\n",
    "        yearp = year - 1\n",
    "        monthp = month + 12\n",
    "    else:\n",
    "        yearp = year\n",
    "        monthp = month\n",
    "    \n",
    "    # this checks where we are in relation to October 15, 1582, the beginning\n",
    "    # of the Gregorian calendar.\n",
    "    if ((year < 1582) or\n",
    "        (year == 1582 and month < 10) or\n",
    "        (year == 1582 and month == 10 and day < 15)):\n",
    "        # before start of Gregorian calendar\n",
    "        B = 0\n",
    "    else:\n",
    "        # after start of Gregorian calendar\n",
    "        A = math.trunc(yearp / 100.)\n",
    "        B = 2 - A + math.trunc(A / 4.)\n",
    "        \n",
    "    if yearp < 0:\n",
    "        C = math.trunc((365.25 * yearp) - 0.75)\n",
    "    else:\n",
    "        C = math.trunc(365.25 * yearp)\n",
    "        \n",
    "    D = math.trunc(30.6001 * (monthp + 1))\n",
    "    \n",
    "    jd = B + C + D + day + 1720994.5\n",
    "    \n",
    "    return jd"
   ]
  },
  {
   "cell_type": "code",
   "execution_count": 21,
   "metadata": {},
   "outputs": [],
   "source": [
    "date_ = '1996-12-30'"
   ]
  },
  {
   "cell_type": "code",
   "execution_count": 22,
   "metadata": {
    "scrolled": true
   },
   "outputs": [
    {
     "data": {
      "text/plain": [
       "2450447.5"
      ]
     },
     "execution_count": 22,
     "metadata": {},
     "output_type": "execute_result"
    }
   ],
   "source": [
    "date_to_jd(date_)"
   ]
  },
  {
   "cell_type": "code",
   "execution_count": 23,
   "metadata": {
    "scrolled": true
   },
   "outputs": [],
   "source": [
    "df['Appraisal_jdate']= df['Appraisal_date'].apply(date_to_jd)\n",
    "df['First_auction_jdate'] = df['First_auction_date'].apply(date_to_jd)\n",
    "df['Final_auction_jdate'] = df['Final_auction_date'].apply(date_to_jd)\n",
    "df['Close_jdate'] = df['Close_date'].apply(date_to_jd)\n",
    "df['Preserve_regist_jdate'] = df['Preserve_regist_date'].apply(date_to_jd)"
   ]
  },
  {
   "cell_type": "code",
   "execution_count": 24,
   "metadata": {},
   "outputs": [],
   "source": [
    "del df['Appraisal_date']\n",
    "del df['First_auction_date']\n",
    "del df['Final_auction_date']\n",
    "del df['Close_date']\n",
    "del df['Preserve_regist_date']\n"
   ]
  },
  {
   "cell_type": "code",
   "execution_count": 25,
   "metadata": {},
   "outputs": [
    {
     "data": {
      "text/plain": [
       "Index(['Auction_class', 'Bid_class', 'Claim_price', 'Auction_count',\n",
       "       'Auction_miscarriage_count', 'Total_land_gross_area',\n",
       "       'Total_land_real_area', 'Total_land_auction_area',\n",
       "       'Total_building_area', 'Total_building_auction_area',\n",
       "       'Total_appraisal_price', 'Minimum_sales_price', 'addr_do', 'addr_san',\n",
       "       'addr_bunji1', 'addr_bunji2', 'Apartment_usage', 'Total_floor',\n",
       "       'Current_floor', 'Share_auction_YorN', 'road_bunji1', 'road_bunji2',\n",
       "       'Close_result', 'point.y', 'point.x', 'Hammer_price', 'Appraisal_jdate',\n",
       "       'First_auction_jdate', 'Final_auction_jdate', 'Close_jdate',\n",
       "       'Preserve_regist_jdate'],\n",
       "      dtype='object')"
      ]
     },
     "execution_count": 25,
     "metadata": {},
     "output_type": "execute_result"
    }
   ],
   "source": [
    "df.columns"
   ]
  },
  {
   "cell_type": "markdown",
   "metadata": {},
   "source": [
    "#### Label 과 연속변수들간 correlation "
   ]
  },
  {
   "cell_type": "code",
   "execution_count": 26,
   "metadata": {},
   "outputs": [],
   "source": [
    "#연속형 변수 label과 상관계수 본다음 정렬하기(ascending=False는 내림차순)\n",
    "corr_matrix = df.corr()\n",
    "corr = abs(corr_matrix[\"Hammer_price\"]).sort_values(ascending=False)"
   ]
  },
  {
   "cell_type": "code",
   "execution_count": 27,
   "metadata": {},
   "outputs": [
    {
     "data": {
      "text/plain": [
       "Hammer_price                   1.000000\n",
       "Minimum_sales_price            0.994592\n",
       "Total_appraisal_price          0.953464\n",
       "Total_building_auction_area    0.772839\n",
       "Total_building_area            0.768454\n",
       "Total_land_auction_area        0.700639\n",
       "Total_land_real_area           0.696099\n",
       "addr_do                        0.306488\n",
       "point.x                        0.296312\n",
       "point.y                        0.295698\n",
       "Claim_price                    0.267728\n",
       "Total_floor                    0.220830\n",
       "road_bunji2                    0.206681\n",
       "Current_floor                  0.198013\n",
       "Share_auction_YorN             0.091157\n",
       "Preserve_regist_jdate          0.074827\n",
       "Total_land_gross_area          0.070466\n",
       "addr_san                       0.068954\n",
       "Auction_class                  0.054813\n",
       "road_bunji1                    0.020404\n",
       "Appraisal_jdate                0.020075\n",
       "Auction_count                  0.016999\n",
       "First_auction_jdate            0.012063\n",
       "Auction_miscarriage_count      0.011296\n",
       "Apartment_usage                0.004344\n",
       "Final_auction_jdate            0.004150\n",
       "addr_bunji2                    0.003641\n",
       "addr_bunji1                    0.003139\n",
       "Bid_class                      0.000203\n",
       "Close_result                   0.000158\n",
       "Close_jdate                    0.000111\n",
       "Name: Hammer_price, dtype: float64"
      ]
     },
     "execution_count": 27,
     "metadata": {},
     "output_type": "execute_result"
    }
   ],
   "source": [
    "corr"
   ]
  },
  {
   "cell_type": "code",
   "execution_count": 28,
   "metadata": {},
   "outputs": [],
   "source": [
    "# 상관계수가 낮은 15개 feature 삭제 \n",
    "low_cor_index = corr.tail(15).index"
   ]
  },
  {
   "cell_type": "code",
   "execution_count": 29,
   "metadata": {},
   "outputs": [],
   "source": [
    "processed_df = df.drop(list(low_cor_index), axis =1 )"
   ]
  },
  {
   "cell_type": "code",
   "execution_count": 30,
   "metadata": {
    "scrolled": false
   },
   "outputs": [
    {
     "data": {
      "text/plain": [
       "Index(['Claim_price', 'Total_land_real_area', 'Total_land_auction_area',\n",
       "       'Total_building_area', 'Total_building_auction_area',\n",
       "       'Total_appraisal_price', 'Minimum_sales_price', 'addr_do',\n",
       "       'Total_floor', 'Current_floor', 'Share_auction_YorN', 'road_bunji2',\n",
       "       'point.y', 'point.x', 'Hammer_price', 'Preserve_regist_jdate'],\n",
       "      dtype='object')"
      ]
     },
     "execution_count": 30,
     "metadata": {},
     "output_type": "execute_result"
    }
   ],
   "source": [
    "processed_df.columns"
   ]
  },
  {
   "cell_type": "markdown",
   "metadata": {},
   "source": [
    "#### Autocorrelation 이 존재하는 변수 제거"
   ]
  },
  {
   "cell_type": "code",
   "execution_count": 31,
   "metadata": {
    "scrolled": true
   },
   "outputs": [
    {
     "data": {
      "text/plain": [
       "<matplotlib.axes._subplots.AxesSubplot at 0x21f6417c0f0>"
      ]
     },
     "execution_count": 31,
     "metadata": {},
     "output_type": "execute_result"
    },
    {
     "data": {
      "image/png": "[encoded data removed]",
      "text/plain": [
       "<Figure size 648x648 with 4 Axes>"
      ]
     },
     "metadata": {
      "needs_background": "light"
     },
     "output_type": "display_data"
    }
   ],
   "source": [
    "#correlation heatmap\n",
    "area_list = ['Total_land_real_area', 'Total_land_auction_area', 'Total_building_area', 'Total_building_auction_area', 'Hammer_price']\n",
    "processed_df[area_list][processed_df.addr_do == 0].corr()\n",
    "f, ax = plt.subplots(ncols=2, figsize=(9, 9))\n",
    "sns.heatmap(processed_df[area_list][processed_df.addr_do == 0].corr(), mask=np.zeros_like(processed_df[area_list][processed_df.addr_do == 0].corr(), dtype=np.bool), cmap=sns.diverging_palette(220, 10, as_cmap=True),\n",
    "            square=True, ax=ax[0], annot=True)\n",
    "sns.heatmap(processed_df[area_list][processed_df.addr_do == 1].corr(), mask=np.zeros_like(processed_df[area_list][processed_df.addr_do == 1].corr(), dtype=np.bool), cmap=sns.diverging_palette(220, 10, as_cmap=True),\n",
    "            square=True, ax=ax[1], annot=True)"
   ]
  },
  {
   "cell_type": "code",
   "execution_count": 32,
   "metadata": {},
   "outputs": [],
   "source": [
    "del processed_df['Total_land_auction_area']\n",
    "del processed_df['Total_building_area']"
   ]
  },
  {
   "cell_type": "code",
   "execution_count": null,
   "metadata": {},
   "outputs": [],
   "source": []
  },
  {
   "cell_type": "code",
   "execution_count": 33,
   "metadata": {},
   "outputs": [
    {
     "data": {
      "text/plain": [
       "<matplotlib.axes._subplots.AxesSubplot at 0x21f644ccb00>"
      ]
     },
     "execution_count": 33,
     "metadata": {},
     "output_type": "execute_result"
    },
    {
     "data": {
      "image/png": "[encoded data removed]",
      "text/plain": [
       "<Figure size 648x648 with 4 Axes>"
      ]
     },
     "metadata": {
      "needs_background": "light"
     },
     "output_type": "display_data"
    }
   ],
   "source": [
    "#correlation heatmap\n",
    "\n",
    "price_list = ['Claim_price','Total_appraisal_price','Minimum_sales_price'] \n",
    "processed_df[price_list][processed_df.addr_do == 0].corr()\n",
    "f, ax = plt.subplots(ncols=2, figsize=(9, 9))\n",
    "sns.heatmap(processed_df[price_list][processed_df.addr_do == 0].corr(), mask=np.zeros_like(processed_df[price_list][processed_df.addr_do == 0].corr(), dtype=np.bool), cmap=sns.diverging_palette(220, 10, as_cmap=True),\n",
    "            square=True, ax=ax[0], annot=True)\n",
    "sns.heatmap(processed_df[price_list][processed_df.addr_do == 1].corr(), mask=np.zeros_like(processed_df[price_list][processed_df.addr_do == 1].corr(), dtype=np.bool), cmap=sns.diverging_palette(220, 10, as_cmap=True),\n",
    "            square=True, ax=ax[1], annot=True)"
   ]
  },
  {
   "cell_type": "code",
   "execution_count": 34,
   "metadata": {},
   "outputs": [],
   "source": [
    "del processed_df['Total_appraisal_price']"
   ]
  },
  {
   "cell_type": "markdown",
   "metadata": {},
   "source": [
    "#### 파생변수 생성"
   ]
  },
  {
   "cell_type": "code",
   "execution_count": 35,
   "metadata": {},
   "outputs": [],
   "source": [
    "#매물물건 층 수/ 전체 건물 층수 \n",
    "processed_df['floor_prop'] = processed_df['Current_floor']/processed_df['Total_floor']\n",
    "# 경매신청인의 청구금액 - 감정가 \n",
    "processed_df['price_diff'] = df['Claim_price'] - df['Total_appraisal_price']"
   ]
  },
  {
   "cell_type": "markdown",
   "metadata": {},
   "source": [
    "## Selected features 시각화"
   ]
  },
  {
   "cell_type": "code",
   "execution_count": 112,
   "metadata": {
    "scrolled": true
   },
   "outputs": [
    {
     "data": {
      "text/plain": [
       "['Claim_price',\n",
       " 'Total_land_real_area',\n",
       " 'Total_building_auction_area',\n",
       " 'Minimum_sales_price',\n",
       " 'addr_do',\n",
       " 'Total_floor',\n",
       " 'Current_floor',\n",
       " 'Share_auction_YorN',\n",
       " 'point.y',\n",
       " 'point.x',\n",
       " 'Preserve_regist_jdate',\n",
       " 'floor_prop',\n",
       " 'price_diff',\n",
       " 'Hammer_price']"
      ]
     },
     "execution_count": 112,
     "metadata": {},
     "output_type": "execute_result"
    }
   ],
   "source": [
    "sel_features = list(processed_df.columns)\n",
    "sel_features"
   ]
  },
  {
   "cell_type": "code",
   "execution_count": 113,
   "metadata": {},
   "outputs": [],
   "source": [
    "price_features = [i for i in sel_features if 'price' in i]\n",
    "price_features.remove('Hammer_price')\n",
    "area_features = [i for i in sel_features if 'area' in i]\n",
    "etc_features = [i for i in sel_features if i not in price_features]\n",
    "etc_features = [i for i in etc_features if i not in area_features]"
   ]
  },
  {
   "cell_type": "code",
   "execution_count": 128,
   "metadata": {},
   "outputs": [
    {
     "data": {
      "text/plain": [
       "['Claim_price', 'Minimum_sales_price', 'price_diff']"
      ]
     },
     "execution_count": 128,
     "metadata": {},
     "output_type": "execute_result"
    }
   ],
   "source": [
    "price_features"
   ]
  },
  {
   "cell_type": "code",
   "execution_count": 114,
   "metadata": {
    "scrolled": true
   },
   "outputs": [
    {
     "data": {
      "text/plain": [
       "['Total_land_real_area', 'Total_building_auction_area']"
      ]
     },
     "execution_count": 114,
     "metadata": {},
     "output_type": "execute_result"
    }
   ],
   "source": [
    "area_features"
   ]
  },
  {
   "cell_type": "code",
   "execution_count": 115,
   "metadata": {
    "scrolled": true
   },
   "outputs": [
    {
     "data": {
      "text/plain": [
       "['addr_do',\n",
       " 'Total_floor',\n",
       " 'Current_floor',\n",
       " 'Share_auction_YorN',\n",
       " 'point.y',\n",
       " 'point.x',\n",
       " 'Preserve_regist_jdate',\n",
       " 'floor_prop']"
      ]
     },
     "execution_count": 115,
     "metadata": {},
     "output_type": "execute_result"
    }
   ],
   "source": [
    "etc_features"
   ]
  },
  {
   "cell_type": "code",
   "execution_count": 148,
   "metadata": {},
   "outputs": [
    {
     "data": {
      "text/plain": [
       "Hammer_price                   1.000000\n",
       "Minimum_sales_price            0.994592\n",
       "Total_building_auction_area    0.772839\n",
       "Total_land_real_area           0.696099\n",
       "addr_do                        0.306488\n",
       "point.x                        0.296312\n",
       "point.y                        0.295698\n",
       "price_diff                     0.285878\n",
       "Claim_price                    0.267728\n",
       "Total_floor                    0.220830\n",
       "Current_floor                  0.198013\n",
       "Share_auction_YorN             0.091157\n",
       "Preserve_regist_jdate          0.074827\n",
       "floor_prop                     0.008581\n",
       "Name: Hammer_price, dtype: float64"
      ]
     },
     "execution_count": 148,
     "metadata": {},
     "output_type": "execute_result"
    }
   ],
   "source": [
    "corr_matrix = processed_df.corr()\n",
    "corr = abs(corr_matrix[\"Hammer_price\"]).sort_values(ascending=False)\n",
    "corr"
   ]
  },
  {
   "cell_type": "code",
   "execution_count": 125,
   "metadata": {
    "scrolled": true
   },
   "outputs": [
    {
     "data": {
      "image/png": "[encoded data removed]",
      "text/plain": [
       "<Figure size 576x432 with 3 Axes>"
      ]
     },
     "metadata": {
      "needs_background": "light"
     },
     "output_type": "display_data"
    }
   ],
   "source": [
    "#price feature vs. Hammer price for Seoul\n",
    "fig, axs = plt.subplots(ncols=len(price_features), figsize=(8, 6))\n",
    "\n",
    "cnt = 0\n",
    "for fea in price_features:    \n",
    "    sns.scatterplot(x=str(fea),y = 'Hammer_price' ,data=processed_df[processed_df.addr_do == 1], linewidth=2.5, ax=axs[cnt])\n",
    "    cnt +=1\n"
   ]
  },
  {
   "cell_type": "code",
   "execution_count": 131,
   "metadata": {
    "scrolled": true
   },
   "outputs": [
    {
     "data": {
      "image/png": "[encoded data removed]",
      "text/plain": [
       "<Figure size 576x432 with 3 Axes>"
      ]
     },
     "metadata": {
      "needs_background": "light"
     },
     "output_type": "display_data"
    }
   ],
   "source": [
    "#price feature vs. Hammer price for Busan\n",
    "fig, axs = plt.subplots(ncols=len(price_features), figsize=(8, 6))\n",
    "\n",
    "cnt = 0\n",
    "for fea in price_features:    \n",
    "    sns.scatterplot(x=str(fea),y = 'Hammer_price' ,data=processed_df[processed_df.addr_do == 0], linewidth=2.5, ax=axs[cnt])\n",
    "    cnt +=1\n"
   ]
  },
  {
   "cell_type": "code",
   "execution_count": 126,
   "metadata": {},
   "outputs": [
    {
     "data": {
      "image/png": "[encoded data removed]",
      "text/plain": [
       "<Figure size 576x432 with 2 Axes>"
      ]
     },
     "metadata": {
      "needs_background": "light"
     },
     "output_type": "display_data"
    }
   ],
   "source": [
    "#area feature vs. Hammer price for Seoul\n",
    "fig, axs = plt.subplots(ncols=len(area_features), figsize=(8, 6))\n",
    "\n",
    "cnt = 0\n",
    "for fea in area_features:    \n",
    "    sns.scatterplot(x=str(fea),y = 'Hammer_price' ,data=processed_df[processed_df.addr_do == 1], linewidth=2.5, ax=axs[cnt])\n",
    "    cnt +=1\n"
   ]
  },
  {
   "cell_type": "code",
   "execution_count": 132,
   "metadata": {
    "scrolled": false
   },
   "outputs": [
    {
     "data": {
      "image/png": "[encoded data removed]",
      "text/plain": [
       "<Figure size 576x432 with 2 Axes>"
      ]
     },
     "metadata": {
      "needs_background": "light"
     },
     "output_type": "display_data"
    }
   ],
   "source": [
    "#area feature vs. Hammer price for Busan\n",
    "fig, axs = plt.subplots(ncols=len(area_features), figsize=(8, 6))\n",
    "\n",
    "cnt = 0\n",
    "for fea in area_features:    \n",
    "    sns.scatterplot(x=str(fea),y = 'Hammer_price' ,data=processed_df[processed_df.addr_do == 0], linewidth=2.5, ax=axs[cnt])\n",
    "    cnt +=1\n"
   ]
  },
  {
   "cell_type": "code",
   "execution_count": 134,
   "metadata": {},
   "outputs": [
    {
     "data": {
      "image/png": "[encoded data removed]",
      "text/plain": [
       "<Figure size 1152x576 with 8 Axes>"
      ]
     },
     "metadata": {
      "needs_background": "light"
     },
     "output_type": "display_data"
    }
   ],
   "source": [
    "#etc feature vs. Hammer price for Seoul\n",
    "fig, axs = plt.subplots(ncols=len(etc_features), figsize=(16, 8))\n",
    "\n",
    "cnt = 0\n",
    "for fea in etc_features:    \n",
    "    sns.scatterplot(x=str(fea),y = 'Hammer_price' ,data=processed_df[processed_df.addr_do == 1], linewidth=2.5, ax=axs[cnt])\n",
    "    cnt +=1\n"
   ]
  },
  {
   "cell_type": "code",
   "execution_count": 133,
   "metadata": {
    "scrolled": true
   },
   "outputs": [
    {
     "data": {
      "image/png": "[encoded data removed]",
      "text/plain": [
       "<Figure size 1152x576 with 8 Axes>"
      ]
     },
     "metadata": {
      "needs_background": "light"
     },
     "output_type": "display_data"
    }
   ],
   "source": [
    "#etc feature vs. Hammer price for Busan\n",
    "fig, axs = plt.subplots(ncols=len(etc_features), figsize=(16, 8))\n",
    "\n",
    "cnt = 0\n",
    "for fea in etc_features:    \n",
    "    sns.scatterplot(x=str(fea),y = 'Hammer_price' ,data=processed_df[processed_df.addr_do == 0], linewidth=2.5, ax=axs[cnt])\n",
    "    cnt +=1\n"
   ]
  },
  {
   "cell_type": "code",
   "execution_count": null,
   "metadata": {},
   "outputs": [],
   "source": [
    "#correlation heatmap\n",
    "\n",
    "\n",
    "processed_df[price_list][processed_df.addr_do == 0].corr()\n",
    "f, ax = plt.subplots(ncols=2, figsize=(9, 9))\n",
    "sns.heatmap(processed_df[price_list][processed_df.addr_do == 0].corr(), mask=np.zeros_like(processed_df[price_list][processed_df.addr_do == 0].corr(), dtype=np.bool), cmap=sns.diverging_palette(220, 10, as_cmap=True),\n",
    "            square=True, ax=ax[0], annot=True)\n",
    "sns.heatmap(processed_df[price_list][processed_df.addr_do == 1].corr(), mask=np.zeros_like(processed_df[price_list][processed_df.addr_do == 1].corr(), dtype=np.bool), cmap=sns.diverging_palette(220, 10, as_cmap=True),\n",
    "            square=True, ax=ax[1], annot=True)"
   ]
  },
  {
   "cell_type": "markdown",
   "metadata": {},
   "source": [
    "# Linear Regression Model "
   ]
  },
  {
   "cell_type": "code",
   "execution_count": 135,
   "metadata": {},
   "outputs": [],
   "source": [
    "X = processed_df.drop('Hammer_price',axis=1)\n",
    "y = df.Hammer_price "
   ]
  },
  {
   "cell_type": "code",
   "execution_count": 136,
   "metadata": {},
   "outputs": [],
   "source": [
    "y = np.array(y).reshape(-1,1)"
   ]
  },
  {
   "cell_type": "code",
   "execution_count": 137,
   "metadata": {},
   "outputs": [],
   "source": [
    "X = pd.get_dummies(X)"
   ]
  },
  {
   "cell_type": "code",
   "execution_count": 138,
   "metadata": {
    "scrolled": true
   },
   "outputs": [
    {
     "data": {
      "text/plain": [
       "0.9901294353744272"
      ]
     },
     "execution_count": 138,
     "metadata": {},
     "output_type": "execute_result"
    }
   ],
   "source": [
    "from sklearn.linear_model import LinearRegression\n",
    "model = LinearRegression().fit(X,y)\n",
    "model.score(X,y)\n",
    "\n",
    "### Overfitting Expected"
   ]
  },
  {
   "cell_type": "code",
   "execution_count": 139,
   "metadata": {},
   "outputs": [],
   "source": [
    "from sklearn.model_selection import cross_validate as CV\n",
    "\n",
    "#Ten-fold validation , score metric = negative mean squared error \n",
    "score = CV(model,X, y, cv=10, scoring='neg_mean_squared_error')"
   ]
  },
  {
   "cell_type": "code",
   "execution_count": 145,
   "metadata": {
    "scrolled": true
   },
   "outputs": [],
   "source": [
    "rmse = (score['test_score'] * -1) **(1/2)"
   ]
  },
  {
   "cell_type": "code",
   "execution_count": 146,
   "metadata": {},
   "outputs": [
    {
     "data": {
      "text/plain": [
       "68373791.42190401"
      ]
     },
     "execution_count": 146,
     "metadata": {},
     "output_type": "execute_result"
    }
   ],
   "source": [
    "rmse.mean()"
   ]
  }
 ],
 "metadata": {
  "kernelspec": {
   "display_name": "Python 3",
   "language": "python",
   "name": "python3"
  },
  "language_info": {
   "codemirror_mode": {
    "name": "ipython",
    "version": 3
   },
   "file_extension": ".py",
   "mimetype": "text/x-python",
   "name": "python",
   "nbconvert_exporter": "python",
   "pygments_lexer": "ipython3",
   "version": "3.7.1"
  }
 },
 "nbformat": 4,
 "nbformat_minor": 2
}
