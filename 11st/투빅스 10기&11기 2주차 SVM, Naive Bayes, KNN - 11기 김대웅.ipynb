{
 "cells": [
  {
   "cell_type": "markdown",
   "metadata": {},
   "source": [
    "# ToBigs_11th Session_Week02 : EDA and Classification using Logistic, Naive Bayes, SVM, knn\n",
    "## Assinmgent\n",
    "### 원안 작성자 10기 박규리, 황이은\n",
    "### 과제 수행자 11기 김대웅"
   ]
  },
  {
   "cell_type": "code",
   "execution_count": 1,
   "metadata": {},
   "outputs": [
    {
     "name": "stderr",
     "output_type": "stream",
     "text": [
      "C:\\Users\\wungi\\Anaconda3\\lib\\site-packages\\sklearn\\cross_validation.py:41: DeprecationWarning: This module was deprecated in version 0.18 in favor of the model_selection module into which all the refactored classes and functions are moved. Also note that the interface of the new CV iterators are different from that of this module. This module will be removed in 0.20.\n",
      "  \"This module will be removed in 0.20.\", DeprecationWarning)\n"
     ]
    }
   ],
   "source": [
    "import pandas as pd\n",
    "import numpy as np\n",
    "import os\n",
    "#from tqdm import tnrange,tqdm_notebook\n",
    "import seaborn as sns; sns.set()\n",
    "import matplotlib.pyplot as plt\n",
    "import datetime\n",
    "import re\n",
    "from sklearn.cluster import KMeans\n",
    "from pandas.plotting import scatter_matrix\n",
    "\n",
    "from sklearn.linear_model import LinearRegression\n",
    "from sklearn import cross_validation as CV\n",
    "\n",
    "#디렉토리 경로 적어주세요\n",
    "os.getcwd()\n",
    "os.chdir(\"C:/Users/wungi/Desktop/tobigs session/1주차/1주차 Linear Regression/과제 부동산 경매/Auction_master\")\n"
   ]
  },
  {
   "cell_type": "code",
   "execution_count": 2,
   "metadata": {},
   "outputs": [],
   "source": [
    "#데이터 불러오기\n",
    "AM_train = pd.read_csv(\"Auction_master_train.csv\")"
   ]
  },
  {
   "cell_type": "markdown",
   "metadata": {},
   "source": [
    "# 1. Preprosessing\n",
    "## 1.1. 데이터 탐색"
   ]
  },
  {
   "cell_type": "code",
   "execution_count": 3,
   "metadata": {},
   "outputs": [
    {
     "data": {
      "text/html": [
       "<div>\n",
       "<style scoped>\n",
       "    .dataframe tbody tr th:only-of-type {\n",
       "        vertical-align: middle;\n",
       "    }\n",
       "\n",
       "    .dataframe tbody tr th {\n",
       "        vertical-align: top;\n",
       "    }\n",
       "\n",
       "    .dataframe thead th {\n",
       "        text-align: right;\n",
       "    }\n",
       "</style>\n",
       "<table border=\"1\" class=\"dataframe\">\n",
       "  <thead>\n",
       "    <tr style=\"text-align: right;\">\n",
       "      <th></th>\n",
       "      <th>Auction_key</th>\n",
       "      <th>Auction_class</th>\n",
       "      <th>Bid_class</th>\n",
       "      <th>Claim_price</th>\n",
       "      <th>Appraisal_company</th>\n",
       "      <th>Appraisal_date</th>\n",
       "      <th>Auction_count</th>\n",
       "      <th>Auction_miscarriage_count</th>\n",
       "      <th>Total_land_gross_area</th>\n",
       "      <th>Total_land_real_area</th>\n",
       "      <th>...</th>\n",
       "      <th>Specific</th>\n",
       "      <th>Share_auction_YorN</th>\n",
       "      <th>road_name</th>\n",
       "      <th>road_bunji1</th>\n",
       "      <th>road_bunji2</th>\n",
       "      <th>Close_date</th>\n",
       "      <th>Close_result</th>\n",
       "      <th>point.y</th>\n",
       "      <th>point.x</th>\n",
       "      <th>Hammer_price</th>\n",
       "    </tr>\n",
       "  </thead>\n",
       "  <tbody>\n",
       "    <tr>\n",
       "      <th>0</th>\n",
       "      <td>2687</td>\n",
       "      <td>임의</td>\n",
       "      <td>개별</td>\n",
       "      <td>1766037301</td>\n",
       "      <td>정명감정</td>\n",
       "      <td>2017-07-26 00:00:00</td>\n",
       "      <td>2</td>\n",
       "      <td>1</td>\n",
       "      <td>12592.0</td>\n",
       "      <td>37.35</td>\n",
       "      <td>...</td>\n",
       "      <td>NaN</td>\n",
       "      <td>N</td>\n",
       "      <td>해운대해변로</td>\n",
       "      <td>30.0</td>\n",
       "      <td>NaN</td>\n",
       "      <td>2018-06-14 00:00:00</td>\n",
       "      <td>배당</td>\n",
       "      <td>35.162717</td>\n",
       "      <td>129.137048</td>\n",
       "      <td>760000000</td>\n",
       "    </tr>\n",
       "    <tr>\n",
       "      <th>1</th>\n",
       "      <td>2577</td>\n",
       "      <td>임의</td>\n",
       "      <td>일반</td>\n",
       "      <td>152946867</td>\n",
       "      <td>희감정</td>\n",
       "      <td>2016-09-12 00:00:00</td>\n",
       "      <td>2</td>\n",
       "      <td>1</td>\n",
       "      <td>42478.1</td>\n",
       "      <td>18.76</td>\n",
       "      <td>...</td>\n",
       "      <td>NaN</td>\n",
       "      <td>N</td>\n",
       "      <td>마린시티2로</td>\n",
       "      <td>33.0</td>\n",
       "      <td>NaN</td>\n",
       "      <td>2017-03-30 00:00:00</td>\n",
       "      <td>배당</td>\n",
       "      <td>35.156633</td>\n",
       "      <td>129.145068</td>\n",
       "      <td>971889999</td>\n",
       "    </tr>\n",
       "    <tr>\n",
       "      <th>2</th>\n",
       "      <td>2197</td>\n",
       "      <td>임의</td>\n",
       "      <td>개별</td>\n",
       "      <td>11326510</td>\n",
       "      <td>혜림감정</td>\n",
       "      <td>2016-11-22 00:00:00</td>\n",
       "      <td>3</td>\n",
       "      <td>2</td>\n",
       "      <td>149683.1</td>\n",
       "      <td>71.00</td>\n",
       "      <td>...</td>\n",
       "      <td>NaN</td>\n",
       "      <td>N</td>\n",
       "      <td>모라로110번길</td>\n",
       "      <td>88.0</td>\n",
       "      <td>NaN</td>\n",
       "      <td>2017-12-13 00:00:00</td>\n",
       "      <td>배당</td>\n",
       "      <td>35.184601</td>\n",
       "      <td>128.996765</td>\n",
       "      <td>93399999</td>\n",
       "    </tr>\n",
       "    <tr>\n",
       "      <th>3</th>\n",
       "      <td>2642</td>\n",
       "      <td>임의</td>\n",
       "      <td>일반</td>\n",
       "      <td>183581724</td>\n",
       "      <td>신라감정</td>\n",
       "      <td>2016-12-13 00:00:00</td>\n",
       "      <td>2</td>\n",
       "      <td>1</td>\n",
       "      <td>24405.0</td>\n",
       "      <td>32.98</td>\n",
       "      <td>...</td>\n",
       "      <td>NaN</td>\n",
       "      <td>N</td>\n",
       "      <td>황령대로319번가길</td>\n",
       "      <td>110.0</td>\n",
       "      <td>NaN</td>\n",
       "      <td>2017-12-27 00:00:00</td>\n",
       "      <td>배당</td>\n",
       "      <td>35.154180</td>\n",
       "      <td>129.089081</td>\n",
       "      <td>256899000</td>\n",
       "    </tr>\n",
       "    <tr>\n",
       "      <th>4</th>\n",
       "      <td>1958</td>\n",
       "      <td>강제</td>\n",
       "      <td>일반</td>\n",
       "      <td>45887671</td>\n",
       "      <td>나라감정</td>\n",
       "      <td>2016-03-07 00:00:00</td>\n",
       "      <td>2</td>\n",
       "      <td>1</td>\n",
       "      <td>774.0</td>\n",
       "      <td>45.18</td>\n",
       "      <td>...</td>\n",
       "      <td>NaN</td>\n",
       "      <td>N</td>\n",
       "      <td>오작로</td>\n",
       "      <td>51.0</td>\n",
       "      <td>NaN</td>\n",
       "      <td>2016-10-04 00:00:00</td>\n",
       "      <td>배당</td>\n",
       "      <td>35.099630</td>\n",
       "      <td>128.998874</td>\n",
       "      <td>158660000</td>\n",
       "    </tr>\n",
       "    <tr>\n",
       "      <th>5</th>\n",
       "      <td>2238</td>\n",
       "      <td>강제</td>\n",
       "      <td>일반</td>\n",
       "      <td>105437195</td>\n",
       "      <td>한마음감정</td>\n",
       "      <td>2017-01-03 00:00:00</td>\n",
       "      <td>2</td>\n",
       "      <td>1</td>\n",
       "      <td>8635.0</td>\n",
       "      <td>41.39</td>\n",
       "      <td>...</td>\n",
       "      <td>NaN</td>\n",
       "      <td>N</td>\n",
       "      <td>일산봉로</td>\n",
       "      <td>58.0</td>\n",
       "      <td>NaN</td>\n",
       "      <td>2017-10-25 00:00:00</td>\n",
       "      <td>배당</td>\n",
       "      <td>35.086933</td>\n",
       "      <td>129.065706</td>\n",
       "      <td>206989000</td>\n",
       "    </tr>\n",
       "    <tr>\n",
       "      <th>6</th>\n",
       "      <td>1923</td>\n",
       "      <td>임의</td>\n",
       "      <td>일반</td>\n",
       "      <td>137548730</td>\n",
       "      <td>미래새한감정</td>\n",
       "      <td>2016-01-19 00:00:00</td>\n",
       "      <td>3</td>\n",
       "      <td>2</td>\n",
       "      <td>7927.0</td>\n",
       "      <td>81.77</td>\n",
       "      <td>...</td>\n",
       "      <td>NaN</td>\n",
       "      <td>N</td>\n",
       "      <td>동삼서로</td>\n",
       "      <td>61.0</td>\n",
       "      <td>NaN</td>\n",
       "      <td>2016-11-03 00:00:00</td>\n",
       "      <td>배당</td>\n",
       "      <td>35.084049</td>\n",
       "      <td>129.070231</td>\n",
       "      <td>135500000</td>\n",
       "    </tr>\n",
       "    <tr>\n",
       "      <th>7</th>\n",
       "      <td>2527</td>\n",
       "      <td>임의</td>\n",
       "      <td>일반</td>\n",
       "      <td>506916971</td>\n",
       "      <td>부일감정</td>\n",
       "      <td>2016-04-28 00:00:00</td>\n",
       "      <td>2</td>\n",
       "      <td>1</td>\n",
       "      <td>331281.0</td>\n",
       "      <td>92.22</td>\n",
       "      <td>...</td>\n",
       "      <td>NaN</td>\n",
       "      <td>N</td>\n",
       "      <td>분포로</td>\n",
       "      <td>111.0</td>\n",
       "      <td>NaN</td>\n",
       "      <td>2016-11-22 00:00:00</td>\n",
       "      <td>배당</td>\n",
       "      <td>35.127808</td>\n",
       "      <td>129.112206</td>\n",
       "      <td>640299999</td>\n",
       "    </tr>\n",
       "    <tr>\n",
       "      <th>8</th>\n",
       "      <td>2259</td>\n",
       "      <td>강제</td>\n",
       "      <td>일반</td>\n",
       "      <td>40782876</td>\n",
       "      <td>금정감정</td>\n",
       "      <td>2016-03-08 00:00:00</td>\n",
       "      <td>2</td>\n",
       "      <td>1</td>\n",
       "      <td>1017.0</td>\n",
       "      <td>66.44</td>\n",
       "      <td>...</td>\n",
       "      <td>NaN</td>\n",
       "      <td>N</td>\n",
       "      <td>천마로27번길</td>\n",
       "      <td>10.0</td>\n",
       "      <td>NaN</td>\n",
       "      <td>2016-09-27 00:00:00</td>\n",
       "      <td>배당</td>\n",
       "      <td>35.080817</td>\n",
       "      <td>129.020155</td>\n",
       "      <td>77380000</td>\n",
       "    </tr>\n",
       "    <tr>\n",
       "      <th>9</th>\n",
       "      <td>2666</td>\n",
       "      <td>임의</td>\n",
       "      <td>일반</td>\n",
       "      <td>150000000</td>\n",
       "      <td>연산감정</td>\n",
       "      <td>2017-03-27 00:00:00</td>\n",
       "      <td>2</td>\n",
       "      <td>1</td>\n",
       "      <td>27447.2</td>\n",
       "      <td>78.52</td>\n",
       "      <td>...</td>\n",
       "      <td>NaN</td>\n",
       "      <td>N</td>\n",
       "      <td>재반로84번길</td>\n",
       "      <td>96.0</td>\n",
       "      <td>7.0</td>\n",
       "      <td>2017-12-27 00:00:00</td>\n",
       "      <td>배당</td>\n",
       "      <td>35.187903</td>\n",
       "      <td>129.130913</td>\n",
       "      <td>177070000</td>\n",
       "    </tr>\n",
       "  </tbody>\n",
       "</table>\n",
       "<p>10 rows × 41 columns</p>\n",
       "</div>"
      ],
      "text/plain": [
       "   Auction_key Auction_class Bid_class  Claim_price Appraisal_company  \\\n",
       "0         2687            임의        개별   1766037301              정명감정   \n",
       "1         2577            임의        일반    152946867               희감정   \n",
       "2         2197            임의        개별     11326510              혜림감정   \n",
       "3         2642            임의        일반    183581724              신라감정   \n",
       "4         1958            강제        일반     45887671              나라감정   \n",
       "5         2238            강제        일반    105437195             한마음감정   \n",
       "6         1923            임의        일반    137548730            미래새한감정   \n",
       "7         2527            임의        일반    506916971              부일감정   \n",
       "8         2259            강제        일반     40782876              금정감정   \n",
       "9         2666            임의        일반    150000000              연산감정   \n",
       "\n",
       "        Appraisal_date  Auction_count  Auction_miscarriage_count  \\\n",
       "0  2017-07-26 00:00:00              2                          1   \n",
       "1  2016-09-12 00:00:00              2                          1   \n",
       "2  2016-11-22 00:00:00              3                          2   \n",
       "3  2016-12-13 00:00:00              2                          1   \n",
       "4  2016-03-07 00:00:00              2                          1   \n",
       "5  2017-01-03 00:00:00              2                          1   \n",
       "6  2016-01-19 00:00:00              3                          2   \n",
       "7  2016-04-28 00:00:00              2                          1   \n",
       "8  2016-03-08 00:00:00              2                          1   \n",
       "9  2017-03-27 00:00:00              2                          1   \n",
       "\n",
       "   Total_land_gross_area  Total_land_real_area     ...       Specific  \\\n",
       "0                12592.0                 37.35     ...            NaN   \n",
       "1                42478.1                 18.76     ...            NaN   \n",
       "2               149683.1                 71.00     ...            NaN   \n",
       "3                24405.0                 32.98     ...            NaN   \n",
       "4                  774.0                 45.18     ...            NaN   \n",
       "5                 8635.0                 41.39     ...            NaN   \n",
       "6                 7927.0                 81.77     ...            NaN   \n",
       "7               331281.0                 92.22     ...            NaN   \n",
       "8                 1017.0                 66.44     ...            NaN   \n",
       "9                27447.2                 78.52     ...            NaN   \n",
       "\n",
       "   Share_auction_YorN   road_name  road_bunji1  road_bunji2  \\\n",
       "0                   N      해운대해변로         30.0          NaN   \n",
       "1                   N      마린시티2로         33.0          NaN   \n",
       "2                   N    모라로110번길         88.0          NaN   \n",
       "3                   N  황령대로319번가길        110.0          NaN   \n",
       "4                   N         오작로         51.0          NaN   \n",
       "5                   N        일산봉로         58.0          NaN   \n",
       "6                   N        동삼서로         61.0          NaN   \n",
       "7                   N         분포로        111.0          NaN   \n",
       "8                   N     천마로27번길         10.0          NaN   \n",
       "9                   N     재반로84번길         96.0          7.0   \n",
       "\n",
       "            Close_date Close_result    point.y     point.x Hammer_price  \n",
       "0  2018-06-14 00:00:00           배당  35.162717  129.137048    760000000  \n",
       "1  2017-03-30 00:00:00           배당  35.156633  129.145068    971889999  \n",
       "2  2017-12-13 00:00:00           배당  35.184601  128.996765     93399999  \n",
       "3  2017-12-27 00:00:00           배당  35.154180  129.089081    256899000  \n",
       "4  2016-10-04 00:00:00           배당  35.099630  128.998874    158660000  \n",
       "5  2017-10-25 00:00:00           배당  35.086933  129.065706    206989000  \n",
       "6  2016-11-03 00:00:00           배당  35.084049  129.070231    135500000  \n",
       "7  2016-11-22 00:00:00           배당  35.127808  129.112206    640299999  \n",
       "8  2016-09-27 00:00:00           배당  35.080817  129.020155     77380000  \n",
       "9  2017-12-27 00:00:00           배당  35.187903  129.130913    177070000  \n",
       "\n",
       "[10 rows x 41 columns]"
      ]
     },
     "execution_count": 3,
     "metadata": {},
     "output_type": "execute_result"
    }
   ],
   "source": [
    "#데이터 10개정도 탐색해보기\n",
    "AM_train.head(10)"
   ]
  },
  {
   "cell_type": "code",
   "execution_count": 4,
   "metadata": {},
   "outputs": [
    {
     "name": "stdout",
     "output_type": "stream",
     "text": [
      "(1933, 41)\n"
     ]
    }
   ],
   "source": [
    "# 데이터 shape, 행1933개 , 열 41개\n",
    "print(AM_train.shape)"
   ]
  },
  {
   "cell_type": "markdown",
   "metadata": {},
   "source": [
    "#### 데이터 타입 확인"
   ]
  },
  {
   "cell_type": "code",
   "execution_count": 5,
   "metadata": {},
   "outputs": [
    {
     "data": {
      "text/plain": [
       "Auction_key                      int64\n",
       "Auction_class                   object\n",
       "Bid_class                       object\n",
       "Claim_price                      int64\n",
       "Appraisal_company               object\n",
       "Appraisal_date                  object\n",
       "Auction_count                    int64\n",
       "Auction_miscarriage_count        int64\n",
       "Total_land_gross_area          float64\n",
       "Total_land_real_area           float64\n",
       "Total_land_auction_area        float64\n",
       "Total_building_area            float64\n",
       "Total_building_auction_area    float64\n",
       "Total_appraisal_price            int64\n",
       "Minimum_sales_price              int64\n",
       "First_auction_date              object\n",
       "Final_auction_date              object\n",
       "Final_result                    object\n",
       "Creditor                        object\n",
       "addr_do                         object\n",
       "addr_si                         object\n",
       "addr_dong                       object\n",
       "addr_li                         object\n",
       "addr_san                        object\n",
       "addr_bunji1                    float64\n",
       "addr_bunji2                    float64\n",
       "addr_etc                        object\n",
       "Apartment_usage                 object\n",
       "Preserve_regist_date            object\n",
       "Total_floor                      int64\n",
       "Current_floor                    int64\n",
       "Specific                        object\n",
       "Share_auction_YorN              object\n",
       "road_name                       object\n",
       "road_bunji1                    float64\n",
       "road_bunji2                    float64\n",
       "Close_date                      object\n",
       "Close_result                    object\n",
       "point.y                        float64\n",
       "point.x                        float64\n",
       "Hammer_price                     int64\n",
       "dtype: object"
      ]
     },
     "execution_count": 5,
     "metadata": {},
     "output_type": "execute_result"
    }
   ],
   "source": [
    "# 데이터 타입 확인\n",
    "AM_train.dtypes"
   ]
  },
  {
   "cell_type": "code",
   "execution_count": 6,
   "metadata": {},
   "outputs": [
    {
     "data": {
      "text/plain": [
       "Auction_key                    0.000000\n",
       "Auction_class                  0.000000\n",
       "Bid_class                      0.000000\n",
       "Claim_price                    0.000000\n",
       "Appraisal_company              0.000000\n",
       "Appraisal_date                 0.000000\n",
       "Auction_count                  0.000000\n",
       "Auction_miscarriage_count      0.000000\n",
       "Total_land_gross_area          0.000000\n",
       "Total_land_real_area           0.000000\n",
       "Total_land_auction_area        0.000000\n",
       "Total_building_area            0.000000\n",
       "Total_building_auction_area    0.000000\n",
       "Total_appraisal_price          0.000000\n",
       "Minimum_sales_price            0.000000\n",
       "First_auction_date             0.000000\n",
       "Final_auction_date             0.000000\n",
       "Final_result                   0.000000\n",
       "Creditor                       0.000000\n",
       "addr_do                        0.000000\n",
       "addr_si                        0.000000\n",
       "addr_dong                      0.000000\n",
       "addr_li                        0.988101\n",
       "addr_san                       0.000000\n",
       "addr_bunji1                    0.002069\n",
       "addr_bunji2                    0.540093\n",
       "addr_etc                       0.000000\n",
       "Apartment_usage                0.000000\n",
       "Preserve_regist_date           0.000000\n",
       "Total_floor                    0.000000\n",
       "Current_floor                  0.000000\n",
       "Specific                       0.966891\n",
       "Share_auction_YorN             0.000000\n",
       "road_name                      0.000000\n",
       "road_bunji1                    0.012416\n",
       "road_bunji2                    0.919814\n",
       "Close_date                     0.000000\n",
       "Close_result                   0.000000\n",
       "point.y                        0.000000\n",
       "point.x                        0.000000\n",
       "Hammer_price                   0.000000\n",
       "dtype: float64"
      ]
     },
     "execution_count": 6,
     "metadata": {},
     "output_type": "execute_result"
    }
   ],
   "source": [
    "# 결측치 확인\n",
    "AM_train.isna().sum()/len(AM_train)"
   ]
  },
  {
   "cell_type": "markdown",
   "metadata": {},
   "source": [
    "### 변수 정리"
   ]
  },
  {
   "cell_type": "markdown",
   "metadata": {},
   "source": [
    " - 범주형 변수\n",
    "  - Auction_class : 경매구분(강제/임의)\n",
    "  - Bid_class : 입찰구분(일반/개별/일괄)\n",
    "  - Appraisal_compay : 감정사\n",
    "  - Final_result : 최종결과 : 모든 데이터에서 값 = \"낙찰\". 삭제\n",
    "  - Creditor : 채권자, 경매 신청인\n",
    "  - addr_do\n",
    "  - addr_si\n",
    "  - addr_dong :\n",
    "  - addr_li : 주소_리 : 결측값이 90%를 넘어감. 삭제\n",
    "  - addr_san : 주소_산번지 여부(Y/N)\n",
    "  - addr_etc : 기타주소\n",
    "  - Aprartment_usage : 건물(토지)의 대표 용도\n",
    "  - Specific : 기타_특이사항 : 모델에 반영하기 어려운 세부 특이사항명세. 삭제\n",
    "  - Share_auction_YorN : 지분경매 여부(Y/N)\n",
    "  - road_name : 도로명주소_도로명\n",
    "  - Close_result : 종국결과 \"배당\" 또는 결측값. 경매진행 후 대금납부가 이루어져 경매가 종결된 경우 \"배당\"에 해당하고 결측값은 \"낙찰\"까지 진행된 것이라 해석\n",
    "\n",
    "\n",
    " - 연속형 변수(특이사항만)\n",
    "  - addr_bunji1 : 일부 결측값 존재. 삭제\n",
    "  - addr_bunji2 : 결측값 54%. 삭제\n",
    "  - road_bunji1 : 일부 결측값 존재. 삭제\n",
    "  - road_bunji2 : 결측값 92%. 삭제"
   ]
  },
  {
   "cell_type": "markdown",
   "metadata": {},
   "source": [
    "#### 범주형 변수 정리"
   ]
  },
  {
   "cell_type": "code",
   "execution_count": 7,
   "metadata": {},
   "outputs": [
    {
     "name": "stdout",
     "output_type": "stream",
     "text": [
      "['임의' '강제']\n"
     ]
    }
   ],
   "source": [
    "#경매구분은 '임의'와 '강제'로 나뉜다\n",
    "print(AM_train.Auction_class.unique())"
   ]
  },
  {
   "cell_type": "code",
   "execution_count": 8,
   "metadata": {},
   "outputs": [
    {
     "name": "stdout",
     "output_type": "stream",
     "text": [
      "[0 1]\n"
     ]
    }
   ],
   "source": [
    "#임의와 강제로 나누어 더미변수화한다\n",
    "AM_train.Auction_class.replace({'임의':0, '강제':1},inplace=True)\n",
    "print(AM_train.Auction_class.unique())"
   ]
  },
  {
   "cell_type": "code",
   "execution_count": 9,
   "metadata": {},
   "outputs": [
    {
     "data": {
      "text/plain": [
       "array(['개별', '일반', '일괄'], dtype=object)"
      ]
     },
     "execution_count": 9,
     "metadata": {},
     "output_type": "execute_result"
    }
   ],
   "source": [
    "AM_train.Bid_class.unique()"
   ]
  },
  {
   "cell_type": "code",
   "execution_count": 10,
   "metadata": {},
   "outputs": [
    {
     "name": "stdout",
     "output_type": "stream",
     "text": [
      "0       0\n",
      "1       1\n",
      "2       0\n",
      "3       1\n",
      "4       1\n",
      "5       1\n",
      "6       1\n",
      "7       1\n",
      "8       1\n",
      "9       1\n",
      "10      0\n",
      "11      1\n",
      "12      1\n",
      "13      1\n",
      "14      1\n",
      "15      1\n",
      "16      1\n",
      "17      0\n",
      "18      1\n",
      "19      1\n",
      "20      1\n",
      "21      1\n",
      "22      1\n",
      "23      1\n",
      "24      1\n",
      "25      1\n",
      "26      1\n",
      "27      1\n",
      "28      1\n",
      "29      0\n",
      "       ..\n",
      "1903    1\n",
      "1904    1\n",
      "1905    1\n",
      "1906    1\n",
      "1907    1\n",
      "1908    1\n",
      "1909    1\n",
      "1910    1\n",
      "1911    1\n",
      "1912    1\n",
      "1913    1\n",
      "1914    1\n",
      "1915    1\n",
      "1916    1\n",
      "1917    0\n",
      "1918    1\n",
      "1919    1\n",
      "1920    1\n",
      "1921    1\n",
      "1922    1\n",
      "1923    1\n",
      "1924    1\n",
      "1925    1\n",
      "1926    1\n",
      "1927    1\n",
      "1928    1\n",
      "1929    1\n",
      "1930    1\n",
      "1931    1\n",
      "1932    1\n",
      "Name: Bid_class, Length: 1933, dtype: int64\n"
     ]
    }
   ],
   "source": [
    "# Bid_class : 더미변수화\n",
    "AM_train.Bid_class.replace({\"개별\" : 0, \"일반\" : 1, \"일괄\" : 2}, inplace=True)\n",
    "print(AM_train.Bid_class)"
   ]
  },
  {
   "cell_type": "code",
   "execution_count": 11,
   "metadata": {},
   "outputs": [
    {
     "data": {
      "text/plain": [
       "238"
      ]
     },
     "execution_count": 11,
     "metadata": {},
     "output_type": "execute_result"
    }
   ],
   "source": [
    "# Appraisal_company : 감정사의 개수\n",
    "len(AM_train[\"Appraisal_company\"].unique())"
   ]
  },
  {
   "cell_type": "markdown",
   "metadata": {},
   "source": [
    "- Appraisal_company 변수를 사용하면 데이터대비 변수의 수가 많아서 문제가 생길 수 있다.\n",
    "- 이 변수를 사용하기 위해서는 HCA를 이용해 군집을 생성하여 범주의 수를 축소해 사용할 수 있으나 시간관계상 생략하고 이 변수를 쓰지 않기로함."
   ]
  },
  {
   "cell_type": "code",
   "execution_count": 12,
   "metadata": {},
   "outputs": [],
   "source": [
    "AM_train.drop(\"Appraisal_company\", axis=1, inplace=True)"
   ]
  },
  {
   "cell_type": "code",
   "execution_count": 13,
   "metadata": {},
   "outputs": [
    {
     "data": {
      "text/plain": [
       "array(['낙찰'], dtype=object)"
      ]
     },
     "execution_count": 13,
     "metadata": {},
     "output_type": "execute_result"
    }
   ],
   "source": [
    "# Final_result\n",
    "AM_train[\"Final_result\"].unique()"
   ]
  },
  {
   "cell_type": "code",
   "execution_count": 14,
   "metadata": {},
   "outputs": [
    {
     "data": {
      "text/plain": [
       "1933"
      ]
     },
     "execution_count": 14,
     "metadata": {},
     "output_type": "execute_result"
    }
   ],
   "source": [
    "len(AM_train[\"Final_result\"][AM_train[\"Final_result\"]==\"낙찰\"])"
   ]
  },
  {
   "cell_type": "markdown",
   "metadata": {},
   "source": [
    "- 값이 하나뿐이므로 삭제한다."
   ]
  },
  {
   "cell_type": "code",
   "execution_count": 15,
   "metadata": {},
   "outputs": [],
   "source": [
    "AM_train.drop(\"Final_result\", axis=1, inplace=True)"
   ]
  },
  {
   "cell_type": "code",
   "execution_count": 16,
   "metadata": {},
   "outputs": [
    {
     "data": {
      "text/plain": [
       "448"
      ]
     },
     "execution_count": 16,
     "metadata": {},
     "output_type": "execute_result"
    }
   ],
   "source": [
    "# Creditor : 채권자\n",
    "len(AM_train[\"Creditor\"].unique())"
   ]
  },
  {
   "cell_type": "markdown",
   "metadata": {},
   "source": [
    "- Appraisal_company와 동일한 이유로 삭제"
   ]
  },
  {
   "cell_type": "code",
   "execution_count": 17,
   "metadata": {},
   "outputs": [],
   "source": [
    "AM_train.drop(\"Creditor\", axis=1, inplace=True)"
   ]
  },
  {
   "cell_type": "code",
   "execution_count": 18,
   "metadata": {},
   "outputs": [
    {
     "name": "stdout",
     "output_type": "stream",
     "text": [
      "['부산' '서울']\n"
     ]
    }
   ],
   "source": [
    "#부산과 서울\n",
    "print(AM_train.addr_do.unique())"
   ]
  },
  {
   "cell_type": "code",
   "execution_count": 19,
   "metadata": {},
   "outputs": [],
   "source": [
    "#부산과 서울 더미변수화\n",
    "AM_train.addr_do.replace({'부산':0, '서울':1},inplace=True)"
   ]
  },
  {
   "cell_type": "code",
   "execution_count": 20,
   "metadata": {},
   "outputs": [
    {
     "name": "stdout",
     "output_type": "stream",
     "text": [
      "[0 1]\n"
     ]
    }
   ],
   "source": [
    "print(AM_train.addr_do.unique())"
   ]
  },
  {
   "cell_type": "markdown",
   "metadata": {},
   "source": [
    "- addr_li도 결측값이 90%를 넘어가므로 삭제한다."
   ]
  },
  {
   "cell_type": "code",
   "execution_count": 21,
   "metadata": {},
   "outputs": [],
   "source": [
    "AM_train.drop(\"addr_li\", axis=1, inplace=True)"
   ]
  },
  {
   "cell_type": "code",
   "execution_count": 22,
   "metadata": {},
   "outputs": [
    {
     "name": "stdout",
     "output_type": "stream",
     "text": [
      "[0 1]\n"
     ]
    }
   ],
   "source": [
    "# addr_san : 더미변수화\n",
    "AM_train.addr_san.replace({\"N\" : 0, \"Y\" : 1}, inplace=True)\n",
    "print(AM_train.addr_san.unique())"
   ]
  },
  {
   "cell_type": "markdown",
   "metadata": {},
   "source": [
    "#### * 파생변수 만들기 1\n",
    "addr_etc : 기타주소를 살펴보면 상세주소가 나옴. 층에 따른 가격차이가 존재할 수 있으므로 이를 변형해 파생편수를 만들어보자."
   ]
  },
  {
   "cell_type": "code",
   "execution_count": 23,
   "metadata": {},
   "outputs": [
    {
     "data": {
      "text/plain": [
       "0               해운대엑소디움 5층 101-502호\n",
       "1        해운대두산위브더제니스 103동 51층 5103호\n",
       "2               백양그린 206동 14층 1403호\n",
       "3               대연청구 109동 11층 1102호\n",
       "4                     동조리젠시 7층 703호\n",
       "5             한일유앤아이 101동 17층 1701호\n",
       "6                     도시 1동 6층 603호\n",
       "7    ,-60,-8 엘지메트로시티 130동 13층 1302호\n",
       "8                     한성 B동 1층 102호\n",
       "9      ,-22,산55-18 코오롱 110동 4층 406호\n",
       "Name: addr_etc, dtype: object"
      ]
     },
     "execution_count": 23,
     "metadata": {},
     "output_type": "execute_result"
    }
   ],
   "source": [
    "AM_train[\"addr_etc\"].head(10)"
   ]
  },
  {
   "cell_type": "code",
   "execution_count": 24,
   "metadata": {},
   "outputs": [
    {
     "data": {
      "text/plain": [
       "array([ 5, 51, 14, 11,  7, 17,  6, 13,  1,  4, 12,  2, 26,  8, 25,  9, 22,\n",
       "       16, 28, 10, 15,  3, 18, 20, 24, 35, 27, 39, 19, 32, 33, 57, 65, 30,\n",
       "       40, 21, 61,  0, 49, 44, 41, 42, 23, 38, 58, 34, 50, 46, 63, 31, 29],\n",
       "      dtype=int64)"
      ]
     },
     "execution_count": 24,
     "metadata": {},
     "output_type": "execute_result"
    }
   ],
   "source": [
    "# 층수 추출과정\n",
    "AM_train[\"Floor\"] = AM_train[\"addr_etc\"].apply(lambda x : re.findall(r\"\\d{1,3}[층]\", x))\n",
    "AM_train[\"Floor\"] = AM_train[\"Floor\"].apply(lambda x : x[0] if len(x) == 1 else \"0층\")\n",
    "AM_train[\"Floor\"] = AM_train[\"Floor\"].apply(lambda x : re.findall(r\"\\d{1,3}\", x))\n",
    "AM_train[\"Floor\"] = AM_train[\"Floor\"].apply(lambda x :int(x[0]))\n",
    "AM_train[\"Floor\"].unique()"
   ]
  },
  {
   "cell_type": "code",
   "execution_count": 25,
   "metadata": {},
   "outputs": [],
   "source": [
    "AM_train.drop(\"addr_etc\", axis=1, inplace=True)"
   ]
  },
  {
   "cell_type": "code",
   "execution_count": 26,
   "metadata": {},
   "outputs": [
    {
     "name": "stdout",
     "output_type": "stream",
     "text": [
      "['주상복합' '아파트']\n"
     ]
    }
   ],
   "source": [
    "#건물(토지)의 대표용도의 하위변수\n",
    "print(AM_train.Apartment_usage.unique())"
   ]
  },
  {
   "cell_type": "code",
   "execution_count": 27,
   "metadata": {},
   "outputs": [
    {
     "name": "stdout",
     "output_type": "stream",
     "text": [
      "[0 1]\n"
     ]
    }
   ],
   "source": [
    "#주상복합과 아파트 더미변수화\n",
    "AM_train.Apartment_usage.replace({'주상복합':0, '아파트':1},inplace=True)\n",
    "print(AM_train.Apartment_usage.unique())"
   ]
  },
  {
   "cell_type": "code",
   "execution_count": 28,
   "metadata": {},
   "outputs": [],
   "source": [
    "#Specific : 기타 특이사항을 나타내는 변수. 삭제\n",
    "AM_train.drop(\"Specific\", axis=1, inplace=True)"
   ]
  },
  {
   "cell_type": "code",
   "execution_count": 29,
   "metadata": {},
   "outputs": [
    {
     "name": "stdout",
     "output_type": "stream",
     "text": [
      "[0 1]\n"
     ]
    }
   ],
   "source": [
    "# Share_auction_YorN : 더미변수화\n",
    "AM_train.Share_auction_YorN.replace({\"N\" : 0, \"Y\" : 1}, inplace=True)\n",
    "print(AM_train.Share_auction_YorN.unique())"
   ]
  },
  {
   "cell_type": "code",
   "execution_count": 30,
   "metadata": {},
   "outputs": [
    {
     "data": {
      "text/plain": [
       "1038"
      ]
     },
     "execution_count": 30,
     "metadata": {},
     "output_type": "execute_result"
    }
   ],
   "source": [
    "# road_name : 1038개. 삭제.\n",
    "len(AM_train[\"road_name\"].unique())"
   ]
  },
  {
   "cell_type": "code",
   "execution_count": 31,
   "metadata": {},
   "outputs": [],
   "source": [
    "AM_train.drop(\"road_name\", axis=1, inplace=True)"
   ]
  },
  {
   "cell_type": "code",
   "execution_count": 32,
   "metadata": {},
   "outputs": [
    {
     "name": "stdout",
     "output_type": "stream",
     "text": [
      "['배당' '    ']\n"
     ]
    }
   ],
   "source": [
    "# Close_result : '배당'과  '    '로 나누어 더미변수화한다\n",
    "# '    '는 \"낙찰\"단계까지 진행이 된 것으로 간주 가능.\n",
    "# 하지만 관심이 있는 것은 \"낙찰가\"이기 때문에 \"낙찰\"단계나 그 이후인 \"배당\"단계나 \"낙찰\"이후의 상황은\n",
    "# 고려할 필요가 없으므로 삭제\n",
    "print(AM_train.Close_result.unique())"
   ]
  },
  {
   "cell_type": "code",
   "execution_count": 33,
   "metadata": {},
   "outputs": [],
   "source": [
    "AM_train.drop(\"Close_result\", axis=1, inplace=True)"
   ]
  },
  {
   "cell_type": "markdown",
   "metadata": {},
   "source": [
    "#### 연속형 변수 정리"
   ]
  },
  {
   "cell_type": "code",
   "execution_count": 34,
   "metadata": {},
   "outputs": [],
   "source": [
    "# 결측치가 존재하는 addr_bunji1, 2 road_bunji1, 2를 삭제\n",
    "AM_train.drop([\"addr_bunji1\",\"addr_bunji2\",\"road_bunji1\",\"road_bunji2\"], axis=1, inplace=True)"
   ]
  },
  {
   "cell_type": "code",
   "execution_count": 35,
   "metadata": {},
   "outputs": [],
   "source": [
    "#오늘로부터 이 날짜가 얼마나 지났느냐를 보려고 만든 함수\n",
    "def change_datetime(x):\n",
    "    today = datetime.date.today()\n",
    "    #년, 월 , 일 int(숫자형식)으로 바꿔서 datetime형식으로 넣음\n",
    "    someday = datetime.date(int(x[:4]), int(x[5:7]), int(x[8:10]))\n",
    "    #오늘 뺴기 헤당 날짜\n",
    "    diff = today - someday\n",
    "    return diff.days"
   ]
  },
  {
   "cell_type": "code",
   "execution_count": 36,
   "metadata": {},
   "outputs": [
    {
     "data": {
      "text/plain": [
       "0    2017-07-26 00:00:00\n",
       "1    2016-09-12 00:00:00\n",
       "2    2016-11-22 00:00:00\n",
       "3    2016-12-13 00:00:00\n",
       "4    2016-03-07 00:00:00\n",
       "Name: Appraisal_date, dtype: object"
      ]
     },
     "execution_count": 36,
     "metadata": {},
     "output_type": "execute_result"
    }
   ],
   "source": [
    "#보시다시피 한 행의 10번째 인덱스까지 날짜가 나와있다\n",
    "AM_train[\"Appraisal_date\"].head()"
   ]
  },
  {
   "cell_type": "code",
   "execution_count": 37,
   "metadata": {},
   "outputs": [],
   "source": [
    "#날짜까지만 뽑게 apply시켜준다\n",
    "AM_train[\"Appraisal_date\"] = AM_train[\"Appraisal_date\"].apply(lambda x : x[:10])\n",
    "AM_train[\"First_auction_date\"] = AM_train[\"First_auction_date\"].apply(lambda x : x[:10])\n",
    "AM_train[\"Final_auction_date\"] = AM_train[\"Final_auction_date\"].apply(lambda x : x[:10])\n",
    "AM_train[\"Preserve_regist_date\"] = AM_train[\"Preserve_regist_date\"].apply(lambda x : x[:10])\n",
    "AM_train[\"Close_date\"] = AM_train[\"Close_date\"].apply(lambda x : x[:10])"
   ]
  },
  {
   "cell_type": "code",
   "execution_count": 38,
   "metadata": {},
   "outputs": [],
   "source": [
    "#오늘로부터 얼마나 지났는지 모두 바꾸는 apply\n",
    "AM_train[\"Appraisal_date\"] = AM_train[\"Appraisal_date\"].apply(change_datetime)\n",
    "AM_train[\"First_auction_date\"] = AM_train[\"First_auction_date\"].apply(change_datetime)\n",
    "AM_train[\"Final_auction_date\"] = AM_train[\"Final_auction_date\"].apply(change_datetime)\n",
    "AM_train[\"Preserve_regist_date\"] = AM_train[\"Preserve_regist_date\"].apply(change_datetime)\n",
    "AM_train[\"Close_date\"] = AM_train[\"Close_date\"].apply(change_datetime)"
   ]
  },
  {
   "cell_type": "markdown",
   "metadata": {},
   "source": [
    "#### * 파생변수 만들기 2 : How_old\n",
    "마지막 경매일 기준으로 건물이 오래된 정도가 낙찰가에 영향을 끼칠 수 있다.\n",
    "데이터명세서에 제시된 Completion_date(준공일)변수가 없으므로 최초 등기일인\n",
    "Preserve_regist_date를 대신 사용한다."
   ]
  },
  {
   "cell_type": "code",
   "execution_count": 39,
   "metadata": {},
   "outputs": [],
   "source": [
    "AM_train[\"How_old\"] = AM_train.Preserve_regist_date - AM_train.Final_auction_date"
   ]
  },
  {
   "cell_type": "markdown",
   "metadata": {},
   "source": [
    "#### * 파생변수 만들기 3 : How_long\n",
    "경매가 얼마나 오랜기간 진행되었는지도 낙찰가에 영향을 끼칠 수 있다.\n",
    "최초경매일과 최종경매일 간의 기간을 변수로 추가한다."
   ]
  },
  {
   "cell_type": "code",
   "execution_count": 40,
   "metadata": {},
   "outputs": [],
   "source": [
    "AM_train[\"How_long\"] = AM_train.First_auction_date - AM_train.Final_auction_date"
   ]
  },
  {
   "cell_type": "markdown",
   "metadata": {},
   "source": [
    "#### * 파생변수 만들기 4 : Diff_price (기존 제시된 파생변수)"
   ]
  },
  {
   "cell_type": "code",
   "execution_count": 41,
   "metadata": {},
   "outputs": [],
   "source": [
    "#총감정가 - 최저매각가격\n",
    "#최종 감정된 가격에 비해 최저로 매각해야하는 가격과 얼마나 차이가 났는가\n",
    "AM_train[\"Diff_price\"] = AM_train['Total_appraisal_price'] - AM_train['Minimum_sales_price']\n"
   ]
  },
  {
   "cell_type": "code",
   "execution_count": 42,
   "metadata": {},
   "outputs": [],
   "source": [
    "# addr_si : 범주형 변수. 더미변수화\n",
    "addr_si_dummy = pd.get_dummies(AM_train.addr_si)\n",
    "AM_train = AM_train.join(addr_si_dummy.add_prefix(\"addr_si_\"))"
   ]
  },
  {
   "cell_type": "code",
   "execution_count": 43,
   "metadata": {},
   "outputs": [],
   "source": [
    "AM_train.drop(\"addr_si\", axis=1, inplace=True)"
   ]
  },
  {
   "cell_type": "code",
   "execution_count": 44,
   "metadata": {},
   "outputs": [],
   "source": [
    "# addr_dong : 범주형 변수, 더미변수화 하려면 먼저 군집화를 통해 줄여줘야함.\n",
    "# addr_dong을 군집화 했을때 addr_si와 비슷한 양상을 띌 가능성이 있어 삭제함.\n",
    "AM_train.drop(\"addr_dong\", axis=1, inplace=True)"
   ]
  },
  {
   "cell_type": "code",
   "execution_count": 45,
   "metadata": {},
   "outputs": [],
   "source": [
    "#부산과 서울 기준으로 데이터를 2개로 분리한다\n",
    "AM_train1 = AM_train[AM_train.addr_do == 0]\n",
    "AM_train2 = AM_train[AM_train.addr_do == 1]"
   ]
  },
  {
   "cell_type": "code",
   "execution_count": 46,
   "metadata": {},
   "outputs": [
    {
     "data": {
      "text/plain": [
       "70"
      ]
     },
     "execution_count": 46,
     "metadata": {},
     "output_type": "execute_result"
    }
   ],
   "source": [
    "#이제 컬럼은 70개다\n",
    "len(AM_train.columns.tolist())"
   ]
  },
  {
   "cell_type": "code",
   "execution_count": 47,
   "metadata": {},
   "outputs": [
    {
     "data": {
      "text/plain": [
       "Index(['Auction_key', 'Auction_class', 'Bid_class', 'Claim_price',\n",
       "       'Appraisal_date', 'Auction_count', 'Auction_miscarriage_count',\n",
       "       'Total_land_gross_area', 'Total_land_real_area',\n",
       "       'Total_land_auction_area', 'Total_building_area',\n",
       "       'Total_building_auction_area', 'Total_appraisal_price',\n",
       "       'Minimum_sales_price', 'First_auction_date', 'Final_auction_date',\n",
       "       'addr_do', 'addr_san', 'Apartment_usage', 'Preserve_regist_date',\n",
       "       'Total_floor', 'Current_floor', 'Share_auction_YorN', 'Close_date',\n",
       "       'point.y', 'point.x', 'Hammer_price', 'Floor', 'How_old', 'How_long',\n",
       "       'Diff_price', 'addr_si_강남구', 'addr_si_강동구', 'addr_si_강북구',\n",
       "       'addr_si_강서구', 'addr_si_관악구', 'addr_si_광진구', 'addr_si_구로구',\n",
       "       'addr_si_금정구', 'addr_si_금천구', 'addr_si_기장군', 'addr_si_남구',\n",
       "       'addr_si_노원구', 'addr_si_도봉구', 'addr_si_동구', 'addr_si_동대문구',\n",
       "       'addr_si_동래구', 'addr_si_동작구', 'addr_si_마포구', 'addr_si_부산진구',\n",
       "       'addr_si_북구', 'addr_si_사상구', 'addr_si_사하구', 'addr_si_서구',\n",
       "       'addr_si_서대문구', 'addr_si_서초구', 'addr_si_성동구', 'addr_si_성북구',\n",
       "       'addr_si_송파구', 'addr_si_수영구', 'addr_si_양천구', 'addr_si_연제구',\n",
       "       'addr_si_영도구', 'addr_si_영등포구', 'addr_si_용산구', 'addr_si_은평구',\n",
       "       'addr_si_종로구', 'addr_si_중구', 'addr_si_중랑구', 'addr_si_해운대구'],\n",
       "      dtype='object')"
      ]
     },
     "execution_count": 47,
     "metadata": {},
     "output_type": "execute_result"
    }
   ],
   "source": [
    "#컬럼명 보기\n",
    "AM_train.columns"
   ]
  },
  {
   "cell_type": "markdown",
   "metadata": {},
   "source": [
    "# 데이터 탐색"
   ]
  },
  {
   "cell_type": "code",
   "execution_count": 48,
   "metadata": {},
   "outputs": [
    {
     "name": "stdout",
     "output_type": "stream",
     "text": [
      "<class 'pandas.core.frame.DataFrame'>\n",
      "RangeIndex: 1933 entries, 0 to 1932\n",
      "Data columns (total 70 columns):\n",
      "Auction_key                    1933 non-null int64\n",
      "Auction_class                  1933 non-null int64\n",
      "Bid_class                      1933 non-null int64\n",
      "Claim_price                    1933 non-null int64\n",
      "Appraisal_date                 1933 non-null int64\n",
      "Auction_count                  1933 non-null int64\n",
      "Auction_miscarriage_count      1933 non-null int64\n",
      "Total_land_gross_area          1933 non-null float64\n",
      "Total_land_real_area           1933 non-null float64\n",
      "Total_land_auction_area        1933 non-null float64\n",
      "Total_building_area            1933 non-null float64\n",
      "Total_building_auction_area    1933 non-null float64\n",
      "Total_appraisal_price          1933 non-null int64\n",
      "Minimum_sales_price            1933 non-null int64\n",
      "First_auction_date             1933 non-null int64\n",
      "Final_auction_date             1933 non-null int64\n",
      "addr_do                        1933 non-null int64\n",
      "addr_san                       1933 non-null int64\n",
      "Apartment_usage                1933 non-null int64\n",
      "Preserve_regist_date           1933 non-null int64\n",
      "Total_floor                    1933 non-null int64\n",
      "Current_floor                  1933 non-null int64\n",
      "Share_auction_YorN             1933 non-null int64\n",
      "Close_date                     1933 non-null int64\n",
      "point.y                        1933 non-null float64\n",
      "point.x                        1933 non-null float64\n",
      "Hammer_price                   1933 non-null int64\n",
      "Floor                          1933 non-null int64\n",
      "How_old                        1933 non-null int64\n",
      "How_long                       1933 non-null int64\n",
      "Diff_price                     1933 non-null int64\n",
      "addr_si_강남구                    1933 non-null uint8\n",
      "addr_si_강동구                    1933 non-null uint8\n",
      "addr_si_강북구                    1933 non-null uint8\n",
      "addr_si_강서구                    1933 non-null uint8\n",
      "addr_si_관악구                    1933 non-null uint8\n",
      "addr_si_광진구                    1933 non-null uint8\n",
      "addr_si_구로구                    1933 non-null uint8\n",
      "addr_si_금정구                    1933 non-null uint8\n",
      "addr_si_금천구                    1933 non-null uint8\n",
      "addr_si_기장군                    1933 non-null uint8\n",
      "addr_si_남구                     1933 non-null uint8\n",
      "addr_si_노원구                    1933 non-null uint8\n",
      "addr_si_도봉구                    1933 non-null uint8\n",
      "addr_si_동구                     1933 non-null uint8\n",
      "addr_si_동대문구                   1933 non-null uint8\n",
      "addr_si_동래구                    1933 non-null uint8\n",
      "addr_si_동작구                    1933 non-null uint8\n",
      "addr_si_마포구                    1933 non-null uint8\n",
      "addr_si_부산진구                   1933 non-null uint8\n",
      "addr_si_북구                     1933 non-null uint8\n",
      "addr_si_사상구                    1933 non-null uint8\n",
      "addr_si_사하구                    1933 non-null uint8\n",
      "addr_si_서구                     1933 non-null uint8\n",
      "addr_si_서대문구                   1933 non-null uint8\n",
      "addr_si_서초구                    1933 non-null uint8\n",
      "addr_si_성동구                    1933 non-null uint8\n",
      "addr_si_성북구                    1933 non-null uint8\n",
      "addr_si_송파구                    1933 non-null uint8\n",
      "addr_si_수영구                    1933 non-null uint8\n",
      "addr_si_양천구                    1933 non-null uint8\n",
      "addr_si_연제구                    1933 non-null uint8\n",
      "addr_si_영도구                    1933 non-null uint8\n",
      "addr_si_영등포구                   1933 non-null uint8\n",
      "addr_si_용산구                    1933 non-null uint8\n",
      "addr_si_은평구                    1933 non-null uint8\n",
      "addr_si_종로구                    1933 non-null uint8\n",
      "addr_si_중구                     1933 non-null uint8\n",
      "addr_si_중랑구                    1933 non-null uint8\n",
      "addr_si_해운대구                   1933 non-null uint8\n",
      "dtypes: float64(7), int64(24), uint8(39)\n",
      "memory usage: 541.8 KB\n"
     ]
    }
   ],
   "source": [
    "#자료형 맨 오른쪽에 나오고\n",
    "#null값은 다행이 없다\n",
    "#데이터 갯수도 왼편에 나온다\n",
    "AM_train.info()"
   ]
  },
  {
   "cell_type": "code",
   "execution_count": 49,
   "metadata": {},
   "outputs": [
    {
     "data": {
      "text/html": [
       "<div>\n",
       "<style scoped>\n",
       "    .dataframe tbody tr th:only-of-type {\n",
       "        vertical-align: middle;\n",
       "    }\n",
       "\n",
       "    .dataframe tbody tr th {\n",
       "        vertical-align: top;\n",
       "    }\n",
       "\n",
       "    .dataframe thead th {\n",
       "        text-align: right;\n",
       "    }\n",
       "</style>\n",
       "<table border=\"1\" class=\"dataframe\">\n",
       "  <thead>\n",
       "    <tr style=\"text-align: right;\">\n",
       "      <th></th>\n",
       "      <th>Auction_key</th>\n",
       "      <th>Auction_class</th>\n",
       "      <th>Bid_class</th>\n",
       "      <th>Claim_price</th>\n",
       "      <th>Appraisal_date</th>\n",
       "      <th>Auction_count</th>\n",
       "      <th>Auction_miscarriage_count</th>\n",
       "      <th>Total_land_gross_area</th>\n",
       "      <th>Total_land_real_area</th>\n",
       "      <th>Total_land_auction_area</th>\n",
       "      <th>...</th>\n",
       "      <th>addr_si_양천구</th>\n",
       "      <th>addr_si_연제구</th>\n",
       "      <th>addr_si_영도구</th>\n",
       "      <th>addr_si_영등포구</th>\n",
       "      <th>addr_si_용산구</th>\n",
       "      <th>addr_si_은평구</th>\n",
       "      <th>addr_si_종로구</th>\n",
       "      <th>addr_si_중구</th>\n",
       "      <th>addr_si_중랑구</th>\n",
       "      <th>addr_si_해운대구</th>\n",
       "    </tr>\n",
       "  </thead>\n",
       "  <tbody>\n",
       "    <tr>\n",
       "      <th>count</th>\n",
       "      <td>1933.000000</td>\n",
       "      <td>1933.000000</td>\n",
       "      <td>1933.000000</td>\n",
       "      <td>1.933000e+03</td>\n",
       "      <td>1933.000000</td>\n",
       "      <td>1933.000000</td>\n",
       "      <td>1933.000000</td>\n",
       "      <td>1.933000e+03</td>\n",
       "      <td>1933.000000</td>\n",
       "      <td>1933.000000</td>\n",
       "      <td>...</td>\n",
       "      <td>1933.000000</td>\n",
       "      <td>1933.000000</td>\n",
       "      <td>1933.000000</td>\n",
       "      <td>1933.000000</td>\n",
       "      <td>1933.000000</td>\n",
       "      <td>1933.000000</td>\n",
       "      <td>1933.000000</td>\n",
       "      <td>1933.00000</td>\n",
       "      <td>1933.000000</td>\n",
       "      <td>1933.000000</td>\n",
       "    </tr>\n",
       "    <tr>\n",
       "      <th>mean</th>\n",
       "      <td>1380.271081</td>\n",
       "      <td>0.255561</td>\n",
       "      <td>0.941542</td>\n",
       "      <td>3.703908e+08</td>\n",
       "      <td>993.528712</td>\n",
       "      <td>1.836006</td>\n",
       "      <td>0.788412</td>\n",
       "      <td>3.458714e+04</td>\n",
       "      <td>42.333802</td>\n",
       "      <td>41.310776</td>\n",
       "      <td>...</td>\n",
       "      <td>0.035178</td>\n",
       "      <td>0.016037</td>\n",
       "      <td>0.015003</td>\n",
       "      <td>0.024315</td>\n",
       "      <td>0.013968</td>\n",
       "      <td>0.027419</td>\n",
       "      <td>0.008795</td>\n",
       "      <td>0.01552</td>\n",
       "      <td>0.019141</td>\n",
       "      <td>0.046042</td>\n",
       "    </tr>\n",
       "    <tr>\n",
       "      <th>std</th>\n",
       "      <td>801.670470</td>\n",
       "      <td>0.436289</td>\n",
       "      <td>0.259792</td>\n",
       "      <td>1.337869e+09</td>\n",
       "      <td>306.357673</td>\n",
       "      <td>0.938319</td>\n",
       "      <td>0.831715</td>\n",
       "      <td>9.442101e+04</td>\n",
       "      <td>65.274404</td>\n",
       "      <td>65.385900</td>\n",
       "      <td>...</td>\n",
       "      <td>0.184278</td>\n",
       "      <td>0.125651</td>\n",
       "      <td>0.121594</td>\n",
       "      <td>0.154064</td>\n",
       "      <td>0.117388</td>\n",
       "      <td>0.163342</td>\n",
       "      <td>0.093391</td>\n",
       "      <td>0.12364</td>\n",
       "      <td>0.137057</td>\n",
       "      <td>0.209631</td>\n",
       "    </tr>\n",
       "    <tr>\n",
       "      <th>min</th>\n",
       "      <td>1.000000</td>\n",
       "      <td>0.000000</td>\n",
       "      <td>0.000000</td>\n",
       "      <td>0.000000e+00</td>\n",
       "      <td>419.000000</td>\n",
       "      <td>1.000000</td>\n",
       "      <td>0.000000</td>\n",
       "      <td>0.000000e+00</td>\n",
       "      <td>0.000000</td>\n",
       "      <td>0.000000</td>\n",
       "      <td>...</td>\n",
       "      <td>0.000000</td>\n",
       "      <td>0.000000</td>\n",
       "      <td>0.000000</td>\n",
       "      <td>0.000000</td>\n",
       "      <td>0.000000</td>\n",
       "      <td>0.000000</td>\n",
       "      <td>0.000000</td>\n",
       "      <td>0.00000</td>\n",
       "      <td>0.000000</td>\n",
       "      <td>0.000000</td>\n",
       "    </tr>\n",
       "    <tr>\n",
       "      <th>25%</th>\n",
       "      <td>691.000000</td>\n",
       "      <td>0.000000</td>\n",
       "      <td>1.000000</td>\n",
       "      <td>7.746112e+07</td>\n",
       "      <td>780.000000</td>\n",
       "      <td>1.000000</td>\n",
       "      <td>0.000000</td>\n",
       "      <td>2.997000e+03</td>\n",
       "      <td>25.870000</td>\n",
       "      <td>24.570000</td>\n",
       "      <td>...</td>\n",
       "      <td>0.000000</td>\n",
       "      <td>0.000000</td>\n",
       "      <td>0.000000</td>\n",
       "      <td>0.000000</td>\n",
       "      <td>0.000000</td>\n",
       "      <td>0.000000</td>\n",
       "      <td>0.000000</td>\n",
       "      <td>0.00000</td>\n",
       "      <td>0.000000</td>\n",
       "      <td>0.000000</td>\n",
       "    </tr>\n",
       "    <tr>\n",
       "      <th>50%</th>\n",
       "      <td>1395.000000</td>\n",
       "      <td>0.000000</td>\n",
       "      <td>1.000000</td>\n",
       "      <td>1.728143e+08</td>\n",
       "      <td>968.000000</td>\n",
       "      <td>2.000000</td>\n",
       "      <td>1.000000</td>\n",
       "      <td>1.424140e+04</td>\n",
       "      <td>37.510000</td>\n",
       "      <td>36.790000</td>\n",
       "      <td>...</td>\n",
       "      <td>0.000000</td>\n",
       "      <td>0.000000</td>\n",
       "      <td>0.000000</td>\n",
       "      <td>0.000000</td>\n",
       "      <td>0.000000</td>\n",
       "      <td>0.000000</td>\n",
       "      <td>0.000000</td>\n",
       "      <td>0.00000</td>\n",
       "      <td>0.000000</td>\n",
       "      <td>0.000000</td>\n",
       "    </tr>\n",
       "    <tr>\n",
       "      <th>75%</th>\n",
       "      <td>2062.000000</td>\n",
       "      <td>1.000000</td>\n",
       "      <td>1.000000</td>\n",
       "      <td>3.565089e+08</td>\n",
       "      <td>1151.000000</td>\n",
       "      <td>2.000000</td>\n",
       "      <td>1.000000</td>\n",
       "      <td>4.140310e+04</td>\n",
       "      <td>51.790000</td>\n",
       "      <td>51.320000</td>\n",
       "      <td>...</td>\n",
       "      <td>0.000000</td>\n",
       "      <td>0.000000</td>\n",
       "      <td>0.000000</td>\n",
       "      <td>0.000000</td>\n",
       "      <td>0.000000</td>\n",
       "      <td>0.000000</td>\n",
       "      <td>0.000000</td>\n",
       "      <td>0.00000</td>\n",
       "      <td>0.000000</td>\n",
       "      <td>0.000000</td>\n",
       "    </tr>\n",
       "    <tr>\n",
       "      <th>max</th>\n",
       "      <td>2762.000000</td>\n",
       "      <td>1.000000</td>\n",
       "      <td>2.000000</td>\n",
       "      <td>2.286481e+10</td>\n",
       "      <td>3140.000000</td>\n",
       "      <td>13.000000</td>\n",
       "      <td>9.000000</td>\n",
       "      <td>3.511936e+06</td>\n",
       "      <td>2665.840000</td>\n",
       "      <td>2665.840000</td>\n",
       "      <td>...</td>\n",
       "      <td>1.000000</td>\n",
       "      <td>1.000000</td>\n",
       "      <td>1.000000</td>\n",
       "      <td>1.000000</td>\n",
       "      <td>1.000000</td>\n",
       "      <td>1.000000</td>\n",
       "      <td>1.000000</td>\n",
       "      <td>1.00000</td>\n",
       "      <td>1.000000</td>\n",
       "      <td>1.000000</td>\n",
       "    </tr>\n",
       "  </tbody>\n",
       "</table>\n",
       "<p>8 rows × 70 columns</p>\n",
       "</div>"
      ],
      "text/plain": [
       "       Auction_key  Auction_class    Bid_class   Claim_price  Appraisal_date  \\\n",
       "count  1933.000000    1933.000000  1933.000000  1.933000e+03     1933.000000   \n",
       "mean   1380.271081       0.255561     0.941542  3.703908e+08      993.528712   \n",
       "std     801.670470       0.436289     0.259792  1.337869e+09      306.357673   \n",
       "min       1.000000       0.000000     0.000000  0.000000e+00      419.000000   \n",
       "25%     691.000000       0.000000     1.000000  7.746112e+07      780.000000   \n",
       "50%    1395.000000       0.000000     1.000000  1.728143e+08      968.000000   \n",
       "75%    2062.000000       1.000000     1.000000  3.565089e+08     1151.000000   \n",
       "max    2762.000000       1.000000     2.000000  2.286481e+10     3140.000000   \n",
       "\n",
       "       Auction_count  Auction_miscarriage_count  Total_land_gross_area  \\\n",
       "count    1933.000000                1933.000000           1.933000e+03   \n",
       "mean        1.836006                   0.788412           3.458714e+04   \n",
       "std         0.938319                   0.831715           9.442101e+04   \n",
       "min         1.000000                   0.000000           0.000000e+00   \n",
       "25%         1.000000                   0.000000           2.997000e+03   \n",
       "50%         2.000000                   1.000000           1.424140e+04   \n",
       "75%         2.000000                   1.000000           4.140310e+04   \n",
       "max        13.000000                   9.000000           3.511936e+06   \n",
       "\n",
       "       Total_land_real_area  Total_land_auction_area      ...       \\\n",
       "count           1933.000000              1933.000000      ...        \n",
       "mean              42.333802                41.310776      ...        \n",
       "std               65.274404                65.385900      ...        \n",
       "min                0.000000                 0.000000      ...        \n",
       "25%               25.870000                24.570000      ...        \n",
       "50%               37.510000                36.790000      ...        \n",
       "75%               51.790000                51.320000      ...        \n",
       "max             2665.840000              2665.840000      ...        \n",
       "\n",
       "       addr_si_양천구  addr_si_연제구  addr_si_영도구  addr_si_영등포구  addr_si_용산구  \\\n",
       "count  1933.000000  1933.000000  1933.000000   1933.000000  1933.000000   \n",
       "mean      0.035178     0.016037     0.015003      0.024315     0.013968   \n",
       "std       0.184278     0.125651     0.121594      0.154064     0.117388   \n",
       "min       0.000000     0.000000     0.000000      0.000000     0.000000   \n",
       "25%       0.000000     0.000000     0.000000      0.000000     0.000000   \n",
       "50%       0.000000     0.000000     0.000000      0.000000     0.000000   \n",
       "75%       0.000000     0.000000     0.000000      0.000000     0.000000   \n",
       "max       1.000000     1.000000     1.000000      1.000000     1.000000   \n",
       "\n",
       "       addr_si_은평구  addr_si_종로구  addr_si_중구  addr_si_중랑구  addr_si_해운대구  \n",
       "count  1933.000000  1933.000000  1933.00000  1933.000000   1933.000000  \n",
       "mean      0.027419     0.008795     0.01552     0.019141      0.046042  \n",
       "std       0.163342     0.093391     0.12364     0.137057      0.209631  \n",
       "min       0.000000     0.000000     0.00000     0.000000      0.000000  \n",
       "25%       0.000000     0.000000     0.00000     0.000000      0.000000  \n",
       "50%       0.000000     0.000000     0.00000     0.000000      0.000000  \n",
       "75%       0.000000     0.000000     0.00000     0.000000      0.000000  \n",
       "max       1.000000     1.000000     1.00000     1.000000      1.000000  \n",
       "\n",
       "[8 rows x 70 columns]"
      ]
     },
     "execution_count": 49,
     "metadata": {},
     "output_type": "execute_result"
    }
   ],
   "source": [
    "AM_train.describe()"
   ]
  },
  {
   "cell_type": "markdown",
   "metadata": {},
   "source": [
    "#### 상관행렬 살펴보기\n",
    "- 변수들이 너무 많아 보기어렵다.\n",
    "- 상관계수가 너무 낮은 변수를 제거한 후 다시 살펴보자."
   ]
  },
  {
   "cell_type": "code",
   "execution_count": 50,
   "metadata": {},
   "outputs": [
    {
     "data": {
      "image/png": "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