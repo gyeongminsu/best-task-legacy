{
 "cells": [
  {
   "cell_type": "code",
   "execution_count": null,
   "id": "931be965",
   "metadata": {},
   "outputs": [],
   "source": [
    "from scipy import io\n",
    "from sklearn.model_selection import train_test_split\n",
    "from sklearn.ensemble import RandomForestClassifier\n",
    "from sklearn.metrics import accuracy_score\n",
    "from sklearn.metrics import confusion_matrix\n",
    "from sklearn.linear_model import LogisticRegression as lr\n",
    "from sklearn.decomposition import PCA\n",
    "import pandas as pd\n",
    "import numpy as np\n",
    "import matplotlib\n",
    "import matplotlib.pyplot as plt\n",
    "import seaborn as sns\n",
    "import time"
   ]
  },
  {
   "cell_type": "code",
   "execution_count": null,
   "id": "9a16763a",
   "metadata": {},
   "outputs": [],
   "source": [
    "mnist=io.loadmat('mnist-original.mat')\n",
    "md=mnist['data'] #784*70000\n",
    "ml=mnist['label'] #1*70000"
   ]
  },
  {
   "cell_type": "code",
   "execution_count": null,
   "id": "b6411deb",
   "metadata": {},
   "outputs": [],
   "source": [
    "#train_test_split은 col은 그대로고 row만 랜덤추출함.\n",
    "#때문에 행과 열을 바꿔준다. 전치행렬\n",
    "#애초에 mat파일 자체가 행,열이 반대인듯 하다.\n",
    "md=md.T\n",
    "ml=ml.T"
   ]
  },
  {
   "cell_type": "code",
   "execution_count": null,
   "id": "320b41b3",
   "metadata": {},
   "outputs": [],
   "source": [
    "#6:1로 train,test 분할\n",
    "md_train,md_test,ml_train,ml_test = train_test_split(md,ml,test_size=1/7,random_state=1)"
   ]
  },
  {
   "cell_type": "code",
   "execution_count": null,
   "id": "343f6620",
   "metadata": {},
   "outputs": [],
   "source": [
    "#이미지 플롯\n",
    "def plot_digits(instances, images_per_row=5, **options):\n",
    "    size = 28\n",
    "    images_per_row = min(len(instances), images_per_row)\n",
    "    images = [instance.reshape(size,size) for instance in instances]\n",
    "    n_rows = (len(instances) - 1) // images_per_row + 1\n",
    "    row_images = []\n",
    "    n_empty = n_rows * images_per_row - len(instances)\n",
    "    images.append(np.zeros((size, size * n_empty)))\n",
    "    for row in range(n_rows):\n",
    "        rimages = images[row * images_per_row : (row + 1) * images_per_row]\n",
    "        row_images.append(np.concatenate(rimages, axis=1))\n",
    "    image = np.concatenate(row_images, axis=0)\n",
    "    plt.imshow(image, cmap = matplotlib.cm.binary, **options)\n",
    "    plt.axis(\"off\")"
   ]
  },
  {
   "cell_type": "code",
   "execution_count": null,
   "id": "480bb9c0",
   "metadata": {},
   "outputs": [],
   "source": [
    "#Softmax\n",
    "def lrsoftmax(matrix):\n",
    "    smdf = sm.decision_function(matrix)\n",
    "    smdfe = np.exp(smdf)\n",
    "    prob = smdfe/smdfe.sum(axis=1).reshape(len(smdfe.sum(axis=1)),1)\n",
    "    return(prob)"
   ]
  },
  {
   "cell_type": "code",
   "execution_count": null,
   "id": "ca9c673d",
   "metadata": {},
   "outputs": [],
   "source": [
    "def pcalrsoftmax(matrix):\n",
    "    smdf = smpca.decision_function(matrix)\n",
    "    smdfe = np.exp(smdf)\n",
    "    prob = smdfe/smdfe.sum(axis=1).reshape(len(smdfe.sum(axis=1)),1)\n",
    "    return(prob)\n",
    " "
   ]
  },
  {
   "cell_type": "code",
   "execution_count": null,
   "id": "fde8aa84",
   "metadata": {},
   "outputs": [],
   "source": [
    "#기존 데이터 확인\n",
    "plot_digits(md_train[::2100])\n",
    "plt.show()\n",
    " "
   ]
  },
  {
   "cell_type": "code",
   "execution_count": null,
   "id": "f853bad9",
   "metadata": {},
   "outputs": [],
   "source": [
    "#RF 분류기\n",
    "print('Random Forest Classifying Start')\n",
    "\n",
    "rf_time_start = time.time()\n",
    "rf = RandomForestClassifier(n_estimators=100, oob_score=True, random_state=1)\n",
    "rf.fit(md_train,ml_train.ravel())\n",
    "rfpredict = rf.predict(md_test)\n",
    "rfaccuracy = accuracy_score(ml_test,rfpredict)\n",
    "rf_time = time.time()-rf_time_start"
   ]
  },
  {
   "cell_type": "code",
   "execution_count": null,
   "id": "9111f42f",
   "metadata": {},
   "outputs": [],
   "source": [
    "print(f'Test Label : {ml_test.ravel()}')\n",
    "print(f'Rf predict : {rfpredict}')\n",
    "print('Accuracy : %.4f Out of bag : %.4f\\nTime : %.2f sec\\n'%(rfaccuracy, rf.oob_score_, rf_time))\n",
    "#Accuracy : 0.9697      Time : 46.58 sec\n",
    " "
   ]
  },
  {
   "cell_type": "code",
   "execution_count": null,
   "id": "f483e906",
   "metadata": {},
   "outputs": [],
   "source": [
    "#예측 플롯\n",
    "ax1 = plt.subplot(111)\n",
    "ax1.set_title('Random Forest')\n",
    "ax1.set_ylabel('Predict')\n",
    "pd.DataFrame(rfpredict[0:50],columns=['Predict']).plot(ax=ax1)\n",
    "plt.show()"
   ]
  },
  {
   "cell_type": "code",
   "execution_count": null,
   "id": "b8c2b424",
   "metadata": {},
   "outputs": [],
   "source": [
    "#heatmap 플롯\n",
    "rfcm = pd.DataFrame(confusion_matrix(ml_test,rfpredict))\n",
    "sns.heatmap(rfcm, annot=True)\n",
    "plt.show()\n",
    " "
   ]
  },
  {
   "cell_type": "code",
   "execution_count": null,
   "id": "077696ee",
   "metadata": {},
   "outputs": [],
   "source": [
    "#Softmax 분류기 max_iter를 10정도만 하면 아주 빠름.\n",
    "print('Softmax Classifying Start')\n",
    "sm_time_start = time.time()\n",
    "sm = lr(max_iter=100).fit(md_train,ml_train.ravel())\n",
    "probtrain = lrsoftmax(md_train)\n",
    "probtest = lrsoftmax(md_test)\n",
    "smpredict = sm.predict(md_test)\n",
    "smaccuracy = accuracy_score(ml_test,smpredict)\n",
    "sm_time = time.time()-sm_time_start\n",
    "print(f'Test Label : {ml_test.ravel()}')\n",
    "print(f'Sm predict : {smpredict}')\n",
    "print('Accuracy : %.4f\\nTime : %.2f sec\\n'%(smaccuracy,sm_time))\n",
    "#Accuracy : 0.9143      Time : 2810.69 sec\n",
    " "
   ]
  },
  {
   "cell_type": "code",
   "execution_count": null,
   "id": "575e5732",
   "metadata": {},
   "outputs": [],
   "source": [
    "#예측 플롯\n",
    "ax1 = plt.subplot(211)\n",
    "ax1.set_title('SoftMAX')\n",
    "ax1.set_ylabel('Probability')\n",
    "pd.DataFrame(probtest[0:50]).plot(ax=ax1)\n",
    "ax2 = plt.subplot(212)\n",
    "ax2.set_ylabel('Predict')\n",
    "pd.DataFrame(smpredict[0:50],columns=['Predict']).plot(ax=ax2)\n",
    "plt.show()"
   ]
  },
  {
   "cell_type": "code",
   "execution_count": null,
   "id": "fcbd02ac",
   "metadata": {},
   "outputs": [],
   "source": [
    "#heatmap 플롯\n",
    "smcm = pd.DataFrame(confusion_matrix(ml_test,smpredict))\n",
    "sns.heatmap(smcm, annot=True)\n",
    "plt.show()\n",
    " "
   ]
  },
  {
   "cell_type": "code",
   "execution_count": null,
   "id": "5bb83118",
   "metadata": {},
   "outputs": [],
   "source": [
    "#PCA\n",
    "print('PCA start')\n",
    "pca = PCA(n_components=0.96,random_state=1)\n",
    "pca.fit(md_train)\n",
    "mdn = pca.n_components_  #mdn = 179\n",
    "print(f'Number of Components : {mdn}')\n",
    "pca = PCA(n_components=mdn,random_state=1)\n",
    "print('PCA fitting\\n')\n",
    "pca.fit(md_train)\n",
    "md_train_reduced = pca.transform(md_train)\n",
    "md_test_reduced = pca.transform(md_test)\n",
    "md_recovered = pca.inverse_transform(md_train_reduced)"
   ]
  },
  {
   "cell_type": "code",
   "execution_count": null,
   "id": "8472aaf2",
   "metadata": {},
   "outputs": [],
   "source": [
    "#원본과 복원 비교\n",
    "plt.subplot(121)\n",
    "plt.title('Original')\n",
    "plot_digits(md_train[::2100])\n",
    "plt.subplot(122)\n",
    "plt.title('Recovered')\n",
    "plot_digits(md_recovered[::2100])\n",
    "plt.show()\n",
    " "
   ]
  },
  {
   "cell_type": "code",
   "execution_count": null,
   "id": "d8d62676",
   "metadata": {},
   "outputs": [],
   "source": [
    "#PCA - RF 분류기\n",
    "print('PCA - Random Forest Classifying Start')\n",
    "rfpca_time_start = time.time()\n",
    "rfpca = RandomForestClassifier(n_estimators=100, oob_score=True, random_state=1)\n",
    "rfpca.fit(md_train_reduced,ml_train.ravel())\n",
    "rfpcapredict = rfpca.predict(md_test_reduced)\n",
    "rfpcaaccuracy = accuracy_score(ml_test,rfpcapredict)\n",
    "rfpca_time = time.time()-rfpca_time_start\n",
    "print(f'Test Label : {ml_test.ravel()}')\n",
    "print(f'Rf predict : {rfpcapredict}')\n",
    "print('Accuracy : %.4f Out of bag : %.4f\\nTime : %.2f sec\\n'\n",
    "      %(rfpcaaccuracy, rfpca.oob_score_, rfpca_time))\n",
    "#Accuracy : 0.9466      Time : 108.29 sec\n",
    " \n"
   ]
  },
  {
   "cell_type": "code",
   "execution_count": null,
   "id": "0ecb214a",
   "metadata": {},
   "outputs": [],
   "source": [
    "#예측 플롯\n",
    "ax1 = plt.subplot(111)\n",
    "ax1.set_title('PCA - Random Forest')\n",
    "ax1.set_ylabel('Predict')\n",
    "pd.DataFrame(rfpcapredict[0:50],columns=['Predict']).plot(ax=ax1)\n",
    "plt.show()\n",
    "#heatmap 플롯\n",
    "rfpcacm = pd.DataFrame(confusion_matrix(ml_test,rfpcapredict))\n",
    "sns.heatmap(rfpcacm, annot=True)\n",
    "plt.show()"
   ]
  },
  {
   "cell_type": "code",
   "execution_count": null,
   "id": "5989e56e",
   "metadata": {},
   "outputs": [],
   "source": [
    " \n",
    "#PCA - Softmax 분류기 max_iter를 10정도만 하면 아주 빠름.\n",
    "print('PCA - Softmax Classifying Start')\n",
    "smpca_time_start = time.time()\n",
    "smpca = lr(max_iter=100).fit(md_train_reduced,ml_train.ravel())\n",
    "probtrain_reduced = pcalrsoftmax(md_train_reduced)\n",
    "probtest_reduced = pcalrsoftmax(md_test_reduced)\n",
    "smpcapredict = smpca.predict(md_test_reduced)\n",
    "smpcaaccuracy = accuracy_score(ml_test,smpcapredict)\n",
    "smpca_time = time.time()-smpca_time_start\n",
    "print(f'Test Label : {ml_test.ravel()}')\n",
    "print(f'Sm predict : {smpcapredict}')\n",
    "print('Accuracy : %.4f\\nTime : %.2f sec\\n'%(smpcaaccuracy,smpca_time))\n",
    "#Accuracy : 0.9149      Time : 925.86 sec\n",
    " "
   ]
  },
  {
   "cell_type": "code",
   "execution_count": null,
   "id": "2d7b904b",
   "metadata": {},
   "outputs": [],
   "source": [
    "#예측 플롯\n",
    "ax1 = plt.subplot(211)\n",
    "ax1.set_title('PCA - SoftMAX')\n",
    "ax1.set_ylabel('Probability')\n",
    "pd.DataFrame(probtest_reduced[0:50]).plot(ax=ax1)\n",
    "ax2 = plt.subplot(212)\n",
    "ax2.set_ylabel('Predict')\n",
    "pd.DataFrame(smpcapredict[0:50],columns=['Predict']).plot(ax=ax2)\n",
    "plt.show()"
   ]
  },
  {
   "cell_type": "code",
   "execution_count": null,
   "id": "28580057",
   "metadata": {},
   "outputs": [],
   "source": [
    "#heatmap 플롯\n",
    "smpcacm = pd.DataFrame(confusion_matrix(ml_test,smpcapredict))\n",
    "sns.heatmap(smpcacm, annot=True)\n",
    "plt.show()\n",
    " "
   ]
  },
  {
   "cell_type": "code",
   "execution_count": null,
   "id": "76ec447f",
   "metadata": {},
   "outputs": [],
   "source": [
    "#TimeTable\n",
    "time_data={'Softmax':[sm_time,smpca_time],\n",
    "           'RandomForest':[rf_time,rfpca_time]}\n",
    "timetable = pd.DataFrame(time_data,\n",
    "                         columns=['RandomForest','Softmax'],\n",
    "                         index=['Time','PCA Time'])\n",
    "'''\n",
    "          RandomForest      Softmax\n",
    "Time         46.581252  2810.692777\n",
    "PCA Time    108.294196   925.859520\n",
    "'''"
   ]
  }
 ],
 "metadata": {
  "kernelspec": {
   "display_name": "Python 3 (ipykernel)",
   "language": "python",
   "name": "python3"
  },
  "language_info": {
   "codemirror_mode": {
    "name": "ipython",
    "version": 3
   },
   "file_extension": ".py",
   "mimetype": "text/x-python",
   "name": "python",
   "nbconvert_exporter": "python",
   "pygments_lexer": "ipython3",
   "version": "3.9.13"
  },
  "toc": {
   "base_numbering": 1,
   "nav_menu": {},
   "number_sections": true,
   "sideBar": true,
   "skip_h1_title": false,
   "title_cell": "Table of Contents",
   "title_sidebar": "Contents",
   "toc_cell": false,
   "toc_position": {},
   "toc_section_display": true,
   "toc_window_display": false
  }
 },
 "nbformat": 4,
 "nbformat_minor": 5
}
