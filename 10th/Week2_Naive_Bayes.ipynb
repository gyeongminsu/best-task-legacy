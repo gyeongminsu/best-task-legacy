{
 "cells": [
  {
   "cell_type": "code",
   "execution_count": null,
   "id": "cbe5f68a",
   "metadata": {},
   "outputs": [],
   "source": [
    "# Setting\n",
    "import numpy as np\n",
    "import pandas as pd\n",
    "from pandas import DataFrame, Series\n",
    "import matplotlib.pyplot as plt\n",
    "import seaborn as sns\n",
    "from sklearn.model_selection import train_test_split\n",
    "from sklearn.naive_bayes import GaussianNB"
   ]
  },
  {
   "cell_type": "code",
   "execution_count": null,
   "id": "9d089854",
   "metadata": {},
   "outputs": [],
   "source": [
    "#------------------------------------------------------\n",
    "#1 데이터 로드\n",
    "path = \"~/NaiveBayes/\"\n",
    "file = pd.read_csv(path + 'train.csv')\n",
    "file.info()\n",
    "file.head()\n",
    "file.isnull().sum()\n",
    "# Age에 177개, Cabin에 687개, Embarked에 2개가 있다.\n",
    "# 데이터프레임 최대로 보기\n",
    "pd.set_option('display.max_columns', 50)"
   ]
  },
  {
   "cell_type": "code",
   "execution_count": null,
   "id": "d64cfba0",
   "metadata": {},
   "outputs": [],
   "source": [
    "#------------------------------------------------------\n",
    "#2 Feature Analysis: 연속형 변수\n",
    "cmap = sns.cubehelix_palette(dark=0.3, light=1, as_cmap=True)\n",
    "graph = sns.heatmap(file[['Survived', 'SibSp', 'Parch', 'Age', 'Fare']].corr(), annot=True, fmt=\"0.2f\", cmap=cmap)\n",
    "graph\n",
    "plt.show()"
   ]
  },
  {
   "cell_type": "code",
   "execution_count": null,
   "id": "3af443f6",
   "metadata": {},
   "outputs": [],
   "source": [
    "# Age에 대해서 탐구해보자.\n",
    "graph = sns.kdeplot(file[\"Age\"][(file[\"Survived\"] == 0) & (file[\"Age\"].notnull())], color=\"Red\", shade=True)\n",
    "graph = sns.kdeplot(file[\"Age\"][(file[\"Survived\"] == 1) & (file[\"Age\"].notnull())], ax=graph, color=\"Blue\", shade=True)\n",
    "graph.set_xlabel(\"Age\")\n",
    "graph.set_ylabel(\"Frequency\")\n",
    "graph = graph.legend([\"Not Survived\",\"Survived\"])\n",
    "graph\n",
    "plt.show()"
   ]
  },
  {
   "cell_type": "code",
   "execution_count": null,
   "id": "b1844ea5",
   "metadata": {},
   "outputs": [],
   "source": [
    "# Fare에 대해 탐구해보자.\n",
    "graph = sns.distplot(file[\"Fare\"], color=\"orange\")\n",
    "graph\n",
    "plt.show()"
   ]
  },
  {
   "cell_type": "code",
   "execution_count": null,
   "id": "40568200",
   "metadata": {},
   "outputs": [],
   "source": [
    "# 너무 치우쳐져 있기 때문에 log변환을 해주는 게 나아보인다.\n",
    "file[\"Fare\"] = file[\"Fare\"].map(lambda i: np.log(i) if i > 0 else 0)"
   ]
  },
  {
   "cell_type": "code",
   "execution_count": null,
   "id": "e24397e2",
   "metadata": {},
   "outputs": [],
   "source": [
    "#------------------------------------------------------\n",
    "#3 Feature Analysis: 범주형 변수\n",
    "# Sex에 대해 탐구해보자.\n",
    "file[[\"Sex\",\"Survived\"]].groupby('Sex').mean()\n",
    "# 분명 여자가 더 많이 살아남았다.\n",
    "# Pclass에 대해 탐구해보자.\n",
    "file[[\"Pclass\",\"Survived\"]].groupby('Pclass').mean()\n",
    "# 분명 1등석 생존 확률이 높아 보인다.\n",
    "# Embarked에 대해 탐구해보자.\n",
    "file[file['Embarked'].isnull()==True]\n",
    "# 어쩌면 Pclass나 Fare, Cabin과 관련이 있을지도 모른다.\n",
    "# 분명 1등석 생존 확률이 높아 보인다.\n",
    "# Embarked에 대해 탐구해보자.\n",
    "file[file['Embarked'].isnull()==True]\n",
    "# 어쩌면 Pclass나 Fare, Cabin과 관련이 있을지도 모른다.\n",
    "file['Fare'].groupby(file['Embarked']).mean()\n",
    "file['Pclass'].groupby(file['Embarked']).describe()\n",
    "# 이 두가지 사실을 조합해보면 1등석을 탔고 $80의 요금을 낸 이 두명은 C선착상에서 탔을 가능성이 높다.\n",
    "# 돈이 많은 사람들이지 않았을까\n",
    "# Embarked NA처리\n",
    "file['Embarked'].fillna('C', inplace = True)\n",
    "graph = sns.catplot(x=\"Embarked\", y=\"Survived\", data=file,\n",
    "height=6, kind=\"bar\", palette=\"coolwarm\")\n",
    "graph = graph.set_ylabels(\"survival probability\")\n",
    "graph\n",
    "plt.show()\n",
    "# 확실히 선착상 C에서 탔다면 생존확률이 높아보인다."
   ]
  },
  {
   "cell_type": "code",
   "execution_count": null,
   "id": "5b04fc4a",
   "metadata": {},
   "outputs": [],
   "source": [
    "#------------------------------------------------------\n",
    "#4 Feature Engineering\n",
    "# Sex\n",
    "file['Sex'] = file['Sex'].map({'male':0, 'female':1})\n",
    "# Embarked\n",
    "file['Embarked'] = file['Embarked'].map({'S':0, 'C':1, 'Q':2})\n",
    "file['Embarked'] = file['Embarked'].astype(int)\n",
    "# file = pd.get_dummies(file, columns=[\"Embarked\"], prefix=\"Embarked\")\n",
    "# Name\n",
    "# 이름에서 Mr, Miss 등 추출\n",
    "file['Title'] = file['Name'].str.extract(' ([A-Za-z]+)\\.', expand = False)\n",
    "file['Title'].value_counts()\n",
    "# NA값을 확인해보자\n",
    "file['Title'].isnull().sum()\n",
    "# 줄여서 매핑해보자.\n",
    "file['Title'] = file['Title'].replace(['Dr', 'Rev', 'Major', 'Col', 'Don', 'Jonkheer', 'Capt', 'Countess', 'Lady', 'Done'], 'etc')\n",
    "title_mapping = {'Mr':0, 'Miss':1, 'Mrs':1, 'Master':2, 'Mlle':1, 'Ms':1, 'Sir':0, 'Mme':1, 'etc':3}\n",
    "file['Title'] = file['Title'].map(title_mapping)\n",
    "file['Title'] = file['Title'].astype(int)"
   ]
  },
  {
   "cell_type": "code",
   "execution_count": null,
   "id": "228a9827",
   "metadata": {},
   "outputs": [],
   "source": [
    "# Age\n",
    "# Pclass, Parch, SibSp가 비슷한 사람들의 Age를 바탕으로 결측값을 추리해보자\n",
    "# Index of NA age rows\n",
    "index = list(file[\"Age\"][file[\"Age\"].isnull()].index)\n",
    "for i in index:\n",
    "age_median = file[\"Age\"].median()\n",
    "age_pred = file[\"Age\"][((file['SibSp']==file.iloc[i][\"SibSp\"]) & (file['Parch']==file.iloc[i][\"Parch\"]) &\n",
    "                       (file['Pclass']==file.iloc[i][\"Pclass\"]))].median()"
   ]
  },
  {
   "cell_type": "code",
   "execution_count": null,
   "id": "1bd00d5c",
   "metadata": {},
   "outputs": [],
   "source": [
    "if not np.isnan(age_pred):\n",
    "file['Age'].iloc[i] = age_pred\n",
    "else:\n",
    "file['Age'].iloc[i] = age_median"
   ]
  },
  {
   "cell_type": "code",
   "execution_count": null,
   "id": "9945b5dc",
   "metadata": {},
   "outputs": [],
   "source": [
    "# SibSp, Parch 합치기\n",
    "file['nb_family'] = file['SibSp'] + file['Parch']\n",
    "# 효과는 어떨까?\n",
    "graph = sns.catplot(x=\"nb_family\", y=\"Survived\", data=file, kind='point')\n",
    "graph = graph.set_ylabels(\"Survival Probability\")\n",
    "graph\n",
    "plt.show()"
   ]
  },
  {
   "cell_type": "code",
   "execution_count": null,
   "id": "6479cd76",
   "metadata": {},
   "outputs": [],
   "source": [
    "# 필요 없는 Id, Name, SibSp, Parch, Ticket 칼럼을 삭제한다.\n",
    "file.drop(['PassengerId', 'Name', 'Ticket', 'SibSp', 'Parch'], axis=1, inplace=True)\n",
    "# Cabin 처리\n",
    "# 먼저 Cabin의 앞 글자만 남겨보자\n",
    "file['Cabin'] = file['Cabin'].str[:1]\n",
    "file[\"Cabin\"] = file[\"Cabin\"].fillna(\"N\")\n",
    "file['Cabin'].value_counts()\n",
    "# 과연 생존확률과 관계가 있을까?\n",
    "graph = sns.catplot(y=\"Survived\", x=\"Cabin\", data=file,kind=\"bar\",order=['A','B','C','D','E','F','G','T','N'], palette='coolwarm')\n",
    "graph = graph.set_ylabels(\"Survival Probability\")\n",
    "graph\n",
    "plt.show()"
   ]
  },
  {
   "cell_type": "code",
   "execution_count": null,
   "id": "1951b5a9",
   "metadata": {},
   "outputs": [],
   "source": [
    "# Cabin 정보가 없었던 사람들의 생존확률은 좀 낮아보이고,\n",
    "# B, D, E 정보를 갖고 있는 사람들의 생존확률이 높아보인다.\n",
    "file['Cabin'] = file['Cabin'].map({'A':0, 'B':0.1, 'C':0.2, 'D':0.3, 'E':0.4, 'F':0.5, 'G':0.6, 'T':0.7, 'N':1.0})\n",
    "\n",
    "\n",
    "# Age Scailing\n",
    "bins = pd.qcut(file['Age'], 6, precision=2, labels=['A1', 'A2', 'A3', 'A4', 'A5', 'A6'])\n",
    "file['binned_Age'] = bins\n",
    "file['binned_Age'] = file['binned_Age'].map({'A1':0.0, 'A2':0.2, 'A3':0.4, 'A4':0.6, 'A5':0.8, 'A6':1.0})\n",
    "file = file.drop('Age', axis=1)\n",
    "\n",
    "# 학습 및 결과 확인\n",
    "y = np.array(file['Survived'])\n",
    "x = file.drop('Survived', axis=1)\n",
    "# random_state 번호를 담은 리스트를 argument에 삽입하면 리스트의 길이 만큼의 횟수로 데이터 셋을 분리하여\n",
    "# Train Score와 Test Score의 평균을 반환하는 함수\n",
    "def calculate_score(state_list):\n",
    "train_scores = []\n",
    "test_scores = []\n",
    "\n",
    "for state in state_list:\n",
    "X_train, X_test, Y_train, Y_test = train_test_split(x, y, test_size=0.1, random_state=state)\n",
    "\n",
    "nb = GaussianNB()\n",
    "nb.fit(X_train, Y_train)\n",
    "\n",
    "train_score = nb.score(X_train, Y_train)\n",
    "test_score = nb.score(X_test, Y_test)\n",
    "train_scores.append(train_score)\n",
    "test_scores.append(test_score)\n",
    "\n",
    "print(\"Mean of train scores: \", np.mean(train_scores))\n",
    "print(\"Mean of test scores: \", np.mean(test_scores))\n",
    "\n",
    "return train_scores, test_scores\n",
    "train_scores, test_scores = calculate_score(state_list=list(range(0,20)))\n",
    "Mean of train scores: 0.7828339575530587\n",
    "Mean of test scores: 0.8016666666666667\n",
    "# 이 random_state 설정과 test_size 설정에 따르면\n",
    "# Test Score의 평균은 약 80.17%이다.\n",
    "# 여러 설정을 비교해서 학습해본 결과 (test_size=0.2, random_state=10개~100개 등)\n",
    "# 나이브 베이즈 단일 모델은 대략 78~79% 정도 되는 성능을 보이는 것으로 확인되었다.\n"
   ]
  },
  {
   "cell_type": "code",
   "execution_count": null,
   "id": "eb1e4203",
   "metadata": {},
   "outputs": [],
   "source": []
  }
 ],
 "metadata": {
  "kernelspec": {
   "display_name": "Python 3 (ipykernel)",
   "language": "python",
   "name": "python3"
  },
  "language_info": {
   "codemirror_mode": {
    "name": "ipython",
    "version": 3
   },
   "file_extension": ".py",
   "mimetype": "text/x-python",
   "name": "python",
   "nbconvert_exporter": "python",
   "pygments_lexer": "ipython3",
   "version": "3.9.13"
  },
  "toc": {
   "base_numbering": 1,
   "nav_menu": {},
   "number_sections": true,
   "sideBar": true,
   "skip_h1_title": false,
   "title_cell": "Table of Contents",
   "title_sidebar": "Contents",
   "toc_cell": false,
   "toc_position": {},
   "toc_section_display": true,
   "toc_window_display": false
  }
 },
 "nbformat": 4,
 "nbformat_minor": 5
}
