{
 "cells": [
  {
   "cell_type": "code",
   "execution_count": null,
   "id": "7de7640d",
   "metadata": {},
   "outputs": [],
   "source": [
    "# Setting\n",
    "import os\n",
    "import numpy as np\n",
    "import pandas as pd\n",
    "import matplotlib.pyplot as plt\n",
    "import seaborn as sns\n",
    "from sklearn.model_selection import train_test_split, GridSearchCV\n",
    "from sklearn.preprocessing import MinMaxScaler\n",
    "from sklearn.svm import SVC"
   ]
  },
  {
   "cell_type": "code",
   "execution_count": null,
   "id": "e5dd6124",
   "metadata": {},
   "outputs": [],
   "source": [
    "# [1st: Ffires 데이터]"
   ]
  },
  {
   "cell_type": "code",
   "execution_count": null,
   "id": "4c443641",
   "metadata": {},
   "outputs": [],
   "source": [
    "#1 데이터 로드\n",
    "path = \"C:/Users/YY/Desktop/TB/Week03/SVM/\"\n",
    "file = pd.read_csv(os.path.join(path, 'Ffires.csv'))\n",
    "file.info()\n",
    "file.head()\n",
    "file.isnull().sum()\n",
    "# DF 잘보기\n",
    "pd.set_option('display.max_columns', 50)"
   ]
  },
  {
   "cell_type": "code",
   "execution_count": null,
   "id": "c4d96fc7",
   "metadata": {},
   "outputs": [],
   "source": [
    "#2 Preprocessing\n",
    "# 타겟 변수인 area의 분포를 보면 왼쪽으로 치우쳐져 있음을 알 수 있다.\n",
    "sns.distplot(file[\"area\"], color=\"darkblue\", kde=True, hist=False)\n",
    "plt.show()"
   ]
  },
  {
   "cell_type": "code",
   "execution_count": null,
   "id": "20b1103c",
   "metadata": {},
   "outputs": [],
   "source": [
    "# EDA를 위해 로그변환을 실행한 arae 변수도 만들어주자.\n",
    "file['log_area'] = file['area'].map(lambda i: np.log(i) if i > 5 else 0)\n",
    "# 5보다 클 경우 1로, 작을 경우 0으로 매핑을 해준다. (가이드라인)\n",
    "file['area'] = file['area'].map(lambda i: 1 if i > 5 else 0)\n",
    "# 커널 서포트벡터 머신은 단위에 영향을 크게 받기 때문에 상당히 조심스러운 전처리가 요구된다.\n",
    "# 연속형 변수의 경우 표준 정규화와 더불어 Min-Max Scailing까지 진행해 준다.\n",
    "def edit_data(file, col_list):\n",
    "\"\"\"\n",
    "Arguments: file -- dataset\n",
    "col_list -- a list containing names of columns; It should be continuous data\n",
    "Return: Scaled file\n",
    "\"\"\"\n",
    "    scaler = MinMaxScaler()\n",
    "\n",
    "    for col in col_list:\n",
    "        file[col] = (file[col] - np.mean(file[col], axis=0)) / np.std(file[col])\n",
    "        output = np.array( scaler.fit_transform(file[col].values.reshape(-1, 1)) )\n",
    "        file[col] = output\n",
    "\n",
    "    return file\n",
    "# 전처리할 열의 이름을 담은 리스트: col_list\n",
    "col_list = ['FFMC', 'DMC', 'DC', 'ISI', 'temp', 'RH', 'wind', 'rain']\n",
    "file = edit_data(file=file, col_list=col_list)\n",
    "# 좌표가 area와 연관이 있을까? 큰 차이를 찾지 못하였다.\n",
    "sns.catplot(x=\"X\", y=\"log_area\", data=file, orient=\"v\", kind=\"violin\")\n",
    "plt.show()"
   ]
  },
  {
   "cell_type": "code",
   "execution_count": null,
   "id": "2c0dd64c",
   "metadata": {},
   "outputs": [],
   "source": [
    "sns.catplot(x=\"Y\", y=\"log_area\", data=file, orient=\"v\", kind=\"violin\")\n",
    "plt.show()"
   ]
  },
  {
   "cell_type": "code",
   "execution_count": null,
   "id": "f8868f7c",
   "metadata": {},
   "outputs": [],
   "source": [
    "# 좌표를 담은 X, Y 칼럼은 Min-Max Scailing만 해준다.\n",
    "scaler = MinMaxScaler()\n",
    "file['X'] = scaler.fit_transform(file['X'].values.astype('float64').reshape(-1, 1))\n",
    "file['Y'] = scaler.fit_transform(file['Y'].values.astype('float64').reshape(-1, 1))\n",
    "# Month 변수가 결과에 영향을 미칠까?: 그렇다!\n",
    "# 특히 12월에 화재가 많이 발생하였음을 알 수 있다.\n",
    "sns.catplot(x=\"month\", y='area', kind=\"bar\", palette=\"ch:.25\", data=file,\n",
    "order=['jan','feb','mar','apr','may','jun','jul','aug','sep','oct','nov','dec'])\n",
    "plt.show()"
   ]
  },
  {
   "cell_type": "code",
   "execution_count": null,
   "id": "c0ba6f40",
   "metadata": {},
   "outputs": [],
   "source": [
    "# Day 변수가 결과에 영향을 미칠까?: 그렇다!\n",
    "sns.catplot(x=\"day\", y='area', kind=\"bar\", palette=\"ch:.25\", data=file,\n",
    "order=['mon', 'tue', 'wed', 'thu', 'fri', 'sat', 'sun'])\n",
    "plt.show()"
   ]
  },
  {
   "cell_type": "code",
   "execution_count": null,
   "id": "aaad5a4e",
   "metadata": {},
   "outputs": [],
   "source": [
    "# 범주형 변수는 변환을 해주도록 한다. (month, day)\n",
    "month_mapping = {'jan':0, 'feb':1/11, 'mar':2/11, 'apr':3/11, 'may':4/11, 'jun':5/11,\n",
    "'jul':6/11, 'aug':7/11, 'sep':8/11, 'oct':9/11, 'nov':10/11, 'dec':1}\n",
    "day_mapping = {'mon':0, 'tue':1/6, 'wed':2/6, 'thu':3/6, 'fri':4/6, 'sat':5/6, 'sun':1}\n",
    "file['month'] = file['month'].map(month_mapping)\n",
    "file['day'] = file['day'].map(day_mapping)\n",
    "\n",
    "\n",
    "# 전처리가 끝난 데이터를 확인해보자.\n",
    "file.head()\n",
    "# X Y month day FFMC DMC DC ISI temp\n",
    "# 7 5 0.181818 0.666667 0.870968 0.086492 0.101325 0.090909 0.192926\n",
    "# 7 4 0.818182 0.166667 0.927742 0.118194 0.775419 0.119430 0.508039\n",
    "# 7 4 0.818182 0.833333 0.927742 0.146795 0.796294 0.119430 0.398714\n",
    "# 8 6 0.181818 0.666667 0.941935 0.110958 0.081623 0.160428 0.196141\n",
    "# 8 6 0.181818 1.000000 0.910968 0.172984 0.110590 0.171123 0.295820\n",
    "# RH wind rain area log_area\n",
    "# 0.423529 0.700000 0.00000 0 0.0\n",
    "# 0.211765 0.055556 0.00000 0 0.0\n",
    "# 0.211765 0.100000 0.00000 0 0.0\n",
    "# 0.964706 0.400000 0.03125 0 0.0\n",
    "# 0.988235 0.155556 0.00000 0 0.0"
   ]
  },
  {
   "cell_type": "code",
   "execution_count": null,
   "id": "7660e989",
   "metadata": {},
   "outputs": [],
   "source": [
    "#3 모델링\n",
    "# 아래 SN_데이터에서는 커널을 여러 개 사용하여 비교하는 작업을 하였다.\n",
    "# 왜냐하면 데이터의 수도 더 적고 고려해야할 변수의 수 또한 더 적었기 때문이다.\n",
    "# 본 데이터에서는 Gaussian 커널에 초점을 두고 튜닝을 하도록 하겠다.\n",
    "X = file.drop(['area', 'log_area'], axis=1).values\n",
    "Y = file['area'].values\n",
    "X_train, X_test, Y_train, Y_test = train_test_split(X, Y, test_size=0.2, random_state=100)\n",
    "\n",
    "\n",
    "print(\"Length of X_train: \", len(X_train)) # 413\n",
    "print(\"Length of X_test: \", len(X_test)) # 104\n",
    "param_grid = {'C':[0.001, 0.01, 0.1, 1, 10, 100, 1000], 'gamma':[0.001, 0.01, 0.1, 1, 10, 100, 1000]}\n",
    "svm = SVC(kernel='rbf')\n",
    "grid = GridSearchCV(estimator=svm, param_grid=param_grid, cv=10, scoring='accuracy')\n",
    "grid.fit(X_train, Y_train)\n",
    "grid.best_params_\n",
    "grid.score(X_train, Y_train)\n",
    "grid.score(X_test, Y_test)"
   ]
  },
  {
   "cell_type": "code",
   "execution_count": null,
   "id": "ef238fed",
   "metadata": {},
   "outputs": [],
   "source": [
    "#3 결과는 아래와 같다.\n",
    "# Best Parameters {'C': 10, 'gamma': 0.1}\n",
    "# Train Accuracy 73.37%\n",
    "# Test Accuracy 72.12%"
   ]
  },
  {
   "cell_type": "code",
   "execution_count": null,
   "id": "9038e8ae",
   "metadata": {},
   "outputs": [],
   "source": [
    "# [2nd: SN_ad 데이터]\n",
    "#1 데이터 로드: 타겟 변수는 Purchased로 설정\n",
    "path = \"C:/Users/YY/Desktop/TB/Week03/SVM/\"\n",
    "sn = pd.read_csv(os.path.join(path, 'SN_ad.csv'))\n",
    "sn.info()\n",
    "sn.head()\n",
    "sn.isnull().sum()\n",
    "\n",
    "\n",
    "#2 Preprocessing\n",
    "# ID 변수 삭제\n",
    "sn.drop('User ID', axis=1, inplace=True)\n",
    "# Gender 변수 매핑\n",
    "sn['Gender'] = sn['Gender'].map({'Male':0, 'Female':1})\n",
    "# 커널 서포트벡터 머신은 단위에 영향을 크게 받기 때문에 상당히 조심스러운 전처리가 요구된다.\n",
    "# Age와 Esimated Salary는 표준 정규화와 더불어 Min-Max Scailing까지 진행해 준다.\n",
    "# 이름이 너무 길어서 ES로 바꿔주겠다.\n",
    "sn = sn.rename(columns={\"EstimatedSalary\":\"ES\"}, inplace=False)\n",
    "\n",
    "def edit_data(sn):\n",
    "\"\"\"\n",
    "Arguments: sn -- dataset / Age, ES -- name of columns\n",
    "Return: Scaled Data\n",
    "\"\"\"\n",
    "    # Normalizing\n",
    "    sn['Age'] = (sn['Age'] - np.mean(sn['Age'], axis=0)) / np.std(sn['Age'])\n",
    "    sn['ES'] = (sn['ES'] - np.mean(sn['ES'], axis=0)) / np.std(sn['ES'])\n",
    "\n",
    "    # MinMaxScaling\n",
    "    scaler = MinMaxScaler()\n",
    "    Age = np.array( scaler.fit_transform(sn['Age'].values.reshape(-1, 1)) )\n",
    "    ES = np.array( scaler.fit_transform(sn['ES'].values.reshape(-1, 1)) )\n",
    "    return Age, ES\n",
    "\n",
    "Age, ES = edit_data(sn)"
   ]
  },
  {
   "cell_type": "code",
   "execution_count": null,
   "id": "4479aa44",
   "metadata": {},
   "outputs": [],
   "source": [
    "# 데이터프레임을 업데이트 해주자.\n",
    "sn['Age'] = Age\n",
    "sn['ES'] = ES"
   ]
  },
  {
   "cell_type": "code",
   "execution_count": null,
   "id": "d24af300",
   "metadata": {},
   "outputs": [],
   "source": [
    "# 한 번 확인해보자.\n",
    "sn.head(5)\n",
    "# Gender Age ES Purchased\n",
    "# 0 0 0.023810 0.029630 0\n",
    "# 1 0 0.404762 0.037037 0\n",
    "# 2 1 0.190476 0.207407 0\n",
    "# 3 1 0.214286 0.311111 0\n",
    "# 4 0 0.023810 0.451852 0"
   ]
  },
  {
   "cell_type": "code",
   "execution_count": null,
   "id": "99d30f9e",
   "metadata": {},
   "outputs": [],
   "source": [
    "# 아마 Age와 ES는 서로 연관이 있지 않을까?\n",
    "cmap = sns.cubehelix_palette(n_colors=3, start=0, rot=0.2, light=0.9, dark=0.2, as_cmap=True)\n",
    "sns.heatmap(sn[['Age', 'ES']].corr(), annot=True, fmt=\"0.2f\", cmap=cmap)\n",
    "plt.show()\n",
    "# 생각보다 큰 관련이 없다. (0.16)"
   ]
  },
  {
   "cell_type": "code",
   "execution_count": null,
   "id": "48f85f11",
   "metadata": {},
   "outputs": [],
   "source": [
    "# 실제로 각 변수가 구매 여부에 미치는 영향을 그래프로 확인해 보자.\n",
    "# Gender: Female(1)의 구매비율이 더 높다.\n",
    "sns.countplot(x='Purchased', hue='Gender', data=sn, palette=sns.color_palette(\"Paired\", 2))\n",
    "plt.show()"
   ]
  },
  {
   "cell_type": "code",
   "execution_count": null,
   "id": "f8ac1789",
   "metadata": {},
   "outputs": [],
   "source": [
    "# Age\n",
    "sns.distplot(sn[('Age')], hist=True, bins=10, kde=True, rug=True)\n",
    "plt.show() # 정규분포와 유사하다."
   ]
  },
  {
   "cell_type": "code",
   "execution_count": null,
   "id": "7e9cf7d1",
   "metadata": {},
   "outputs": [],
   "source": [
    "sns.catplot(x=\"Purchased\", y=\"Age\", kind=\"boxen\", data=sn)\n",
    "plt.show() # 나이 든 사람들이 더 많이 구매를 했다.\n"
   ]
  },
  {
   "cell_type": "code",
   "execution_count": null,
   "id": "bb1321e9",
   "metadata": {},
   "outputs": [],
   "source": [
    "# ES\n",
    "sns.distplot(sn[('ES')], hist=True, bins=20, kde=True, rug=True)\n",
    "plt.show() # 저_중소득층의 비율이 더 높다.\n"
   ]
  },
  {
   "cell_type": "code",
   "execution_count": null,
   "id": "aebc7bf8",
   "metadata": {},
   "outputs": [],
   "source": [
    "sns.catplot(x=\"Purchased\", y=\"ES\", kind=\"boxen\", data=sn)\n",
    "plt.show() # 당연히 돈 많은 사람들이 소비도 더 많이 할 것이다.\n"
   ]
  },
  {
   "cell_type": "code",
   "execution_count": null,
   "id": "b0c2b702",
   "metadata": {},
   "outputs": [],
   "source": [
    "# 마지막으로 학습을 위한 데이터를 구성한다.\n",
    "X = sn[['Gender', 'Age', 'ES']].values\n",
    "Y = sn['Purchased'].values\n",
    "X_train, X_test, Y_train, Y_test = train_test_split(X, Y, test_size=0.2, random_state=0, stratify=Y)\n",
    "print(\"Length of X_train: \", len(X_train)) # 320\n",
    "print(\"Length of X_test: \", len(X_test)) # 80"
   ]
  },
  {
   "cell_type": "code",
   "execution_count": null,
   "id": "ceb39668",
   "metadata": {},
   "outputs": [],
   "source": [
    "#3 모델링\n",
    "# 커널의 비교를 위해 random_state를 고정하도록 하겠다.\n",
    "# 미리 Scailing을 실행했기 때문에 scaler는 불러올 필요가 없다.\n",
    "# Purchased label의 수를 보면 0: 257개, 1:143개로 크게 unbalanced하지 않다.\n",
    "# 따라서 정확도는 accuracy로 판정하도록 할 것이다.\n",
    "\n",
    "sn['Purchased'].value_counts()\n",
    "# 0 257\n",
    "# 1 143\n",
    "# Name: Purchased, dtype: int64"
   ]
  },
  {
   "cell_type": "code",
   "execution_count": null,
   "id": "5a00516a",
   "metadata": {},
   "outputs": [],
   "source": [
    "# 커널 비교 시 학습량이 많으므로 간단하게만 비교를 하도록 할 것이다.\n",
    "# Poly 커널은 속도가 너무 느려 제외하였다.\n",
    "# Linear 커널\n",
    "param_grid = {'C':[0.01, 0.1, 1, 10, 100], 'gamma':[0.01, 0.1, 1, 10, 100]}\n",
    "svm = SVC(kernel='linear', random_state=0)\n",
    "grid1 = GridSearchCV(estimator=svm, param_grid=param_grid, cv=3, scoring='accuracy')\n",
    "grid1.fit(X_train, Y_train)\n",
    "# Gaussian 커널\n",
    "param_grid = {'C':[0.01, 0.1, 1, 10, 100], 'gamma':[0.01, 0.1, 1, 10, 100]}\n",
    "svm = SVC(kernel='rbf', random_state=0)\n",
    "grid2 = GridSearchCV(estimator=svm, param_grid=param_grid, cv=3, scoring='accuracy')\n",
    "grid2.fit(X_train, Y_train)\n",
    "# Sigmoid 커널\n",
    "param_grid = {'C':[0.01, 0.1, 1, 10, 100], 'gamma':[0.01, 0.1, 1, 10, 100]}\n",
    "svm = SVC(kernel='sigmoid', random_state=0)\n",
    "grid3 = GridSearchCV(estimator=svm, param_grid=param_grid, cv=3, scoring='accuracy')\n",
    "grid3.fit(X_train, Y_train)\n",
    "# 최종 결과를 표로 정리하면 아래와 같다.\n",
    "# Gaussian Kernel의 성능이 가장 좋다."
   ]
  },
  {
   "cell_type": "code",
   "execution_count": null,
   "id": "c121be91",
   "metadata": {},
   "outputs": [],
   "source": []
  },
  {
   "cell_type": "code",
   "execution_count": null,
   "id": "d1339ef9",
   "metadata": {},
   "outputs": [],
   "source": []
  },
  {
   "cell_type": "code",
   "execution_count": null,
   "id": "7fb34c5b",
   "metadata": {},
   "outputs": [],
   "source": []
  }
 ],
 "metadata": {
  "kernelspec": {
   "display_name": "Python 3 (ipykernel)",
   "language": "python",
   "name": "python3"
  },
  "language_info": {
   "codemirror_mode": {
    "name": "ipython",
    "version": 3
   },
   "file_extension": ".py",
   "mimetype": "text/x-python",
   "name": "python",
   "nbconvert_exporter": "python",
   "pygments_lexer": "ipython3",
   "version": "3.9.13"
  },
  "toc": {
   "base_numbering": 1,
   "nav_menu": {},
   "number_sections": true,
   "sideBar": true,
   "skip_h1_title": false,
   "title_cell": "Table of Contents",
   "title_sidebar": "Contents",
   "toc_cell": false,
   "toc_position": {},
   "toc_section_display": true,
   "toc_window_display": false
  }
 },
 "nbformat": 4,
 "nbformat_minor": 5
}
