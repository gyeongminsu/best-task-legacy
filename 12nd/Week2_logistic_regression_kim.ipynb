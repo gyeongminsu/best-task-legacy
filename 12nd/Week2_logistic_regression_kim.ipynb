{
 "cells": [
  {
   "cell_type": "markdown",
   "id": "3406d9b1",
   "metadata": {},
   "source": [
    "## 1번"
   ]
  },
  {
   "cell_type": "code",
   "execution_count": null,
   "id": "e5c5947f",
   "metadata": {},
   "outputs": [],
   "source": [
    "import matplotlib.pyplot as plt\n",
    "import numpy as np\n",
    "import math"
   ]
  },
  {
   "cell_type": "code",
   "execution_count": null,
   "id": "c08bd554",
   "metadata": {},
   "outputs": [],
   "source": [
    "# Sigmoid function, Logistic Function 구현\n",
    "\n",
    "def sigmoid(x):\n",
    "    a = []\n",
    "    for item in x:\n",
    "        a.append(1 / (1+math.exp(-item)))                       \n",
    "    return a\n",
    "x = np.arange(-10., 10., 0.2)\n",
    "print(x)\n",
    "sig = sigmoid(x)\n",
    "plt.plot(x, sig)\n",
    "plt.show()"
   ]
  },
  {
   "cell_type": "code",
   "execution_count": null,
   "id": "e7db1f15",
   "metadata": {},
   "outputs": [],
   "source": [
    "#Odds 구현\n",
    " \n",
    "p = np.arange(0., 1., 0.01)\n",
    "odds = p/(1-p)\n",
    "plt.plot(p, odds)\n",
    "plt.show()"
   ]
  },
  {
   "cell_type": "code",
   "execution_count": null,
   "id": "da25ebac",
   "metadata": {},
   "outputs": [],
   "source": [
    "# P값이 1에 가까워 질수록 Odds 값이 무한대로 증가하는 것을 알 수 있다.\n",
    "# 반대로 P값이 0에 가까워질수록 Odds값은 0에 가까워진다.\n",
    " \n",
    "def log_odds(p):\n",
    "    return np.log(p/(1 - p))\n",
    " \n",
    "x = np.arange(0.005, 1, 0.005)\n",
    "log_odds_x = log_odds(x)\n",
    "plt.plot(x, log_odds_x)\n",
    "plt.ylim(-8, 8)\n",
    "plt.xlabel('x')\n",
    "plt.ylabel('log_odds(x)')"
   ]
  },
  {
   "cell_type": "code",
   "execution_count": null,
   "id": "52774542",
   "metadata": {},
   "outputs": [],
   "source": [
    "# y axis ticks and gridline\n",
    "plt.yticks([-7, 0, 7])\n",
    "ax = plt.gca()\n",
    "ax.yaxis.grid(True)\n",
    " \n",
    "plt.tight_layout()\n",
    "plt.show()"
   ]
  },
  {
   "cell_type": "code",
   "execution_count": null,
   "id": "7738c73b",
   "metadata": {},
   "outputs": [],
   "source": [
    "# Q1. 위의 그래프를 어떻게 해석하면 좋을까?\n",
    "# P값이 1에 가까워 질수록 ...\n",
    "# P값이 0에 가까워 질수록 ...\n",
    " \n",
    "# x = np.arange(0.005, 1, 0.005)\n",
    "# y = -np.log(1-x)\n",
    "# plt.plot(x,y)\n",
    "# plt.show()\n",
    "## p가 1 , 0에 갈수록 해석\n",
    " \n",
    "## 2-2-1-1번 과제 : P의 값의 변화량에 따른 Odds의 변화량을 설명 ##\n",
    " \n",
    "x = np.arange(0.005, 1, 0.005) # 로지스틱 회기가 단일 변수 단순모델에 대하여 이루어졌다고 생각하고 설명변수 즉 독립변수 x가 하나로 0.005에서 1까지 0.005의 간격으로 값을 가졌다고 생각하자\n",
    " \n",
    "logistic_x = sigmoid(x) # 여기서 beta_0와 beta_1은 gradient decent algorithm으로 보통 구해내야 하나 beta_0=0 beta_1=1이라고 가정하여 위의 정의했더 sigmoid함수를 사용하면 각 설명변수 x에 대한 확률p가 계산된다.\n",
    "p = np.array(logistic_x)\n",
    " \n",
    "Odds_p = p/(1-p) # Odds(승산)은 로지스틱회기로 구한 확률을 여사건에 해당하는 확률로 나눈 값이 되므로 이와 같이 계산된다.\n",
    " \n",
    "plt.plot(p,Odds_p) # 이를 matplotlib를 이용하여 그래프로 나타내게 되면 classification과 같은 문제에 적용되는 로지스틱회기를 통해 구해본 확률의 분포에 따른 Odds의 값의 변화를 볼 수 있다\n",
    "plt.show()         # 이떄 p의 범위는 0에서 1까지 가지게되고 이로 인해 Odds의 범위는 p가 0일때는 0, p가 1로 근사될때는 무한히 발산하는 것을 볼 수 있다."
   ]
  },
  {
   "cell_type": "code",
   "execution_count": null,
   "id": "455b5a8a",
   "metadata": {},
   "outputs": [],
   "source": [
    "# Q2. Logit 값에 역산을 취해주면 어떻게 될까?\n",
    " \n",
    "## 2-2-1-2번 과제 : 입력 값이 주어졌을 때, 로지스틱 함수를 통해 classification하는 방법에 대해 설명해 주세요 ##(개념)\n",
    " \n",
    "# 위에서 구해보았던 것 처럼 Odds를 구한후 이를 logit-transform을 해보면 logit값이 계산되는데 이는 선형회기와 똑같은 꼴의 독립변수들의 1차 선형결합으로 표현된다.\n",
    "# 그러나 선형회기처럼 logit에서 해당 계수인 beta들을 구하는 것이 아니고 로지스틱 회기에서는 cross entropy에서 유도된 likelihood function(우도함수)를 통해 비선형방정식을 만들고 이를 수치해석, 그 중 gradient decent algorithm을 통해 최대값을 계산한다.\n",
    "# 이때 likelihood에 log를 취하여 증가함수로 만들고, 1차 선형결합과 로그함수는 둘다 convex 성질을 지니므로 수치해석으로 구한 critical 값이 global maximum이 되도록 한다.\n",
    "# 이를 통해 해당 계수 beta들을 구해내고 이를 통해 확률p를 구하여 독립변수에 대해 plot하여 보면, 독립변수가 1개인 경우 s자 모양의 그래프를 띄는 것을 볼 수 있다.\n",
    "# 이제 이를 기준으로 기준값(threshold)를 주어 해당값보다 크면 1, 작으면 0이라 하여 classification문제를 확률로서 해결할 수 있게 된다.\n",
    "# 이때 이렇게 기준값으로 구분하여 0,1을 주는 것을 cut-off한다고도 얘기한다."
   ]
  },
  {
   "cell_type": "markdown",
   "id": "205ecf8b",
   "metadata": {},
   "source": [
    "## 2번"
   ]
  },
  {
   "cell_type": "code",
   "execution_count": null,
   "id": "9988a841",
   "metadata": {},
   "outputs": [],
   "source": [
    "import numpy as np # linear algebra\n",
    "import pandas as pd # data processing, CSV file I/O (e.g. pd.read_csv)\n",
    "import os"
   ]
  },
  {
   "cell_type": "code",
   "execution_count": null,
   "id": "bfe260b6",
   "metadata": {},
   "outputs": [],
   "source": [
    "print(os.listdir(\"./EDA_MoneyBall/\"))\n",
    "print(os.listdir(\"./\"))"
   ]
  },
  {
   "cell_type": "code",
   "execution_count": null,
   "id": "1648b16a",
   "metadata": {},
   "outputs": [],
   "source": [
    "from sklearn.linear_model import LogisticRegression # sklearn을 사용하여 Logistic 회귀분석을 할 경우 필요\n",
    "import matplotlib.pyplot as plt # 시각화를 위한 library\n",
    "import warnings\n",
    "warnings.filterwarnings('ignore')"
   ]
  },
  {
   "cell_type": "code",
   "execution_count": null,
   "id": "d18cbb53",
   "metadata": {},
   "outputs": [],
   "source": [
    "data = pd.read_csv(\"./EDA_MoneyBall/baseball.csv\")\n",
    "data.head()"
   ]
  },
  {
   "cell_type": "code",
   "execution_count": null,
   "id": "1e34e316",
   "metadata": {},
   "outputs": [],
   "source": [
    "# 어떤 Feature가 있을까?\n",
    "data.columns\n",
    "Index(['Team', 'League', 'Year', 'RS', 'RA', 'W', 'OBP', 'SLG', 'BA',\n",
    "       'Playoffs', 'RankSeason', 'RankPlayoffs', 'G', 'OOBP', 'OSLG'],\n",
    "      dtype='object')"
   ]
  },
  {
   "cell_type": "code",
   "execution_count": null,
   "id": "364767c5",
   "metadata": {},
   "outputs": [],
   "source": [
    "# Feature는 몇 개일까?\n",
    "len(data.columns)"
   ]
  },
  {
   "cell_type": "code",
   "execution_count": null,
   "id": "edc247a6",
   "metadata": {},
   "outputs": [],
   "source": [
    "import matplotlib\n",
    "import matplotlib.pyplot as plt\n",
    "import seaborn as sns"
   ]
  },
  {
   "cell_type": "code",
   "execution_count": null,
   "id": "32a29e83",
   "metadata": {},
   "outputs": [],
   "source": [
    "# 각종 시각화 패키지 불러오기\n",
    "# for using Korean font\n",
    "matplotlib.rc('font', family='NanumBarunGothic')\n",
    "plt.rcParams['axes.unicode_minus'] = False\n",
    "display(data.info())"
   ]
  },
  {
   "cell_type": "code",
   "execution_count": null,
   "id": "ff159ab6",
   "metadata": {},
   "outputs": [],
   "source": [
    "# 1232개의 entries, 15개의 column\n",
    "# null 값이 있는지 isnull.sum()으로 확인을 해보자.\n",
    "data.isnull().sum()"
   ]
  },
  {
   "cell_type": "code",
   "execution_count": null,
   "id": "39a708ba",
   "metadata": {},
   "outputs": [],
   "source": [
    "display(data.describe())"
   ]
  },
  {
   "cell_type": "code",
   "execution_count": null,
   "id": "95afee23",
   "metadata": {},
   "outputs": [],
   "source": [
    "data.info()"
   ]
  },
  {
   "cell_type": "code",
   "execution_count": null,
   "id": "9c37ec98",
   "metadata": {},
   "outputs": [],
   "source": [
    "# categorical variable\n",
    "categorical_col = list(data.select_dtypes(include='object').columns)\n",
    "categorical_col"
   ]
  },
  {
   "cell_type": "code",
   "execution_count": null,
   "id": "2bdec021",
   "metadata": {},
   "outputs": [],
   "source": [
    "# numerical variable\n",
    "numerical_col =  list(data.select_dtypes(include=('int64', 'float64')).columns)\n",
    "numerical_col"
   ]
  },
  {
   "cell_type": "code",
   "execution_count": null,
   "id": "cb21e7a4",
   "metadata": {},
   "outputs": [],
   "source": [
    "len(numerical_col)"
   ]
  },
  {
   "cell_type": "code",
   "execution_count": null,
   "id": "327d8e86",
   "metadata": {},
   "outputs": [],
   "source": [
    "# for categorical_col\n",
    "\n",
    "for col in categorical_col:\n",
    "    print(col + ': ', len(set(data[str(col)])))"
   ]
  },
  {
   "cell_type": "code",
   "execution_count": null,
   "id": "035e865e",
   "metadata": {},
   "outputs": [],
   "source": [
    "# for numerical_col\n",
    "\n",
    "for col in numerical_col:\n",
    "    print(col + ': ', len(set(data[str(col)])))"
   ]
  },
  {
   "cell_type": "code",
   "execution_count": null,
   "id": "4d01e7d7",
   "metadata": {},
   "outputs": [],
   "source": [
    "# 지난 수십년은 46년이었다.\n",
    "# Playoffs가 2인 것으로 보아 categorical 변수로 바꿔줘도 무관할 것 같다.\n",
    "# Q. G(Games Played)는 어떤 값을 가지고 있을까?\n",
    "data.G.head()"
   ]
  },
  {
   "cell_type": "code",
   "execution_count": null,
   "id": "ab0ee9a7",
   "metadata": {},
   "outputs": [],
   "source": [
    "# Game 수이다. 한 시즌에 치뤄진 경기수를 나타낸다.\n",
    "data.G.mean()"
   ]
  },
  {
   "cell_type": "code",
   "execution_count": null,
   "id": "c2128da7",
   "metadata": {},
   "outputs": [],
   "source": [
    "data.head()"
   ]
  },
  {
   "cell_type": "code",
   "execution_count": null,
   "id": "ebe67d90",
   "metadata": {},
   "outputs": [],
   "source": [
    "del data['W']\n",
    "data.head()"
   ]
  },
  {
   "cell_type": "code",
   "execution_count": null,
   "id": "881e07ad",
   "metadata": {},
   "outputs": [],
   "source": [
    "set(data.League)"
   ]
  },
  {
   "cell_type": "code",
   "execution_count": null,
   "id": "6873315a",
   "metadata": {},
   "outputs": [],
   "source": [
    "data.League.replace({'AL':0, 'NL':1}, inplace=True)\n",
    "data.League.head()"
   ]
  },
  {
   "cell_type": "code",
   "execution_count": null,
   "id": "95e15edf",
   "metadata": {},
   "outputs": [],
   "source": [
    "data.head()"
   ]
  },
  {
   "cell_type": "code",
   "execution_count": null,
   "id": "08a4c4f1",
   "metadata": {},
   "outputs": [],
   "source": [
    "del data['Team']\n",
    "data.head()"
   ]
  },
  {
   "cell_type": "code",
   "execution_count": null,
   "id": "ca585534",
   "metadata": {},
   "outputs": [],
   "source": [
    "data.isnull().sum()"
   ]
  },
  {
   "cell_type": "code",
   "execution_count": null,
   "id": "dfe419e6",
   "metadata": {},
   "outputs": [],
   "source": [
    "# RankSeason, RankPlayoffs, OOBP, OSLG 변수에 Null 값이 있습니다.\n",
    "# 우리는 위의 변수들에 NaN값을 처리해줄 것입니다.\n",
    "data.RankSeason.head()"
   ]
  },
  {
   "cell_type": "code",
   "execution_count": null,
   "id": "ccabab87",
   "metadata": {},
   "outputs": [],
   "source": [
    "data.RankPlayoffs.head()"
   ]
  },
  {
   "cell_type": "code",
   "execution_count": null,
   "id": "344a2813",
   "metadata": {},
   "outputs": [],
   "source": [
    "# OOBP는 Opponent On-Base Percentage. \n",
    "# OSLG는 Opponent Slugging Percentage.\n",
    "\n",
    "data.describe()"
   ]
  },
  {
   "cell_type": "code",
   "execution_count": null,
   "id": "a34f6a2e",
   "metadata": {},
   "outputs": [],
   "source": [
    "from sklearn.impute import SimpleImputer\n",
    "\n",
    "imputer = SimpleImputer(missing_values=np.nan, strategy='mean', fill_value=0)\n",
    "imputer = imputer.fit(data[['OOBP', 'OSLG']])\n",
    "\n",
    "data[['OOBP', 'OSLG']] = imputer.transform(data[['OOBP', 'OSLG']])\n",
    "data.OOBP.isnull().sum()"
   ]
  },
  {
   "cell_type": "code",
   "execution_count": null,
   "id": "25eaf3f8",
   "metadata": {},
   "outputs": [],
   "source": [
    "data.OSLG.isnull().sum()"
   ]
  },
  {
   "cell_type": "code",
   "execution_count": null,
   "id": "4f0e9c9a",
   "metadata": {},
   "outputs": [],
   "source": [
    "data.RankPlayoffs.isnull().sum()"
   ]
  },
  {
   "cell_type": "code",
   "execution_count": null,
   "id": "3f5815fd",
   "metadata": {},
   "outputs": [],
   "source": [
    "data.RankSeason.isnull().sum()"
   ]
  },
  {
   "cell_type": "code",
   "execution_count": null,
   "id": "e8ebd618",
   "metadata": {},
   "outputs": [],
   "source": [
    "del data['RankPlayoffs']\n",
    "del data['RankSeason']\n",
    "data.head()"
   ]
  },
  {
   "cell_type": "code",
   "execution_count": null,
   "id": "14f84dac",
   "metadata": {},
   "outputs": [],
   "source": [
    "del data['Year']\n",
    "data.head()"
   ]
  },
  {
   "cell_type": "code",
   "execution_count": null,
   "id": "6156765d",
   "metadata": {},
   "outputs": [],
   "source": [
    "print(data.columns)\n",
    "data.head()\n",
    "X = data\n",
    "X.head()"
   ]
  },
  {
   "cell_type": "code",
   "execution_count": null,
   "id": "88606b6b",
   "metadata": {},
   "outputs": [],
   "source": [
    "del X['G'] \n",
    "X.head()"
   ]
  },
  {
   "cell_type": "code",
   "execution_count": null,
   "id": "508a55d5",
   "metadata": {},
   "outputs": [],
   "source": [
    "y = np.array(X['Playoffs'])\n",
    "print(y)\n",
    "print(type(y))\n",
    "del X['Playoffs']"
   ]
  },
  {
   "cell_type": "code",
   "execution_count": null,
   "id": "f2f1059d",
   "metadata": {},
   "outputs": [],
   "source": [
    "X.head()"
   ]
  },
  {
   "cell_type": "code",
   "execution_count": null,
   "id": "aa1fdc31",
   "metadata": {},
   "outputs": [],
   "source": [
    "from sklearn.model_selection import train_test_split\n",
    "X_train, X_test, y_train, y_test = train_test_split(X, y, test_size = 0.2, random_state = 0)"
   ]
  },
  {
   "cell_type": "code",
   "execution_count": null,
   "id": "849113d2",
   "metadata": {},
   "outputs": [],
   "source": [
    "## 2-2-2-1번 과제 : train_test_split() 함수에 들어가는 각각의 인자 값은 무엇을 의미하는가? ##\n",
    "\n",
    "# array - training data와 test data로 구분할 data_set을 np.array의 형태로 집어넣는 인자를 의미한다. 즉 분할할 총 data set이된다.\n",
    "#         이때 label이 없는 경우 1개의 array만 인자로 주면되고 label이 있는경우 설명변수, label순으로 인자를 넣어준다.\n",
    "# test_size - 전체 data set중 해당비율의 data를 test용으로 사용한다는 의미의 인자이다. 일반적으로 30% 즉 0.3으로 설정하나 여기서는 주어진 data중 20%에 해당하는 data들을 훈련시킨 모델의 test용으로 사용하는 것을 알 수 있다.\n",
    "# random_state - data를 train용과 test용으로 구분시 data를 shuffle하여 섞은 후 구분이 이루어지게 된다. 이때 random하게 shuffle하기 위해 필요한 seed값을 입력하여주는 인자이다. 여기서는 0으로 seed를 준 것을 볼 수 있다."
   ]
  },
  {
   "cell_type": "code",
   "execution_count": null,
   "id": "f43a4f12",
   "metadata": {},
   "outputs": [],
   "source": [
    "# Feature Scaling\n",
    "\n",
    "from sklearn.preprocessing import StandardScaler\n",
    "sc_X = StandardScaler()\n",
    "X_train = sc_X.fit_transform(X_train)\n",
    "X_test = sc_X.transform(X_test)\n",
    "warnings.filterwarnings(action='once')"
   ]
  },
  {
   "cell_type": "code",
   "execution_count": null,
   "id": "d5f6697e",
   "metadata": {},
   "outputs": [],
   "source": [
    "## 2-2-2-2번 과제 : Scaling을 통해 우리가 하고자 하는 것은 무엇인가요? ##\n",
    "\n",
    "# data preprocessing을 하다보면 data간의 unit 즉 단위가 달라서 특정값의 영향력이 커지는 경우가 생긴다.\n",
    "# 예를 들어 사람의 키가 170cm, 몸무게 60kg이라 하였을때 몸무게의 unit이 g이 되면 170, 60000으로 몸무게의 data값이 더 커져 원하는 결과를 얻지 못하는 경우가 생긴다.\n",
    "# 이를 방지하기 위하여 data의 값을 조절하는데 이를 scaling이라 말한다.\n",
    "# sklearn.preprocessing에는 대표적으로 StandardScaler, RobustScaler, MinMaxScaler, Normalizer의 메서드를 이용하여 scaling할 수 있도록 제공하고있다.\n",
    "# - StandardScaler : data를 column마다 mean을 0, variance가 1이되도록 표준정규분포로 변환해주는 메서드이다.\n",
    "# - RobustScaler : 중앙값(median)이 0, IQR(interquartile range)(사분범위)이 1이 되도록 변환해주는 메서드이다.\n",
    "# - MinMaxScaler : 최댓값이 1, 최솟값이 0이 되도록 변환해주는 메서드이다.\n",
    "# - Normalizer : data를 normalize(정규화)하여 변환해주는 메서드이다.\n",
    "# 여기서는 StandardScaler를 이용하여 각 data를 종류별로 표준 정규분포로 변환하여 scaling한 것을 알 수 있다."
   ]
  },
  {
   "cell_type": "code",
   "execution_count": null,
   "id": "97136e08",
   "metadata": {},
   "outputs": [],
   "source": [
    "## 2-2-2-3번 과제 : LogisticRegression() 모델을 만들어주세요. 그리고 만든 모델 인자값에 들어가는 값들의 의미를 설명해주세요 ##\n",
    "\n",
    "from sklearn.preprocessing import StandardScaler\n",
    "from sklearn.linear_model import LogisticRegression\n",
    "from sklearn.model_selection import train_test_split"
   ]
  },
  {
   "cell_type": "code",
   "execution_count": null,
   "id": "fdc82103",
   "metadata": {},
   "outputs": [],
   "source": [
    "# LogisticRegression Library를 활용해서 모델을 만들어주세요\n",
    "\n",
    "model = LogisticRegression(penalty='l2', dual=False, tol=0.0001, C=1.0, fit_intercept=True, intercept_scaling=1, class_weight=None, solver='liblinear', max_iter=100, multi_class='ovr', verbose=0, warm_start=False, n_jobs=1)"
   ]
  },
  {
   "cell_type": "code",
   "execution_count": null,
   "id": "db2e8a97",
   "metadata": {},
   "outputs": [],
   "source": [
    "# penalty - 모든 특성을 사용하여 정규화를 할지, 일부 특성을 사용하여 정규화를 할지 정하는 인자 solver중 'newton-cg', 'libfgs'는 l2만 지원한다\n",
    "# dual - dual formulation인지 primal formulation인지 결정하는 인자 l2는 dual만 지원한다(liblinear solver에서)\n",
    "# tol - iteration을 멈출 tolerance\n",
    "# C - 정규화 계수의 역수\n",
    "# fit_intercept - intercept(절편)를 사용할지 여부\n",
    "# intercept_scaling - intercept와 'liblinear' solver사용시 사용되는 값\n",
    "# class_weight - class마다의 weight관련하여 어떻게 처리할지 None이면 모두 동등하다 보고 classification한다\n",
    "# random_state - solver 사용시 random seed 값\n",
    "# solver - optimizing을 위한 numerical method 선택\n",
    "# max_iter - solver로 계산시 반봅 iteration 최대값 설정\n",
    "# multi_class - 다중클래스분류인지 독립변수가 다변수인지 정해주는 인자, 보통 'ovr'로 one vs rest\n",
    "# verbose - solver계산도중 과정의 값 표시 여부\n",
    "# warm_start - 바로 이전에 사용하였던 solver를 그대로 사용하는지 아닌지 여부\n",
    "# n_jobs - solver계산 cpu core사용 갯수\n",
    "# l1_ratio - penalty에서 적용되는 ratio value\n",
    "# 일반적으로 solver, tol, fit_intercept, class_weight, random_state, verbose, max_iter정도가 많이 사용되는 인자로 생각됩니다"
   ]
  },
  {
   "cell_type": "code",
   "execution_count": null,
   "id": "0076a187",
   "metadata": {},
   "outputs": [],
   "source": [
    "## 2-2-2-4번 과제 : data를 교차검증 해주세요.(10-fold cross_validation) ##\n",
    "\n",
    "from sklearn.model_selection import KFold\n",
    "kfold = KFold(n_splits=10, random_state=0, shuffle=True)\n",
    "X = np.array(X)"
   ]
  },
  {
   "cell_type": "code",
   "execution_count": null,
   "id": "6769d6cb",
   "metadata": {},
   "outputs": [],
   "source": [
    "# print(X)\n",
    "sum_score=0\n",
    "\n",
    "for train_index, validate_index in kfold.split(X):\n",
    "    X_train, X_validate = X[train_index], X[validate_index]\n",
    "    y_train, y_validate = y[train_index], y[validate_index]\n",
    "    model.fit(X_train, y_train)\n",
    "    score = model.score(X_validate, y_validate)\n",
    "    sum_score+=score\n",
    "    print(score)\n",
    "print(sum_score/10)"
   ]
  },
  {
   "cell_type": "code",
   "execution_count": null,
   "id": "65438076",
   "metadata": {},
   "outputs": [],
   "source": [
    "# data를 10개로 나누고 그중 9개만으로 logistic regression을 수행 후 1개의 data set으로\n",
    "# test하여 총 10번을 반복한 결과 다음과 같이 R-square가 나온다\n",
    "# 평균적으로 r-quare가 높게 잡혀 괜찮은 결과가 나옴을 알 수 있다"
   ]
  },
  {
   "cell_type": "code",
   "execution_count": null,
   "id": "421b9f51",
   "metadata": {},
   "outputs": [],
   "source": [
    "X.head()"
   ]
  },
  {
   "cell_type": "code",
   "execution_count": null,
   "id": "e44d44c4",
   "metadata": {},
   "outputs": [],
   "source": [
    "data.head()"
   ]
  },
  {
   "cell_type": "code",
   "execution_count": null,
   "id": "a2ab219f",
   "metadata": {},
   "outputs": [],
   "source": [
    "from sklearn.feature_selection import RFE\n",
    "\n",
    "cols = [\"BA\", \"League\", \"OOBP\", \"OSLG\", \"RA\", \"RS\", \"SLG\"]\n",
    "X = data[cols]\n",
    "y = data['Playoffs']"
   ]
  },
  {
   "cell_type": "code",
   "execution_count": null,
   "id": "64593166",
   "metadata": {},
   "outputs": [],
   "source": [
    "# Build a logreg and compute the feature importances\n",
    "model = LogisticRegression()"
   ]
  },
  {
   "cell_type": "code",
   "execution_count": null,
   "id": "7a8de424",
   "metadata": {},
   "outputs": [],
   "source": [
    "# create the RFE and select 3 attributes\n",
    "rfe = RFE(model, 3)\n",
    "rfe = rfe.fit(X, y)"
   ]
  },
  {
   "cell_type": "code",
   "execution_count": null,
   "id": "40f13bb0",
   "metadata": {},
   "outputs": [],
   "source": [
    "# summarize the selection of the attributes\n",
    "print('Selected features: %s' % list(X.columns[rfe.support_]))"
   ]
  }
 ],
 "metadata": {
  "kernelspec": {
   "display_name": "Python 3 (ipykernel)",
   "language": "python",
   "name": "python3"
  },
  "language_info": {
   "codemirror_mode": {
    "name": "ipython",
    "version": 3
   },
   "file_extension": ".py",
   "mimetype": "text/x-python",
   "name": "python",
   "nbconvert_exporter": "python",
   "pygments_lexer": "ipython3",
   "version": "3.11.4"
  }
 },
 "nbformat": 4,
 "nbformat_minor": 5
}
