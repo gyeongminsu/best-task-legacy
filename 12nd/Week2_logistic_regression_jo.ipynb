{
 "cells": [
  {
   "cell_type": "code",
   "execution_count": null,
   "id": "eabf4868",
   "metadata": {},
   "outputs": [],
   "source": [
    "# !/usr/bin/env python\n",
    "# coding: utf-8\n",
    " \n",
    "# # Money Ball - Basic EDA & Modeling(Logistic)\n",
    "# \n",
    "# ### 2주차 과제는 Money Ball Data Analysis입니다. \n",
    "# ### 우리가 Binary Classification하고자 하는 변수는 play-off입니다.\n",
    "# ### Money Ball Data Set을 분석하고 어느 팀이 play-off에 진출하는지 \n",
    "# ### Logistic Regression방법을 통해 분석합니다.\n",
    "# _How does a team make the playoffs?_\n",
    "# \n",
    "# _How does a team win more games?_\n",
    "# \n",
    "# _How does a team score more runs?_\n",
    " \n",
    "# - 머니볼과 빅데이터\n",
    "# - http://writting.co.kr/2015/04/%EB%A8%B8%EB%8B%88%EB%B3%BC-%EA%B7%B8%EB%A6%AC%EA%B3%A0-%EB%B9%85%EB%8D%B0%EC%9D%B4%ED%84%B0/\n",
    " \n",
    "# - _이번 과제를 통해 우리는 어떤 팀이  play-off(가을야구)에 진출하는지 로지스틱 모델을 통해 분석합니다._\n",
    "# + _Ipython 파일의 빈 부분을 채워주세요._\n",
    "# + _하나하나 천천히 따라와 주세요._ \n",
    "# \n",
    "# + _W(Wins) Feature를 제외한 Feature들 중에서 가을야구 진출에 가장 영향을 많이 주는 Feature는 무엇일까요?_\n",
    "# + _통념이 만연하던 야구의 편견을 깬 Money Ball은 과연 무엇일까요?_\n",
    " \n",
    "# ### What is Money Ball?\n",
    "# - Billy Bean & DePodesta's Story.\n",
    "# \n",
    "# In the early 2000s, Billy Beane and Paul DePodesta worked for the Oakland Athletics. While there, they literally changed the game of baseball. They didn't do it using a bat or glove, and they certainly didn't do it by throwing money at the issue; in fact, money was the issue. They didn't have enough of it, but they were still expected to keep up with teams that had much deeper pockets. This is where Statistics came riding down the hillside on a white horse to save the day. This data set contains some of the information that was available to Beane and DePodesta in the early 2000s, and it can be used to better understand their methods."
   ]
  },
  {
   "cell_type": "code",
   "execution_count": null,
   "id": "6a7d96f2",
   "metadata": {},
   "outputs": [],
   "source": [
    "# 1. Import Library - 앞으로 데이터 분석 및 모델링을 함에 있어서 첫 스텝은 필요한 Library를 불러오는 것입니다.\n",
    "\n",
    "import numpy as np # linear algebra\n",
    "import pandas as pd # data processing, CSV file I/O (e.g. pd.read_csv)\n",
    "import os\n",
    "print(os.listdir(\"./\"))"
   ]
  },
  {
   "cell_type": "code",
   "execution_count": null,
   "id": "458a3675",
   "metadata": {},
   "outputs": [],
   "source": [
    "from sklearn.linear_model import LogisticRegression # sklearn을 사용하여 Logistic 회귀분석을 할 경우 필요\n",
    "import matplotlib.pyplot as plt # 시각화를 위한 library\n",
    "import warnings\n",
    "warnings.filterwarnings('ignore')"
   ]
  },
  {
   "cell_type": "code",
   "execution_count": null,
   "id": "6500ece2",
   "metadata": {},
   "outputs": [],
   "source": [
    "# 2. Load Data & Data Exploration \n",
    "\n",
    "data = pd.read_csv(\"./baseball.csv\")\n",
    "data.head() # pandas로 data를 불러오면 습관적으로 head()를 찍어봅니다!"
   ]
  },
  {
   "cell_type": "code",
   "execution_count": null,
   "id": "08db8238",
   "metadata": {},
   "outputs": [],
   "source": [
    "# 어떤 Feature가 있을까?\n",
    "data.columns"
   ]
  },
  {
   "cell_type": "code",
   "execution_count": null,
   "id": "7b33c34d",
   "metadata": {},
   "outputs": [],
   "source": [
    "# Feature는 몇 개일까?\n",
    "len(data.columns)"
   ]
  },
  {
   "cell_type": "code",
   "execution_count": null,
   "id": "df53b424",
   "metadata": {},
   "outputs": [],
   "source": [
    "import matplotlib\n",
    "import matplotlib.pyplot as plt\n",
    "import seaborn as sns"
   ]
  },
  {
   "cell_type": "code",
   "execution_count": null,
   "id": "ea6ca7b6",
   "metadata": {},
   "outputs": [],
   "source": [
    "# for using Korean font\n",
    "matplotlib.rc('font', family='NanumBarunGothic')\n",
    "plt.rcParams['axes.unicode_minus'] = False"
   ]
  },
  {
   "cell_type": "code",
   "execution_count": null,
   "id": "1d5b2476",
   "metadata": {},
   "outputs": [],
   "source": [
    "data.describe()"
   ]
  },
  {
   "cell_type": "code",
   "execution_count": null,
   "id": "080f0ce4",
   "metadata": {},
   "outputs": [],
   "source": [
    "display(data.info())"
   ]
  },
  {
   "cell_type": "code",
   "execution_count": null,
   "id": "69350174",
   "metadata": {},
   "outputs": [],
   "source": [
    "data.isnull().sum()"
   ]
  },
  {
   "cell_type": "code",
   "execution_count": null,
   "id": "c32a875a",
   "metadata": {},
   "outputs": [],
   "source": [
    "data.info()"
   ]
  },
  {
   "cell_type": "code",
   "execution_count": null,
   "id": "74033721",
   "metadata": {},
   "outputs": [],
   "source": [
    "# categorical variable\n",
    "categorical_col = list(data.select_dtypes(include='object').columns)\n",
    "categorical_col"
   ]
  },
  {
   "cell_type": "code",
   "execution_count": null,
   "id": "c0d70583",
   "metadata": {},
   "outputs": [],
   "source": [
    "# numerical variable\n",
    "numerical_col =  list(data.select_dtypes(include=('int64', 'float64')).columns)\n",
    "numerical_col"
   ]
  },
  {
   "cell_type": "code",
   "execution_count": null,
   "id": "2de50ada",
   "metadata": {},
   "outputs": [],
   "source": [
    "len(numerical_col)"
   ]
  },
  {
   "cell_type": "code",
   "execution_count": null,
   "id": "9c27dae9",
   "metadata": {},
   "outputs": [],
   "source": [
    "# for categorical_col\n",
    " \n",
    "for col in categorical_col:\n",
    "    print(col + ': ', len(data[str(col)].unique()))"
   ]
  },
  {
   "cell_type": "code",
   "execution_count": null,
   "id": "7effdd5b",
   "metadata": {},
   "outputs": [],
   "source": [
    "# for numerical_col\n",
    " \n",
    "for col in numerical_col:\n",
    "    print(col + ': ', len(set(data[str(col)])))"
   ]
  },
  {
   "cell_type": "code",
   "execution_count": null,
   "id": "c65c64b3",
   "metadata": {},
   "outputs": [],
   "source": [
    "data.G.head()\n",
    "# Game 수이다. 한 시즌에 치뤄진 경기수를 나타낸다."
   ]
  },
  {
   "cell_type": "code",
   "execution_count": null,
   "id": "5e2f28df",
   "metadata": {},
   "outputs": [],
   "source": [
    "data.G.mean()\n",
    "# 47년간 평균 161.918경기가 치뤄졌다. "
   ]
  },
  {
   "cell_type": "code",
   "execution_count": null,
   "id": "c689fd01",
   "metadata": {},
   "outputs": [],
   "source": [
    "data.head()"
   ]
  },
  {
   "cell_type": "code",
   "execution_count": null,
   "id": "75bb6bc8",
   "metadata": {},
   "outputs": [],
   "source": [
    "del data['W']\n",
    "data.head()"
   ]
  },
  {
   "cell_type": "code",
   "execution_count": null,
   "id": "dc9146ea",
   "metadata": {},
   "outputs": [],
   "source": [
    "set(data.League)"
   ]
  },
  {
   "cell_type": "code",
   "execution_count": null,
   "id": "a9ae2765",
   "metadata": {},
   "outputs": [],
   "source": [
    "data.League.replace({'AL':0, 'NL':1}, inplace=True)"
   ]
  },
  {
   "cell_type": "code",
   "execution_count": null,
   "id": "5c65bc30",
   "metadata": {},
   "outputs": [],
   "source": [
    "data.League.head()"
   ]
  },
  {
   "cell_type": "code",
   "execution_count": null,
   "id": "932ce878",
   "metadata": {},
   "outputs": [],
   "source": [
    "data.head()"
   ]
  },
  {
   "cell_type": "code",
   "execution_count": null,
   "id": "44cf2d8d",
   "metadata": {},
   "outputs": [],
   "source": [
    "del data['Team']\n",
    "data.head()"
   ]
  },
  {
   "cell_type": "code",
   "execution_count": null,
   "id": "60d906f6",
   "metadata": {},
   "outputs": [],
   "source": [
    "# RankSeason, RankPlayoff(우승 안하면 없음)\n",
    "# OOBP, OSLG(상대편 정보 없음)\n",
    "data[~data['RankSeason'].isnull()]['RankSeason'].max()"
   ]
  },
  {
   "cell_type": "code",
   "execution_count": null,
   "id": "32da7961",
   "metadata": {},
   "outputs": [],
   "source": [
    "data.isnull().sum()"
   ]
  },
  {
   "cell_type": "code",
   "execution_count": null,
   "id": "77c390eb",
   "metadata": {},
   "outputs": [],
   "source": [
    "data.RankSeason.head()"
   ]
  },
  {
   "cell_type": "code",
   "execution_count": null,
   "id": "79adab42",
   "metadata": {},
   "outputs": [],
   "source": [
    "data.RankPlayoffs.head()"
   ]
  },
  {
   "cell_type": "code",
   "execution_count": null,
   "id": "dc2b7edf",
   "metadata": {},
   "outputs": [],
   "source": [
    "# OOBP는 Opponent On-Base Percentage. \n",
    "# OSLG는 Opponent Slugging Percentage.\n",
    " \n",
    "data.describe()"
   ]
  },
  {
   "cell_type": "code",
   "execution_count": null,
   "id": "bf1b17e9",
   "metadata": {},
   "outputs": [],
   "source": [
    "from sklearn.impute import SimpleImputer\n",
    " \n",
    "imputer = SimpleImputer(missing_values=np.nan, strategy='mean', fill_value=0)\n",
    "imputer = imputer.fit(data[['OOBP', 'OSLG']])"
   ]
  },
  {
   "cell_type": "code",
   "execution_count": null,
   "id": "6f0a934b",
   "metadata": {},
   "outputs": [],
   "source": [
    "data[['OOBP', 'OSLG']] = imputer.transform(data[['OOBP', 'OSLG']])"
   ]
  },
  {
   "cell_type": "code",
   "execution_count": null,
   "id": "2dde3877",
   "metadata": {},
   "outputs": [],
   "source": [
    "data.OOBP.isnull().sum()"
   ]
  },
  {
   "cell_type": "code",
   "execution_count": null,
   "id": "b8011c15",
   "metadata": {},
   "outputs": [],
   "source": [
    "data.OSLG.isnull().sum()"
   ]
  },
  {
   "cell_type": "code",
   "execution_count": null,
   "id": "ca8f4233",
   "metadata": {},
   "outputs": [],
   "source": [
    "data.RankPlayoffs.isnull().sum()"
   ]
  },
  {
   "cell_type": "code",
   "execution_count": null,
   "id": "5d296ae2",
   "metadata": {},
   "outputs": [],
   "source": [
    "data.RankSeason.isnull().sum()"
   ]
  },
  {
   "cell_type": "code",
   "execution_count": null,
   "id": "6e3add3a",
   "metadata": {},
   "outputs": [],
   "source": [
    "del data['RankPlayoffs']\n",
    "del data['RankSeason']"
   ]
  },
  {
   "cell_type": "code",
   "execution_count": null,
   "id": "030cc0b9",
   "metadata": {},
   "outputs": [],
   "source": [
    "data.head()"
   ]
  },
  {
   "cell_type": "code",
   "execution_count": null,
   "id": "82053986",
   "metadata": {},
   "outputs": [],
   "source": [
    "# 년도 데이터는 분석에 필요하지 않음\n",
    "del data['Year']"
   ]
  },
  {
   "cell_type": "code",
   "execution_count": null,
   "id": "fb43075c",
   "metadata": {},
   "outputs": [],
   "source": [
    "data.head()"
   ]
  },
  {
   "cell_type": "code",
   "execution_count": null,
   "id": "0176ec04",
   "metadata": {},
   "outputs": [],
   "source": [
    "y = data['Playoffs']\n",
    "X = data.drop('Playoffs',axis=1)"
   ]
  },
  {
   "cell_type": "code",
   "execution_count": null,
   "id": "7ffe54a2",
   "metadata": {},
   "outputs": [],
   "source": [
    "X.head()"
   ]
  },
  {
   "cell_type": "code",
   "execution_count": null,
   "id": "ccbfa03f",
   "metadata": {},
   "outputs": [],
   "source": [
    "# del X['G'] \n",
    "X.head()"
   ]
  },
  {
   "cell_type": "code",
   "execution_count": null,
   "id": "a1d2c066",
   "metadata": {},
   "outputs": [],
   "source": [
    "from sklearn.model_selection import train_test_split\n",
    "X_train, X_test, y_train, y_test = train_test_split(X, y, test_size = 0.2, random_state = 0)"
   ]
  },
  {
   "cell_type": "code",
   "execution_count": null,
   "id": "b960f164",
   "metadata": {},
   "outputs": [],
   "source": [
    "X_train.head()"
   ]
  },
  {
   "cell_type": "code",
   "execution_count": null,
   "id": "b618c0db",
   "metadata": {},
   "outputs": [],
   "source": [
    "# Feature Scaling\n",
    " \n",
    "from sklearn.preprocessing import StandardScaler\n",
    "sc_X = StandardScaler()"
   ]
  },
  {
   "cell_type": "code",
   "execution_count": null,
   "id": "2f11495c",
   "metadata": {},
   "outputs": [],
   "source": [
    "# X_train 데이터에 맞추고, X_test도 맞춘 model에 select 한다\n",
    "X_train_ori = sc_X.fit_transform(X_train)\n",
    "X_test_ori = sc_X.transform(X_test)\n",
    "warnings.filterwarnings(action='once')"
   ]
  },
  {
   "cell_type": "code",
   "execution_count": null,
   "id": "b2b59ff7",
   "metadata": {},
   "outputs": [],
   "source": [
    "pd.DataFrame(X_train_ori).head()"
   ]
  },
  {
   "cell_type": "code",
   "execution_count": null,
   "id": "430a07b3",
   "metadata": {},
   "outputs": [],
   "source": [
    "from sklearn.linear_model import LogisticRegression\n",
    "# LogisticRegression Library를 활용해서 모델을 만들어주세요\n",
    "model = LogisticRegression(random_state=0, solver='liblinear', multi_class='ovr')\n",
    "model.fit(X_train_ori,y_train)"
   ]
  },
  {
   "cell_type": "code",
   "execution_count": null,
   "id": "93a14507",
   "metadata": {},
   "outputs": [],
   "source": [
    "# 예측결과 확인하기\n",
    "model.predict(X_test)"
   ]
  },
  {
   "cell_type": "code",
   "execution_count": null,
   "id": "9ffe49d2",
   "metadata": {},
   "outputs": [],
   "source": [
    "model.predict_proba(X_test) # 예측 확률 보여줌"
   ]
  },
  {
   "cell_type": "code",
   "execution_count": null,
   "id": "12d0c1b1",
   "metadata": {},
   "outputs": [],
   "source": [
    "result = model.predict(X_test) == y_test"
   ]
  },
  {
   "cell_type": "code",
   "execution_count": null,
   "id": "92ce58f9",
   "metadata": {},
   "outputs": [],
   "source": [
    "# 맞은 비율\n",
    "np.sum(result)/len(result) "
   ]
  },
  {
   "cell_type": "code",
   "execution_count": null,
   "id": "540d02fb",
   "metadata": {},
   "outputs": [],
   "source": [
    "X_train.head()"
   ]
  },
  {
   "cell_type": "code",
   "execution_count": null,
   "id": "0700ec54",
   "metadata": {},
   "outputs": [],
   "source": [
    "X_train.drop('League',axis=1,inplace=True)\n",
    "X_test.drop('League',axis=1,inplace=True)"
   ]
  },
  {
   "cell_type": "code",
   "execution_count": null,
   "id": "7661c8cc",
   "metadata": {},
   "outputs": [],
   "source": [
    "X_train.head()"
   ]
  },
  {
   "cell_type": "code",
   "execution_count": null,
   "id": "c4b03fc7",
   "metadata": {},
   "outputs": [],
   "source": [
    "# Feature Scaling\n",
    " \n",
    "from sklearn.preprocessing import StandardScaler\n",
    "sc_X = StandardScaler()"
   ]
  },
  {
   "cell_type": "code",
   "execution_count": null,
   "id": "3caa7ef9",
   "metadata": {},
   "outputs": [],
   "source": [
    "# X_train 데이터에 맞추고, X_test도 맞춘 model에 select 한다\n",
    "X_train_drop = sc_X.fit_transform(X_train)\n",
    "X_test_drop = sc_X.transform(X_test)\n",
    "warnings.filterwarnings(action='once')"
   ]
  },
  {
   "cell_type": "code",
   "execution_count": null,
   "id": "f4b3e7e3",
   "metadata": {},
   "outputs": [],
   "source": [
    "from sklearn.linear_model import LogisticRegression\n",
    "# LogisticRegression Library를 활용해서 모델을 만들어주세요\n",
    "model = LogisticRegression(random_state=0, solver='liblinear', multi_class='ovr')\n",
    "model.fit(X_train_drop,y_train)"
   ]
  },
  {
   "cell_type": "code",
   "execution_count": null,
   "id": "00d82251",
   "metadata": {},
   "outputs": [],
   "source": [
    "model.predict(X_test_drop)"
   ]
  },
  {
   "cell_type": "code",
   "execution_count": null,
   "id": "9a8b7eec",
   "metadata": {},
   "outputs": [],
   "source": [
    "type(np.array(y_test))"
   ]
  },
  {
   "cell_type": "code",
   "execution_count": null,
   "id": "66305022",
   "metadata": {},
   "outputs": [],
   "source": [
    "np.sum(model.predict(X_test_drop) == y_test) / len(y_test)"
   ]
  },
  {
   "cell_type": "code",
   "execution_count": null,
   "id": "6359fa95",
   "metadata": {},
   "outputs": [],
   "source": [
    "from sklearn.model_selection import KFold"
   ]
  },
  {
   "cell_type": "code",
   "execution_count": null,
   "id": "239c7cda",
   "metadata": {},
   "outputs": [],
   "source": [
    "kf = KFold(n_splits=10,random_state=0)\n",
    "kf.get_n_splits(X)\n",
    "print(kf)"
   ]
  },
  {
   "cell_type": "code",
   "execution_count": null,
   "id": "c7bfd3d4",
   "metadata": {},
   "outputs": [],
   "source": [
    "kf.split(X)"
   ]
  },
  {
   "cell_type": "code",
   "execution_count": null,
   "id": "06cdddc0",
   "metadata": {},
   "outputs": [],
   "source": [
    "total = 0\n",
    "num = 0\n",
    "\n",
    "for train_index, test_index in kf.split(X):\n",
    "    num = num+1\n",
    "    X_train, X_test = X.loc[train_index], X.loc[test_index]\n",
    "    y_train, y_test = y.loc[train_index], y.loc[test_index]\n",
    "    model = LogisticRegression(random_state=0, solver='liblinear', multi_class='ovr')\n",
    "    model.fit(X_train,y_train)\n",
    "    result = model.predict(X_test) == y_test\n",
    "    total = total + np.sum(result)/len(result)"
   ]
  },
  {
   "cell_type": "code",
   "execution_count": null,
   "id": "88258c78",
   "metadata": {},
   "outputs": [],
   "source": [
    "# accuracy mean을 계산해보자.\n",
    "# 모든 accuracy 합을 개수로 나누기\n",
    "print(total/num)"
   ]
  },
  {
   "cell_type": "code",
   "execution_count": null,
   "id": "e84d1f7f",
   "metadata": {},
   "outputs": [],
   "source": [
    "X.drop('League',axis=1,inplace=True)"
   ]
  },
  {
   "cell_type": "code",
   "execution_count": null,
   "id": "fd39a0d7",
   "metadata": {},
   "outputs": [],
   "source": [
    "total = 0\n",
    "num = 0\n",
    "\n",
    "for train_index, test_index in kf.split(X):\n",
    "    num = num+1\n",
    "    X_train, X_test = X.loc[train_index], X.loc[test_index]\n",
    "    y_train, y_test = y.loc[train_index], y.loc[test_index]\n",
    "    model = LogisticRegression(random_state=0, solver='liblinear', multi_class='ovr')\n",
    "    model.fit(X_train,y_train)\n",
    "    result = model.predict(X_test) == y_test\n",
    "    total = total + np.sum(result)/len(result)"
   ]
  },
  {
   "cell_type": "code",
   "execution_count": null,
   "id": "fe7eb79d",
   "metadata": {},
   "outputs": [],
   "source": [
    "# accuracy mean을 계산해보자.\n",
    "# 모든 accuracy 합을 개수로 나누기\n",
    "print(total/num)"
   ]
  },
  {
   "cell_type": "code",
   "execution_count": null,
   "id": "bce5806b",
   "metadata": {},
   "outputs": [],
   "source": [
    "X.head()"
   ]
  },
  {
   "cell_type": "code",
   "execution_count": null,
   "id": "9123d191",
   "metadata": {},
   "outputs": [],
   "source": [
    "from sklearn.feature_selection import RFE\n",
    " \n",
    "cols = [\"BA\", \"League\", \"OOBP\", \"OSLG\", \"RA\", \"RS\", \"SLG\"]\n",
    "X = data[cols]\n",
    "y = data['Playoffs']"
   ]
  },
  {
   "cell_type": "code",
   "execution_count": null,
   "id": "c3b87f87",
   "metadata": {},
   "outputs": [],
   "source": [
    "# Build a logreg and compute the feature importances\n",
    "model = LogisticRegression()"
   ]
  },
  {
   "cell_type": "code",
   "execution_count": null,
   "id": "070dc774",
   "metadata": {},
   "outputs": [],
   "source": [
    "# create the RFE and select 3 attributes\n",
    "rfe = RFE(model, 3)\n",
    "rfe = rfe.fit(X, y)"
   ]
  },
  {
   "cell_type": "code",
   "execution_count": null,
   "id": "a330aa68",
   "metadata": {},
   "outputs": [],
   "source": [
    "# summarize the selection of the attributes\n",
    "print('Selected features: %s' % list(X.columns[rfe.support_]))"
   ]
  },
  {
   "cell_type": "code",
   "execution_count": null,
   "id": "96635afa",
   "metadata": {},
   "outputs": [],
   "source": [
    "from sklearn.preprocessing import StandardScaler\n",
    "sc_X = StandardScaler()\n",
    " \n",
    "X_train = sc_X.fit_transform(X_train)\n",
    "X_test = sc_X.transform(X_test)\n",
    "warnings.filterwarnings(action='once')"
   ]
  },
  {
   "cell_type": "code",
   "execution_count": null,
   "id": "08310d3c",
   "metadata": {},
   "outputs": [],
   "source": [
    "total = 0\n",
    "num = 0\n",
    "\n",
    "for train_index, test_index in kf.split(X):\n",
    "    num = num+1\n",
    "    X_train, X_test = X.loc[train_index], X.loc[test_index]\n",
    "    y_train, y_test = y.loc[train_index], y.loc[test_index]\n",
    "    model = LogisticRegression(random_state=0, solver='liblinear', multi_class='ovr')\n",
    "    model.fit(X_train,y_train)\n",
    "    result = model.predict(X_test) == y_test\n",
    "    total = total + np.sum(result)/len(result)"
   ]
  },
  {
   "cell_type": "code",
   "execution_count": null,
   "id": "cd6339e1",
   "metadata": {},
   "outputs": [],
   "source": [
    "# accuracy mean을 계산해보자.\n",
    "# 이렇게 계산하는게 맞나요?!?!?!\n",
    "print(total/num)"
   ]
  },
  {
   "cell_type": "code",
   "execution_count": null,
   "id": "ae97cbb0",
   "metadata": {},
   "outputs": [],
   "source": [
    "len(X_train),len(y_train)"
   ]
  },
  {
   "cell_type": "code",
   "execution_count": null,
   "id": "19c528b8",
   "metadata": {},
   "outputs": [],
   "source": [
    "from sklearn.feature_selection import RFE\n",
    " \n",
    "# Build a logreg and compute the feature importances\n",
    "model = LogisticRegression()"
   ]
  },
  {
   "cell_type": "code",
   "execution_count": null,
   "id": "f8d105b0",
   "metadata": {},
   "outputs": [],
   "source": [
    "# create the RFE and select 3 attributes\n",
    "rfe = RFE(model, 3)\n",
    "rfe = rfe.fit(X_train, y_train)"
   ]
  },
  {
   "cell_type": "code",
   "execution_count": null,
   "id": "b31e16b6",
   "metadata": {},
   "outputs": [],
   "source": [
    "# summarize the selection of the attributes\n",
    "print('Selected features: %s' % list(X.columns[rfe.support_]))"
   ]
  },
  {
   "cell_type": "code",
   "execution_count": null,
   "id": "8fe58602",
   "metadata": {},
   "outputs": [],
   "source": [
    "len(rfe.support_)"
   ]
  },
  {
   "cell_type": "code",
   "execution_count": null,
   "id": "9173e38c",
   "metadata": {},
   "outputs": [],
   "source": [
    "X.columns[rfe.support_]"
   ]
  },
  {
   "cell_type": "code",
   "execution_count": null,
   "id": "d381ae84",
   "metadata": {},
   "outputs": [],
   "source": [
    "model.fit(X, y)\n",
    "model.coef_"
   ]
  },
  {
   "cell_type": "code",
   "execution_count": null,
   "id": "e8f696f2",
   "metadata": {},
   "outputs": [],
   "source": [
    "list(X.columns)"
   ]
  },
  {
   "cell_type": "code",
   "execution_count": null,
   "id": "00c50273",
   "metadata": {},
   "outputs": [],
   "source": [
    "model.coef_.tolist()[0]"
   ]
  },
  {
   "cell_type": "code",
   "execution_count": null,
   "id": "bea8974a",
   "metadata": {},
   "outputs": [],
   "source": [
    "model.coef_"
   ]
  },
  {
   "cell_type": "code",
   "execution_count": null,
   "id": "b4a84ab0",
   "metadata": {},
   "outputs": [],
   "source": [
    "import math\n",
    "# Odds ratio 확인하기\n",
    "for d in zip(list(X.columns), model.coef_.tolist()[0]):\n",
    "    print(d) # 컬럼 이름과 계수\n",
    "    print(d[0],' Odds ratio: ', math.exp(d[1])) # 즉 계수의 e 제곱이다."
   ]
  },
  {
   "cell_type": "code",
   "execution_count": null,
   "id": "bc128b53",
   "metadata": {},
   "outputs": [],
   "source": [
    "X.head()"
   ]
  }
 ],
 "metadata": {
  "kernelspec": {
   "display_name": "Python 3 (ipykernel)",
   "language": "python",
   "name": "python3"
  },
  "language_info": {
   "codemirror_mode": {
    "name": "ipython",
    "version": 3
   },
   "file_extension": ".py",
   "mimetype": "text/x-python",
   "name": "python",
   "nbconvert_exporter": "python",
   "pygments_lexer": "ipython3",
   "version": "3.11.4"
  }
 },
 "nbformat": 4,
 "nbformat_minor": 5
}
