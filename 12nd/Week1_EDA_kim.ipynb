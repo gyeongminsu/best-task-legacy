{
 "cells": [
  {
   "cell_type": "code",
   "execution_count": null,
   "id": "4e1d77ad",
   "metadata": {},
   "outputs": [],
   "source": [
    "import numpy as np \n",
    "import pandas as pd\n",
    "import matplotlib.pyplot as plt\n",
    "import seaborn as sns\n",
    "import warnings\n",
    " \n",
    "plt.style.use('seaborn')\n",
    "warnings.filterwarnings('ignore')\n",
    "%matplotlib inline"
   ]
  },
  {
   "cell_type": "code",
   "execution_count": null,
   "id": "22d5f0c4",
   "metadata": {},
   "outputs": [],
   "source": [
    "# 경로 설정 (노트북 파일 기점으로 상대경로 혹은 절대경로)\n",
    "data = pd.read_csv('train.csv')\n",
    "#data = pd.read_csv(r'C:\\Users\\Ki_Yoon_Yoo\\Desktop\\ToBigs/train.csv')"
   ]
  },
  {
   "cell_type": "code",
   "execution_count": null,
   "id": "4d94a8b7",
   "metadata": {},
   "outputs": [],
   "source": [
    "# Display first five rows \n",
    "data.head(5)"
   ]
  },
  {
   "cell_type": "code",
   "execution_count": null,
   "id": "204c86ee",
   "metadata": {},
   "outputs": [],
   "source": [
    "### Data Exploration\n",
    " \n",
    "# 어떤 종류의 feature 가 있는지 살펴봅시다\n",
    "print('Types of Columns: ')\n",
    "print(data.columns.values)"
   ]
  },
  {
   "cell_type": "code",
   "execution_count": null,
   "id": "c91a82eb",
   "metadata": {},
   "outputs": [],
   "source": [
    "# 연속 변수 통계치 확인 \n",
    "print(data.describe())"
   ]
  },
  {
   "cell_type": "code",
   "execution_count": null,
   "id": "7e0813e4",
   "metadata": {},
   "outputs": [],
   "source": [
    "# 각 피쳐의 data type 을 살펴봅시다 \n",
    "print(data.dtypes)"
   ]
  },
  {
   "cell_type": "code",
   "execution_count": null,
   "id": "cc4ae7e0",
   "metadata": {},
   "outputs": [],
   "source": [
    "### Null 값 처리 : Method 1 \n",
    " \n",
    "# Null 값 개수 복습!\n",
    "data.isnull().sum()"
   ]
  },
  {
   "cell_type": "code",
   "execution_count": null,
   "id": "1dee9878",
   "metadata": {},
   "outputs": [],
   "source": [
    "# Age, Cabin, Embarked 세 가지 feuture 에서 결측치가 존재하네요. 특히, 'Cabin' 의 경우 대부분의 데이터가 누락되었습니다. 'Cabin' 은 Cabin Number 로 좌석 위치를 의미하는 것 같습니다. A석, B석, C석 .. F 석 따라서 생존율에 영향이 있었을 것으로 보입니다. 다만, 결측치가 너무 많기 때문에 이 feature 를 활용하기 어려워보이네요. \n",
    " \n",
    "print(data['Cabin'].unique())\n",
    " \n",
    "data.drop('Cabin',axis=1).head(3)"
   ]
  },
  {
   "cell_type": "code",
   "execution_count": null,
   "id": "fa1a6a95",
   "metadata": {},
   "outputs": [],
   "source": [
    "### Null 값 처리 : Method 2 (통계치, 외부 정보 활용)  \n",
    " \n",
    "# 좌석 위치에 대한 직접적인 정보를 이용하기 보다는 'Null 값 여부' 정보를 이용해봅시다. \n",
    " \n",
    "# Fill 'NA' into Null value \n",
    "data['Cabin'].fillna('NA', inplace=True)\n",
    "print(data['Cabin'].unique())"
   ]
  },
  {
   "cell_type": "code",
   "execution_count": null,
   "id": "4987cdd7",
   "metadata": {},
   "outputs": [],
   "source": [
    "# Conditional statement to fill 'Null' or 'Non_Null'\n",
    "data.loc[data['Cabin']=='NA','Cabin_Null'] = 'Null'\n",
    "data.loc[data['Cabin']!='NA','Cabin_Null'] = 'Non-Null'\n",
    " \n",
    "data['Cabin_Null'].head(3)\n",
    " \n",
    "sns.countplot('Cabin_Null',hue='Survived',data=data)\n",
    " \n",
    "data[['Cabin_Null','Survived']].groupby(['Cabin_Null']).count()\n",
    " \n",
    "data[['Cabin_Null','Survived']].groupby(['Cabin_Null']).mean()"
   ]
  },
  {
   "cell_type": "code",
   "execution_count": null,
   "id": "8eec7181",
   "metadata": {},
   "outputs": [],
   "source": [
    "#### Age\n",
    " \n",
    "data['Age'].isnull().sum()\n",
    "# 177/891 = 19.2 % "
   ]
  },
  {
   "cell_type": "code",
   "execution_count": null,
   "id": "8102a6df",
   "metadata": {},
   "outputs": [],
   "source": [
    "# 산술평균 이용\n",
    "data['Age'].fillna(data['Age'].mean(), inplace=True)"
   ]
  },
  {
   "cell_type": "code",
   "execution_count": null,
   "id": "f497bd85",
   "metadata": {},
   "outputs": [],
   "source": [
    "# 중간값 이용 \n",
    "data['Age'].fillna(data['Age'].median(), inplace=True)"
   ]
  },
  {
   "cell_type": "code",
   "execution_count": null,
   "id": "3141b0f2",
   "metadata": {},
   "outputs": [],
   "source": [
    "# 탑승객의 이름은 다음과 같은 양식으로 기재되어있습니다. \n",
    "# Braund, Mr. Own Harris 의 Braund 는 first name / Owen Harris 는 last name 과 middle name 같군요\n",
    "data['Name'].head()\n",
    " \n",
    "for i in data:\n",
    "    data['Initial']=data['Name'].str.extract('([A-Za-z]+)\\.') # 온점(.) 뒤에 있는 이니셜 정보를 추출한뒤 저장합니다.\n",
    " \n",
    "pd.crosstab(data['Initial'],data['Sex']).T.style.background_gradient(cmap='summer_r') #이니셜을 성별에 대해서 정렬"
   ]
  },
  {
   "cell_type": "code",
   "execution_count": null,
   "id": "0775fa15",
   "metadata": {},
   "outputs": [],
   "source": [
    "data.loc[data['Initial'] == 'Master', 'Age'].head(10)\n",
    "# 대부분 어려보이는데 29살은 뭘까요??"
   ]
  },
  {
   "cell_type": "code",
   "execution_count": null,
   "id": "77d82bbe",
   "metadata": {},
   "outputs": [],
   "source": [
    "# 나머지는 이니셜을 모두 Mr. / Miss / Mrs 로 처리합시다. \n",
    "# 여성의 이니셜의 경우, 이니셜의 의미에 가장 부합하는 것 같은 카테고리 (Miss 혹은 Mrs)로 임의로 나눱습니다. \n",
    "# 귀족 이니셜은 'Other' 로 따로 묶었습니다\n",
    "data['Initial'].replace(['Mlle','Mme','Ms','Dr','Major','Lady','Countess','Jonkheer','Col','Rev','Capt','Sir','Don'],['Miss','Miss','Miss','Mr','Mr','Mrs','Mrs','Other','Other','Other','Other','Other','Other'],inplace=True)"
   ]
  },
  {
   "cell_type": "code",
   "execution_count": null,
   "id": "b06bd5a3",
   "metadata": {},
   "outputs": [],
   "source": [
    "# 이제 남은 것은 다음과 같은 이니셜 뿐입니다.\n",
    "data['Initial'].unique()\n",
    " \n",
    "data.loc[(data.Age.isnull())&(data.Initial=='Master'),'Age']= data.loc[data['Initial'] == 'Master', 'Age'].median()\n",
    "data.loc[(data.Age.isnull())&(data.Initial=='Mr'),'Age']= data.loc[data['Initial'] == 'Mr', 'Age'].median()\n",
    "data.loc[(data.Age.isnull())&(data.Initial=='Mrs'),'Age']= data.loc[data['Initial'] == 'Mrs', 'Age'].median()\n",
    "data.loc[(data.Age.isnull())&(data.Initial=='Miss'),'Age']= data.loc[data['Initial'] == 'Miss', 'Age'].median()\n",
    "data.loc[(data.Age.isnull())&(data.Initial=='Other'),'Age']= data.loc[data['Initial'] == 'Other', 'Age'].median()\n",
    " \n",
    "print('Median Age for Master : ', data.loc[data['Initial'] == 'Master', 'Age'].median()) \n",
    "print('Median Age for Mr : ', data.loc[data['Initial'] == 'Mr', 'Age'].median()) \n",
    "print('Median Age for Mrs : ', data.loc[data['Initial'] == 'Mrs', 'Age'].median()) \n",
    "print('Median Age for Miss : ', data.loc[data['Initial'] == 'Miss', 'Age'].median()) \n",
    "print('Median Age for Other : ', data.loc[data['Initial'] == 'Other', 'Age'].median()) "
   ]
  },
  {
   "cell_type": "code",
   "execution_count": null,
   "id": "c0ec1a1f",
   "metadata": {},
   "outputs": [],
   "source": [
    "### Categorical Feature 처리 \n",
    " \n",
    "#### Nomial : 순서가 상관없는 Categorical\n",
    " \n",
    "dummy_var = pd.get_dummies(data.Initial)\n",
    "pd.get_dummies(data.Initial).head()"
   ]
  },
  {
   "cell_type": "code",
   "execution_count": null,
   "id": "2d0efa5e",
   "metadata": {},
   "outputs": [],
   "source": [
    "pd.concat([data.drop(['Initial'], axis=1),dummy_var], axis=1).head()"
   ]
  },
  {
   "cell_type": "code",
   "execution_count": null,
   "id": "be944085",
   "metadata": {},
   "outputs": [],
   "source": [
    "#### Ordinal : 순서가 상관 있는 Categorical\n",
    " \n",
    "def transform_to_string(x):\n",
    "    if x==1:\n",
    "        return 'class1'\n",
    "    elif x==2:\n",
    "        return 'class2'\n",
    "    else:\n",
    "        return 'class3'"
   ]
  },
  {
   "cell_type": "code",
   "execution_count": null,
   "id": "b746f47a",
   "metadata": {},
   "outputs": [],
   "source": [
    "data['Pclass'] = data['Pclass'].apply(transform_to_string)\n",
    "data['Pclass'].head(10)"
   ]
  },
  {
   "cell_type": "code",
   "execution_count": null,
   "id": "94d407b2",
   "metadata": {},
   "outputs": [],
   "source": [
    "from sklearn.preprocessing import OrdinalEncoder\n",
    "ordinal_encoder = OrdinalEncoder()\n",
    "mapper = [['class3',],['class2',],['class1',]]\n",
    "ordinal_encoder.fit(mapper)"
   ]
  },
  {
   "cell_type": "code",
   "execution_count": null,
   "id": "0f93a33e",
   "metadata": {},
   "outputs": [],
   "source": [
    "ordinal_encoder.transform(np.array(data['Pclass']).reshape(-1,1))"
   ]
  },
  {
   "cell_type": "code",
   "execution_count": null,
   "id": "113d9d54",
   "metadata": {},
   "outputs": [],
   "source": [
    "data['Pclass']"
   ]
  },
  {
   "cell_type": "code",
   "execution_count": null,
   "id": "3956ffc3",
   "metadata": {},
   "outputs": [],
   "source": [
    "## 과제 1:\n",
    "#### Target Encoding: 각 피쳐 값의 target variable 평균으로 인코딩"
   ]
  },
  {
   "cell_type": "code",
   "execution_count": null,
   "id": "b7e8f114",
   "metadata": {},
   "outputs": [],
   "source": [
    "#### Mean 값 찾기\n",
    "# Initial 변수를 기준으로 생존율(means)을 구해줍니다.\n",
    "data['Initial_encoded'] = 0 \n",
    "means = data.groupby('Initial')['Survived'].mean(); means"
   ]
  },
  {
   "cell_type": "code",
   "execution_count": null,
   "id": "7ff8c456",
   "metadata": {},
   "outputs": [],
   "source": [
    "#### DataFrame 에 저장\n",
    "# map함수를 이용해 Initial 변수를 기준으로 Initial_encoded에 means를 넣어줍니다\n",
    "data['Initial_encoded'] = data['Initial'].map(means)\n",
    "data"
   ]
  }
 ],
 "metadata": {
  "kernelspec": {
   "display_name": "Python 3 (ipykernel)",
   "language": "python",
   "name": "python3"
  },
  "language_info": {
   "codemirror_mode": {
    "name": "ipython",
    "version": 3
   },
   "file_extension": ".py",
   "mimetype": "text/x-python",
   "name": "python",
   "nbconvert_exporter": "python",
   "pygments_lexer": "ipython3",
   "version": "3.11.4"
  }
 },
 "nbformat": 4,
 "nbformat_minor": 5
}
