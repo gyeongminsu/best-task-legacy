{
 "cells": [
  {
   "cell_type": "code",
   "execution_count": null,
   "id": "6a8ee1dd",
   "metadata": {},
   "outputs": [],
   "source": [
    "import pandas as pd\n",
    "import numpy as np\n",
    "import matplotlib.pyplot as plt\n",
    "import seaborn as sns\n",
    "from sklearn import metrics\n",
    "import warnings\n",
    "warnings.filterwarnings(\"ignore\", category=RuntimeWarning)"
   ]
  },
  {
   "cell_type": "code",
   "execution_count": null,
   "id": "44707bc3",
   "metadata": {},
   "outputs": [],
   "source": [
    "data = pd.read_csv('Mall_Customers.csv')\n",
    "data.head()"
   ]
  },
  {
   "cell_type": "code",
   "execution_count": null,
   "id": "1ce4a813",
   "metadata": {},
   "outputs": [],
   "source": [
    "data.info()"
   ]
  },
  {
   "cell_type": "code",
   "execution_count": null,
   "id": "f882b322",
   "metadata": {},
   "outputs": [],
   "source": [
    "data.describe()"
   ]
  },
  {
   "cell_type": "code",
   "execution_count": null,
   "id": "1c5d25d1",
   "metadata": {},
   "outputs": [],
   "source": [
    "data = data.drop(columns=['CustomerID'])\n",
    "sns.pairplot(data, hue=\"Gender\")\n",
    "plt.show()"
   ]
  },
  {
   "cell_type": "code",
   "execution_count": null,
   "id": "73e53ce8",
   "metadata": {},
   "outputs": [],
   "source": [
    "data['Gender'].replace(['Male','Female'],[0,1],inplace=True)\n",
    "sns.heatmap(data.corr(),annot=True,linewidths=0.2) \n",
    "fig=plt.gcf()\n",
    "plt.show()"
   ]
  },
  {
   "cell_type": "code",
   "execution_count": null,
   "id": "8570e4eb",
   "metadata": {},
   "outputs": [],
   "source": [
    "X = data[['Annual Income (k$)','Spending Score (1-100)']]\n",
    "X.head()"
   ]
  },
  {
   "cell_type": "code",
   "execution_count": null,
   "id": "16cdf08d",
   "metadata": {},
   "outputs": [],
   "source": [
    "import scipy.cluster.hierarchy as sch\n",
    "dendrogram = sch.dendrogram(sch.linkage(X, method = 'ward'))\n",
    "plt.title('ward method')\n",
    "plt.xlabel('고객')\n",
    "plt.ylabel('유클리디안 거리')\n",
    "plt.show()"
   ]
  },
  {
   "cell_type": "code",
   "execution_count": null,
   "id": "33a4b8dc",
   "metadata": {},
   "outputs": [],
   "source": [
    "dendrogram = sch.dendrogram(sch.linkage(X, method = 'centroid'))\n",
    "plt.title('centroid method')\n",
    "plt.xlabel('고객')\n",
    "plt.ylabel('유클리디안 거리')\n",
    "plt.show()"
   ]
  },
  {
   "cell_type": "code",
   "execution_count": null,
   "id": "70e38aba",
   "metadata": {},
   "outputs": [],
   "source": [
    "from sklearn import metrics\n",
    "from sklearn.cluster import AgglomerativeClustering\n",
    " \n",
    "li = [2,5,8]\n",
    "\n",
    "for i in li:\n",
    "    agg = AgglomerativeClustering(n_clusters=i, affinity='euclidean', linkage='ward').fit(X)\n",
    "    labels = agg.labels_\n",
    "    plt.scatter(X['Annual Income (k$)'],X['Spending Score (1-100)'], c=labels, cmap='rainbow')\n",
    "    plt.show()\n",
    "    \n",
    "    print('Silhouette Coefficient: ', metrics.silhouette_score(X, labels, metric='euclidean'))\n",
    "    print('Davies_bouldin_score: ', metrics .davies_bouldin_score(X, labels))"
   ]
  },
  {
   "cell_type": "code",
   "execution_count": null,
   "id": "5873fc6d",
   "metadata": {},
   "outputs": [],
   "source": [
    "from sklearn.cluster import KMeans\n",
    "inertias = []\n",
    "for i in range(1, 20):\n",
    "    kmeans = KMeans(n_clusters = i, init = 'k-means++')\n",
    "    kmeans.fit(X)\n",
    "    inertias.append(kmeans.inertia_)\n",
    "plt.plot(range(1, 20), inertias)\n",
    "plt.xlabel('cluster number')\n",
    "plt.ylabel('inertias')\n",
    "plt.show()"
   ]
  },
  {
   "cell_type": "code",
   "execution_count": null,
   "id": "40ee55d0",
   "metadata": {},
   "outputs": [],
   "source": [
    "kmeans = KMeans(n_clusters = 5, init = 'k-means++', random_state = 42)\n",
    "kmeans.fit(X)\n",
    "label = kmeans.labels_\n",
    "y_kmeans = kmeans.predict(X)\n",
    "centers = kmeans.cluster_centers_\n",
    "plt.scatter(X['Annual Income (k$)'],X['Spending Score (1-100)'], c=y_kmeans, s=50, cmap='viridis')\n",
    "plt.scatter(centers[:, 0], centers[:, 1], c='black', s=200, alpha=0.5)"
   ]
  },
  {
   "cell_type": "code",
   "execution_count": null,
   "id": "688c4ec4",
   "metadata": {},
   "outputs": [],
   "source": [
    "print('Silhouette Coefficient: ', metrics.silhouette_score(X, label, metric='euclidean'))\n",
    "print('Davies_bouldin_score: ', metrics .davies_bouldin_score(X, label))"
   ]
  },
  {
   "cell_type": "code",
   "execution_count": null,
   "id": "7d991a43",
   "metadata": {},
   "outputs": [],
   "source": [
    "from sklearn.cluster import MeanShift, estimate_bandwidth\n",
    "\n",
    "li = [10,100,500]\n",
    "\n",
    "for i in li:\n",
    "    bandwidth = estimate_bandwidth(X, quantile=0.2, n_samples=i)\n",
    "    ms = MeanShift(bandwidth=bandwidth, bin_seeding=True)\n",
    "    ms.fit(X)\n",
    "    labels = ms.labels_\n",
    "    cluster_centers = ms.cluster_centers_\n",
    " \n",
    "    plt.scatter(X['Annual Income (k$)'],X['Spending Score (1-100)'], c=labels, s=50, cmap='viridis')\n",
    "    plt.scatter(cluster_centers[:, 0], cluster_centers[:, 1], c='black', s=200, alpha=0.5);\n",
    "    plt.show()\n",
    "    \n",
    "    print('Silhouette Coefficient: ', metrics.silhouette_score(X, labels, metric='euclidean'))\n",
    "    print('Davies_bouldin_score: ', metrics .davies_bouldin_score(X, labels))"
   ]
  },
  {
   "cell_type": "code",
   "execution_count": null,
   "id": "0f6279e7",
   "metadata": {},
   "outputs": [],
   "source": [
    "from sklearn.cluster import DBSCAN\n",
    "\n",
    "li = [2,5,10,15]\n",
    "\n",
    "for i in li:\n",
    "    db = DBSCAN(eps=i, min_samples=5).fit(X)\n",
    "    cluster = db.fit_predict(X)\n",
    "    label = db.labels_\n",
    "    plt.scatter(x = X['Annual Income (k$)'],y = X['Spending Score (1-100)'], c=cluster)\n",
    "    plt.xlabel(\"Annual Income\")\n",
    "    plt.ylabel(\"Spending Score\")\n",
    "    plt.show()\n",
    "    \n",
    "    print('Silhouette Coefficient: ', metrics.silhouette_score(X, label, metric='euclidean'))\n",
    "    print('Davies_bouldin_score: ', metrics .davies_bouldin_score(X, label))"
   ]
  }
 ],
 "metadata": {
  "kernelspec": {
   "display_name": "Python 3 (ipykernel)",
   "language": "python",
   "name": "python3"
  },
  "language_info": {
   "codemirror_mode": {
    "name": "ipython",
    "version": 3
   },
   "file_extension": ".py",
   "mimetype": "text/x-python",
   "name": "python",
   "nbconvert_exporter": "python",
   "pygments_lexer": "ipython3",
   "version": "3.11.4"
  }
 },
 "nbformat": 4,
 "nbformat_minor": 5
}
