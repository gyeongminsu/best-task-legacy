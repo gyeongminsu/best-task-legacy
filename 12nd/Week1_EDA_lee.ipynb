{
 "cells": [
  {
   "cell_type": "code",
   "execution_count": null,
   "id": "5973439c",
   "metadata": {},
   "outputs": [],
   "source": [
    "import numpy as np \n",
    "import pandas as pd\n",
    "import matplotlib.pyplot as plt\n",
    "import seaborn as sns\n",
    "import warnings\n",
    "import matplotlib as mpl\n",
    " \n",
    "plt.style.use('seaborn')\n",
    "warnings.filterwarnings('ignore')\n",
    "%matplotlib inline"
   ]
  },
  {
   "cell_type": "code",
   "execution_count": null,
   "id": "741dd3a8",
   "metadata": {},
   "outputs": [],
   "source": [
    "data = pd.read_csv(r'C:\\Users\\이홍정\\Desktop\\TOBIGS\\1week\\전처리\\1주차\\Auction_master_train.csv')"
   ]
  },
  {
   "cell_type": "code",
   "execution_count": null,
   "id": "3e49944e",
   "metadata": {},
   "outputs": [],
   "source": [
    "# <1> Null 값 처리: Method 1 & 2(통계치, 외부 정보 활용)\n",
    "data.isnull().sum()"
   ]
  },
  {
   "cell_type": "code",
   "execution_count": null,
   "id": "75a81b51",
   "metadata": {},
   "outputs": [],
   "source": [
    "# <1> - 1 Method 1# addr_li 의 경우, 거의 모든 부분이 결측치이다.\n",
    "# 서울과 부산이 대도시라는 점을 가정했을 때 주소지에 리가 있을 경우가 없다는 점\n",
    "# 리에서의 부동산의 경우 경매가 많이 이루어지지 않는다점에서\n",
    "# addr_li의 데이터는 분석대상에서 제외하자.\n",
    "data.drop('addr_li', axis=1).head()"
   ]
  },
  {
   "cell_type": "code",
   "execution_count": null,
   "id": "44fb72fb",
   "metadata": {},
   "outputs": [],
   "source": [
    "# '리'의 경우와 '리'가 아닌 경우를 비교하여 유의미한 결과를 추출할 수 있다고 가정한다면,\n",
    "# '리'가 아닌 경우를 Null값으로 대체하고 그것을 바탕으로 해석할 수 있다.\n",
    " \n",
    "data['addr_li'].fillna('NA', inplace=True)\n",
    "print(data['addr_li'].unique())\n",
    " \n",
    "data['addr_li_Null'].head()\n",
    " \n",
    "df = data[['addr_li_Null','Hammer_price']].groupby('addr_li_Null').mean()\n",
    "graph_1 = sns.barplot(x=df.index, y='Hammer_price', data=df)"
   ]
  },
  {
   "cell_type": "code",
   "execution_count": null,
   "id": "10779381",
   "metadata": {},
   "outputs": [],
   "source": [
    "# 위의 addr_li와 같이 addr_bunji2, road_bunji2, Specific은 결측치를 채워넣기 힘들다.\n",
    "# 따라서 addr_bunji1과 road_bunji1을 결측치를 통계수치를 활용하여 채워넣고자 한다.\n",
    "# 오늘날, 도로명 주소를 많이 쓰기 때문에, road_bunji1를 채워놓고자 한다.\n",
    " \n",
    "data.loc[data['road_bunji1'].isnull() == True]"
   ]
  },
  {
   "cell_type": "code",
   "execution_count": null,
   "id": "a2c70e8c",
   "metadata": {},
   "outputs": [],
   "source": [
    "# 해당 road_bunji1이 없는 데이터에 대해 raod_bunji2의 값이 있으면 그것으로 대체하려고 했지만, 둘 모두 비어있다.\n",
    "# 따라서 road_bunji1의 중앙값을 이용하여 채워넣고자 한다.\n",
    "# 아파트의 매물이 많다는 점에서 같으 도로명을 쓸 가능성이 높다고 생각하여...중앙값으로 대체해보고자 한다. (뇌피셜입니다...)\n",
    " \n",
    "data['road_bunji1'].fillna(data['road_bunji1'].median(), inplace = True)"
   ]
  },
  {
   "cell_type": "code",
   "execution_count": null,
   "id": "166cc03f",
   "metadata": {},
   "outputs": [],
   "source": [
    "# <2> 변수 7개 인코딩\n",
    " \n",
    "# <2> - 1 Close_date : 낙찰될 때의 연도를 통해 연도별 낙찰가격의 변동을 알기 위함\n",
    "Year = []\n",
    "\n",
    "for i in range(len(data['Close_date'])):\n",
    "    Year.append(data['Close_date'][i][:4])"
   ]
  },
  {
   "cell_type": "code",
   "execution_count": null,
   "id": "37b9da74",
   "metadata": {},
   "outputs": [],
   "source": [
    "data[\"Year\"] = Year"
   ]
  },
  {
   "cell_type": "code",
   "execution_count": null,
   "id": "5b6f39b3",
   "metadata": {},
   "outputs": [],
   "source": [
    "data['Year'].unique()\n",
    "data['Year'].replace('1111','2019', inplace=True)"
   ]
  },
  {
   "cell_type": "code",
   "execution_count": null,
   "id": "51a0bdef",
   "metadata": {},
   "outputs": [],
   "source": [
    "def transform_to_number(x):\n",
    "    if x=='2016':\n",
    "        return 2016\n",
    "    elif x=='2017':\n",
    "        return 2017\n",
    "    elif x=='2018':\n",
    "        return 2018\n",
    "    else:\n",
    "        return 2019"
   ]
  },
  {
   "cell_type": "code",
   "execution_count": null,
   "id": "2d7fd748",
   "metadata": {},
   "outputs": [],
   "source": [
    "data['Year'] = data['Year'].apply(transform_to_number)\n",
    "data['Year'].head(10)"
   ]
  },
  {
   "cell_type": "code",
   "execution_count": null,
   "id": "74d07593",
   "metadata": {},
   "outputs": [],
   "source": [
    "# <2> - 2 Creditor : 경매신청인에 따른 요구가격를 분석하기 위함\n",
    " \n",
    "Creditor_assortment = []\n",
    "\n",
    "for i in range(len(data['Creditor'])):\n",
    "    Creditor_assortment.append(data['Creditor'][i][-2:])"
   ]
  },
  {
   "cell_type": "code",
   "execution_count": null,
   "id": "889d07e6",
   "metadata": {},
   "outputs": [],
   "source": [
    "data['Creditor_assortment'] = Creditor_assortment"
   ]
  },
  {
   "cell_type": "code",
   "execution_count": null,
   "id": "468ef2b3",
   "metadata": {},
   "outputs": [],
   "source": [
    "data['Creditor_assortment'].unique()\n",
    "data['Creditor_assortment'].replace(['te','보험', '새)', '수협', '음료', '&D', '전문', '기금', '농협',\n",
    "       '피탈', '카드', '건설', '금융', '베이', '신협', '공사', '회의', '유통', '자원', '주)',\n",
    "       '레저', '비스', '상사', '앤디', '부산', '설비', '낸스', '물류', '삼진', '이씨', '연미',\n",
    "       '관리', '공단', '에스', '철강', '제지', '지주', '외1', '조합', '재단', '앤씨', '엔지',\n",
    "       '리얼', '퍼니', '축협', '구원', '러스', '동양', '이치', '에프', '리아', '우징', '책임',\n",
    "       '더스', '너지', '디칼', '중앙', '트원', '보증', '북센', '피아', '선진', '웍스', '스템',\n",
    "       '기술', '브스', 'CC', '로구', '트론', '먼트', '아이', '저축', '엠씨', '주류', '공업',\n",
    "       '개발', '스타', '프엔', '기공', '기업', '제화', '산업', '교회', '친회', '디스', '제강',\n",
    "       '로벌', '투자', '기지', '제철', '토건', '전기', '엠피', '서적', '앙회', '엔씨', '판매',\n",
    "       '농산', '강업', '해양', '사료', '루션', '봉천', '루코', 'NI', '필래', '정비', '블유',\n",
    "       '실업', '양곡', '학원', '이텍'], ['private','Other', 'Other', 'Other', 'Other', 'Other', 'Other', 'Other','Other',\n",
    "       'Other', 'Other', 'Other', 'Other', 'Other', 'Other', 'Other', 'Other', 'Other', 'Other', 'Other',\n",
    "       'Other', 'Other', 'Other', 'Other', 'Other', 'Other', 'Other', 'Other', 'Other', 'Other', 'Other',\n",
    "       'Other', 'Other', 'Other', 'Other', 'Other', 'Other', 'Other', 'Other', 'Other', 'Other', 'Other',\n",
    "       'Other', 'Other', 'Other', 'Other', 'Other', 'Other', 'Other', 'Other', 'Other', 'Other', 'Other',\n",
    "       'Other', 'Other', 'Other', 'Other', 'Other', 'Other', 'Other', 'Other', 'Other', 'Other', 'Other',\n",
    "       'Other', 'Other', 'Other', 'Other', 'Other', 'Other', 'Other', 'Other', 'Other', 'Other', 'Other',\n",
    "       'Other', 'Other', 'Other', 'Other', 'Other', 'Other', 'Other', 'Other', 'Other', 'Other', 'Other',\n",
    "       'Other', 'Other', 'Other', 'Other', 'Other', 'Other', 'Other', 'Other', 'Other', 'Other', 'Other',\n",
    "       'Other', 'Other', 'Other', 'Other', 'Other', 'Other', 'Other', 'Other', 'Other', 'Other', 'Other',\n",
    "       'Other', 'Other', 'Other', 'Other'], inplace=True)"
   ]
  },
  {
   "cell_type": "code",
   "execution_count": null,
   "id": "cc3b70bf",
   "metadata": {},
   "outputs": [],
   "source": [
    "data['Creditor_assortment'].unique()"
   ]
  },
  {
   "cell_type": "code",
   "execution_count": null,
   "id": "b448db32",
   "metadata": {},
   "outputs": [],
   "source": [
    "# <2> - 3 Share_auction_YorN : 부동산에서 소유의 명시를 확실히 하기 위해서\n",
    " \n",
    "data['Share_auction_YorN'].unique()\n",
    "data['Share_auction_YorN'].replace(['N', 'Y'], ['단독', '공유'], inplace=True)"
   ]
  },
  {
   "cell_type": "code",
   "execution_count": null,
   "id": "a712689e",
   "metadata": {},
   "outputs": [],
   "source": [
    "# <2> - 4 Auction_count : 해당 부동산의 총 경매 횟수에 따른 낙찰가 변동 파악을 위함\n",
    " \n",
    "data['Auction_count'].unique()\n",
    "data['Auction_count_idx']=data['Auction_count'].replace([2,3,4,1,6,7,5,9,8,10,13], ['0-3','0-3','0-3','4-7','0-3','4-7','4-7','9-','9-','9-','9-'])"
   ]
  },
  {
   "cell_type": "code",
   "execution_count": null,
   "id": "34f1410c",
   "metadata": {},
   "outputs": [],
   "source": [
    "# <2> - 5 road_name : '대로>로>길' 이라는 기준으로 부동산의 낙찰가 변동을 위해\n",
    " \n",
    "data['road_name'].head()\n",
    "Road = []\n",
    "\n",
    "for i in range(len(data['road_name'])):\n",
    "    Road.append(data['road_name'][i][-2:])"
   ]
  },
  {
   "cell_type": "code",
   "execution_count": null,
   "id": "84c2de15",
   "metadata": {},
   "outputs": [],
   "source": [
    "data[\"Road\"] = Road"
   ]
  },
  {
   "cell_type": "code",
   "execution_count": null,
   "id": "9464c7a9",
   "metadata": {},
   "outputs": [],
   "source": [
    "t = 0\n",
    "for i in data['Road']:\n",
    "    if '대로' == i:\n",
    "        data['Road'][t] = '1'\n",
    "    elif '길' in i[-1]:\n",
    "        data['Road'][t] = '3'\n",
    "    else:\n",
    "        data['Road'][t] = '2'\n",
    "    t += 1"
   ]
  },
  {
   "cell_type": "code",
   "execution_count": null,
   "id": "fcedb0e4",
   "metadata": {},
   "outputs": [],
   "source": [
    "data[['road_name','Road']].head()"
   ]
  },
  {
   "cell_type": "code",
   "execution_count": null,
   "id": "b5655f7b",
   "metadata": {},
   "outputs": [],
   "source": [
    "# <2> - 6 addr_si : 행정구역과 비행정구역의 부동산 낙찰가 차이 비교\n",
    " \n",
    "data['addr_si'].unique()\n",
    "data['addr_si'].replace(['해운대구', '사상구', '남구', '사하구', '영도구', '서구', '부산진구', '연제구', '수영구',\n",
    "       '동래구', '동구', '중구', '강서구', '북구', '금정구', '기장군', '강남구', '은평구', '서초구',\n",
    "       '영등포구', '양천구', '마포구', '금천구', '성동구', '노원구', '서대문구', '용산구', '구로구',\n",
    "       '강북구', '관악구', '송파구', '도봉구', '광진구', '중랑구', '동대문구', '강동구', '성북구',\n",
    "       '동작구', '종로구'], [' ',' ',' ',' ',' ',' ',' ','시청소재지',' ',' ',' ',' ',' ',' ',' ',' ',' ',' ',' ',' ',' ',' ',' ',' ',' ',' ',' ',' ',' ',' ',' ',\n",
    "                      ' ',' ',' ',' ',' ',' ',' ',' '], inplace=True)"
   ]
  },
  {
   "cell_type": "code",
   "execution_count": null,
   "id": "014b6212",
   "metadata": {},
   "outputs": [],
   "source": [
    "# <2> - 7 Appraisal_company : 회사별 지부를 구분하기 위함\n",
    " \n",
    "data[['addr_do','Appraisal_company']].head()\n",
    "data.loc[data['addr_do']=='부산', 'Appraisal_company_loc'] = '부산_' + data['Appraisal_company']\n",
    "data.loc[data['addr_do'] =='서울', 'Appraisal_company_loc'] = '서울_' + data['Appraisal_company']"
   ]
  },
  {
   "cell_type": "code",
   "execution_count": null,
   "id": "b906ed09",
   "metadata": {},
   "outputs": [],
   "source": [
    "# <3> 연속형 변수들 간 상관관계: correlation matrix\n",
    " \n",
    "print(data.describe())"
   ]
  },
  {
   "cell_type": "code",
   "execution_count": null,
   "id": "ea1d2a23",
   "metadata": {},
   "outputs": [],
   "source": [
    "correlation_features = list(data[['Claim_price', 'Auction_count','Auction_miscarriage_count','Total_land_gross_area',\n",
    "                                  'Total_land_real_area','Total_land_auction_area','Total_building_area','Total_building_auction_area',\n",
    "                                  'Total_appraisal_price','Total_floor','Current_floor','point.y','point.x','Hammer_price']])"
   ]
  },
  {
   "cell_type": "code",
   "execution_count": null,
   "id": "accb7b37",
   "metadata": {},
   "outputs": [],
   "source": [
    "data[correlation_features].corr()"
   ]
  },
  {
   "cell_type": "code",
   "execution_count": null,
   "id": "06abc3d8",
   "metadata": {},
   "outputs": [],
   "source": [
    "sns.heatmap(data[correlation_features].corr(),annot=True,linewidths=0.2)\n",
    "fig=plt.gcf()fig.set_size_inches(10,8)\n",
    "plt.show()"
   ]
  },
  {
   "cell_type": "code",
   "execution_count": null,
   "id": "81b6b313",
   "metadata": {},
   "outputs": [],
   "source": [
    "# <4> 2차원 graph\n",
    " \n",
    "# 전체적인 그래프 해석은 Hammer_price(낙찰가)가 부동산의 가격(경제상황)을 대변할 수 있다는 가정하에서 해석하였습니다. #\n",
    " \n",
    "plt.rc('font', size=20)\n",
    "plt.rc('axes', titlesize=20, labelsize=18)\n",
    "plt.rc('axes', labelsize=18)\n",
    "plt.rc('axes', titlesize=22, labelsize=18)\n",
    "plt.rc('ytick',labelsize=12)\n",
    "font_name = mpl.font_manager.FontProperties(fname='C:/Windows/Fonts/malgun.ttf').get_name()\n",
    "mpl.rc('font', family=font_name) # 그래프 한글 입력"
   ]
  },
  {
   "cell_type": "code",
   "execution_count": null,
   "id": "ab10c7b2",
   "metadata": {},
   "outputs": [],
   "source": [
    "# <4> - 1 부산,서울의 낙찰가 평균 차이\n",
    " \n",
    "graph_2 = sns.barplot(x='Apartment_usage', y='Hammer_price', data=data)\n",
    "plt.title(\"아파트와 주상복합 낙찰가\")"
   ]
  },
  {
   "cell_type": "code",
   "execution_count": null,
   "id": "3dd0aa87",
   "metadata": {},
   "outputs": [],
   "source": [
    "# <4> - 2 경매횟수와 낙찰가\n",
    " \n",
    "f,ax=plt.subplots(1,2,figsize=(15,5))\n",
    "graph_3 = sns.barplot(x='Auction_count', y=\"Hammer_price\", ax=ax[0], data=data)\n",
    "graph_4 = sns.barplot(x='Auction_miscarriage_count', y=\"Hammer_price\",ax=ax[1], data=data)"
   ]
  },
  {
   "cell_type": "code",
   "execution_count": null,
   "id": "c3cc515e",
   "metadata": {},
   "outputs": [],
   "source": [
    "# <4> - 3 연도별 낙찰가\n",
    " \n",
    "material_1 = data[['Year','Hammer_price']].groupby('Year').median()\n",
    "material_1"
   ]
  },
  {
   "cell_type": "code",
   "execution_count": null,
   "id": "292a4be8",
   "metadata": {},
   "outputs": [],
   "source": [
    "graph_5 = sns.barplot(x='Year', y='Hammer_price', data=data)\n",
    "plt.title(\"연도별 낙찰가 비교\")"
   ]
  },
  {
   "cell_type": "code",
   "execution_count": null,
   "id": "25ca7a4b",
   "metadata": {},
   "outputs": [],
   "source": [
    "# <4> - 4 요구가격과 낙찰가\n",
    " \n",
    "graph_6 = sns.jointplot(x=\"Claim_price\", y=\"Hammer_price\", data=data)\n",
    "graph_6"
   ]
  },
  {
   "cell_type": "code",
   "execution_count": null,
   "id": "a6d4b924",
   "metadata": {},
   "outputs": [],
   "source": [
    "# <4> - 5 경도와 낙찰가\n",
    " \n",
    "graph_7=sns.jointplot(x=\"point.x\", y=\"Hammer_price\",data=data)\n",
    "graph_7"
   ]
  },
  {
   "cell_type": "code",
   "execution_count": null,
   "id": "8e45f90e",
   "metadata": {},
   "outputs": [],
   "source": [
    "# <5> 3차원 그래프\n",
    " \n",
    "# <5> - 1 서울과 부산에서의 아파트와 주상복합 가격 비교\n",
    " \n",
    "graph_8 = sns.violinplot(x=\"addr_do\", y=\"Hammer_price\", hue=\"Apartment_usage\", data=data, split=True)"
   ]
  },
  {
   "cell_type": "code",
   "execution_count": null,
   "id": "c6e2d399",
   "metadata": {},
   "outputs": [],
   "source": [
    "# <5> - 2 연도별 주상복합과 아파트 낙찰가 변화\n",
    " \n",
    "graph_9 = sns.factorplot('Year','Hammer_price',hue='Apartment_usage',data=data)\n",
    "graph_9"
   ]
  },
  {
   "cell_type": "code",
   "execution_count": null,
   "id": "1d4b3194",
   "metadata": {},
   "outputs": [],
   "source": [
    "# <5> - 3 연도별 서울과 부산의 낙찰가 변화\n",
    " \n",
    "graph_10 = sns.factorplot('Year','Hammer_price',hue='addr_do',data=data)\n",
    "graph_10"
   ]
  },
  {
   "cell_type": "code",
   "execution_count": null,
   "id": "959639d5",
   "metadata": {},
   "outputs": [],
   "source": [
    "# <6> - 1 파생변수: [Lossing] 이득/손실\n",
    " \n",
    "data['Lossing_amount'] = 0\n",
    "data['Lossing'] = ''\n",
    "data['Lossing_amount'] = data['Hammer_price'] - data['Claim_price']"
   ]
  },
  {
   "cell_type": "code",
   "execution_count": null,
   "id": "7f0f9669",
   "metadata": {},
   "outputs": [],
   "source": [
    "t = 0 for i in data['Lossing_amount']:\n",
    "    if i > 0:\n",
    "        data['Lossing'][t] = \"이득\"\n",
    "    else:\n",
    "        data['Lossing'][t] = \"손실\"\n",
    "    t+=1"
   ]
  },
  {
   "cell_type": "code",
   "execution_count": null,
   "id": "fafa8fce",
   "metadata": {},
   "outputs": [],
   "source": [
    "material_2 = pd.crosstab(data['addr_do'],data['Lossing'],margins=True).style.background_gradient(cmap='summer_r')\n",
    "material_2"
   ]
  },
  {
   "cell_type": "code",
   "execution_count": null,
   "id": "2eab0452",
   "metadata": {},
   "outputs": [],
   "source": [
    "# <6> - 2 파생변수: cats-Appraisal_company \n",
    " \n",
    "df = data['Appraisal_company'].value_counts()\n",
    "df.describe()"
   ]
  },
  {
   "cell_type": "code",
   "execution_count": null,
   "id": "ba4ebc21",
   "metadata": {},
   "outputs": [],
   "source": [
    "bins = [0, 3, 7, 11, 34]\n",
    "labels = ['소소','중소', '중중', '대']\n",
    "works = pd.cut(df, bins, labels=labels)\n",
    "works"
   ]
  },
  {
   "cell_type": "code",
   "execution_count": null,
   "id": "8616f09b",
   "metadata": {},
   "outputs": [],
   "source": [
    "df2= data.groupby('Appraisal_company')['Total_appraisal_price'].mean()\n",
    "df3 = pd.concat([works, df2], axis= 1)\n",
    "df3.groupby('Appraisal_company')['Total_appraisal_price'].mean()"
   ]
  }
 ],
 "metadata": {
  "kernelspec": {
   "display_name": "Python 3 (ipykernel)",
   "language": "python",
   "name": "python3"
  },
  "language_info": {
   "codemirror_mode": {
    "name": "ipython",
    "version": 3
   },
   "file_extension": ".py",
   "mimetype": "text/x-python",
   "name": "python",
   "nbconvert_exporter": "python",
   "pygments_lexer": "ipython3",
   "version": "3.11.4"
  }
 },
 "nbformat": 4,
 "nbformat_minor": 5
}
