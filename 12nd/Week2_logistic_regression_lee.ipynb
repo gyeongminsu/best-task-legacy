{
 "cells": [
  {
   "cell_type": "code",
   "execution_count": null,
   "id": "55db2d46",
   "metadata": {},
   "outputs": [],
   "source": [
    "import numpy as np \n",
    "import pandas as pd\n",
    "import matplotlib.pyplot as plt\n",
    "import seaborn as sns\n",
    "import warnings\n",
    "import matplotlib as mpl\n",
    "from sklearn.linear_model import LogisticRegression\n",
    "plt.style.use('seaborn')\n",
    "warnings.filterwarnings('ignore')\n",
    "%matplotlib inline"
   ]
  },
  {
   "cell_type": "code",
   "execution_count": null,
   "id": "652d5095",
   "metadata": {},
   "outputs": [],
   "source": [
    "data = pd.read_csv(r\"C:\\Users\\ehj14\\Desktop\\baseball.csv\")\n",
    "data.head()"
   ]
  },
  {
   "cell_type": "code",
   "execution_count": null,
   "id": "068abb17",
   "metadata": {},
   "outputs": [],
   "source": [
    "# 현 데이터를 통해 알고자하는 바는 '어떤 지표가 우리 팀을 플레이오프로 이끌었지'이다.\n",
    "# 따라서('RankPlayoffs', 'RankSeason')은 제거해고자 한다.\n",
    "data= data.drop('RankPlayoffs', axis =1)\n",
    "data = data.drop('RankSeason', axis=1)"
   ]
  },
  {
   "cell_type": "code",
   "execution_count": null,
   "id": "77caf759",
   "metadata": {},
   "outputs": [],
   "source": [
    "# 또한 같은 의미에서 ('Team', 'Year', 'W', 'G') 분석대상과 거리가 멀다.\n",
    "data = data.drop('Team', axis=1)\n",
    "data = data.drop('Year', axis=1)\n",
    "data = data.drop('W', axis=1)\n",
    "data = data.drop('G', axis=1)"
   ]
  },
  {
   "cell_type": "code",
   "execution_count": null,
   "id": "6f859f0d",
   "metadata": {},
   "outputs": [],
   "source": [
    "# 회귀분석에서 문자형 변수는 사용불가하므로, 대체해줘야 한다.\n",
    "data.League.replace({'AL':0, 'NL':1}, inplace=True)\n",
    "data.isnull().sum()"
   ]
  },
  {
   "cell_type": "code",
   "execution_count": null,
   "id": "b52fbe96",
   "metadata": {},
   "outputs": [],
   "source": [
    "# ('OOBP', 'OSLG')의 경우 결측치가 많은데, 상대방에 대한 기록이 최근에서야 이루어졌기 때문이라고 생각된다.\n",
    "# 상대방이 못한 경우 역시 플레이오프로 이끌 수 있기 때문에 이를 결측치를 평균값으로 대체해야 한다.\n",
    "data['OOBP'].fillna(data['OOBP'].mean(), inplace=True)\n",
    "data['OSLG'].fillna(data['OSLG'].mean(), inplace=True)"
   ]
  },
  {
   "cell_type": "code",
   "execution_count": null,
   "id": "05a3cbe3",
   "metadata": {},
   "outputs": [],
   "source": [
    "# 설명변수와 종속변수 나누기\n",
    "x_data = data[['League', 'RS', 'RA', 'OBP', 'SLG', 'BA', 'OOBP', 'OSLG']]\n",
    "y_data = pd.DataFrame(data['Playoffs'], columns=['Playoffs'])\n",
    "xy_data = pd.concat([x_data, y_data], axis=1)"
   ]
  },
  {
   "cell_type": "code",
   "execution_count": null,
   "id": "8eec2d25",
   "metadata": {},
   "outputs": [],
   "source": [
    "correlation_features = list(x_data)\n",
    "data[correlation_features].corr()\n",
    "sns.heatmap(data[correlation_features].corr(),annot=True,linewidths=0.2) \n",
    "fig=plt.gcf()\n",
    "fig.set_size_inches(10,8)\n",
    "plt.show()"
   ]
  },
  {
   "cell_type": "markdown",
   "id": "d4e7d0d2",
   "metadata": {},
   "source": [
    ": 상관계수를 살펴보면, RS와 OBP, SLG가 높은 상관관계를 가지고 있다. 일반적으로, 장타를 쳐야 출루를 할 수 있고, 출루를 해야 득점으로 이어질 수 있다는 것을 알고 있다면, 이와 같은 결과는 당연하다."
   ]
  },
  {
   "cell_type": "code",
   "execution_count": null,
   "id": "b1de7cee",
   "metadata": {},
   "outputs": [],
   "source": [
    "# 상관관계가 높은 자료들을 위주로 그래프를 그려보면,\n",
    " \n",
    "graph_1 = sns.jointplot(x='RS', y='SLG', data=data)"
   ]
  },
  {
   "cell_type": "markdown",
   "id": "1f640cce",
   "metadata": {},
   "source": [
    "<그래프 1> : '득점'과 '장타율'의 관계로, 타자가 공을 쳐야만 득점을 낼 수 있다는 야구 규칙을 살펴본다면, 높은 상관관계를 가지는 것이 당연하다."
   ]
  },
  {
   "cell_type": "code",
   "execution_count": null,
   "id": "11f93ec5",
   "metadata": {},
   "outputs": [],
   "source": [
    "graph_2 = sns.jointplot(x='RA', y='OOBP', data=data)"
   ]
  },
  {
   "cell_type": "markdown",
   "id": "1ace15f7",
   "metadata": {},
   "source": [
    "<그래프2> : '실점'과 '상대방의 출루' 역시 실점은 상대방의 출루가 있어야만 가능하기 때문에 이와같은 그래프가 나온다. 하지만 중간의 직선과 같은 형태의 점들의 잡합이 있는데 이것은 누락된 기록을 평균값으로 대체해주었기 때문에 생긴 것으로 보인다."
   ]
  },
  {
   "cell_type": "code",
   "execution_count": null,
   "id": "80b64e3e",
   "metadata": {},
   "outputs": [],
   "source": [
    "graph_3 = sns.regplot(x=data['OBP'], y = data['BA'])"
   ]
  },
  {
   "cell_type": "markdown",
   "id": "b1b2a55d",
   "metadata": {},
   "source": [
    "<그래프3> : '타율'과 '장타율' 역시 장타율의 의미가 쉽게 공이 멀리 날아간 타율을 말하고 있는 것이기 때문에, 종속적인 관계가 확실하여, 높은 상관이 나타나는 것이다."
   ]
  },
  {
   "cell_type": "code",
   "execution_count": null,
   "id": "082ff822",
   "metadata": {},
   "outputs": [],
   "source": [
    "from sklearn.model_selection import train_test_split\n",
    "from sklearn.discriminant_analysis import LinearDiscriminantAnalysis\n",
    "X_train, X_test, y_train, y_test = train_test_split(X, y, test_size = 0.2, random_state = 0)"
   ]
  },
  {
   "cell_type": "code",
   "execution_count": null,
   "id": "477c5680",
   "metadata": {},
   "outputs": [],
   "source": [
    "# Feature Scaling\n",
    "from sklearn.preprocessing import StandardScaler\n",
    "sc_X = StandardScaler()\n",
    "X_train = sc_X.fit_transform(X_train)\n",
    "X_test = sc_X.transform(X_test)\n",
    "warnings.filterwarnings(action='once')"
   ]
  },
  {
   "cell_type": "code",
   "execution_count": null,
   "id": "2526887b",
   "metadata": {},
   "outputs": [],
   "source": [
    "from sklearn.linear_model import LogisticRegression\n",
    "model = LogisticRegression()\n",
    "model.fit(X_train, y_train)"
   ]
  },
  {
   "cell_type": "code",
   "execution_count": null,
   "id": "46cf5cfe",
   "metadata": {},
   "outputs": [],
   "source": [
    "model.score(X_train, y_train)\n",
    "import sklearn as sk\n",
    "sk.metrics.mean_squared_error(y_train, model.predict(X_train))\n",
    "model.score(X_test, y_test)\n",
    "sk.metrics.mean_squared_error(y_test, model.predict(X_test))"
   ]
  },
  {
   "cell_type": "markdown",
   "id": "7ea35fdc",
   "metadata": {},
   "source": [
    ": train 데이터와 test 데이터를 비교해볼 때, R-squared와 MSE는 대략적으로 각각 0.89, 0.85, 0.10, 0.14 의 수치를 보이고 있다. 이를 판단해보면, 로지스틱 회귀는 85%의 설명력과 0.14의 오차를 지니고 있다. \n",
    "즉, 꽤 설명력이 높다고 할 수 있다."
   ]
  },
  {
   "cell_type": "code",
   "execution_count": null,
   "id": "ec0e85f9",
   "metadata": {},
   "outputs": [],
   "source": [
    "print(model.coef_)\n",
    "print(model.intercept_)"
   ]
  },
  {
   "cell_type": "markdown",
   "id": "6d0a084d",
   "metadata": {},
   "source": [
    ": 각 회귀계수들을 비교해보면,\n",
    " \n",
    "0.18699265 : League\n",
    "2.10679917 : RS\n",
    "-2.42946768 :RA\n",
    "0.69157859 : OBP\n",
    "0.23721194 : SLG\n",
    "-0.23691645 : BA\n",
    "-0.45190743 : OOBP\n",
    "0.10386695 : OSLG\n",
    " \n",
    "와 같이 나타난다. 로지스틱 회귀에서의 회귀계수의 의미는 해당 변수가 증가할 때, 로그 오즈의 변화량이 각각 회수계수만큼 증가한다는 것이다. \n",
    "즉, 선형 회귀와 달리, 종속 변수의 증가량을 나타내지는 않는다. 하지만 로지스틱 회귀에서 역시 계수가 높다는 것은 변화량이 크다는 것을 의미하며, 결과적으로 RS, OBP가 플레이오프 진출을 설명한다고 말할 수 있다."
   ]
  },
  {
   "cell_type": "code",
   "execution_count": null,
   "id": "b8caef23",
   "metadata": {},
   "outputs": [],
   "source": [
    "from sklearn.model_selection import cross_val_score\n",
    "from sklearn.linear_model import LogisticRegression\n",
    " \n",
    "model = LogisticRegression()\n",
    "scores = cross_val_score(model, X,y, cv=10)\n",
    "print(scores)\n",
    "print(scores.mean())"
   ]
  },
  {
   "cell_type": "markdown",
   "id": "0c36d1e4",
   "metadata": {},
   "source": [
    ": 교차검증을 통해 0.89516129 0.87096774 0.84677419 0.91935484 0.90243902 0.86178862 0.84552846 0.86178862 0.91803279 0.82786885 의 결과를 얻을 수 있었다. \n",
    "R-squared의 값이 0.82부터 0.91까지 분포되어 있다. 이에 대해서 평균값을 최종 R-sqaured 값으로 한다면, 해당 회귀는 87%의 설명력을 지니고 있고, \n",
    "앞서 교차검증을 하지 않은 데이터(train-test)의 값과 비교해 볼 때, 85%에서 87%로 증가한 것을 볼 수 있다."
   ]
  }
 ],
 "metadata": {
  "kernelspec": {
   "display_name": "Python 3 (ipykernel)",
   "language": "python",
   "name": "python3"
  },
  "language_info": {
   "codemirror_mode": {
    "name": "ipython",
    "version": 3
   },
   "file_extension": ".py",
   "mimetype": "text/x-python",
   "name": "python",
   "nbconvert_exporter": "python",
   "pygments_lexer": "ipython3",
   "version": "3.11.4"
  }
 },
 "nbformat": 4,
 "nbformat_minor": 5
}
