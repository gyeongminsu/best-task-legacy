{
 "cells": [
  {
   "cell_type": "markdown",
   "id": "b86b1ce5",
   "metadata": {},
   "source": [
    "## DT 1번"
   ]
  },
  {
   "cell_type": "code",
   "execution_count": null,
   "id": "a6891b2f",
   "metadata": {},
   "outputs": [],
   "source": [
    "import pandas as pd \n",
    "import numpy as np\n",
    "from IPython.display import Image"
   ]
  },
  {
   "cell_type": "code",
   "execution_count": null,
   "id": "a020f792",
   "metadata": {},
   "outputs": [],
   "source": [
    "pd_data = pd.read_csv('https://raw.githubusercontent.com/AugustLONG/ML01/master/01decisiontree/AllElectronics.csv')\n",
    "pd_data.drop(\"RID\",axis=1, inplace = True) #RID는 그냥 순서라서 삭제\n",
    "pd_data"
   ]
  },
  {
   "cell_type": "code",
   "execution_count": null,
   "id": "313b7320",
   "metadata": {},
   "outputs": [],
   "source": [
    "# # 1. Gini 계수를 구하는 함수 만들기\n",
    "# - Input: df(데이터), label(타겟변수명)\n",
    "Image('get_gini.png') # get_gini 함수에 사용되는 공식 (Pj에 제곱 필요 - 그림 오타)\n",
    " \n",
    "def get_gini(df, label): \n",
    "    class_total = df[label]         # 타겟변수 내 전체 데이터\n",
    "    class_uniq = df[label].unique() # 타겟변수 내 고유 클래스의 집합\n",
    " \n",
    "    gini = 1\n",
    "    for each in class_uniq: # 공식에 맞게 지니계수를 계산한다. \n",
    "        gini += -(len(class_total.loc[class_total == each]) / len(class_total)) ** 2\n",
    "    \n",
    "    return gini"
   ]
  },
  {
   "cell_type": "code",
   "execution_count": null,
   "id": "a76de1b7",
   "metadata": {},
   "outputs": [],
   "source": [
    "get_gini(pd_data,'class_buys_computer')"
   ]
  },
  {
   "cell_type": "code",
   "execution_count": null,
   "id": "f2d0f1df",
   "metadata": {},
   "outputs": [],
   "source": [
    "# # 2. Feature의 Class를 이진 분류로 만들기\n",
    "#  ## ex) {A,B,C} -> ({A}, {B,C}), ({B}, {A,C}), ({C}, {A,B})\n",
    " \n",
    "# - Input: df(데이터), attribute(Gini index를 구하고자 하는 변수명)\n",
    "from itertools import combinations\n",
    " \n",
    "def get_binary_split(df, attribute):\n",
    "    class_uniq = df[attribute].unique() # 고유 클래스의 집합 (클래스가 하나뿐인 것은 무의미하기 때문에 길이가 2 이상이라 가정)\n",
    "    \n",
    "    result = []\n",
    "    # Binary split을 전제로 하기 때문에 절반 길이의 조합만 구해도 나머지가 구해진다.\n",
    "    for i in range(1, len(class_uniq)//2 + 1):\n",
    "        combi = list(combinations(class_uniq, i)) # 각 항목이 n개로 이루어진 조합(부분집합)을 리스트로 만든다.\n",
    "        \n",
    "        for j in range(len(combi)): # (A,B)로 split된다고 가정하면 A를 먼저 결과에 저장한다.\n",
    "            result.append(list(combi[j]))\n",
    "        \n",
    "        # 클래스가 2개인 경우에는 (1,1)로 나뉘어 B에 해당되는 나머지가 자동 저장되므로 따로 계산할 필요가 없다.\n",
    "        if len(class_uniq) > 2:\n",
    "            # 각각의 A에 대하여 A를 포함하지 않는(binary split된) 나머지인 B를 저장한다.\n",
    "            for j in range(len(combi)):\n",
    "                # 전체 조합에서 A 부분을 삭제한 나머지를 저장\n",
    "                tmp = list(df[attribute].unique())\n",
    "                for elm in list(combi[j]):\n",
    "                    tmp.remove(elm)\n",
    "                result.append(tmp)\n",
    "                \n",
    "    return result"
   ]
  },
  {
   "cell_type": "code",
   "execution_count": null,
   "id": "f5b1a06f",
   "metadata": {},
   "outputs": [],
   "source": [
    "get_binary_split(pd_data,'credit_rating') # 클래스가 2개인 경우\n",
    "get_binary_split(pd_data,'age') # 클래스가 3개인 경우"
   ]
  },
  {
   "cell_type": "code",
   "execution_count": null,
   "id": "a00f798f",
   "metadata": {},
   "outputs": [],
   "source": [
    "# # 3. 다음은 모든 이진분류의 경우의 Gini index를 구하는 함수 만들기\n",
    "# - 위에서 완성한 두 함수를 사용하여 만들어주세요!\n",
    "Image('get_attribute_gini_index.png') # get_attribute_gini_index 함수에 사용되는 공식\n",
    " \n",
    "def get_attribute_gini_index(df, attribute, label):\n",
    "    class_total = df[attribute]         # 변수의 전체 데이터\n",
    "    class_uniq = df[attribute].unique() # 고유 클래스의 집합 (클래스가 하나뿐인 것은 무의미하기 때문에 길이가 2 이상이라 가정)\n",
    "    \n",
    "    # binary split된 조합 데이터\n",
    "    bin_split = get_binary_split(df, attribute)\n",
    "    \n",
    "    result = {}\n",
    "    gini = 0\n",
    "    for elm in bin_split: # 각 split 항목에 대한 gini index를 구한다.\n",
    "        included = np.isin(class_total,elm)            # elm을 포함 여부를 나타내는 Boolean index\n",
    "        num_positive = len(included[included] == True) # elm 내용을 포함하는 데이터의 개수\n",
    "        num_negative = len(class_total) - num_positive # elm 내용을 포함하지 않는 데이터의 개수\n",
    "        \n",
    "        # 위 공식에 맞게 계산한다.\n",
    "        gini = (num_positive / len(class_total)) * get_gini(df.loc[included == True], label) + (num_negative / len(class_total)) * get_gini(df.loc[included == False], label)\n",
    "        result['_'.join(elm)] = gini\n",
    "            \n",
    "    return result"
   ]
  },
  {
   "cell_type": "code",
   "execution_count": null,
   "id": "c22b511b",
   "metadata": {},
   "outputs": [],
   "source": [
    "get_attribute_gini_index(pd_data, \"age\", \"class_buys_computer\")"
   ]
  },
  {
   "cell_type": "code",
   "execution_count": null,
   "id": "2a095e5d",
   "metadata": {},
   "outputs": [],
   "source": [
    "# 여기서 가장 작은 Gini index값을 가지는 class를 기준으로 split해야겠죠?\n",
    "min(get_attribute_gini_index(pd_data, \"age\", \"class_buys_computer\").items())"
   ]
  },
  {
   "cell_type": "code",
   "execution_count": null,
   "id": "0cb03607",
   "metadata": {},
   "outputs": [],
   "source": [
    "# # 다음의 문제를 위에서 작성한 함수를 통해 구한 값으로 보여주세요!\n",
    "# ## 문제1) 변수 ‘income’의 이진분류 결과를 보여주세요.\n",
    " \n",
    "##문제1 답안\n",
    "get_binary_split(pd_data, 'income')"
   ]
  },
  {
   "cell_type": "code",
   "execution_count": null,
   "id": "8d5bc6a3",
   "metadata": {},
   "outputs": [],
   "source": [
    "# ## 문제2) 분류를 하는 데 가장 중요한 변수를 선정하고, 해당 변수의 Gini index를 제시해주세요.\n",
    " \n",
    "##문제2 답안\n",
    "gini_age           = min(get_attribute_gini_index(pd_data, \"age\", \"class_buys_computer\").items())\n",
    "gini_income        = min(get_attribute_gini_index(pd_data, \"income\", \"class_buys_computer\").items())\n",
    "gini_student       = min(get_attribute_gini_index(pd_data, \"student\", \"class_buys_computer\").items())\n",
    "gini_credit_rating = min(get_attribute_gini_index(pd_data, \"credit_rating\", \"class_buys_computer\").items())\n",
    " \n",
    "# > age 변수의 gini index가 0.35714285714285715 으로 가장 작기 때문에 가장 중요한 분류 변수로 선정된다. <br/>\n",
    "# 따라서 최초 split 변수는 **age**이며, 그 기준은 **middle_aged**가 될 것이다."
   ]
  },
  {
   "cell_type": "code",
   "execution_count": null,
   "id": "b8dacefe",
   "metadata": {},
   "outputs": [],
   "source": [
    "# ## 문제3) 문제 2에서 제시한 feature로 DataFrame을 split한 후 나눠진 2개의 DataFrame에서 각각   다음으로 중요한 변수를 선정하고 해당 변수의 Gini index를 제시해주세요.\n",
    " \n",
    "##문제3 답안\n",
    " \n",
    "# middle_aged에 해당되는 DataFrame\n",
    "being_split_1 = pd_data.loc[pd_data.age == 'middle_aged']\n",
    " \n",
    "gini_income_1 = min(get_attribute_gini_index(being_split_1, \"income\", \"class_buys_computer\").items())\n",
    "gini_student_1 = min(get_attribute_gini_index(being_split_1, \"student\", \"class_buys_computer\").items())\n",
    "gini_credit_rating_1 = min(get_attribute_gini_index(being_split_1, \"credit_rating\", \"class_buys_computer\").items())"
   ]
  },
  {
   "cell_type": "code",
   "execution_count": null,
   "id": "95365741",
   "metadata": {},
   "outputs": [],
   "source": [
    "# middle_aged에 해당되지 않는 DataFrame\n",
    "being_split_2 = pd_data.loc[pd_data.age != 'middle_aged']\n",
    " \n",
    "gini_age_2 = min(get_attribute_gini_index(being_split_2, \"age\", \"class_buys_computer\").items())\n",
    "gini_income_2 = min(get_attribute_gini_index(being_split_2, \"income\", \"class_buys_computer\").items())\n",
    "gini_student_2 = min(get_attribute_gini_index(being_split_2, \"student\", \"class_buys_computer\").items())\n",
    "gini_credit_rating_2 = min(get_attribute_gini_index(being_split_2, \"credit_rating\", \"class_buys_computer\").items())\n",
    "\n",
    "# > age[middle_aged]에 이어 두 번째로 중요한 변수는 0.31999999999999984의 gini index를 나타내는 student가 선정되었다. <br/>\n",
    "# 따라서 다음 split은 **student**의 **no**를 기준으로 실행될 것이다."
   ]
  },
  {
   "cell_type": "markdown",
   "id": "8be5ab38",
   "metadata": {},
   "source": [
    "## DT 2번"
   ]
  },
  {
   "cell_type": "code",
   "execution_count": null,
   "id": "a88c89ef",
   "metadata": {},
   "outputs": [],
   "source": [
    "import pandas as pd \n",
    "import numpy as np\n",
    "import math\n",
    "from IPython.display import Image"
   ]
  },
  {
   "cell_type": "code",
   "execution_count": null,
   "id": "cef6fb95",
   "metadata": {},
   "outputs": [],
   "source": [
    "data = pd.read_csv('https://raw.githubusercontent.com/AugustLONG/ML01/master/01decisiontree/AllElectronics.csv')\n",
    "data.drop(\"RID\",axis=1, inplace = True) #RID는 그냥 순서라서 삭제"
   ]
  },
  {
   "cell_type": "code",
   "execution_count": null,
   "id": "729de2ae",
   "metadata": {},
   "outputs": [],
   "source": [
    "Image('get_label_entropy.png') # 엔트로피 계산 공식"
   ]
  },
  {
   "cell_type": "code",
   "execution_count": null,
   "id": "6e1efaac",
   "metadata": {},
   "outputs": [],
   "source": [
    "def get_label_entropy(df, label):\n",
    "    class_total = df[label]          # feature의 전체 데이터\n",
    "    class_uniq = df[label].unique()  # feature의 고유 데이터\n",
    "    \n",
    "    entropy = 0\n",
    "    for each in class_uniq: # 공식에 맞게 계산한다.\n",
    "        prob = len(class_total.loc[class_total == each]) / len(class_total)\n",
    "        entropy -=  prob * math.log(prob,2)\n",
    "    \n",
    "    return entropy"
   ]
  },
  {
   "cell_type": "code",
   "execution_count": null,
   "id": "7befc7a4",
   "metadata": {},
   "outputs": [],
   "source": [
    "get_label_entropy(data, 'class_buys_computer') # Info(D) = Entropy(label)"
   ]
  },
  {
   "cell_type": "code",
   "execution_count": null,
   "id": "b22fdc84",
   "metadata": {},
   "outputs": [],
   "source": [
    "Image('get_attribute_entropy.png') # Feature의 엔트로피 계산 공식"
   ]
  },
  {
   "cell_type": "code",
   "execution_count": null,
   "id": "d1055b3f",
   "metadata": {},
   "outputs": [],
   "source": [
    "def get_attribute_entropy(df, attribute, label):\n",
    "    class_total = df[attribute]\n",
    "    class_uniq  = df[attribute].unique()\n",
    "    \n",
    "    entropy = 0\n",
    "    for each in class_uniq:\n",
    "        class_positive = len(class_total.loc[class_total == each]) # 해당 클래스에 속하는 데이터의 개수\n",
    "        prob = class_positive / len(class_total)\n",
    " \n",
    "        num_label_pos  = len(class_total.loc[(class_total == each) & (df[label] == 'yes')]) \n",
    "        num_label_neg  = class_positive - num_label_pos\n",
    "        \n",
    "        prob_label_pos = num_label_pos / class_positive # 해당 클래스 데이터 중 label이 yes인 경우 확률\n",
    "        prob_label_neg = num_label_neg / class_positive # 해당 클래스 데이터 중 label이 no인 경우 확률\n",
    " \n",
    "        try: # 공식에 맞게 계산한다.\n",
    "            entropy -= prob * (-(prob_label_pos * math.log(prob_label_pos,2)) - (prob_label_neg * math.log(prob_label_neg,2)))\n",
    "        except: # log(0) 연산의 Exception에 대한 예외처리\n",
    "            if prob_label_pos == 0:\n",
    "                entropy -= prob * (- (prob_label_neg * math.log(prob_label_neg,2)))\n",
    "            elif prob_label_neg == 0:\n",
    "                entropy -= prob * (- (prob_label_pos * math.log(prob_label_pos,2)))\n",
    "    return -entropy"
   ]
  },
  {
   "cell_type": "code",
   "execution_count": null,
   "id": "4d4151c1",
   "metadata": {},
   "outputs": [],
   "source": [
    "get_attribute_entropy(data, 'age', 'class_buys_computer')"
   ]
  },
  {
   "cell_type": "code",
   "execution_count": null,
   "id": "680353aa",
   "metadata": {},
   "outputs": [],
   "source": [
    "info_d = get_label_entropy(data, 'class_buys_computer')\n",
    "info_d_age = get_attribute_entropy(data, 'age', 'class_buys_computer')\n",
    "info_d_income = get_attribute_entropy(data, 'income', 'class_buys_computer')\n",
    "info_d_student = get_attribute_entropy(data, 'student', 'class_buys_computer')\n",
    "info_d_credit_rating = get_attribute_entropy(data, 'credit_rating', 'class_buys_computer')"
   ]
  },
  {
   "cell_type": "code",
   "execution_count": null,
   "id": "56321fb5",
   "metadata": {},
   "outputs": [],
   "source": [
    "gain_age = info_d - info_d_age\n",
    "gain_income = info_d - info_d_income\n",
    "gain_student = info_d - info_d_student\n",
    "gain_credit_rating = info_d - info_d_credit_rating\n",
    "\n",
    "# > Information Gain이 가장 높은 **age**가 가장 정보 획득량이 크다. <br/>\n",
    "# 따라서 최초 split attribute은 **age**이다."
   ]
  }
 ],
 "metadata": {
  "kernelspec": {
   "display_name": "Python 3 (ipykernel)",
   "language": "python",
   "name": "python3"
  },
  "language_info": {
   "codemirror_mode": {
    "name": "ipython",
    "version": 3
   },
   "file_extension": ".py",
   "mimetype": "text/x-python",
   "name": "python",
   "nbconvert_exporter": "python",
   "pygments_lexer": "ipython3",
   "version": "3.11.4"
  }
 },
 "nbformat": 4,
 "nbformat_minor": 5
}
