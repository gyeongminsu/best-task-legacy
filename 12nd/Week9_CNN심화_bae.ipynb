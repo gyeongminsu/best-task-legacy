{
 "cells": [
  {
   "cell_type": "code",
   "execution_count": null,
   "id": "ed460db9",
   "metadata": {},
   "outputs": [],
   "source": [
    "import numpy as np\n",
    "import pandas as pd\n",
    "import matplotlib.pyplot as plt\n",
    "import keras\n",
    "from keras.layers import Dense, Dropout, Input\n",
    "from keras.models import Model,Sequential\n",
    "from keras.datasets import mnist\n",
    "from tqdm import tqdm\n",
    "from keras.layers.advanced_activations import LeakyReLU\n",
    "from keras.optimizers import Adam"
   ]
  },
  {
   "cell_type": "markdown",
   "id": "2ff7b988",
   "metadata": {},
   "source": [
    "## 1. 데이터 로드"
   ]
  },
  {
   "cell_type": "code",
   "execution_count": null,
   "id": "cf401f33",
   "metadata": {},
   "outputs": [],
   "source": [
    "def load_data():\n",
    "    (x_train, y_train), (x_test, y_test) = mnist.load_data()\n",
    "    x_train = (x_train.astype(np.float32) - 127.5)/127.5\n",
    "    \n",
    "    # convert shape of x_train from (60000, 28, 28) to (60000, 784) \n",
    "    # 784 columns per row\n",
    "    x_train = x_train.reshape(60000, 784)\n",
    "    return (x_train, y_train, x_test, y_test)"
   ]
  },
  {
   "cell_type": "markdown",
   "id": "47eb153d",
   "metadata": {},
   "source": [
    "## 2. 모델 평가 함수"
   ]
  },
  {
   "cell_type": "code",
   "execution_count": 1,
   "id": "b3ae10b2",
   "metadata": {},
   "outputs": [],
   "source": [
    "#학습하기 위해서는 모델을 평가할 수 있어야 한다. 모델의 평가 지표가 좋아지는 방향으로 \n",
    "#매개 변수를 업데이트할 것이기 때문이다.\n",
    "#구분자의 출력값은 이미지가 진짜일 확률이고, 이 확률이 얼마나 정답과 가까운지를 측정하기 위해 \n",
    "#바이너리 크로스 엔트로피(Binary cross entropy) 손실 함수(loss function)를 사용한다. \n",
    "#이 함수는 구분자가 출력한 확률값이 정답에 가까우면 낮아지고 정답에서 멀면 높아진다. \n",
    "#이 손실 함수의 값을 낮추는 것이 모델 학습의 목표가 된다.\n",
    "\n",
    "def adam_optimizer():\n",
    "    return Adam(lr=0.0002, beta_1=0.5)\n",
    "\n",
    "#이제 생성자와 구분자의 매개 변수를 업데이트하는 최적화 함수가 필요하다. \n",
    "#최적화 기법에는 여러 종류가 있지만 여기서는 가장 널리 쓰이는 기법인 아담(Adam)을 사용했다. \n",
    "#아담은 매개 변수마다 업데이트 속도를 최적으로 조절하는 효율적인 최적화 기법이다."
   ]
  },
  {
   "cell_type": "markdown",
   "id": "7f1f379c",
   "metadata": {},
   "source": [
    "## 3. GAN의 생성자(Generator)"
   ]
  },
  {
   "cell_type": "code",
   "execution_count": null,
   "id": "a62f0dd8",
   "metadata": {},
   "outputs": [],
   "source": [
    "#생성자는 랜덤 벡터 ‘z’를 입력으로 받아 가짜 이미지를 출력하는 함수다. \n",
    "#여기서 ‘z’는 단순하게 균등 분포(Uniform Distribution)나 정규 분포(Normal Distribution)에서 무작위로 추출된 값이다. \n",
    "#생성자는 이렇게 단순한 분포를 사람 얼굴 이미지와 같은 복잡한 분포로 매핑(Mapping)하는 함수라고 볼 수 있다. \n",
    "#생성자 모델에 충분한 수의 매개 변수가 있다면 어떤 복잡한 분포도 근사할 수 있다는 것이 알려져 있다.\n",
    " \n",
    "def create_generator():\n",
    "    generator=Sequential()\n",
    "    generator.add(Dense(units=256,input_dim=100))\n",
    "    generator.add(LeakyReLU(0.2))\n",
    "    \n",
    "    generator.add(Dense(units=512))\n",
    "    generator.add(LeakyReLU(0.2))\n",
    "    \n",
    "    generator.add(Dense(units=1024))\n",
    "    generator.add(LeakyReLU(0.2))\n",
    "    \n",
    "    generator.add(Dense(units=784, activation='tanh'))\n",
    "    \n",
    "    generator.compile(loss='binary_crossentropy', optimizer=adam_optimizer())\n",
    "    return generator\n",
    "\n",
    "#왜 noise vector크기를 100으로 하는건가?"
   ]
  },
  {
   "cell_type": "code",
   "execution_count": null,
   "id": "3f389c89",
   "metadata": {},
   "outputs": [],
   "source": [
    "#‘z’ 벡터가 존재하는 공간을 잠재 공간(Latent Space)\n",
    "# 여기서는 잠재 공간의 크기를 임의로 100차원으로 뒀다.\n",
    "# 재 공간의 크기에는 제한이 없으나 나타내려고 하는 대상의 정보를 충분히 담을 수 있을 만큼은 커야 한다. \n",
    "# GAN은 우리가 이해할 수는 없는 방식이지만 ‘z’ 벡터의 값을 이미지의 속성에 매핑시키기 때문이다.\n",
    "# (출처 : https://dreamgonfly.github.io/2018/03/17/gan-explained.html)"
   ]
  },
  {
   "cell_type": "code",
   "execution_count": null,
   "id": "a18a0f31",
   "metadata": {},
   "outputs": [],
   "source": [
    "# 생성자는 랜덤 벡터 ‘z’를 입력으로 받아 가짜 이미지를 출력하는 함수다. \n",
    "# 여기서 ‘z’는 단순하게 균등 분포(Uniform Distribution)나 정규 분포(Normal Distribution)에서 무작위로 추출된 값이다. \n",
    "# 생성자는 이렇게 단순한 분포를 사람 얼굴 이미지와 같은 복잡한 분포로 매핑(Mapping)하는 함수라고 볼 수 있다. \n",
    "# 생성자 모델에 충분한 수의 매개 변수가 있다면 어떤 복잡한 분포도 근사할 수 있다는 것이 알려져 있다."
   ]
  },
  {
   "cell_type": "code",
   "execution_count": null,
   "id": "da3f5b19",
   "metadata": {},
   "outputs": [],
   "source": [
    "# 이 구현에서는 4개의 선형 레이어(Linear Layer, Fully Connected Layer, Linear Transformation)를 쌓아서 생성자를 만들었다. \n",
    "# 선형 레이어는 속해있는 모든 뉴런이 이전 레이어의 모든 뉴런과 연결되는 가장 단순한 구조의 레이어다. \n",
    "# 이 모델에서는 100차원의 랜덤 벡터를 받아 이를 256개의 뉴런을 가진 레이어로 보내고,\n",
    "# 다시 레이어의 크기를 512, 1024로 점점 증가시켰다. \n",
    "# 마지막에는 출력을 MNIST 이미지의 크기로 맞추기 위해 레이어 크기를 28x28로 줄였다.\n",
    "# 각 레이어마다 활성 함수로는 LeakyReLU를 이용했다.\n",
    "# 생성자의 마지막 레이어에서는 출력값을 픽셀값의 범위인 -1과 1 사이로 만들어주기 위해 Tanh를 사용했다. "
   ]
  },
  {
   "cell_type": "code",
   "execution_count": null,
   "id": "b187e860",
   "metadata": {},
   "outputs": [],
   "source": [
    "def create_discriminator():\n",
    "    discriminator=Sequential()\n",
    "    discriminator.add(Dense(units=1024,input_dim=784))\n",
    "    discriminator.add(LeakyReLU(0.2))\n",
    "    discriminator.add(Dropout(0.3))\n",
    "    \n",
    "    discriminator.add(Dense(units=512))\n",
    "    discriminator.add(LeakyReLU(0.2))\n",
    "    discriminator.add(Dropout(0.3))\n",
    "       \n",
    "    discriminator.add(Dense(units=256))\n",
    "    discriminator.add(LeakyReLU(0.2))\n",
    "    \n",
    "    discriminator.add(Dense(units=1, activation='sigmoid'))\n",
    "    \n",
    "    discriminator.compile(loss='binary_crossentropy', optimizer=adam_optimizer())\n",
    "    return discriminator\n",
    "\n",
    "#구분자는 이미지를 입력으로 받고 그 이미지가 진짜일 확률을 0과 1 사이의 숫자 하나로 출력하는 함수다.\n",
    "#구분자의 구현은 생성자와 마찬가지로 4개의 선형 레이어를 쌓았으며 레이어마다 활성 함수로 LeakyReLU를 넣어줬다. \n",
    "#입력값으로 이미지 크기인 28x28개의 변수를 받은 뒤 레이어의 크기가 \n",
    "#28x28에서 1024로, 512로, 256으로 점차 줄어들다. \n",
    "#마지막에는 확률값을 나타내는 숫자 하나를 출력한다.\n",
    "#레이어마다 들어간 드롭아웃(Dropout)은 학습 시에 무작위로 절반의 뉴런을 사용하지 않도록 한다. \n",
    "#이를 통해 모델이 과적합(Overfitting, 오버피팅)되는 것을 방지할 수 있고, \n",
    "#또한 구분자가 생성자보다 지나치게 빨리 학습되는 것도 막을 수 있다.\n",
    "#구분자의 마지막 레이어에서는 출력값을 0과 1 사이로 만들기 위해 활성 함수로 Sigmoid를 넣었다."
   ]
  },
  {
   "cell_type": "code",
   "execution_count": null,
   "id": "45234745",
   "metadata": {},
   "outputs": [],
   "source": [
    "def create_gan(discriminator, generator):\n",
    "    discriminator.trainable=False\n",
    "    gan_input = Input(shape=(100,))\n",
    "    x = generator(gan_input)\n",
    "    gan_output= discriminator(x)\n",
    "    gan= Model(inputs=gan_input, outputs=gan_output)\n",
    "    gan.compile(loss='binary_crossentropy', optimizer='adam')\n",
    "    return gan\n",
    "\n",
    "#학습하기 위해서는 모델을 평가할 수 있어야 한다. \n",
    "#모델의 평가 지표가 좋아지는 방향으로 매개 변수를 업데이트할 것이기 때문이다.\n",
    "#구분자의 출력값은 이미지가 진짜일 확률이고, 이 확률이 얼마나 정답과 가까운지를 측정하기 위해 \n",
    "#바이너리 크로스 엔트로피(Binary cross entropy) 손실 함수(loss function)를 사용한다. \n",
    "#이 함수는 구분자가 출력한 확률값이 정답에 가까우면 낮아지고 정답에서 멀면 높아진다. \n",
    "#이 손실 함수의 값을 낮추는 것이 모델 학습의 목표가 된다."
   ]
  },
  {
   "cell_type": "code",
   "execution_count": null,
   "id": "9c388890",
   "metadata": {},
   "outputs": [],
   "source": [
    "def plot_generated_images(epoch, generator, examples=100, dim=(10,10), figsize=(10,10)):\n",
    "    noise= np.random.normal(loc=0, scale=1, size=[examples, 100])\n",
    "    generated_images = generator.predict(noise)\n",
    "    generated_images = generated_images.reshape(100,28,28)\n",
    "    plt.figure(figsize=figsize)\n",
    "    for i in range(generated_images.shape[0]):\n",
    "        plt.subplot(dim[0], dim[1], i+1)\n",
    "        plt.imshow(generated_images[i], interpolation='nearest')\n",
    "        plt.axis('off')\n",
    "    plt.tight_layout()\n",
    "    plt.savefig('gan_generated_image %d.png' %epoch)"
   ]
  },
  {
   "cell_type": "code",
   "execution_count": null,
   "id": "d5c085ff",
   "metadata": {},
   "outputs": [],
   "source": [
    "#! pip install pydot\n",
    "#! pip install pydot>=1.2.4\n",
    "#! pip install graphviz"
   ]
  },
  {
   "cell_type": "code",
   "execution_count": null,
   "id": "a737f679",
   "metadata": {},
   "outputs": [],
   "source": [
    "import pydot  \n",
    "from IPython.display import SVG\n",
    "from keras.utils.vis_utils import model_to_dot  \n",
    "from keras.utils.vis_utils import plot_model"
   ]
  },
  {
   "cell_type": "code",
   "execution_count": null,
   "id": "f7936d11",
   "metadata": {},
   "outputs": [],
   "source": [
    "def training(epochs=1, batch_size=128):\n",
    "    \n",
    "    #Loading the data\n",
    "    (X_train, y_train, X_test, y_test) = load_data()\n",
    "    batch_count = X_train.shape[0] / batch_size\n",
    "    \n",
    "    # Creating GAN\n",
    "    generator = create_generator()\n",
    "    discriminator = create_discriminator()\n",
    "    gan = create_gan(discriminator, generator)\n",
    "    \n",
    "    ## structure of model\n",
    "    from keras.utils import plot_model\n",
    "    plot_model(generator, show_shapes=True, to_file='generator.png')\n",
    "    \n",
    "    plot_model(discriminator, show_shapes=True, to_file='discriminator.png')\n",
    "    \n",
    "    plot_model(gan, show_shapes=True, to_file='gan.png')\n",
    "    \n",
    "    for e in range(1,epochs+1):\n",
    "        print(\"Epoch %d\" %e)\n",
    "        for _ in tqdm(range(batch_size)):\n",
    "        # Generate random noise as an input to initialize the generator\n",
    "            noise= np.random.normal(0,1, [batch_size, 100])\n",
    "            \n",
    "            # Generate fake MNIST images from noised input\n",
    "            generated_images = generator.predict(noise)\n",
    "            \n",
    "            # Get a random set of  real images\n",
    "            image_batch =X_train[np.random.randint(low=0,high=X_train.shape[0],size=batch_size)]\n",
    "            \n",
    "            # Construct different batches of real and fake data \n",
    "            X= np.concatenate([image_batch, generated_images])\n",
    "            \n",
    "            # Labels for generated and real data\n",
    "            y_dis=np.zeros(2*batch_size)\n",
    "            y_dis[:batch_size]=0.9\n",
    "            \n",
    "            # Pretrain discriminator on  fake and real data before starting the gan. \n",
    "            discriminator.trainable=True\n",
    "            discriminator.train_on_batch(X, y_dis)\n",
    "            \n",
    "            # Tricking the noised input of the Generator as real data\n",
    "            y_gen = np.ones(batch_size)\n",
    "            \n",
    "            # During the training of gan, the weights of discriminator should be fixed. \n",
    "            # We can enforce that by setting the trainable flag\n",
    "            discriminator.trainable=False\n",
    "            \n",
    "            # Training  the GAN by alternating the training of the Discriminator and training the chained GAN model with Discriminator's weights freezed.\n",
    "            gan.train_on_batch(noise, y_gen)\n",
    "            \n",
    "        if e == 1 or e % 20 == 0:\n",
    "             plot_generated_images(e, generator)"
   ]
  },
  {
   "cell_type": "code",
   "execution_count": null,
   "id": "bf09924d",
   "metadata": {},
   "outputs": [],
   "source": [
    "training(400,128)"
   ]
  },
  {
   "cell_type": "code",
   "execution_count": null,
   "id": "0301cf31",
   "metadata": {},
   "outputs": [],
   "source": [
    "#구분자는 진짜 이미지를 입력하면 1에 가까운 확률값을 출력하고, \n",
    "#가짜 데이터를 입력하면 0에 가까운 확률값을 출력해야 한다. \n",
    "#따라서 구분자의 손실 함수는 두 가지의 합으로 이루어진다. \n",
    "#진짜 이미지를 입력했을 때의 출력값과 1과의 차이, 그리고 가짜 이미지를 입력했을 때의 출력값과 0과의 차이, \n",
    "#두 경우의 합이 구분자의 손실 함수다. 이 손실 함수의 값을 최소화하는 방향으로 구분자의 매개 변수가 업데이트된다.\n",
    " \n",
    "#생성자의 목적은 구분자를 속이는 것이다. 다시 말해 생성자가 만들어낸 가짜 이미지를 구분자에 넣었을 때 출력값이 1에 가깝게 나오도록 해야 한다. \n",
    "#이 값이 1에서 떨어진 정도가 생성자의 손실 함수가 되고, 이를 최소화 시키도록 생성자를 학습시키게 된다.\n",
    " \n",
    "#참조 사이트\n",
    " \n",
    "#코드 관련 해설 및 이해 (출처: https://dreamgonfly.github.io/2018/03/17/gan-explained.html)\n",
    "#GAN 이해 (출처: https://skymind.ai/kr/wiki/generative-adversarial-network-gan) gan_mnist keras 구현 (출처: https://m.blog.naver.com/PostView.nhn?blogId=qbxlvnf11&logNo=221524732924&categoryNo=87&proxyReferer=https%3A%2F%2Fwww.google.com%2F)"
   ]
  }
 ],
 "metadata": {
  "kernelspec": {
   "display_name": "Python 3 (ipykernel)",
   "language": "python",
   "name": "python3"
  },
  "language_info": {
   "codemirror_mode": {
    "name": "ipython",
    "version": 3
   },
   "file_extension": ".py",
   "mimetype": "text/x-python",
   "name": "python",
   "nbconvert_exporter": "python",
   "pygments_lexer": "ipython3",
   "version": "3.11.4"
  }
 },
 "nbformat": 4,
 "nbformat_minor": 5
}
