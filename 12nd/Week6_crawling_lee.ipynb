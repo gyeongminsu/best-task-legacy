{
 "cells": [
  {
   "cell_type": "code",
   "execution_count": null,
   "id": "cdcdeacb",
   "metadata": {},
   "outputs": [],
   "source": [
    "import selenium \n",
    "from selenium import webdriver\n",
    "import random\n",
    "from time import sleep\n",
    "from selenium.webdriver.common.keys import Keys\n",
    "from bs4 import BeautifulSoup as bs\n",
    "import json"
   ]
  },
  {
   "cell_type": "code",
   "execution_count": null,
   "id": "dd90cc97",
   "metadata": {},
   "outputs": [],
   "source": [
    "def get_url():\n",
    "    global browser\n",
    "    keyword = input('')\n",
    "    url = 'https://www.instagram.com/explore/tags/{}/?hl=ko'.format(keyword)\n",
    "    browser = webdriver.Chrome()\n",
    "    browser.get(url)\n",
    "    return browser"
   ]
  },
  {
   "cell_type": "code",
   "execution_count": null,
   "id": "8356c616",
   "metadata": {},
   "outputs": [],
   "source": [
    "def click_first_photo():\n",
    "    browser = get_url()\n",
    "    photo_click = browser.find_element_by_xpath('//*[@id=\"react-root\"]/section/main/article/div[1]/div/div/div[1]/div[1]/a/div/div[2]')\n",
    "    photo_click.click()\n",
    "    return None"
   ]
  },
  {
   "cell_type": "code",
   "execution_count": null,
   "id": "af3d5d03",
   "metadata": {},
   "outputs": [],
   "source": [
    "def get_post():\n",
    "    post_dct = {}\n",
    "    browser.implicitly_wait(5)\n",
    "    post_tags = browser.find_element_by_class_name('C4VMK')\n",
    "    post_dct['post_contents'] = post_tags.find_element_by_tag_name('a').text\n",
    "    post_dct['post_accounts'] = post_tags.find_element_by_tag_name('span').text\n",
    "    post_dct['post_date'] = post_tags.find_element_by_tag_name('time').get_attribute('title')\n",
    "    return post_dct"
   ]
  },
  {
   "cell_type": "code",
   "execution_count": null,
   "id": "fa99421e",
   "metadata": {},
   "outputs": [],
   "source": [
    "def get_comments():\n",
    "    comments_list = []\n",
    "    browser.implicitly_wait(5)\n",
    "    comments = browser.find_elements_by_class_name('C4VMK')[1:]\n",
    "    for i in range(len(comments)):\n",
    "        comments_dct = {}\n",
    "        comments_dct['comment{}_accounts'.format(i+1)] = comments[i].find_element_by_tag_name('a').text\n",
    "        comments_dct['comment{}_contents'.format(i+1)] = comments[i].find_element_by_tag_name('span').text\n",
    "        comments_list.append(comments_dct)\n",
    "    if len(comments_list) == 0:\n",
    "        print('--> no_comments') # comment가 없을 경우 출력\n",
    "    return comments_list"
   ]
  },
  {
   "cell_type": "code",
   "execution_count": null,
   "id": "5bdf704a",
   "metadata": {},
   "outputs": [],
   "source": [
    "def get_info():\n",
    "    return {'post': get_post(), 'comments': get_comments()}"
   ]
  },
  {
   "cell_type": "code",
   "execution_count": null,
   "id": "4936471e",
   "metadata": {},
   "outputs": [],
   "source": [
    "def click_next_photo(path = '/html/body/div[4]/div[1]/div/div/a[2]'):\n",
    "    click_next = browser.find_element_by_xpath(path)\n",
    "    click_next.click()\n",
    "    return None"
   ]
  },
  {
   "cell_type": "code",
   "execution_count": null,
   "id": "42115797",
   "metadata": {},
   "outputs": [],
   "source": [
    "def export_result_json(data):\n",
    "    with open('instagram_crawling_results.json', 'w', encoding = 'UTF-8') as f:\n",
    "        json.dump(data, f, indent = 4)"
   ]
  },
  {
   "cell_type": "code",
   "execution_count": null,
   "id": "1b580728",
   "metadata": {},
   "outputs": [],
   "source": [
    "def instagram_crawler(n_iter = 50):\n",
    "    click_first_photo()\n",
    "    res = []\n",
    "    for i in range(n_iter):\n",
    "        print('Post{}'.format(i+1))\n",
    "        try:\n",
    "            info = get_info()\n",
    "            res.append(info)\n",
    "        except Exception as e: # 게시글 가져오지 못할 경우 예외처리\n",
    "            print(e)\n",
    "        if i == 0:\n",
    "            click_next_photo('/html/body/div[4]/div[1]/div/div/a') # 첫번째 게시글의 경우 다음 버튼의 path를 다르게 설정\n",
    "        else:\n",
    "            click_next_photo()\n",
    "        sleep(random.uniform(3,5))\n",
    "    export_result_json(res)"
   ]
  },
  {
   "cell_type": "code",
   "execution_count": null,
   "id": "977a9379",
   "metadata": {},
   "outputs": [],
   "source": [
    "instagram_crawler() # iteration = 50"
   ]
  }
 ],
 "metadata": {
  "kernelspec": {
   "display_name": "Python 3 (ipykernel)",
   "language": "python",
   "name": "python3"
  },
  "language_info": {
   "codemirror_mode": {
    "name": "ipython",
    "version": 3
   },
   "file_extension": ".py",
   "mimetype": "text/x-python",
   "name": "python",
   "nbconvert_exporter": "python",
   "pygments_lexer": "ipython3",
   "version": "3.11.4"
  }
 },
 "nbformat": 4,
 "nbformat_minor": 5
}
