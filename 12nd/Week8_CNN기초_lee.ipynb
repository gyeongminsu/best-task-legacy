{
 "cells": [
  {
   "cell_type": "markdown",
   "metadata": {},
   "source": [
    "# Assignment  \n",
    " - AlexNet 구현해 보기"
   ]
  },
  {
   "cell_type": "markdown",
   "metadata": {
    "colab_type": "text",
    "id": "LQ9uoX4DkDSG"
   },
   "source": [
    "# AlexNet"
   ]
  },
  {
   "cell_type": "markdown",
   "metadata": {
    "colab_type": "text",
    "id": "qhdyG65NkDSk"
   },
   "source": [
    "- Local Response Normarlization\n",
    "- Dropout (비율 0.5)\n",
    "- Stochastic Gradient Descent Optimizer"
   ]
  },
  {
   "cell_type": "code",
   "execution_count": 1,
   "metadata": {
    "colab": {
     "base_uri": "https://localhost:8080/",
     "height": 124
    },
    "colab_type": "code",
    "executionInfo": {
     "elapsed": 20775,
     "status": "ok",
     "timestamp": 1584719901761,
     "user": {
      "displayName": "이세윤",
      "photoUrl": "",
      "userId": "13954051747148940156"
     },
     "user_tz": -540
    },
    "id": "Saobz2avkdkM",
    "outputId": "7a43b8f1-fd90-4d74-c799-4caf3876c096"
   },
   "outputs": [
    {
     "name": "stdout",
     "output_type": "stream",
     "text": [
      "Go to this URL in a browser: https://accounts.google.com/o/oauth2/auth?client_id=947318989803-6bn6qk8qdgf4n4g3pfee6491hc0brc4i.apps.googleusercontent.com&redirect_uri=urn%3aietf%3awg%3aoauth%3a2.0%3aoob&response_type=code&scope=email%20https%3a%2f%2fwww.googleapis.com%2fauth%2fdocs.test%20https%3a%2f%2fwww.googleapis.com%2fauth%2fdrive%20https%3a%2f%2fwww.googleapis.com%2fauth%2fdrive.photos.readonly%20https%3a%2f%2fwww.googleapis.com%2fauth%2fpeopleapi.readonly\n",
      "\n",
      "Enter your authorization code:\n",
      "··········\n",
      "Mounted at /content/drive\n"
     ]
    }
   ],
   "source": [
    "from google.colab import drive\n",
    "drive.mount('/content/drive')"
   ]
  },
  {
   "cell_type": "markdown",
   "metadata": {
    "colab_type": "text",
    "id": "82vSKkmKkDTM"
   },
   "source": [
    "## Pytorch"
   ]
  },
  {
   "cell_type": "code",
   "execution_count": null,
   "metadata": {
    "colab": {},
    "colab_type": "code",
    "id": "RfM6R9aWkDTX"
   },
   "outputs": [],
   "source": [
    "import torch.nn as nn\n",
    "import torch.utils.model_zoo as model_zoo"
   ]
  },
  {
   "cell_type": "code",
   "execution_count": null,
   "metadata": {
    "colab": {},
    "colab_type": "code",
    "id": "3uN958JqkDUS"
   },
   "outputs": [],
   "source": [
    "class AlexNet(nn.Module):\n",
    "\n",
    "    def __init__(self, num_classes=1000):\n",
    "        super(AlexNet, self).__init__()\n",
    "        self.features = nn.Sequential(\n",
    "            ## [Layer 1] Convolution \n",
    "            # Conv2d(in_channels, out_channels, kernel_size, stride=1, padding=0)\n",
    "            nn.Conv2d(3, 96, kernel_size=11, stride=4, padding=0),\n",
    "            nn.ReLU(inplace=True),\n",
    "            nn.LocalResponseNorm(size=5, alpha=0.0001, beta=0.75),\n",
    "            \n",
    "            ## [Layer 2] Max Pooling \n",
    "            nn.MaxPool2d(kernel_size=3, stride=2),\n",
    "            \n",
    "            ## [Layer 3] Convolution \n",
    "            nn.Conv2d(96, 256, kernel_size=5, stride=1, padding=2),\n",
    "            nn.ReLU(inplace=True),\n",
    "            nn.LocalResponseNorm(size=5, alpha=0.0001, beta=0.75),\n",
    "            \n",
    "            ## [Layer 4] Max Pooling\n",
    "            nn.MaxPool2d(kernel_size=3, stride=2),\n",
    "            \n",
    "            ## [Layer 5] Convolution\n",
    "            nn.Conv2d(256, 384, kernel_size=3, stride=1, padding=1),\n",
    "            nn.ReLU(inplace=True),\n",
    "            \n",
    "            ## [Layer 6] Convolution\n",
    "            nn.Conv2d(384, 384, kernel_size=3, stride=1, padding=1),\n",
    "            nn.ReLU(inplace=True),\n",
    "            \n",
    "            ## [Layer 7] Convolution\n",
    "            nn.Conv2d(384, 256, kernel_size=3, stride=1, padding=1),\n",
    "            nn.ReLU(inplace=True),\n",
    "            \n",
    "            ## [Layer 8] Max Pooling\n",
    "            nn.MaxPool2d(kernel_size=3, stride=2),\n",
    "        )\n",
    "        \n",
    "        self.classifier = nn.Sequential(\n",
    "            ## [Layer 9] Fully Connected Layer\n",
    "            nn.Dropout(),\n",
    "            nn.Linear(256 * 6 * 6, 4096),\n",
    "            nn.ReLU(inplace=True),\n",
    "            \n",
    "            ## [Layer 10] Fully Connected Layer\n",
    "            nn.Dropout(),\n",
    "            nn.Linear(4096, 4096),\n",
    "            nn.ReLU(inplace=True),\n",
    "            \n",
    "            ## [Layer 11] Fully Connected Layer\n",
    "            nn.Linear(4096, num_classes),\n",
    "        )\n",
    "\n",
    "    def forward(self, x):\n",
    "        x = self.features(x)\n",
    "        x = x.view(x.size(0), 256 * 6 * 6)\n",
    "        x = self.classifier(x)\n",
    "        return x"
   ]
  },
  {
   "cell_type": "code",
   "execution_count": 4,
   "metadata": {
    "colab": {
     "base_uri": "https://localhost:8080/",
     "height": 629
    },
    "colab_type": "code",
    "executionInfo": {
     "elapsed": 33669,
     "status": "ok",
     "timestamp": 1584719914707,
     "user": {
      "displayName": "이세윤",
      "photoUrl": "",
      "userId": "13954051747148940156"
     },
     "user_tz": -540
    },
    "id": "nM7meuoukDVJ",
    "outputId": "581bc6b1-e3b1-4b69-da64-db4c40af829f"
   },
   "outputs": [
    {
     "name": "stdout",
     "output_type": "stream",
     "text": [
      "----------------------------------------------------------------\n",
      "        Layer (type)               Output Shape         Param #\n",
      "================================================================\n",
      "            Conv2d-1           [-1, 96, 55, 55]          34,944\n",
      "              ReLU-2           [-1, 96, 55, 55]               0\n",
      " LocalResponseNorm-3           [-1, 96, 55, 55]               0\n",
      "         MaxPool2d-4           [-1, 96, 27, 27]               0\n",
      "            Conv2d-5          [-1, 256, 27, 27]         614,656\n",
      "              ReLU-6          [-1, 256, 27, 27]               0\n",
      " LocalResponseNorm-7          [-1, 256, 27, 27]               0\n",
      "         MaxPool2d-8          [-1, 256, 13, 13]               0\n",
      "            Conv2d-9          [-1, 384, 13, 13]         885,120\n",
      "             ReLU-10          [-1, 384, 13, 13]               0\n",
      "           Conv2d-11          [-1, 384, 13, 13]       1,327,488\n",
      "             ReLU-12          [-1, 384, 13, 13]               0\n",
      "           Conv2d-13          [-1, 256, 13, 13]         884,992\n",
      "             ReLU-14          [-1, 256, 13, 13]               0\n",
      "        MaxPool2d-15            [-1, 256, 6, 6]               0\n",
      "          Dropout-16                 [-1, 9216]               0\n",
      "           Linear-17                 [-1, 4096]      37,752,832\n",
      "             ReLU-18                 [-1, 4096]               0\n",
      "          Dropout-19                 [-1, 4096]               0\n",
      "           Linear-20                 [-1, 4096]      16,781,312\n",
      "             ReLU-21                 [-1, 4096]               0\n",
      "           Linear-22                 [-1, 1000]       4,097,000\n",
      "================================================================\n",
      "Total params: 62,378,344\n",
      "Trainable params: 62,378,344\n",
      "Non-trainable params: 0\n",
      "----------------------------------------------------------------\n",
      "Input size (MB): 0.59\n",
      "Forward/backward pass size (MB): 14.73\n",
      "Params size (MB): 237.95\n",
      "Estimated Total Size (MB): 253.27\n",
      "----------------------------------------------------------------\n"
     ]
    }
   ],
   "source": [
    "from torchsummary import summary\n",
    "\n",
    "model = AlexNet()\n",
    "model.cuda()\n",
    "## Model Summary\n",
    "summary(model, input_size=(3, 227, 227))"
   ]
  },
  {
   "cell_type": "markdown",
   "metadata": {
    "colab_type": "text",
    "id": "vI-hFqmYkDV-"
   },
   "source": [
    "## Keras"
   ]
  },
  {
   "cell_type": "code",
   "execution_count": 5,
   "metadata": {
    "colab": {
     "base_uri": "https://localhost:8080/",
     "height": 63
    },
    "colab_type": "code",
    "executionInfo": {
     "elapsed": 38990,
     "status": "ok",
     "timestamp": 1584719920051,
     "user": {
      "displayName": "이세윤",
      "photoUrl": "",
      "userId": "13954051747148940156"
     },
     "user_tz": -540
    },
    "id": "p5qfvriGpeH7",
    "outputId": "f235f25d-41f3-4c4a-d203-53d491c7af3e"
   },
   "outputs": [
    {
     "data": {
      "text/html": [
       "<p style=\"color: red;\">\n",
       "The default version of TensorFlow in Colab will soon switch to TensorFlow 2.x.<br>\n",
       "We recommend you <a href=\"https://www.tensorflow.org/guide/migrate\" target=\"_blank\">upgrade</a> now \n",
       "or ensure your notebook will continue to use TensorFlow 1.x via the <code>%tensorflow_version 1.x</code> magic:\n",
       "<a href=\"https://colab.research.google.com/notebooks/tensorflow_version.ipynb\" target=\"_blank\">more info</a>.</p>\n"
      ],
      "text/plain": [
       "<IPython.core.display.HTML object>"
      ]
     },
     "metadata": {
      "tags": []
     },
     "output_type": "display_data"
    }
   ],
   "source": [
    "import tensorflow as tf"
   ]
  },
  {
   "cell_type": "code",
   "execution_count": null,
   "metadata": {
    "colab": {},
    "colab_type": "code",
    "id": "Qx4yhMVykDXw"
   },
   "outputs": [],
   "source": [
    "from tensorflow.keras.layers import Layer\n",
    "from tensorflow.keras import backend as K\n",
    "\n",
    "class LocalResponseNormalization(Layer):\n",
    "  \n",
    "    def __init__(self, n=5, alpha=1e-4, beta=0.75, k=2, **kwargs):\n",
    "        self.n = n\n",
    "        self.alpha = alpha\n",
    "        self.beta = beta\n",
    "        self.k = k\n",
    "        super(LocalResponseNormalization, self).__init__(**kwargs)\n",
    "\n",
    "    def build(self, input_shape):\n",
    "        self.shape = input_shape\n",
    "        super(LocalResponseNormalization, self).build(input_shape)\n",
    "\n",
    "    def call(self, x):\n",
    "        _, r, c, f = self.shape \n",
    "        squared = K.square(x)\n",
    "        pooled = K.pool2d(squared, (self.n, self.n), strides=(1,1), padding=\"same\", pool_mode='avg')\n",
    "        summed = K.sum(pooled, axis=3, keepdims=True)\n",
    "        averaged = self.alpha * K.repeat_elements(summed, f, axis=3)\n",
    "        denom = K.pow(self.k + averaged, self.beta)\n",
    "        return x / denom \n",
    "    \n",
    "    def compute_output_shape(self, input_shape):\n",
    "        return input_shape "
   ]
  },
  {
   "cell_type": "code",
   "execution_count": 7,
   "metadata": {
    "colab": {
     "base_uri": "https://localhost:8080/",
     "height": 89
    },
    "colab_type": "code",
    "executionInfo": {
     "elapsed": 41048,
     "status": "ok",
     "timestamp": 1584719922152,
     "user": {
      "displayName": "이세윤",
      "photoUrl": "",
      "userId": "13954051747148940156"
     },
     "user_tz": -540
    },
    "id": "zBxRm1ABkDYD",
    "outputId": "c113aca2-46db-4bce-ec93-6040637df448"
   },
   "outputs": [
    {
     "name": "stdout",
     "output_type": "stream",
     "text": [
      "WARNING:tensorflow:From /tensorflow-1.15.0/python3.6/tensorflow_core/python/ops/resource_variable_ops.py:1630: calling BaseResourceVariable.__init__ (from tensorflow.python.ops.resource_variable_ops) with constraint is deprecated and will be removed in a future version.\n",
      "Instructions for updating:\n",
      "If using Keras pass *_constraint arguments to layers.\n"
     ]
    }
   ],
   "source": [
    "input_shape = (227, 227, 3)\n",
    "num_classes = 1000\n",
    "\n",
    "model = tf.keras.models.Sequential()\n",
    "## [Layer 1] Convolution \n",
    "model.add(tf.keras.layers.Conv2D(filters=96, kernel_size=(11,11), strides=4, \n",
    "                           padding='same', input_shape=input_shape))\n",
    "    \n",
    "## [Layer 2] Max Pooling \n",
    "model.add(tf.keras.layers.MaxPool2D(pool_size=(3,3), strides=2))\n",
    "    \n",
    "## [Layer 3] Convolution \n",
    "model.add(tf.keras.layers.Conv2D(filters=256, kernel_size=(5,5), strides=1,\n",
    "                           activation=\"relu\", padding='same'))\n",
    "model.add(LocalResponseNormalization(input_shape=model.output_shape[1:]))\n",
    "    \n",
    "## [Layer 4] Max Pooling \n",
    "model.add(tf.keras.layers.MaxPool2D(pool_size=(3,3), strides=2))\n",
    "  \n",
    "## [Layer 5] Convolution\n",
    "model.add(tf.keras.layers.Conv2D(filters=384, kernel_size = (3,3), strides=1,\n",
    "                           activation=\"relu\", padding=\"same\"))\n",
    "model.add(LocalResponseNormalization(input_shape=model.output_shape[1:]))\n",
    "    \n",
    "## [Layer 6] Convolution\n",
    "model.add(tf.keras.layers.Conv2D(filters=384, kernel_size = (3,3), strides=1,\n",
    "                           activation=\"relu\", padding=\"same\"))\n",
    "    \n",
    "## [Layer 7] Convolution\n",
    "model.add(tf.keras.layers.Conv2D(filters=256, kernel_size = (3,3), strides=1,\n",
    "                           activation=\"relu\", padding=\"same\"))\n",
    "    \n",
    "## [Layer 8] Max Pooling\n",
    "model.add(tf.keras.layers.MaxPool2D(pool_size=(3,3), strides=2))\n",
    "    \n",
    "## [Layer 9] Fully Connected Layer\n",
    "model.add(tf.keras.layers.Flatten())\n",
    "model.add(tf.keras.layers.Dense(4096, activation=\"relu\"))\n",
    "\n",
    "## [Layer 10] Fully Connected Layer\n",
    "model.add(tf.keras.layers.Dense(4096, activation=\"relu\"))\n",
    "\n",
    "## [Layer 11] Fully Connected Layer\n",
    "model.add(tf.keras.layers.Dense(num_classes, activation=\"softmax\"))"
   ]
  },
  {
   "cell_type": "code",
   "execution_count": null,
   "metadata": {
    "colab": {},
    "colab_type": "code",
    "id": "HLQBNl5FkDZC"
   },
   "outputs": [],
   "source": [
    "optimizer = tf.keras.optimizers.SGD(lr=0.01, decay=5e-5, momentum=0.9)\n",
    "model.compile(loss=\"categorical_crossentropy\", \n",
    "              optimizer=optimizer, \n",
    "              metrics=[\"accuracy\"])"
   ]
  },
  {
   "cell_type": "code",
   "execution_count": 9,
   "metadata": {
    "colab": {
     "base_uri": "https://localhost:8080/",
     "height": 647
    },
    "colab_type": "code",
    "executionInfo": {
     "elapsed": 41316,
     "status": "ok",
     "timestamp": 1584719922444,
     "user": {
      "displayName": "이세윤",
      "photoUrl": "",
      "userId": "13954051747148940156"
     },
     "user_tz": -540
    },
    "id": "XuP_TF1bkDZ3",
    "outputId": "652e15fa-1d4f-4eb8-a8b1-3031295950fd"
   },
   "outputs": [
    {
     "name": "stdout",
     "output_type": "stream",
     "text": [
      "Model: \"sequential\"\n",
      "_________________________________________________________________\n",
      "Layer (type)                 Output Shape              Param #   \n",
      "=================================================================\n",
      "conv2d (Conv2D)              (None, 57, 57, 96)        34944     \n",
      "_________________________________________________________________\n",
      "max_pooling2d (MaxPooling2D) (None, 28, 28, 96)        0         \n",
      "_________________________________________________________________\n",
      "conv2d_1 (Conv2D)            (None, 28, 28, 256)       614656    \n",
      "_________________________________________________________________\n",
      "local_response_normalization (None, 28, 28, 256)       0         \n",
      "_________________________________________________________________\n",
      "max_pooling2d_1 (MaxPooling2 (None, 13, 13, 256)       0         \n",
      "_________________________________________________________________\n",
      "conv2d_2 (Conv2D)            (None, 13, 13, 384)       885120    \n",
      "_________________________________________________________________\n",
      "local_response_normalization (None, 13, 13, 384)       0         \n",
      "_________________________________________________________________\n",
      "conv2d_3 (Conv2D)            (None, 13, 13, 384)       1327488   \n",
      "_________________________________________________________________\n",
      "conv2d_4 (Conv2D)            (None, 13, 13, 256)       884992    \n",
      "_________________________________________________________________\n",
      "max_pooling2d_2 (MaxPooling2 (None, 6, 6, 256)         0         \n",
      "_________________________________________________________________\n",
      "flatten (Flatten)            (None, 9216)              0         \n",
      "_________________________________________________________________\n",
      "dense (Dense)                (None, 4096)              37752832  \n",
      "_________________________________________________________________\n",
      "dense_1 (Dense)              (None, 4096)              16781312  \n",
      "_________________________________________________________________\n",
      "dense_2 (Dense)              (None, 1000)              4097000   \n",
      "=================================================================\n",
      "Total params: 62,378,344\n",
      "Trainable params: 62,378,344\n",
      "Non-trainable params: 0\n",
      "_________________________________________________________________\n"
     ]
    }
   ],
   "source": [
    "model.summary()"
   ]
  },
  {
   "cell_type": "markdown",
   "metadata": {
    "colab_type": "text",
    "id": "mqL8wZuCkDaJ"
   },
   "source": [
    "## **MNIST Data에 적용해보기**"
   ]
  },
  {
   "cell_type": "code",
   "execution_count": null,
   "metadata": {
    "colab": {},
    "colab_type": "code",
    "id": "GYp6ONEYkDaN"
   },
   "outputs": [],
   "source": [
    "import numpy as np\n",
    "from tensorflow.keras.datasets import mnist\n",
    "from tensorflow.python.keras.utils import np_utils\n",
    "import matplotlib.pyplot as plt"
   ]
  },
  {
   "cell_type": "code",
   "execution_count": 11,
   "metadata": {
    "colab": {
     "base_uri": "https://localhost:8080/",
     "height": 52
    },
    "colab_type": "code",
    "executionInfo": {
     "elapsed": 41944,
     "status": "ok",
     "timestamp": 1584719923108,
     "user": {
      "displayName": "이세윤",
      "photoUrl": "",
      "userId": "13954051747148940156"
     },
     "user_tz": -540
    },
    "id": "Z-7wPF5UkDas",
    "outputId": "2cb8594e-14e0-4666-8aee-f9606b352d8a"
   },
   "outputs": [
    {
     "name": "stdout",
     "output_type": "stream",
     "text": [
      "Downloading data from https://storage.googleapis.com/tensorflow/tf-keras-datasets/mnist.npz\n",
      "11493376/11490434 [==============================] - 0s 0us/step\n"
     ]
    }
   ],
   "source": [
    "(X_train, y_train), (X_test, y_test) = mnist.load_data()\n",
    "X_train = X_train[:, :, :, np.newaxis].astype('float32') / 255.0\n",
    "X_test = X_test[:, :, :, np.newaxis].astype('float32') / 255.0\n",
    "Y_train = np_utils.to_categorical(y_train, 10)\n",
    "Y_test = np_utils.to_categorical(y_test, 10)"
   ]
  },
  {
   "cell_type": "code",
   "execution_count": 12,
   "metadata": {
    "colab": {
     "base_uri": "https://localhost:8080/",
     "height": 34
    },
    "colab_type": "code",
    "executionInfo": {
     "elapsed": 41926,
     "status": "ok",
     "timestamp": 1584719923110,
     "user": {
      "displayName": "이세윤",
      "photoUrl": "",
      "userId": "13954051747148940156"
     },
     "user_tz": -540
    },
    "id": "X9zSwbpdkDa-",
    "outputId": "df5a5773-b04d-4a46-ff43-3e5f33ca8344"
   },
   "outputs": [
    {
     "name": "stdout",
     "output_type": "stream",
     "text": [
      "(60000, 28, 28, 1) (10000, 28, 28, 1) (60000,) (10000,)\n"
     ]
    }
   ],
   "source": [
    "print(X_train.shape, X_test.shape, y_train.shape, y_test.shape)"
   ]
  },
  {
   "cell_type": "code",
   "execution_count": null,
   "metadata": {
    "colab": {},
    "colab_type": "code",
    "id": "Hxn8J2BlkDcD"
   },
   "outputs": [],
   "source": [
    "input_shape = (28, 28, 1)\n",
    "num_classes = 10\n",
    "\n",
    "## [Layer 1] Convolution \n",
    "m = tf.keras.models.Sequential()\n",
    "m.add(tf.keras.layers.Conv2D(filters=64, kernel_size=(3,3), strides=1, \n",
    "                           padding='same', input_shape=input_shape))\n",
    "\n",
    "## [Layer 2] Max Pooling \n",
    "m.add(tf.keras.layers.MaxPool2D(pool_size=(2,2)))\n",
    "\n",
    "## [Layer 3] Convolution \n",
    "m.add(tf.keras.layers.Conv2D(filters=192, kernel_size=(3,3), strides=1,\n",
    "                           activation=\"relu\", padding='same'))\n",
    "m.add(LocalResponseNormalization(input_shape=model.output_shape[1:]))\n",
    "    \n",
    "## [Layer 4] Max Pooling \n",
    "m.add(tf.keras.layers.MaxPool2D(pool_size=(2,2)))\n",
    "  \n",
    "## [Layer 5] Convolution\n",
    "m.add(tf.keras.layers.Conv2D(filters=384, kernel_size = (3,3), strides=1,\n",
    "                           activation=\"relu\", padding=\"same\"))\n",
    "m.add(LocalResponseNormalization(input_shape=model.output_shape[1:]))\n",
    "    \n",
    "## [Layer 6] Convolution\n",
    "m.add(tf.keras.layers.Conv2D(filters=256, kernel_size = (3,3), strides=1,\n",
    "                           activation=\"relu\", padding=\"same\"))\n",
    "    \n",
    "## [Layer 7] Convolution\n",
    "m.add(tf.keras.layers.Conv2D(filters=256, kernel_size = (3,3), strides=1,\n",
    "                           activation=\"relu\", padding=\"same\"))\n",
    "    \n",
    "## [Layer 8] Max Pooling\n",
    "m.add(tf.keras.layers.MaxPool2D(pool_size=(2,2)))\n",
    "    \n",
    "## [Layer 9] Fully Connected Layer\n",
    "m.add(tf.keras.layers.Flatten())\n",
    "m.add(tf.keras.layers.Dense(4096, activation=\"relu\"))\n",
    "\n",
    "## [Layer 10] Fully Connected Layer\n",
    "m.add(tf.keras.layers.Dense(2048, activation=\"relu\"))\n",
    "\n",
    "## [Layer 11] Fully Connected Layer\n",
    "m.add(tf.keras.layers.Dense(num_classes, activation=\"softmax\"))"
   ]
  },
  {
   "cell_type": "code",
   "execution_count": null,
   "metadata": {
    "colab": {},
    "colab_type": "code",
    "id": "HXQuMys1kDca"
   },
   "outputs": [],
   "source": [
    "optimizer = tf.keras.optimizers.SGD(lr=0.01, decay=5e-5, momentum=0.9)\n",
    "m.compile(loss=\"categorical_crossentropy\", \n",
    "              optimizer=optimizer, \n",
    "              metrics=[\"accuracy\"])"
   ]
  },
  {
   "cell_type": "code",
   "execution_count": 15,
   "metadata": {
    "colab": {
     "base_uri": "https://localhost:8080/",
     "height": 647
    },
    "colab_type": "code",
    "executionInfo": {
     "elapsed": 42220,
     "status": "ok",
     "timestamp": 1584719923452,
     "user": {
      "displayName": "이세윤",
      "photoUrl": "",
      "userId": "13954051747148940156"
     },
     "user_tz": -540
    },
    "id": "JNMIwu70kDc8",
    "outputId": "4efd1f9b-3ff5-4f27-b23c-d8f2327de419"
   },
   "outputs": [
    {
     "name": "stdout",
     "output_type": "stream",
     "text": [
      "Model: \"sequential_1\"\n",
      "_________________________________________________________________\n",
      "Layer (type)                 Output Shape              Param #   \n",
      "=================================================================\n",
      "conv2d_5 (Conv2D)            (None, 28, 28, 64)        640       \n",
      "_________________________________________________________________\n",
      "max_pooling2d_3 (MaxPooling2 (None, 14, 14, 64)        0         \n",
      "_________________________________________________________________\n",
      "conv2d_6 (Conv2D)            (None, 14, 14, 192)       110784    \n",
      "_________________________________________________________________\n",
      "local_response_normalization (None, 14, 14, 192)       0         \n",
      "_________________________________________________________________\n",
      "max_pooling2d_4 (MaxPooling2 (None, 7, 7, 192)         0         \n",
      "_________________________________________________________________\n",
      "conv2d_7 (Conv2D)            (None, 7, 7, 384)         663936    \n",
      "_________________________________________________________________\n",
      "local_response_normalization (None, 7, 7, 384)         0         \n",
      "_________________________________________________________________\n",
      "conv2d_8 (Conv2D)            (None, 7, 7, 256)         884992    \n",
      "_________________________________________________________________\n",
      "conv2d_9 (Conv2D)            (None, 7, 7, 256)         590080    \n",
      "_________________________________________________________________\n",
      "max_pooling2d_5 (MaxPooling2 (None, 3, 3, 256)         0         \n",
      "_________________________________________________________________\n",
      "flatten_1 (Flatten)          (None, 2304)              0         \n",
      "_________________________________________________________________\n",
      "dense_3 (Dense)              (None, 4096)              9441280   \n",
      "_________________________________________________________________\n",
      "dense_4 (Dense)              (None, 2048)              8390656   \n",
      "_________________________________________________________________\n",
      "dense_5 (Dense)              (None, 10)                20490     \n",
      "=================================================================\n",
      "Total params: 20,102,858\n",
      "Trainable params: 20,102,858\n",
      "Non-trainable params: 0\n",
      "_________________________________________________________________\n"
     ]
    }
   ],
   "source": [
    "m.summary()"
   ]
  },
  {
   "cell_type": "code",
   "execution_count": 16,
   "metadata": {
    "colab": {
     "base_uri": "https://localhost:8080/",
     "height": 492
    },
    "colab_type": "code",
    "executionInfo": {
     "elapsed": 155418,
     "status": "ok",
     "timestamp": 1584720036667,
     "user": {
      "displayName": "이세윤",
      "photoUrl": "",
      "userId": "13954051747148940156"
     },
     "user_tz": -540
    },
    "id": "HE9eYYalkDdK",
    "outputId": "0f71c52c-be26-4d51-8f15-acf830b71d8c"
   },
   "outputs": [
    {
     "name": "stdout",
     "output_type": "stream",
     "text": [
      "WARNING:tensorflow:From /tensorflow-1.15.0/python3.6/tensorflow_core/python/ops/math_grad.py:1375: where (from tensorflow.python.ops.array_ops) is deprecated and will be removed in a future version.\n",
      "Instructions for updating:\n",
      "Use tf.where in 2.0, which has the same broadcast rule as np.where\n",
      "Train on 60000 samples, validate on 10000 samples\n",
      "Epoch 1/10\n",
      "60000/60000 - 12s - loss: 2.2761 - acc: 0.2003 - val_loss: 2.1770 - val_acc: 0.4934\n",
      "Epoch 2/10\n",
      "60000/60000 - 10s - loss: 1.1234 - acc: 0.7205 - val_loss: 0.3219 - val_acc: 0.9031\n",
      "Epoch 3/10\n",
      "60000/60000 - 10s - loss: 0.2141 - acc: 0.9329 - val_loss: 0.1567 - val_acc: 0.9479\n",
      "Epoch 4/10\n",
      "60000/60000 - 10s - loss: 0.1355 - acc: 0.9564 - val_loss: 0.1091 - val_acc: 0.9630\n",
      "Epoch 5/10\n",
      "60000/60000 - 10s - loss: 0.0945 - acc: 0.9698 - val_loss: 0.0775 - val_acc: 0.9738\n",
      "Epoch 6/10\n",
      "60000/60000 - 10s - loss: 0.0749 - acc: 0.9770 - val_loss: 0.0653 - val_acc: 0.9791\n",
      "Epoch 7/10\n",
      "60000/60000 - 10s - loss: 0.0659 - acc: 0.9793 - val_loss: 0.0587 - val_acc: 0.9816\n",
      "Epoch 8/10\n",
      "60000/60000 - 10s - loss: 0.0594 - acc: 0.9810 - val_loss: 0.0704 - val_acc: 0.9769\n",
      "Epoch 9/10\n",
      "60000/60000 - 10s - loss: 0.0501 - acc: 0.9844 - val_loss: 0.0514 - val_acc: 0.9842\n",
      "Epoch 10/10\n",
      "60000/60000 - 10s - loss: 0.0489 - acc: 0.9850 - val_loss: 0.0445 - val_acc: 0.9855\n",
      "CPU times: user 1min 4s, sys: 24.9 s, total: 1min 28s\n",
      "Wall time: 1min 53s\n"
     ]
    }
   ],
   "source": [
    "%%time\n",
    "hist = m.fit(X_train, Y_train, epochs=10, batch_size=600,\n",
    "                   validation_data=(X_test, Y_test), verbose=2)"
   ]
  },
  {
   "cell_type": "code",
   "execution_count": 17,
   "metadata": {
    "colab": {
     "base_uri": "https://localhost:8080/",
     "height": 52
    },
    "colab_type": "code",
    "executionInfo": {
     "elapsed": 156966,
     "status": "ok",
     "timestamp": 1584720038232,
     "user": {
      "displayName": "이세윤",
      "photoUrl": "",
      "userId": "13954051747148940156"
     },
     "user_tz": -540
    },
    "id": "MLVl3K_4n20A",
    "outputId": "382e0439-72af-4d54-a51e-47e4dcbf771e"
   },
   "outputs": [
    {
     "name": "stdout",
     "output_type": "stream",
     "text": [
      "10000/10000 - 1s - loss: 0.0445 - acc: 0.9855\n"
     ]
    },
    {
     "data": {
      "text/plain": [
       "[0.04452171303179348, 0.9855]"
      ]
     },
     "execution_count": 17,
     "metadata": {
      "tags": []
     },
     "output_type": "execute_result"
    }
   ],
   "source": [
    "m.evaluate(X_test, Y_test, verbose=2)"
   ]
  },
  {
   "cell_type": "code",
   "execution_count": 18,
   "metadata": {
    "colab": {
     "base_uri": "https://localhost:8080/",
     "height": 265
    },
    "colab_type": "code",
    "executionInfo": {
     "elapsed": 156950,
     "status": "ok",
     "timestamp": 1584720038234,
     "user": {
      "displayName": "이세윤",
      "photoUrl": "",
      "userId": "13954051747148940156"
     },
     "user_tz": -540
    },
    "id": "icEg6AM-kDdY",
    "outputId": "32cb0186-6796-4f9b-819e-7baf611d4636"
   },
   "outputs": [
    {
     "data": {
      "image/png": "[encoded data removed]",
      "text/plain": [
       "<Figure size 432x288 with 1 Axes>"
      ]
     },
     "metadata": {
      "tags": []
     },
     "output_type": "display_data"
    }
   ],
   "source": [
    "plt.plot(hist.history['acc'], 'b-', label=\"training\")\n",
    "plt.plot(hist.history['val_acc'], 'r:', label=\"test\")\n",
    "plt.legend()\n",
    "plt.show()"
   ]
  },
  {
   "cell_type": "markdown",
   "metadata": {
    "colab_type": "text",
    "id": "xi9dbl0Bq_Zt"
   },
   "source": [
    "Test Accuracy 0.9855로 꽤 좋은 성능을 보이고 있네요!!\n"
   ]
  }
 ],
 "metadata": {
  "accelerator": "GPU",
  "colab": {
   "collapsed_sections": [],
   "name": "week8_CNN2_이세윤.ipynb",
   "provenance": []
  },
  "kernelspec": {
   "display_name": "Python 3 (ipykernel)",
   "language": "python",
   "name": "python3"
  },
  "language_info": {
   "codemirror_mode": {
    "name": "ipython",
    "version": 3
   },
   "file_extension": ".py",
   "mimetype": "text/x-python",
   "name": "python",
   "nbconvert_exporter": "python",
   "pygments_lexer": "ipython3",
   "version": "3.11.4"
  }
 },
 "nbformat": 4,
 "nbformat_minor": 4
}
