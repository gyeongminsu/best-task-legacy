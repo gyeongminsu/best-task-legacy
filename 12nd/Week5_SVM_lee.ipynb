{
 "cells": [
  {
   "cell_type": "code",
   "execution_count": null,
   "id": "6b73239d",
   "metadata": {},
   "outputs": [],
   "source": [
    "import pandas as pd\n",
    "import numpy as np\n",
    "import matplotlib.pyplot as plt\n",
    "import seaborn as sns\n",
    "import warnings"
   ]
  },
  {
   "cell_type": "code",
   "execution_count": null,
   "id": "bc4713a8",
   "metadata": {},
   "outputs": [],
   "source": [
    "train_df = pd.read_csv(\"train.csv\")\n",
    "test_df = pd.read_csv(\"test.csv\")"
   ]
  },
  {
   "cell_type": "code",
   "execution_count": null,
   "id": "3ee75332",
   "metadata": {},
   "outputs": [],
   "source": [
    "train_df.head()"
   ]
  },
  {
   "cell_type": "code",
   "execution_count": null,
   "id": "dc8fb34f",
   "metadata": {},
   "outputs": [],
   "source": [
    "test_df.head()"
   ]
  },
  {
   "cell_type": "code",
   "execution_count": null,
   "id": "f85ff3b2",
   "metadata": {},
   "outputs": [],
   "source": [
    "train_df.describe()"
   ]
  },
  {
   "cell_type": "code",
   "execution_count": null,
   "id": "2546c168",
   "metadata": {},
   "outputs": [],
   "source": [
    "test_df.describe()"
   ]
  },
  {
   "cell_type": "code",
   "execution_count": null,
   "id": "4d4ca1c4",
   "metadata": {},
   "outputs": [],
   "source": [
    "# 데이터에 Null 값 있는지 확인해보기\n",
    "train_df.isnull().sum().any()"
   ]
  },
  {
   "cell_type": "code",
   "execution_count": null,
   "id": "5a8f10a9",
   "metadata": {},
   "outputs": [],
   "source": [
    "# X와 y(target) 분리\n",
    "train_X = train_df.drop(['ID_code','target'], axis = 1)\n",
    "train_y = train_df['target']"
   ]
  },
  {
   "cell_type": "code",
   "execution_count": null,
   "id": "b3c3411e",
   "metadata": {},
   "outputs": [],
   "source": [
    "# target 데이터가 편향적인지 확인해보기\n",
    "train_y.value_counts()"
   ]
  },
  {
   "cell_type": "code",
   "execution_count": null,
   "id": "133b70c1",
   "metadata": {},
   "outputs": [],
   "source": [
    "graph_1 = sns.countplot(train_y)"
   ]
  },
  {
   "cell_type": "markdown",
   "id": "5d041c14",
   "metadata": {},
   "source": [
    "#### <그래프 1>: 클래스 간의 비율이 상당히 차이가 나므로, 매우 많이 비대칭적"
   ]
  },
  {
   "cell_type": "markdown",
   "id": "9d4222b9",
   "metadata": {},
   "source": [
    "#### Q1. 그렇다면 학습이 '0'에 치우치게 될텐데.. 데이터가 20만개라는 점과 imbalance 데이터라는 점에서 Resampling의 under-sampling을 통해 해결해보자"
   ]
  },
  {
   "cell_type": "code",
   "execution_count": null,
   "id": "a4ff0b60",
   "metadata": {},
   "outputs": [],
   "source": [
    "from imblearn.under_sampling import RandomUnderSampler\n",
    " \n",
    "rus = RandomUnderSampler(random_state=0)\n",
    "rus.fit(train_X, train_y)\n",
    "resample_X, resample_y = rus.fit_resample(train_X, train_y)"
   ]
  },
  {
   "cell_type": "code",
   "execution_count": null,
   "id": "f8c23d0b",
   "metadata": {},
   "outputs": [],
   "source": [
    "resample_X"
   ]
  },
  {
   "cell_type": "code",
   "execution_count": null,
   "id": "50b76494",
   "metadata": {},
   "outputs": [],
   "source": [
    "graph_2 = sns.countplot(resample_y)"
   ]
  },
  {
   "cell_type": "markdown",
   "id": "8fce0a2c",
   "metadata": {},
   "source": [
    "#### <그래프2> : target 변수가 동일한 비율로 resampling 되었을 뿐만 아니라, train_데이터의 갯수 역시 줄어듦"
   ]
  },
  {
   "cell_type": "code",
   "execution_count": null,
   "id": "d79e652a",
   "metadata": {},
   "outputs": [],
   "source": [
    "X = pd.DataFrame(resample_X)\n",
    "features = [c for c in train_df.columns if c not in ['ID_code', 'target']]\n",
    "X.columns = features\n",
    "y = pd.DataFrame(resample_y, columns=['target'])"
   ]
  },
  {
   "cell_type": "code",
   "execution_count": null,
   "id": "95592843",
   "metadata": {},
   "outputs": [],
   "source": [
    "# 의사결정나무의 변수의 중요도를 통해 200개의 변수의 중요도에 대해 파악해보자\n",
    "from sklearn.ensemble import RandomForestClassifier\n",
    "\n",
    "forest = RandomForestClassifier(n_estimators=5, random_state=2)\n",
    "forest = forest.fit(X,y)\n",
    "forest.feature_importances_"
   ]
  },
  {
   "cell_type": "code",
   "execution_count": null,
   "id": "3f21efd2",
   "metadata": {},
   "outputs": [],
   "source": [
    "feature_list = pd.DataFrame(forest.feature_importances_)\n",
    "feature_list.columns = ['importance']\n",
    "feature_list.sort_values('importance', ascending = False).head()"
   ]
  },
  {
   "cell_type": "code",
   "execution_count": null,
   "id": "d95e563e",
   "metadata": {},
   "outputs": [],
   "source": [
    "# 해당모델에서 중요하게 생각되는 변수들을 선택해보자\n",
    "from sklearn.feature_selection import SelectFromModel\n",
    "sfm = SelectFromModel(forest, prefit=True)\n",
    "X = sfm.transform(X)"
   ]
  },
  {
   "cell_type": "markdown",
   "id": "7215479f",
   "metadata": {},
   "source": [
    "#### Q2. 변수를 더 줄일 수 있는 방법은? 다중공선성을 이용해 변수를 줄여보자"
   ]
  },
  {
   "cell_type": "code",
   "execution_count": null,
   "id": "1c93aa9c",
   "metadata": {},
   "outputs": [],
   "source": [
    "X = pd.DataFrame(X)"
   ]
  },
  {
   "cell_type": "code",
   "execution_count": null,
   "id": "1d2cd40d",
   "metadata": {},
   "outputs": [],
   "source": [
    "from statsmodels.stats.outliers_influence import variance_inflation_factor\n",
    "\n",
    "vif = pd.DataFrame()\n",
    "vif[\"VLF Factor\"] = [variance_inflation_factor(X.values, i) for i in range(X.shape[1])]\n",
    "vif[\"features\"] = X.columns\n",
    "vif.sort_values([\"VLF Factor\"], ascending=[False])"
   ]
  },
  {
   "cell_type": "code",
   "execution_count": null,
   "id": "bdca388c",
   "metadata": {},
   "outputs": [],
   "source": [
    "X.drop([33,4,27], axis=1, inplace=True)"
   ]
  },
  {
   "cell_type": "code",
   "execution_count": null,
   "id": "6ca90ab8",
   "metadata": {},
   "outputs": [],
   "source": [
    "df = pd.concat([X,y], axis=1)"
   ]
  },
  {
   "cell_type": "code",
   "execution_count": null,
   "id": "3478c3a3",
   "metadata": {},
   "outputs": [],
   "source": [
    "# 층화추출하는 함수 \n",
    "def sampling_func(data, sample_pct):\n",
    "    np.random.seed(123)\n",
    "    N = len(data)\n",
    "    sample_n = int(len(data)*sample_pct)\n",
    "    sample = data.take(np.random.permutation(N)[:sample_n])\n",
    "    return sample"
   ]
  },
  {
   "cell_type": "code",
   "execution_count": null,
   "id": "ce978f20",
   "metadata": {},
   "outputs": [],
   "source": [
    "sample_set = df.groupby('target',group_keys=False).apply(sampling_func, sample_pct=0.05)\n",
    "len(sample_set)"
   ]
  },
  {
   "cell_type": "code",
   "execution_count": null,
   "id": "b5e93762",
   "metadata": {},
   "outputs": [],
   "source": [
    "X = sample_set.iloc[:,:-1]\n",
    "y = sample_set.iloc[:,-1::]"
   ]
  },
  {
   "cell_type": "code",
   "execution_count": null,
   "id": "055623ba",
   "metadata": {},
   "outputs": [],
   "source": [
    "from sklearn.preprocessing import StandardScaler\n",
    "\n",
    "sc_X = StandardScaler()\n",
    "scaled_X = sc_X.fit_transform(X)\n",
    "warnings.filterwarnings(action='once')"
   ]
  },
  {
   "cell_type": "code",
   "execution_count": null,
   "id": "1a928fa3",
   "metadata": {},
   "outputs": [],
   "source": [
    "# SVM - linear\n",
    "from sklearn.svm import SVC\n",
    "\n",
    "svm_linear = SVC(kernel='linear', C=1.0, random_state=0)\n",
    "svm_linear.fit(scaled_X, y)\n",
    "svm_linear.score(scaled_X, y)"
   ]
  },
  {
   "cell_type": "code",
   "execution_count": null,
   "id": "975044ca",
   "metadata": {},
   "outputs": [],
   "source": [
    "from sklearn.model_selection import cross_val_score\n",
    "\n",
    "cross_val_score(svm_linear, scaled_X, y, cv=3).mean()"
   ]
  },
  {
   "cell_type": "code",
   "execution_count": null,
   "id": "87fd9d22",
   "metadata": {},
   "outputs": [],
   "source": [
    "# SVM - rbf\n",
    "svm_rbf = SVC(kernel='rbf', gamma=0.0001, random_state=0)\n",
    "svm_rbf.fit(scaled_X, y)\n",
    "svm_rbf.score(scaled_X, y)\n",
    "cross_val_score(svm_rbf, scaled_X, y,cv=3).mean()"
   ]
  },
  {
   "cell_type": "code",
   "execution_count": null,
   "id": "48faa3e8",
   "metadata": {},
   "outputs": [],
   "source": [
    "# poly\n",
    "svm_poly = SVC(kernel='poly', C=1.0, random_state=0)\n",
    "svm_poly.fit(scaled_X, y)\n",
    "svm_poly.score(scaled_X, y)\n",
    "cross_val_score(svm_poly, scaled_X, y, cv=3).mean()"
   ]
  },
  {
   "cell_type": "markdown",
   "id": "df716d82",
   "metadata": {},
   "source": [
    "#### Q3 낮은 값이 나왔는데, 이것은 parameters의 탓일까? feature selection의 탓일까? 그렇다면 우선, 최적의 parameters를 추정해보자"
   ]
  },
  {
   "cell_type": "code",
   "execution_count": null,
   "id": "da533414",
   "metadata": {},
   "outputs": [],
   "source": [
    "# linear일 경우\n",
    "from sklearn.svm import SVC\n",
    "\n",
    "svm_linear = SVC(kernel='linear', C=1.0, random_state=0)\n",
    "svm_linear.fit(scaled_X, y)"
   ]
  },
  {
   "cell_type": "code",
   "execution_count": null,
   "id": "14a924d0",
   "metadata": {},
   "outputs": [],
   "source": [
    "param_grid = {\n",
    "    'C': [i for i in range(1,25)],\n",
    "}"
   ]
  },
  {
   "cell_type": "code",
   "execution_count": null,
   "id": "bc6aceff",
   "metadata": {},
   "outputs": [],
   "source": [
    "from sklearn.model_selection import GridSearchCV\n",
    "\n",
    "grid = GridSearchCV(estimator=svm_linear, param_grid=param_grid, cv=3, n_jobs=-1)\n",
    "grid = grid.fit(scaled_X, y)\n",
    "grid.best_params_\n",
    "grid.best_score_"
   ]
  },
  {
   "cell_type": "code",
   "execution_count": null,
   "id": "6ff2ddf4",
   "metadata": {},
   "outputs": [],
   "source": [
    "# rbf일 경우\n",
    "from sklearn.svm import SVC\n",
    "\n",
    "svm_rbf = SVC(kernel='rbf', C=1.0, random_state=0)\n",
    "svm_rbf.fit(scaled_X, y)"
   ]
  },
  {
   "cell_type": "code",
   "execution_count": null,
   "id": "a8933c2e",
   "metadata": {},
   "outputs": [],
   "source": [
    "param_grid = {\n",
    "    'C': [i for i in range(1,25)],\n",
    "}"
   ]
  },
  {
   "cell_type": "code",
   "execution_count": null,
   "id": "3f4ea200",
   "metadata": {},
   "outputs": [],
   "source": [
    "from sklearn.model_selection import GridSearchCV\n",
    "\n",
    "grid = GridSearchCV(estimator=svm_rbf, param_grid=param_grid, cv=3, n_jobs=-1)\n",
    "grid = grid.fit(scaled_X, y)\n",
    "grid.best_params_"
   ]
  },
  {
   "cell_type": "code",
   "execution_count": null,
   "id": "7ba88cbc",
   "metadata": {},
   "outputs": [],
   "source": [
    "param_grid = {\n",
    "    'C' : [1],\n",
    "    'gamma': [0.0001,0.001,0.01,0.1,1,10,100],\n",
    "}"
   ]
  },
  {
   "cell_type": "code",
   "execution_count": null,
   "id": "7db14eaa",
   "metadata": {},
   "outputs": [],
   "source": [
    "from sklearn.model_selection import GridSearchCV\n",
    "\n",
    "grid = GridSearchCV(estimator=svm_rbf, param_grid=param_grid, cv=3, n_jobs=-1)\n",
    "grid = grid.fit(scaled_X, y)\n",
    "grid.best_params_\n",
    "grid.best_score_"
   ]
  },
  {
   "cell_type": "code",
   "execution_count": null,
   "id": "05798c6b",
   "metadata": {},
   "outputs": [],
   "source": [
    "# poly의 경우\n",
    "from sklearn.svm import SVC\n",
    "\n",
    "svm_poly = SVC(kernel='poly', C=1.0, random_state=0)\n",
    "svm_poly.fit(scaled_X, y)"
   ]
  },
  {
   "cell_type": "code",
   "execution_count": null,
   "id": "b87bf306",
   "metadata": {},
   "outputs": [],
   "source": [
    "param_grid = {\n",
    "    'C': [i for i in range(1,25)],\n",
    "}"
   ]
  },
  {
   "cell_type": "code",
   "execution_count": null,
   "id": "863877d3",
   "metadata": {},
   "outputs": [],
   "source": [
    "from sklearn.model_selection import GridSearchCV\n",
    "\n",
    "grid = GridSearchCV(estimator=svm_poly, param_grid=param_grid, cv=3, n_jobs=-1)\n",
    "grid = grid.fit(scaled_X, y)\n",
    "grid.best_params_"
   ]
  },
  {
   "cell_type": "code",
   "execution_count": null,
   "id": "e7fc28c9",
   "metadata": {},
   "outputs": [],
   "source": [
    "param_grid = {\n",
    "    'C' : [1],\n",
    "    'gamma': [0.0001,0.001,0.01,0.1,1,10,100],\n",
    "}"
   ]
  },
  {
   "cell_type": "code",
   "execution_count": null,
   "id": "8e2a3ee2",
   "metadata": {},
   "outputs": [],
   "source": [
    "from sklearn.model_selection import GridSearchCV\n",
    "\n",
    "grid = GridSearchCV(estimator=svm_poly, param_grid=param_grid, cv=3, n_jobs=-1)\n",
    "grid = grid.fit(scaled_X, y)\n",
    "grid.best_params_\n",
    "grid.best_score_"
   ]
  },
  {
   "cell_type": "markdown",
   "id": "8305f474",
   "metadata": {},
   "source": [
    "#### Q4. 전체적으로 gridSearch를 통해 얻어진 best_score_가 낮게 나온다. 왜그럴까? 아무래도 resample(undersampling)을 통해서 재구성된 데이터가 1과 0을 찾을 때 0에 대한 학습이 기존의 그것보다 못해서 그런 것 같다. 그렇다면 test_df의 실제 target값이 0이 많다면 안좋은 결과를 1이 많다면 조금 더 나은 결과를 얻을 수 있겠다!"
   ]
  },
  {
   "cell_type": "markdown",
   "id": "12256202",
   "metadata": {},
   "source": [
    "## Test 데이터 예측: 결과가 안 좋았으니까, 차원을 축소시키지 않은 데이터(학습을 줄인 데이터)에서 결과를 도출"
   ]
  },
  {
   "cell_type": "code",
   "execution_count": null,
   "id": "826183bf",
   "metadata": {},
   "outputs": [],
   "source": [
    "# 1) 데이터셋 준비\n",
    "X = pd.DataFrame(resample_X)\n",
    "features = [c for c in train_df.columns if c not in ['ID_code', 'target']]\n",
    "X.columns = features\n",
    "y = pd.DataFrame(resample_y, columns=['target'])"
   ]
  },
  {
   "cell_type": "code",
   "execution_count": null,
   "id": "eb47845a",
   "metadata": {},
   "outputs": [],
   "source": [
    "real_df = pd.concat([X,y], axis=1)\n",
    "sample_set = real_df.groupby('target',group_keys=False).apply(sampling_func, sample_pct=0.05)\n",
    "X = sample_set.iloc[:,:-1]\n",
    "y = sample_set.iloc[:,-1::]\n",
    "scaled_X = sc_X.fit_transform(X)\n",
    "warnings.filterwarnings(action='once')"
   ]
  },
  {
   "cell_type": "code",
   "execution_count": null,
   "id": "261d7c7e",
   "metadata": {},
   "outputs": [],
   "source": [
    "# 2) 테스트 데이터 스케일링\n",
    "test_df.drop('ID_code', axis = 1, inplace = True)\n",
    "scaled_test = sc_X.fit_transform(test_df)\n",
    "warnings.filterwarnings(action='once')"
   ]
  },
  {
   "cell_type": "code",
   "execution_count": null,
   "id": "becdb4f2",
   "metadata": {},
   "outputs": [],
   "source": [
    "# 3) 모델링\n",
    "from sklearn.svm import SVC\n",
    "\n",
    "svm_real = SVC(kernel='rbf', C=1.0, random_state=0)\n",
    "svm_real.fit(scaled_X, y)\n",
    "y_pred = svm_real.predict(scaled_test)"
   ]
  },
  {
   "cell_type": "code",
   "execution_count": null,
   "id": "3d7c015f",
   "metadata": {},
   "outputs": [],
   "source": [
    "# 4) 제출\n",
    "test_df = pd.read_csv(\"test.csv\")\n",
    "submission_data= test_df[\"ID_code\"]\n",
    "submission_data = pd.concat([submission_data, pd.Series(y_pred)], axis= 1)\n",
    "submission_data.columns = ['ID_code', 'target']"
   ]
  },
  {
   "cell_type": "code",
   "execution_count": null,
   "id": "a03d4486",
   "metadata": {},
   "outputs": [],
   "source": [
    "submission_data['target'].value_counts()"
   ]
  },
  {
   "cell_type": "code",
   "execution_count": null,
   "id": "cef73838",
   "metadata": {},
   "outputs": [],
   "source": [
    "submission_data.to_csv(r\"C:\\Users\\ehj14\\Desktop\\TOBIGS\\5week\\SVM\\submission_data_Ver2.csv\", header=True, index=False)"
   ]
  }
 ],
 "metadata": {
  "kernelspec": {
   "display_name": "Python 3 (ipykernel)",
   "language": "python",
   "name": "python3"
  },
  "language_info": {
   "codemirror_mode": {
    "name": "ipython",
    "version": 3
   },
   "file_extension": ".py",
   "mimetype": "text/x-python",
   "name": "python",
   "nbconvert_exporter": "python",
   "pygments_lexer": "ipython3",
   "version": "3.11.4"
  }
 },
 "nbformat": 4,
 "nbformat_minor": 5
}
