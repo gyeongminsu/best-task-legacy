{
 "cells": [
  {
   "cell_type": "markdown",
   "id": "e6b20c5a",
   "metadata": {},
   "source": [
    "## <부동산 경매, 아파트 경매가를 예측하는 모델(낙찰가를 기반으로 대출여부를 결정)를 만들기 전처리와 EDA>"
   ]
  },
  {
   "cell_type": "code",
   "execution_count": null,
   "id": "29a5bad5",
   "metadata": {},
   "outputs": [],
   "source": [
    "import numpy as np\n",
    "import pandas as pd\n",
    "import matplotlib.pyplot as plt\n",
    "import seaborn as sns\n",
    "import warnings\n",
    "from sklearn.cluster import KMeans\n",
    "plt.style.use('seaborn')\n",
    "warnings.filterwarnings('ignore')\n",
    "%matplotlib inline"
   ]
  },
  {
   "cell_type": "code",
   "execution_count": null,
   "id": "887cd38f",
   "metadata": {},
   "outputs": [],
   "source": [
    "data = pd.read_csv('Auction_master_train.csv')\n",
    "data['Hammer_price'].argmax()\n",
    "print(data.columns.values)\n",
    "print(data.dtypes)\n",
    "print(data.isnull().sum())"
   ]
  },
  {
   "cell_type": "code",
   "execution_count": null,
   "id": "77c48948",
   "metadata": {},
   "outputs": [],
   "source": [
    "point_x = data['point.x'].values\n",
    "point_y = data['point.y'].values\n",
    "pd_point = pd.DataFrame(data={'x':point_x,'y':point_y})\n",
    "pd_point\n",
    "kmeans = KMeans(n_clusters=3).fit(pd_point)\n",
    "kmeans.labels_\n",
    "data['cluster_id'] = kmeans.labels_"
   ]
  },
  {
   "cell_type": "code",
   "execution_count": null,
   "id": "524eee68",
   "metadata": {},
   "outputs": [],
   "source": [
    "lists = []\n",
    "for i in range(len(data['road_bunji1'])):\n",
    "if data['road_bunji1'].isnull()[i] == True:\n",
    "lists.append(i)"
   ]
  },
  {
   "cell_type": "code",
   "execution_count": null,
   "id": "8a89dc2e",
   "metadata": {},
   "outputs": [],
   "source": [
    "data.groupby('cluster_id').mean()"
   ]
  },
  {
   "cell_type": "code",
   "execution_count": null,
   "id": "b15cc3ac",
   "metadata": {},
   "outputs": [],
   "source": [
    "lists_cluster = []\n",
    "\n",
    "for j in range(len(lists)):\n",
    "lists_cluster.append(data['cluster_id'][lists[j]])\n",
    "if lists_cluster[j] == '0':\n",
    "data['road_bunji1'][lists[j]]='117'\n",
    "elif lists_cluster[j] == '1':\n",
    "data['road_bunji1'][lists[j]]='108'\n",
    "else:\n",
    "data['road_bunji1'][lists[j]]='154'"
   ]
  },
  {
   "cell_type": "markdown",
   "id": "99a5998c",
   "metadata": {},
   "source": [
    "--------<범주형 데이터 7개 찾고 인코딩>----------\n",
    "1. Auction_class는 nominal데이터로 임의와 강제를 0과1로 바꾸어주었다\n",
    "data['Auction_class'].replace(['임의','강제'],[0,1],inplace=True)\n",
    "\n",
    "2. Bid_class는 nominal데이터로 일반,개별,일괄을 0,1,2로 바꾸어주었다\n",
    "data['Bid_class'].replace(['일반','개별','일괄'],[0,1,2],inplace=True)\n",
    "data['Bid_class']\n",
    "\n",
    "\n",
    "3. Final_result는 nominal데이터로 낙찰을 0로 바꾸어주었다.\n",
    "\n",
    "data['Final_result'].replace(['낙찰'],[0],inplace=True)\n",
    "data['Final_result'].head()\n",
    "\n",
    "4. addr_san은 nominal데이터로 N,Y를 0과1로 바꾸어주었다\n",
    "\n",
    "data['addr_san'].replace(['N','Y'],[0,1],inplace=True)\n",
    "data['addr_san']\n",
    "\n",
    "5. Share_auction_YorN는 nominal데이터로 N,Y를 0과1로 바꾸어주었다\n",
    "data['Share_auction_YorN'].replace(['N','Y'],[0,1],inplace=True)\n",
    "data['Share_auction_YorN']\n",
    "\n",
    "6. Apartment_usage는 nominal데이터로 주상복합, 아파트를 0과1로 바꾸어주었다\n",
    "data['Apartment_usage'].replace(['주상복합','아파트'],[0,1],inplace=True)\n",
    "data['Apartment_usage'].head()\n",
    "\n",
    "7. Close_result는 nominal데이터로 낙찰, 배당을 0과1로 바꾸어주었다\n",
    "data['Close_result'].replace(['낙찰','배당'],[0,1],inplace=True)\n",
    "data['Close_result']"
   ]
  },
  {
   "cell_type": "code",
   "execution_count": null,
   "id": "cb59b180",
   "metadata": {},
   "outputs": [],
   "source": [
    "# EDA 부분\n",
    "plt.rc('font', size=30)\n",
    "plt.rc('axes', titlesize=33, labelsize=18)\n",
    "plt.rc('axes', labelsize=18)\n",
    "plt.rc('axes', titlesize=22, labelsize=18)\n",
    "plt.rc('ytick',labelsize=12)\n",
    "Correlation matrix와 heat map\n",
    "data = pd.read_csv('Auction_master_train.csv')\n",
    "features = list(data.columns)[:]\n",
    "print(features)"
   ]
  },
  {
   "cell_type": "code",
   "execution_count": null,
   "id": "3143cf98",
   "metadata": {},
   "outputs": [],
   "source": [
    "# 상관관계(correlation matrix ) 그래프\n",
    "data[features].corr()\n",
    "Heat map\n",
    "sns.heatmap(data[features].corr(),annot=True,linewidths=0.2)\n",
    "fig=plt.gcf()\n",
    "fig.set_size_inches(40,25)\n",
    "plt.show()"
   ]
  },
  {
   "cell_type": "code",
   "execution_count": null,
   "id": "e93888a3",
   "metadata": {},
   "outputs": [],
   "source": [
    "# Hammer_price와 연속형 변수 5가지 선정후 그래프 시각화"
   ]
  },
  {
   "cell_type": "code",
   "execution_count": null,
   "id": "967f4e54",
   "metadata": {},
   "outputs": [],
   "source": [
    "plt.scatter(data['Hammer_price'],data['Auction_miscarriage_count'])\n",
    "# Hammer_price 와 Auction_miscarriage_count는 산점도 그래프를 통해 보면 전혀 상관관계가 없는것으로 생각된다."
   ]
  },
  {
   "cell_type": "code",
   "execution_count": null,
   "id": "81a68a2a",
   "metadata": {},
   "outputs": [],
   "source": [
    "plt.scatter(data['Hammer_price'],data['Total_appraisal_price'])\n",
    "# Hammer_price 와 Total_appraisal_price는 산점도 그래프를 통해 보면 강한 양의 상관관계가 있는것으로 생각된다."
   ]
  },
  {
   "cell_type": "code",
   "execution_count": null,
   "id": "444e88e7",
   "metadata": {},
   "outputs": [],
   "source": [
    "plt.scatter(data['Hammer_price'],data['Minimum_sales_price'])\n",
    "# Hammer_price 와 Minimum_sales_price는 산점도 그래프를 통해 보면 강한 양의 상관관계가 있는것으로 생각된다."
   ]
  },
  {
   "cell_type": "code",
   "execution_count": null,
   "id": "c9c002b2",
   "metadata": {},
   "outputs": [],
   "source": [
    "plt.scatter(data['Hammer_price'],data['Total_building_auction_area'])\n",
    "# Hammer_price 와 Total_building_auction_area는 산점도 그래프를 통해 보면 양의 상관관계(비례)가 있는것으로 생각된다"
   ]
  },
  {
   "cell_type": "code",
   "execution_count": null,
   "id": "91277d99",
   "metadata": {},
   "outputs": [],
   "source": [
    "plt.scatter(data['Hammer_price'],data['Total_floor'])\n",
    "# Hammer_price 와 Total_floor는 산점도 그래프를 통해 보면 너무 흩어져있어 상관관계가 없는것으로 생각된다."
   ]
  },
  {
   "cell_type": "code",
   "execution_count": null,
   "id": "a5c2bc35",
   "metadata": {},
   "outputs": [],
   "source": [
    "# 3차원 정보(변수 3가지) 도표"
   ]
  },
  {
   "cell_type": "code",
   "execution_count": null,
   "id": "e4b60137",
   "metadata": {},
   "outputs": [],
   "source": [
    "# 그래프1\n",
    "sns.violinplot(\"Bid_class\",\"Auction_count\", hue=\"Auction_class\", data=data,split=True)\n",
    "plt.show()\n",
    "# 임의입찰의 경우 임의경매의 총경매횟수가 강제경매보다 많은것을 알 수 있다."
   ]
  },
  {
   "cell_type": "code",
   "execution_count": null,
   "id": "e3fd0fde",
   "metadata": {},
   "outputs": [],
   "source": [
    "# 그래프2\n",
    "point_x = data['point.x'].values\n",
    "point_y = data['point.y'].values\n",
    "pd_point = pd.DataFrame(data={'x':point_x,'y':point_y})\n",
    "pd_point\n",
    "kmeans = KMeans(n_clusters=3).fit(pd_point)\n",
    "kmeans.labels_\n",
    "data['cluster_id'] = kmeans.labels_\n",
    "sns.barplot(x='Auction_class',y='Auction_miscarriage_count',hue='cluster_id',data=data)\n",
    "plt.show()\n",
    "# cluster_id로 지역을 구분하였을 때 0,2지역은 Auction_class으로 구분해도 Auction_miscarriage_count값들이 비슷한것으로 파악되는데 1지역에서 강제경매보다 임의경매일 때 훨씬 많은 유찰횟수가 발생한다는 것을 알 수 있다."
   ]
  },
  {
   "cell_type": "code",
   "execution_count": null,
   "id": "cd4f14fe",
   "metadata": {},
   "outputs": [],
   "source": [
    "# 그래프3\n",
    "data['Apartment_usage'].replace(['주상복합','아파트'],[0,1],inplace=True)\n",
    "data['Hammer_price'].argmax()\n",
    "# 위의 코드는 Hammer_price의 가장 큰값의 인덱스값을 얻을 수 있는 코드입니다."
   ]
  },
  {
   "cell_type": "code",
   "execution_count": null,
   "id": "8d1b211c",
   "metadata": {},
   "outputs": [],
   "source": [
    "del data['Hammer_price'][1521]\n",
    "del data['cluster_id'][1521]\n",
    "del data['Apartment_usage'][1521]\n",
    "\n",
    "del data['Hammer_price'][1515]\n",
    "del data['cluster_id'][1515]\n",
    "del data['Apartment_usage'][1515]\n",
    "# 밑에 그래프를 그릴 때 Hammer_price의 몇개의 값이 평균적인 값보다 너무 큰 이상치가 있어서 그것의 index값을 통해 지워주고 그래프를 그렸습니다."
   ]
  },
  {
   "cell_type": "code",
   "execution_count": null,
   "id": "61a52400",
   "metadata": {},
   "outputs": [],
   "source": [
    "sns.boxplot(x='cluster_id',y='Hammer_price',hue='Apartment_usage',data=data)\n",
    "plt.show()\n",
    "# cluster_id로 구분했을 때 1지역의 낙찰가가 평균적으로 지역들중 가장 낮을 것을 알 수 있고 0지역의 낙찰가가 평균적으로 가장 높을 것을 알 수 있었습니다."
   ]
  }
 ],
 "metadata": {
  "kernelspec": {
   "display_name": "Python 3 (ipykernel)",
   "language": "python",
   "name": "python3"
  },
  "language_info": {
   "codemirror_mode": {
    "name": "ipython",
    "version": 3
   },
   "file_extension": ".py",
   "mimetype": "text/x-python",
   "name": "python",
   "nbconvert_exporter": "python",
   "pygments_lexer": "ipython3",
   "version": "3.11.4"
  }
 },
 "nbformat": 4,
 "nbformat_minor": 5
}
