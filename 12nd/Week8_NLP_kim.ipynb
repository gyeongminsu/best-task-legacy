{
 "cells": [
  {
   "cell_type": "code",
   "execution_count": null,
   "id": "ed7d6b69",
   "metadata": {},
   "outputs": [],
   "source": [
    "import selenium \n",
    "from selenium import webdriver\n",
    "import random\n",
    "from time import sleep\n",
    "import pandas as pd\n",
    "from selenium.webdriver.common.by import By\n",
    "from selenium.webdriver.support.ui import WebDriverWait\n",
    "from selenium.webdriver.support import expected_conditions as EC\n",
    "from selenium.webdriver.common.keys import Keys\n",
    "from tqdm import tqdm"
   ]
  },
  {
   "cell_type": "code",
   "execution_count": null,
   "id": "d90342a7",
   "metadata": {},
   "outputs": [],
   "source": [
    "# Browser 켜기\n",
    "browser = webdriver.Chrome()\n",
    "browser.get('https://everytime.kr/timetable')"
   ]
  },
  {
   "cell_type": "code",
   "execution_count": null,
   "id": "6bc3f855",
   "metadata": {},
   "outputs": [],
   "source": [
    "# login 함수 생성\n",
    "def login(id_,password):\n",
    "    browser.find_element_by_name('userid').send_keys(str(id_))\n",
    "    browser.find_element_by_name('password').send_keys(str(password))\n",
    "    browser.find_element_by_xpath('//*[@id=\"container\"]/form/p[3]/input').click()"
   ]
  },
  {
   "cell_type": "code",
   "execution_count": null,
   "id": "c5033b9e",
   "metadata": {},
   "outputs": [],
   "source": [
    "# 가끔 팝업뜨는거 닫아주기\n",
    "browser.find_element_by_xpath('//*[@id=\"container\"]/ul/li[1]').click()"
   ]
  },
  {
   "cell_type": "code",
   "execution_count": null,
   "id": "132315e1",
   "metadata": {},
   "outputs": [],
   "source": [
    "# 스크롤 위치 찾기\n",
    "scr1=browser.find_element_by_xpath('//*[@id=\"subjects\"]/div[2]')"
   ]
  },
  {
   "cell_type": "code",
   "execution_count": null,
   "id": "9b234182",
   "metadata": {},
   "outputs": [],
   "source": [
    "# 스크롤 계속 내리기 ( 매우 오래걸림 실행 X)\n",
    "for i in range(1000):\n",
    "    browser.execute_script(\"arguments[0].scrollTop = arguments[0].scrollHeight\", scr1)\n",
    "    sleep(3)"
   ]
  },
  {
   "cell_type": "code",
   "execution_count": null,
   "id": "52a6d247",
   "metadata": {},
   "outputs": [],
   "source": [
    "# 에타 과목 정보 저장\n",
    "tables = browser.find_elements_by_tag_name(\"tr\")"
   ]
  },
  {
   "cell_type": "code",
   "execution_count": null,
   "id": "fcac6ef3",
   "metadata": {},
   "outputs": [],
   "source": [
    "# 이 과목 평점 저장\n",
    "stars = browser.find_elements_by_class_name('star')"
   ]
  },
  {
   "cell_type": "code",
   "execution_count": null,
   "id": "4d83d1a7",
   "metadata": {},
   "outputs": [],
   "source": [
    "# 칼럼 이름이 html에 있길래 뽑은건데, 2번씩 중복해서 나오길래 이렇게 뽑아봄 (사용안했음 ㅎㅎ;;ㅈㅅ;;)\n",
    "cols=[]\n",
    "\n",
    "for i in range(0,24,2):\n",
    "    cols.append(table[2].text.split('\\n')[i])"
   ]
  },
  {
   "cell_type": "code",
   "execution_count": null,
   "id": "cb67a14e",
   "metadata": {},
   "outputs": [],
   "source": [
    "# 점수랑 타이틀 가져오는 코드\n",
    "scores=[]\n",
    "links=[]\n",
    "\n",
    "for table in tqdm (stars) :\n",
    "    scores.append(table.get_attribute('title'))\n",
    "    links.append(table.get_attribute('href'))"
   ]
  },
  {
   "cell_type": "code",
   "execution_count": null,
   "id": "96febf6b",
   "metadata": {},
   "outputs": [],
   "source": [
    "# 테이블이, 3번행부터 정보가 있고, 2918행 이후로는 의미없는 행이길래 제외\n",
    "# 테이블에서 세부정보 뽑는 코드\n",
    "tables=tables[3:2918]\n",
    "grades=[] # 추천학년\n",
    "categories=[] # 수업 분류(전공,교양)\n",
    "codes=[] # 과목코드\n",
    "names=[] # 수업 이름\n",
    "profs=[] # 교수 이름\n",
    "weights=[] # 학점(1,2,3)\n",
    "times=[] # 시간\n",
    "competitiors=[] # 에타 시간표에 담은인원\n",
    "\n",
    "for element in tqdm(tables):\n",
    "    splited=element.text.split(' ')\n",
    "    grades.append(splited[0])\n",
    "    categories.append(splited[1])\n",
    "    codes.append(splited[2])\n",
    "    names.append(splited[3])\n",
    "    profs.append(splited[4])\n",
    "    weights.append(splited[5])\n",
    "    try :\n",
    "        times.append(splited[8]+splited[9]+splited[10]+splited[11]+splited[12])\n",
    "    except :\n",
    "        times.append(None)\n",
    "    try :\n",
    "        competitiors.append(splited[13])\n",
    "    except :\n",
    "        competitiors.append(None)"
   ]
  },
  {
   "cell_type": "code",
   "execution_count": null,
   "id": "ebebb148",
   "metadata": {},
   "outputs": [],
   "source": [
    "# 뽑은 리스트들을 df로 바꿔줬음\n",
    "dfs=[names,codes,scores,categories,profs,times,grades,weights,competitiors,links]\n",
    "df=pd.DataFrame()\n",
    "for cols in dfs:\n",
    "    df=pd.concat([df,pd.Series(cols)],axis=1)"
   ]
  },
  {
   "cell_type": "code",
   "execution_count": null,
   "id": "3a7a4511",
   "metadata": {},
   "outputs": [],
   "source": [
    "# 칼럼 이름 만들어줌\n",
    "df.columns=['class_name','class_code','score','category','professor','time',\n",
    "            'recommend_year','weight','competitor','link']"
   ]
  },
  {
   "cell_type": "code",
   "execution_count": null,
   "id": "ace0c229",
   "metadata": {},
   "outputs": [],
   "source": [
    "# 아까 위에서 형식 제대로 안지켜진 데이터들 떨굼 ( 보완 방향 (!) )\n",
    "df.dropna(inplace=True)"
   ]
  },
  {
   "cell_type": "code",
   "execution_count": null,
   "id": "c597ec74",
   "metadata": {},
   "outputs": [],
   "source": [
    "# 교수이름이 3글자 아닌 수업들 뽑아봄 : 왜냐면 그냥 인덱싱으로 한거라 형식 안지켜진건데 들어갔을 수 있음\n",
    "error_list=[]\n",
    "for i in df['professor'].unique():\n",
    "    if len(i) !=3 :\n",
    "        error_list.append(i)"
   ]
  },
  {
   "cell_type": "code",
   "execution_count": null,
   "id": "2f3989f2",
   "metadata": {},
   "outputs": [],
   "source": [
    "# 직접 보고 이름 2,4글자인 교수님들 이름 빼줌\n",
    "non_error=['박진','이화','박민','호티롱안','나강','문영','전긍','고댕','김예솔란','정철',\n",
    "                 '최웅','안준','김강','이건','사공석진','허림','오정','이민','이찬',\n",
    "                 '김명','허균','김영','이웅','임강','최영']"
   ]
  },
  {
   "cell_type": "code",
   "execution_count": null,
   "id": "8c543c1d",
   "metadata": {},
   "outputs": [],
   "source": [
    "# 제거\n",
    "for i in non_error :\n",
    "    error_list.remove(i)"
   ]
  },
  {
   "cell_type": "code",
   "execution_count": null,
   "id": "a7f43712",
   "metadata": {},
   "outputs": [],
   "source": [
    "# 그냥 이름3자 아니거나, non error 아닌 거 다 없애버렸는데 이거 보완해야함 ( 1 )\n",
    "#df2=df.query('professor not in @error_list') "
   ]
  },
  {
   "cell_type": "code",
   "execution_count": null,
   "id": "dd527d57",
   "metadata": {},
   "outputs": [],
   "source": [
    "# Save\n",
    "#df2.to_csv('df2.csv',index=False)\n",
    "# Load\n",
    "df2=pd.read_csv('df2.csv')"
   ]
  },
  {
   "cell_type": "code",
   "execution_count": null,
   "id": "4215e7ff",
   "metadata": {},
   "outputs": [],
   "source": [
    "# 링크 추출함, 리뷰 하나도 없는 수업은 java스크립트로 뽑혀오길래 그것도 제외\n",
    "link_list=list(df2['link'].unique())\n",
    "link_list.remove('javascript: alert(\"%EC%95%84%EC%A7%81 %EB%93%B1%EB%A1%9D%EB%90%9C %EA%B0%95%EC%9D%98%ED%8F%89%EC%9D%B4 %EC%97%86%EC%8A%B5%EB%8B%88%EB%8B%A4.\");')"
   ]
  },
  {
   "cell_type": "code",
   "execution_count": null,
   "id": "30c38a67",
   "metadata": {},
   "outputs": [],
   "source": [
    "from random import randint\n",
    "from bs4 import BeautifulSoup as bs\n",
    "import requests\n",
    "import lxml.html\n",
    "import re"
   ]
  },
  {
   "cell_type": "code",
   "execution_count": null,
   "id": "751f9eba",
   "metadata": {},
   "outputs": [],
   "source": [
    "def review_crawl(link_text):\n",
    "    ## Selenium\n",
    "    browser.get(link_text)\n",
    "    sleep(0.5) # 로딩 기다리기\n",
    "    # 리뷰 내용만 추출\n",
    "    reg=re.compile('[0-9]')\n",
    "    reviews={}\n",
    "    sleep(2) # 로딩 기다리기 \n",
    "    tb=browser.find_element_by_class_name('articles')\n",
    "    art_table=tb.find_elements_by_tag_name('article')\n",
    "\n",
    "    for element in art_table :\n",
    "        reviews[element.find_element_by_class_name('text').text]=(float(''.join(reg.findall(element.find_element_by_class_name('on').get_attribute('style'))))*0.05)\n",
    "\n",
    "    # 소스 뺴와서 파싱\n",
    "    table=bs(browser.page_source,'xml')\n",
    "    heads=table.find('div',class_='side head')\n",
    "    \n",
    "    # 제목, 교수 내용 추출\n",
    "    class_name=(heads.find('h2').text)\n",
    "    prof_name=(heads.find('span').text)\n",
    "\n",
    "    # 강의평 테이블 추출\n",
    "    articles=table.find('div',class_='side article')\n",
    "\n",
    "    # 강의평의 평균 평점 내용 추출\n",
    "    mean_score=float(articles.find('span',class_='value').text)\n",
    "\n",
    "    # 강의평 중 세부 테이블 추출\n",
    "    details=articles.find('div',class_='details')\n",
    "\n",
    "    # 강의평 중 세부 내용 추출\n",
    "    labels=details.find_all('label')\n",
    "    detail=details.find_all('span')\n",
    "    detail_type={}\n",
    "    for l,d in zip(labels,detail):\n",
    "        detail_type[str(l.text)]=d.text\n",
    "\n",
    "    review_t=pd.DataFrame.from_dict(reviews, orient='index').reset_index()\n",
    "    review_t.columns=['review','score']\n",
    "    review_t['name']=class_name\n",
    "    review_t['prof']=prof_name\n",
    "    \n",
    "    review_detail=pd.DataFrame.from_dict(detail_type,orient='index').T\n",
    "    review_detail['name']=class_name\n",
    "    review_detail['prof']=prof_name\n",
    "\n",
    "    return review_t,review_detail"
   ]
  },
  {
   "cell_type": "code",
   "execution_count": null,
   "id": "5a16e445",
   "metadata": {},
   "outputs": [],
   "source": [
    "review=pd.DataFrame() # 강의평 추출 테이블\n",
    "detail=pd.DataFrame() # 과목 세부정보 추출 테이블"
   ]
  },
  {
   "cell_type": "code",
   "execution_count": null,
   "id": "7c5a632e",
   "metadata": {},
   "outputs": [],
   "source": [
    "# ↓ 가끔 안 켜고 시작하면 오류뜰 때가 있어서 그때 대비 \n",
    "browser = webdriver.Chrome()\n",
    "browser.get(link_list[0]) \n",
    "login('###','####')\n",
    "# ↑ 가끔 안 켜고 시작하면 오류뜰 때가 있어서 그때 대비"
   ]
  },
  {
   "cell_type": "code",
   "execution_count": null,
   "id": "995df398",
   "metadata": {},
   "outputs": [],
   "source": [
    "# 크롤링 과정 (오래걸림 실행 ㄴ)\n",
    "for link in tqdm(link_list) :\n",
    "    try:\n",
    "        r_t,r_d=review_crawl(link)\n",
    "        review=pd.concat([review,r_t])\n",
    "        detail=pd.concat([detail,r_d])\n",
    "        sleep(1)\n",
    "    except:\n",
    "        print(link , '강의평 추출 X ')"
   ]
  },
  {
   "cell_type": "code",
   "execution_count": null,
   "id": "57f75b64",
   "metadata": {},
   "outputs": [],
   "source": [
    "#Save\n",
    "#review.to_csv('review.csv',index=False)\n",
    "#detail.to_csv('detail.csv',index=False)\n",
    "#Load\n",
    "review=pd.read_csv('review.csv')\n",
    "review=review.reset_index().drop('index',axis=1)"
   ]
  },
  {
   "cell_type": "code",
   "execution_count": null,
   "id": "ca55e2a0",
   "metadata": {},
   "outputs": [],
   "source": [
    "review.head()"
   ]
  },
  {
   "cell_type": "code",
   "execution_count": null,
   "id": "31d8cbfd",
   "metadata": {},
   "outputs": [],
   "source": [
    "def cleanText(readData):\n",
    "    text = re.sub('[-=+,#/\\?:^$.@*\\\"※~&%ㆍ!』\\\\‘|\\(\\)\\[\\]\\<\\>`\\'…》]', ' ', readData) # 특문제거\n",
    "    text = re.sub('[^가-힣]',' ',text) # 한글 제외, + 단일 자음모음 제거 \n",
    "    return text"
   ]
  },
  {
   "cell_type": "code",
   "execution_count": null,
   "id": "83e6a8e3",
   "metadata": {},
   "outputs": [],
   "source": [
    "clean=[]\n",
    "\n",
    "for data in review['review']:\n",
    "    clean.append(cleanText(data))"
   ]
  },
  {
   "cell_type": "code",
   "execution_count": null,
   "id": "ae713203",
   "metadata": {},
   "outputs": [],
   "source": [
    "review['review']=pd.Series(clean)"
   ]
  },
  {
   "cell_type": "code",
   "execution_count": null,
   "id": "ac9c5604",
   "metadata": {},
   "outputs": [],
   "source": [
    "from konlpy.tag import *\n",
    "kkma = Kkma()"
   ]
  },
  {
   "cell_type": "code",
   "execution_count": null,
   "id": "648430f2",
   "metadata": {},
   "outputs": [],
   "source": [
    "# 토크나이징하고, 에러난 row ( 대부분 빈 텍스트를 토크나이징 한 것 ) 찾아줌\n",
    "corpus=[] \n",
    "error=[]\n",
    "i=0\n",
    "for data in tqdm(review['review']):\n",
    "    try:\n",
    "        corpus.append(kkma.morphs(data))\n",
    "    except:\n",
    "        error.append(i)\n",
    "    i += 1\n",
    "error=[2568,2720,6009,6532,6589,7729,8722,10853]"
   ]
  },
  {
   "cell_type": "code",
   "execution_count": null,
   "id": "b6007af9",
   "metadata": {},
   "outputs": [],
   "source": [
    "# 에러난 친구들\n",
    "display(review.loc[error,:])\n",
    "review=review.drop(error,0) # 빈 행 삭제"
   ]
  },
  {
   "cell_type": "code",
   "execution_count": null,
   "id": "ad7ce459",
   "metadata": {},
   "outputs": [],
   "source": [
    "# save\n",
    "with open('kkma_token_0909.pickle', 'wb') as f:\n",
    "    pickle.dump(corpus, f, pickle.HIGHEST_PROTOCOL)"
   ]
  },
  {
   "cell_type": "code",
   "execution_count": null,
   "id": "079b7945",
   "metadata": {},
   "outputs": [],
   "source": [
    "# load\n",
    "import pickle\n",
    "with open('kkma_token_0909.pickle', 'rb') as f:\n",
    "    corpus = pickle.load(f)"
   ]
  },
  {
   "cell_type": "code",
   "execution_count": null,
   "id": "f918c493",
   "metadata": {},
   "outputs": [],
   "source": [
    "from gensim.models import Word2Vec, FastText\n",
    "\n",
    "embd_SG= Word2Vec(corpus, size=100, window=2, min_count=10,\n",
    "                           workers=-1, iter=1000, sg=1)"
   ]
  },
  {
   "cell_type": "code",
   "execution_count": null,
   "id": "57f245f4",
   "metadata": {},
   "outputs": [],
   "source": [
    "#CBOW보단 Skip - Gram의 성능이 전반적으로 낫다고들 함\n",
    "#리뷰 여러개니까, 차원 적으면 표현이 안될거라고 생각, 100차원정도 임시로 줘봤음\n",
    "#리뷰다보니까 별로 안 길어서 윈도우는 작게주고, min_count는 의미없는 단어 나오지 말라고 10정도로 줌\n",
    "# -> 이거 나중에 보완 ( 2 )\n",
    "# 리뷰 단위별 벡터구하기 (받은 코드가 옛날버전인듯 word2vec 모델에 그런인자가 없던데..그래서 그냥 짬)\n",
    "def get_embedding_vector(model,corpus):\n",
    "    embeding_dict={}\n",
    "    embeding_df=pd.DataFrame()\n",
    "    for w,v in zip(model.wv.index2word , model.wv.vectors):\n",
    "        embeding_dict[w]=v\n",
    "        embeding_table=(pd.DataFrame(embeding_dict).T.reset_index())\n",
    "    for words in (corpus):\n",
    "        embeding_df=pd.concat([embeding_df,\n",
    "                               embeding_table.query('@words in index').iloc[:,1:].mean()]\n",
    "                             ,axis=1 )\n",
    "    return embeding_df"
   ]
  },
  {
   "cell_type": "code",
   "execution_count": null,
   "id": "2817fe4f",
   "metadata": {},
   "outputs": [],
   "source": [
    "%%time\n",
    "\n",
    "#임베딩 벡터 추출\n",
    "embedding_vect=get_embedding_vector(embd_SG,corpus)"
   ]
  },
  {
   "cell_type": "code",
   "execution_count": null,
   "id": "f7de14ff",
   "metadata": {},
   "outputs": [],
   "source": [
    "vect=(embedding_vect.T.reset_index()).iloc[:,1:] # 데이터 프레임으로 바꿔주고\n",
    "vect.columns=['Review_Embeded'+str(x) for x in range(100)] # 칼럼이름도 달아줌"
   ]
  },
  {
   "cell_type": "code",
   "execution_count": null,
   "id": "fdb6a9e7",
   "metadata": {},
   "outputs": [],
   "source": [
    "# 리뷰랑 병합(Group화 해서 강의별 계산을 위함)\n",
    "review.index=range(len(review))\n",
    "df3=pd.concat([review.iloc[:,1:],vect],axis=1)"
   ]
  },
  {
   "cell_type": "code",
   "execution_count": null,
   "id": "97fe3c6f",
   "metadata": {},
   "outputs": [],
   "source": [
    "# 여기다 담아놓은다음에 Merge\n",
    "feature=[]\n",
    "\n",
    "for col_name in (['Review_Embeded'+str(x) for x in range(100)]):\n",
    "    feature.append(df3.groupby(['name','prof'])[col_name].mean().reset_index())"
   ]
  },
  {
   "cell_type": "code",
   "execution_count": null,
   "id": "52298955",
   "metadata": {},
   "outputs": [],
   "source": [
    "# Merge의 과정\n",
    "df=df2.drop(['class_code','time','link','competitor'],axis=1)\n",
    "df.rename({'class_name':'name','professor':'prof'},axis=1,inplace=True)"
   ]
  },
  {
   "cell_type": "code",
   "execution_count": null,
   "id": "fce8717d",
   "metadata": {},
   "outputs": [],
   "source": [
    "for f in feature :\n",
    "    df =pd.merge(df, f, on=['name','prof'],how='left')"
   ]
  },
  {
   "cell_type": "code",
   "execution_count": null,
   "id": "3fd0a2a9",
   "metadata": {},
   "outputs": [],
   "source": [
    "df.drop_duplicates(inplace=True)\n",
    "df.dropna(inplace=True)"
   ]
  },
  {
   "cell_type": "code",
   "execution_count": null,
   "id": "d935a45a",
   "metadata": {},
   "outputs": [],
   "source": [
    "# Skip-Gram을 이용한 인베딩 테이블 완성\n",
    "sim_df=pd.concat([df[['name','prof',]],df.iloc[:,6:]],axis=1)\n",
    "sim_df.index=[x for x in range(892)]"
   ]
  },
  {
   "cell_type": "code",
   "execution_count": null,
   "id": "0f18c577",
   "metadata": {},
   "outputs": [],
   "source": [
    "# 나중에 사용할 테이블\n",
    "detail_table=df2[['class_name','professor','category','recommend_year','weight','score']].drop_duplicates()\n",
    "detail_table.rename({'class_name':'name','professor':'prof'},axis=1,inplace=True)"
   ]
  },
  {
   "cell_type": "code",
   "execution_count": null,
   "id": "9568eca0",
   "metadata": {},
   "outputs": [],
   "source": [
    "from numpy import dot\n",
    "from numpy.linalg import norm\n",
    "import numpy as np"
   ]
  },
  {
   "cell_type": "code",
   "execution_count": null,
   "id": "329dc2fc",
   "metadata": {},
   "outputs": [],
   "source": [
    "#코사인 유사도 계산 함수\n",
    "def cos_sim(A, B): \n",
    "       return dot(A, B)/(norm(A)*norm(B))"
   ]
  },
  {
   "cell_type": "code",
   "execution_count": null,
   "id": "c5adb77f",
   "metadata": {},
   "outputs": [],
   "source": [
    "#다른 모든 행과 유사도 계산 함수\n",
    "def find_similar(input_name,input_prof,df):\n",
    "    input_lecture=df.query('name == @input_name & prof == @input_prof')\n",
    "    rest_lecture=df.query('name != @input_name | prof != @input_prof')\n",
    "    output=rest_lecture.iloc[:,:2]\n",
    "    output['similar']=''\n",
    "    for i in range(len(rest_lecture)):\n",
    "        output.iloc[i,2]= cos_sim(input_lecture.iloc[:,2:],rest_lecture.iloc[i,2:])\n",
    "    output = pd.merge(output, detail_table, on=['name','prof'],how='left')\n",
    "    output = output.sort_values('similar',ascending=False)\n",
    "    return output"
   ]
  },
  {
   "cell_type": "code",
   "execution_count": null,
   "id": "3174142f",
   "metadata": {},
   "outputs": [],
   "source": [
    "# 내가 들었던 수업중에 교수님이 (사람)좋았던 수업\n",
    "find_similar('문명과세계화의도전','안현상',sim_df)[:5] # 경제학개론 확인"
   ]
  },
  {
   "cell_type": "code",
   "execution_count": null,
   "id": "7d0fe64f",
   "metadata": {},
   "outputs": [],
   "source": [
    "# 강의는 썩 재미없었지만 교수님이 열정 넘치고 엄청 좋은 분이었음, 유은나 교수님의 경제학 개론도 대체적으로 비슷한 평가\n",
    "display(review.query('name==\"문명과세계화의도전\" & prof ==\"안현상\"')[['review']][:5])\n",
    "display(review.query('name==\"경제학개론\" & prof ==\"유은나\"')[['review']][:5])"
   ]
  },
  {
   "cell_type": "code",
   "execution_count": null,
   "id": "013d008f",
   "metadata": {},
   "outputs": [],
   "source": [
    "# 외우기만 해서 맘에 안들었던 수업, 영화시리즈 제외하고 한문과 문화 확인\n",
    "display(find_similar('영화작문','이지현',sim_df)[:5]) "
   ]
  },
  {
   "cell_type": "code",
   "execution_count": null,
   "id": "37898259",
   "metadata": {},
   "outputs": [],
   "source": [
    "# 암기라는 키워드 자주등장, 차이점은 교수님 칭찬이 많음 ㅎ; 평점차인듯\n",
    "display(review.query('name==\"영화작문\" & prof ==\"이지현\"')[['review']][:5])\n",
    "display(review.query('name==\"한문과문화\" & prof ==\"이규일\"')[['review']][:5]) "
   ]
  },
  {
   "cell_type": "code",
   "execution_count": null,
   "id": "298399de",
   "metadata": {},
   "outputs": [],
   "source": [
    "from gensim.models import FastText\n",
    "%%time\n",
    "\n",
    "model = FastText.load_fasttext_format('D:/fasttext/wiki.ko.bin')\n",
    "# Pre-triainde vector를 사용해보고 싶은데, 커뮤니티 리뷰다 보니까 별 이상한 단어랑 줄임말,오타들이 다있음\n",
    "# -> 그래서 일반적 word2vec모델에선 사용이 안되것 같음\n",
    "# -> 근데 FastText는 corpus에 없는 단어들도 사용 가능 + Noise에 강한모델\n",
    "# -> 따라서 FastText를 이용한 Pre_Trained Vector 사용 시도"
   ]
  },
  {
   "cell_type": "code",
   "execution_count": null,
   "id": "145a5774",
   "metadata": {},
   "outputs": [],
   "source": [
    "fatx_vec=[] # 문장별 임베딩\n",
    "\n",
    "for words in corpus:\n",
    "    fatx_vec.append(model[words].mean(axis=0))"
   ]
  },
  {
   "cell_type": "code",
   "execution_count": null,
   "id": "7ebca392",
   "metadata": {},
   "outputs": [],
   "source": [
    "fatx_emd=pd.DataFrame() # 임베딩한 벡터를 데이터프레임으로 만들어줌\n",
    "for vecs in (fatx_vec):\n",
    "    fatx_emd=pd.concat([fatx_emd,pd.DataFrame(vecs)],axis=1)"
   ]
  },
  {
   "cell_type": "code",
   "execution_count": null,
   "id": "46d9b7d0",
   "metadata": {},
   "outputs": [],
   "source": [
    "# 벡터 데이터프레임 전처리    \n",
    "fatx_emd=fatx_emd.T\n",
    "fatx_emd.index=range(len(fatx_emd))\n",
    "fatx_emd.columns=['Review_ft_Embeded'+str(x) for x in range(300)]"
   ]
  },
  {
   "cell_type": "code",
   "execution_count": null,
   "id": "013630e8",
   "metadata": {},
   "outputs": [],
   "source": [
    "# 그룹바이 하기위해 달아줌\n",
    "fatx_df=pd.concat([review[['name','prof']],fatx_emd],axis=1)"
   ]
  },
  {
   "cell_type": "code",
   "execution_count": null,
   "id": "966daf6a",
   "metadata": {},
   "outputs": [],
   "source": [
    "# 강의별 임베딩 평균값 생성\n",
    "feature=[]\n",
    "\n",
    "for col_name in (['Review_ft_Embeded'+str(x) for x in range(300)]):\n",
    "    feature.append(fatx_df.groupby(['name','prof'])[col_name].mean().reset_index())"
   ]
  },
  {
   "cell_type": "code",
   "execution_count": null,
   "id": "2f1b78a5",
   "metadata": {},
   "outputs": [],
   "source": [
    "# 중복값 제거\n",
    "fatx_df=fatx_df.iloc[:,:2].drop_duplicates()"
   ]
  },
  {
   "cell_type": "code",
   "execution_count": null,
   "id": "4e4209e8",
   "metadata": {},
   "outputs": [],
   "source": [
    "# 평균값과 강의명 병합\n",
    "for f in feature :\n",
    "    fatx_df =pd.merge(fatx_df, f, on=['name','prof'],how='left')"
   ]
  },
  {
   "cell_type": "code",
   "execution_count": null,
   "id": "e16477ed",
   "metadata": {},
   "outputs": [],
   "source": [
    "# 임베딩 테이블 완성\n",
    "fatx_df.dropna(inplace=True)\n",
    "display(find_similar('문명과세계화의도전','안현상',fatx_df)[:5])\n",
    "display(find_similar('문명과세계화의도전','안현상',sim_df)[:5])"
   ]
  },
  {
   "cell_type": "code",
   "execution_count": null,
   "id": "151ba4b0",
   "metadata": {},
   "outputs": [],
   "source": [
    "display(find_similar('영화작문','이지현',fatx_df)[:5])\n",
    "display(find_similar('영화작문','이지현',sim_df)[:5])\n",
    "# 결과가 다름 : 수업 분야가 비슷한것들끼리 조금더 잘 뽑은 느낌 (내 주관 + 내가 알고있는 평가)\n",
    "# 가중치를 줘서 앙상블하는 것도 괜찮지 않을까?"
   ]
  }
 ],
 "metadata": {
  "kernelspec": {
   "display_name": "Python 3 (ipykernel)",
   "language": "python",
   "name": "python3"
  },
  "language_info": {
   "codemirror_mode": {
    "name": "ipython",
    "version": 3
   },
   "file_extension": ".py",
   "mimetype": "text/x-python",
   "name": "python",
   "nbconvert_exporter": "python",
   "pygments_lexer": "ipython3",
   "version": "3.11.4"
  }
 },
 "nbformat": 4,
 "nbformat_minor": 5
}
