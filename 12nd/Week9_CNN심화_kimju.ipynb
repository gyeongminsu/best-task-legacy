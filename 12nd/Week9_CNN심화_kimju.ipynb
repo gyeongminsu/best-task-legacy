{
 "cells": [
  {
   "cell_type": "markdown",
   "id": "bd0efd8f",
   "metadata": {},
   "source": [
    "## 1. Data Pre-Processing¶"
   ]
  },
  {
   "cell_type": "markdown",
   "id": "3c1cb829",
   "metadata": {},
   "source": [
    "### 1-1. Read Data"
   ]
  },
  {
   "cell_type": "code",
   "execution_count": null,
   "id": "4859e41a",
   "metadata": {},
   "outputs": [],
   "source": [
    "import os\n",
    "import cv2\n",
    "import pandas as pd\n",
    "import numpy as np\n",
    "from sklearn.preprocessing import LabelEncoder\n",
    "from sklearn.preprocessing import OneHotEncoder\n",
    "import random\n",
    "from tqdm import tqdm\n",
    "from google.colab import drive\n",
    "drive.mount('/content/gdrive',force_remount = True)\n",
    "%%time"
   ]
  },
  {
   "cell_type": "code",
   "execution_count": null,
   "id": "2aa2398a",
   "metadata": {},
   "outputs": [],
   "source": [
    "X=[]\n",
    "y=[]\n",
    "\n",
    "path='/content/gdrive/My Drive/Colab Notebooks/101_ObjectCategories'\n",
    "category_list=os.listdir(path)\n",
    "for category in tqdm(category_list):\n",
    "    imges=os.listdir(path+'/'+category)\n",
    "    for img in imges:\n",
    "        data=cv2.imread(path+'/'+category+'/'+img)\n",
    "        data=cv2.resize(data,(224,224))\n",
    "        label=category\n",
    "        X.append(data)\n",
    "        y.append(label)"
   ]
  },
  {
   "cell_type": "code",
   "execution_count": null,
   "id": "b670c632",
   "metadata": {},
   "outputs": [],
   "source": [
    "X=np.array(X)\n",
    "y=np.array(y)\n",
    "encoder=LabelEncoder()\n",
    "labels=encoder.fit_transform(y)"
   ]
  },
  {
   "cell_type": "code",
   "execution_count": null,
   "id": "62db260c",
   "metadata": {},
   "outputs": [],
   "source": [
    "from keras.utils import to_categorical\n",
    "\n",
    "display(labels.shape)"
   ]
  },
  {
   "cell_type": "code",
   "execution_count": null,
   "id": "5a2682d5",
   "metadata": {},
   "outputs": [],
   "source": [
    "labels = to_categorical(labels, num_classes=None)\n",
    "display(labels.shape)"
   ]
  },
  {
   "cell_type": "code",
   "execution_count": null,
   "id": "a39d7599",
   "metadata": {},
   "outputs": [],
   "source": [
    "import matplotlib\n",
    "from matplotlib import pyplot as plt\n",
    "%matplotlib inline"
   ]
  },
  {
   "cell_type": "code",
   "execution_count": null,
   "id": "5a50e479",
   "metadata": {},
   "outputs": [],
   "source": [
    "plt.figure(figsize=(5,5))\n",
    "plt.imshow(X[0])\n",
    "plt.title(y[0])\n",
    "plt.show()"
   ]
  },
  {
   "cell_type": "markdown",
   "id": "4eed965f",
   "metadata": {},
   "source": [
    "### 1-2. Processing"
   ]
  },
  {
   "cell_type": "code",
   "execution_count": null,
   "id": "46d00a52",
   "metadata": {},
   "outputs": [],
   "source": [
    "X= X/255\n",
    "from sklearn.model_selection import train_test_split"
   ]
  },
  {
   "cell_type": "code",
   "execution_count": null,
   "id": "84cc6548",
   "metadata": {},
   "outputs": [],
   "source": [
    "#X_train, X_test, y_train, y_test = train_test_split(X,labels,test_size=0.2,random_state=7)\n",
    "train_data, validation_data, train_label, validation_label = train_test_split(X,labels,test_size=0.2,random_state=7)\n",
    "del X"
   ]
  },
  {
   "cell_type": "code",
   "execution_count": null,
   "id": "1456af64",
   "metadata": {},
   "outputs": [],
   "source": [
    "#Augmentation\n",
    "from keras.preprocessing.image import ImageDataGenerator\n",
    "\n",
    "datagen = ImageDataGenerator(\n",
    "    featurewise_center=False,  # set input mean to 0 over the dataset\n",
    "    samplewise_center=False,  # set each sample mean to 0\n",
    "    featurewise_std_normalization=False,  # divide inputs by std of the dataset\n",
    "    samplewise_std_normalization=False,  # divide each input by its std\n",
    "    rotation_range=0,  # randomly rotate images in the range (degrees, 0 to 180)\n",
    "    width_shift_range=0.1,  # randomly shift images horizontally (fraction of total width)\n",
    "    height_shift_range=0.1,  # randomly shift images vertically (fraction of total height)\n",
    "    horizontal_flip=True,  # randomly flip images\n",
    "    vertical_flip=False)  # randomly flip images"
   ]
  },
  {
   "cell_type": "code",
   "execution_count": null,
   "id": "b3037b5f",
   "metadata": {},
   "outputs": [],
   "source": [
    "datagen.fit(train_data)"
   ]
  },
  {
   "cell_type": "markdown",
   "id": "41b1feaf",
   "metadata": {},
   "source": [
    "## 2. Modeling"
   ]
  },
  {
   "cell_type": "markdown",
   "id": "20b2f2cf",
   "metadata": {},
   "source": [
    "### 2-1. ResNet"
   ]
  },
  {
   "cell_type": "code",
   "execution_count": null,
   "id": "101b3648",
   "metadata": {},
   "outputs": [],
   "source": [
    "from keras import models, layers\n",
    "from keras import Input\n",
    "from keras.models import Model, load_model\n",
    "from keras.preprocessing.image import ImageDataGenerator\n",
    "from keras import optimizers, initializers, regularizers, metrics\n",
    "from keras.callbacks import ModelCheckpoint, EarlyStopping\n",
    "from keras.layers import BatchNormalization, Conv2D, Activation, Dense, GlobalAveragePooling2D, MaxPooling2D, ZeroPadding2D, Add\n",
    "from keras import optimizers\n",
    "from keras.optimizers import adam\n",
    "from keras.applications.resnet50 import ResNet50, preprocess_input, decode_predictions"
   ]
  },
  {
   "cell_type": "code",
   "execution_count": null,
   "id": "f3293289",
   "metadata": {},
   "outputs": [],
   "source": [
    "resnet_not_trained = ResNet50(include_top=True,input_shape=(224,224,3))\n",
    "model = models.Sequential()\n",
    "model.add(resnet_not_trained)\n",
    "model.add(layers.Dense(102,activation = 'softmax'))\n",
    "model.summary()\n",
    "batch_size = 32"
   ]
  },
  {
   "cell_type": "code",
   "execution_count": null,
   "id": "f14b6920",
   "metadata": {},
   "outputs": [],
   "source": [
    "history = model.fit_generator(datagen.flow(train_data, train_label,\n",
    "                                           batch_size=batch_size),\n",
    "                              steps_per_epoch= (train_data.shape[0] // batch_size),\n",
    "                              epochs = 50,\n",
    "                              validation_data=(validation_data,validation_label))"
   ]
  },
  {
   "cell_type": "markdown",
   "id": "908123fe",
   "metadata": {},
   "source": [
    "## 3. Transfer Learning"
   ]
  },
  {
   "cell_type": "code",
   "execution_count": null,
   "id": "71e68f2e",
   "metadata": {},
   "outputs": [],
   "source": [
    "from keras.applications.resnet50 import ResNet50, preprocess_input, decode_predictions\n",
    "\n",
    "resnet = ResNet50(weights = 'imagenet', include_top = False, input_shape = (224,224,3))\n",
    "model = models.Sequential()\n",
    "model.add(resnet)\n",
    "model.add(layers.Flatten())\n",
    "model.add(layers.Dense(102,activation = 'softmax'))\n",
    "model.summary()"
   ]
  },
  {
   "cell_type": "code",
   "execution_count": null,
   "id": "9893e30a",
   "metadata": {},
   "outputs": [],
   "source": [
    "# resnet를 동결\n",
    "print('resnet 동결하기 전 훈련되는 레이어의 수 :',len(model.trainable_weights))\n",
    "resnet.trainable = False\n",
    "print('resnet을 동결한 후 훈련되는 레이어의 수:',len(model.trainable_weights))"
   ]
  },
  {
   "cell_type": "code",
   "execution_count": null,
   "id": "6a73201b",
   "metadata": {},
   "outputs": [],
   "source": [
    "model.compile(loss = 'categorical_crossentropy',\n",
    "             optimizer = adam(),\n",
    "             metrics = ['acc'])\n",
    "batch_size = 32"
   ]
  },
  {
   "cell_type": "code",
   "execution_count": null,
   "id": "e5b48069",
   "metadata": {},
   "outputs": [],
   "source": [
    "history = model.fit_generator(datagen.flow(train_data, train_label,\n",
    "                                           batch_size=batch_size),\n",
    "                              steps_per_epoch= (train_data.shape[0] // batch_size),\n",
    "                              epochs = 50,\n",
    "                              validation_data=(validation_data,validation_label))"
   ]
  }
 ],
 "metadata": {
  "kernelspec": {
   "display_name": "Python 3 (ipykernel)",
   "language": "python",
   "name": "python3"
  },
  "language_info": {
   "codemirror_mode": {
    "name": "ipython",
    "version": 3
   },
   "file_extension": ".py",
   "mimetype": "text/x-python",
   "name": "python",
   "nbconvert_exporter": "python",
   "pygments_lexer": "ipython3",
   "version": "3.11.4"
  }
 },
 "nbformat": 4,
 "nbformat_minor": 5
}
