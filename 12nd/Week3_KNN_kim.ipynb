{
 "cells": [
  {
   "cell_type": "code",
   "execution_count": null,
   "id": "6fd488ab",
   "metadata": {},
   "outputs": [],
   "source": [
    "import numpy as np\n",
    "import pandas as pd\n",
    "from sklearn.datasets import load_iris\n",
    "from sklearn.model_selection import train_test_split \n",
    "from sklearn.neighbors import KNeighborsClassifier\n",
    "import math"
   ]
  },
  {
   "cell_type": "code",
   "execution_count": null,
   "id": "c6d9d5b9",
   "metadata": {},
   "outputs": [],
   "source": [
    "iris = load_iris()\n",
    "#iris.data -> features, iris.target -> labels\n",
    "X = iris.data\n",
    "y = iris.target"
   ]
  },
  {
   "cell_type": "code",
   "execution_count": null,
   "id": "60710d1a",
   "metadata": {},
   "outputs": [],
   "source": [
    "# split into test and train dataset, and use random_state=48\n",
    "X_train, X_test, y_train, y_test = train_test_split(X, y, test_size = 0.3, random_state=48)"
   ]
  },
  {
   "cell_type": "code",
   "execution_count": null,
   "id": "cae8281c",
   "metadata": {},
   "outputs": [],
   "source": [
    "from sklearn.preprocessing import StandardScaler\n",
    "#ss = StandardScaler()\n",
    "#X_train=ss.fit_transform(X_train)\n",
    "#X_test=ss.transform(X_test)"
   ]
  },
  {
   "cell_type": "code",
   "execution_count": null,
   "id": "7e469967",
   "metadata": {},
   "outputs": [],
   "source": [
    "trainSet=np.column_stack((X_train, y_train))\n",
    "testSet=np.column_stack((X_test, y_test))"
   ]
  },
  {
   "cell_type": "code",
   "execution_count": null,
   "id": "558e100a",
   "metadata": {},
   "outputs": [],
   "source": [
    "# p=1 : return Manhattan Distance\n",
    "# p=2 : return Eucludean Distance\n",
    "# w=1 : Normal\n",
    "# w=2 : weighted\n",
    "def KNN(p,trainSet, testSet, k, w):\n",
    "    acc=0\n",
    "    for i in range(len(testSet)):\n",
    "        indexing=[]\n",
    "        distance=[]\n",
    "        \n",
    "        if p ==1:\n",
    "            for q in range(len(trainSet)):\n",
    "                indexing.append(q)\n",
    "                distance.append(abs(trainSet[q,:4]-testSet[i,:4]).sum())\n",
    "        elif p ==2 :\n",
    "            for q in range(len(trainSet)):\n",
    "                indexing.append(q)\n",
    "                distance.append(np.sqrt(((trainSet[q,:4]-testSet[i,:4])**2).sum()))\n",
    "                \n",
    "        neighbor=pd.Series(distance,indexing)\n",
    "        neighbor.sort_values(inplace=True)\n",
    "        neighbor=neighbor.iloc[:k]\n",
    "        \n",
    "        if w ==1 :    \n",
    "            pred= pd.DataFrame(trainSet).iloc[list(neighbor.index.astype(int)),-1].mode()[0]\n",
    "        elif w==2 :\n",
    "            pred_df=pd.concat([np.reciprocal(neighbor)/(np.reciprocal(neighbor).sum()),pd.DataFrame(trainSet).iloc[list(neighbor.index.astype(int)),-1]],axis=1)\n",
    "            pred_df.columns=['weight','category']\n",
    "            pred= (pred_df.groupby('category').sum().reset_index().sort_values(by='weight',ascending=False)).iloc[0,0]\n",
    "            \n",
    "        \n",
    "        print(str(i) + ' > predicted : ' + str(pred) + ', actual : ' + str(testSet[i][-1]))\n",
    "        if pred == testSet[i][-1]:\n",
    "            acc+=1\n",
    "    print('Accuracy: ' + str(acc/len(testSet)) + '%')"
   ]
  },
  {
   "cell_type": "code",
   "execution_count": null,
   "id": "77390bb9",
   "metadata": {},
   "outputs": [],
   "source": [
    "KNN(1,trainSet,testSet,3,1)"
   ]
  },
  {
   "cell_type": "code",
   "execution_count": null,
   "id": "f0674eef",
   "metadata": {},
   "outputs": [],
   "source": [
    "from sklearn.neighbors import KNeighborsClassifier\n",
    "from sklearn.metrics import accuracy_score\n",
    "\n",
    "neigh = KNeighborsClassifier(n_neighbors=3,p=1)\n",
    "neigh.fit(trainSet[:,:4],trainSet[:,-1])\n",
    "pred=neigh.predict(testSet[:,:4])\n",
    "display(accuracy_score(pred,testSet[:,4])) # 동일"
   ]
  },
  {
   "cell_type": "code",
   "execution_count": null,
   "id": "1c81bbf7",
   "metadata": {},
   "outputs": [],
   "source": [
    "KNN(2,trainSet,testSet,3,1)"
   ]
  },
  {
   "cell_type": "code",
   "execution_count": null,
   "id": "5a4e5938",
   "metadata": {},
   "outputs": [],
   "source": [
    "neigh = KNeighborsClassifier(n_neighbors=3,p=2)\n",
    "neigh.fit(trainSet[:,:4],trainSet[:,-1])\n",
    "pred=neigh.predict(testSet[:,:4])\n",
    "display(accuracy_score(pred,testSet[:,4])) # 동일"
   ]
  },
  {
   "cell_type": "code",
   "execution_count": null,
   "id": "4cf0c2db",
   "metadata": {},
   "outputs": [],
   "source": [
    "dis_list=[1,2]\n",
    "num_k_list=[3,5,7,9]\n",
    "weight_list=[1,2]"
   ]
  },
  {
   "cell_type": "code",
   "execution_count": null,
   "id": "2dde1a71",
   "metadata": {},
   "outputs": [],
   "source": [
    "from itertools import product\n",
    "\n",
    "items = [dis_list,num_k_list,weight_list]\n",
    "params=list(product(*items))"
   ]
  },
  {
   "cell_type": "code",
   "execution_count": null,
   "id": "a3d982f2",
   "metadata": {},
   "outputs": [],
   "source": [
    "scores=[]\n",
    "dis=[]\n",
    "num_k=[]\n",
    "weight=[]\n",
    "\n",
    "def tune_KNN(p,trainSet, testSet, k, w):\n",
    "    acc=0\n",
    "    for i in range(len(testSet)):\n",
    "        indexing=[]\n",
    "        distance=[]\n",
    "        \n",
    "        if p ==1:\n",
    "            for q in range(len(trainSet)):\n",
    "                indexing.append(q)\n",
    "                distance.append(abs(trainSet[q,:4]-testSet[i,:4]).sum())\n",
    "        elif p ==2 :\n",
    "            for q in range(len(trainSet)):\n",
    "                indexing.append(q)\n",
    "                distance.append(np.sqrt(((trainSet[q,:4]-testSet[i,:4])**2).sum()))\n",
    "                \n",
    "        neighbor=pd.Series(distance,indexing)\n",
    "        neighbor.sort_values(inplace=True)\n",
    "        neighbor=neighbor.iloc[:k]\n",
    "        \n",
    "        if w ==1 :    \n",
    "            pred= pd.DataFrame(trainSet).iloc[list(neighbor.index.astype(int)),-1].mode()[0]\n",
    "        elif w==2 :\n",
    "            pred_df=pd.concat([np.reciprocal(neighbor)/(np.reciprocal(neighbor).sum()),pd.DataFrame(trainSet).iloc[list(neighbor.index.astype(int)),-1]],axis=1)\n",
    "            pred_df.columns=['weight','category']\n",
    "            pred= (pred_df.groupby('category').sum().reset_index().sort_values(by='weight',ascending=False)).iloc[0,0]\n",
    "            \n",
    "        if pred == testSet[i][-1]:\n",
    "            acc+=1\n",
    "    dis.append(p)\n",
    "    num_k.append(k)\n",
    "    weight.append(w)\n",
    "    scores.append(acc/len(testSet)) \n",
    "for i in params:\n",
    "    p,k,w=i\n",
    "    tune_KNN(p,trainSet,testSet,k,w)"
   ]
  },
  {
   "cell_type": "code",
   "execution_count": null,
   "id": "3d1d7cbe",
   "metadata": {},
   "outputs": [],
   "source": [
    "score=pd.DataFrame([dis,num_k,weight,scores]).T\n",
    "score.columns=['d','k','w','score']"
   ]
  },
  {
   "cell_type": "code",
   "execution_count": null,
   "id": "29d3930a",
   "metadata": {},
   "outputs": [],
   "source": [
    "score.sort_values(by='score',ascending=False)\n",
    "# 각 경우의 수별 score"
   ]
  }
 ],
 "metadata": {
  "kernelspec": {
   "display_name": "Python 3 (ipykernel)",
   "language": "python",
   "name": "python3"
  },
  "language_info": {
   "codemirror_mode": {
    "name": "ipython",
    "version": 3
   },
   "file_extension": ".py",
   "mimetype": "text/x-python",
   "name": "python",
   "nbconvert_exporter": "python",
   "pygments_lexer": "ipython3",
   "version": "3.11.4"
  }
 },
 "nbformat": 4,
 "nbformat_minor": 5
}
