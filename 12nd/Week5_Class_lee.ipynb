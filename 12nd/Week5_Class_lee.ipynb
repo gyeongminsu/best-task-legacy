{
 "cells": [
  {
   "cell_type": "code",
   "execution_count": null,
   "id": "b2a10990",
   "metadata": {},
   "outputs": [],
   "source": [
    "class House:\n",
    "    def __init__(self,size,rooms):\n",
    "        self.size=int(size)\n",
    "        self.rooms=int(rooms)"
   ]
  },
  {
   "cell_type": "code",
   "execution_count": null,
   "id": "a2221664",
   "metadata": {},
   "outputs": [],
   "source": [
    "from House import House\n",
    " \n",
    "class Apartment(House):\n",
    "    def __init__(self, dong_ho, size, rooms):\n",
    "        super().__init__(size, rooms)\n",
    "        self.dong_ho = dong_ho\n",
    "        \n",
    "    def __lt__(self, other):\n",
    "        if self.size < other.size:\n",
    "            return True\n",
    "        else:\n",
    "            return False\n",
    "        \n",
    "    def __eq__(self, other):\n",
    "        if self.size == other.size:\n",
    "            return True\n",
    "        else:\n",
    "            return False\n",
    "        \n",
    "    def __str__(self):\n",
    "        return '{}동 {}호의 {}개의 방이 있는 {}평의 아파트입니다.'.format(self.dong_ho.split('-')[0], \n",
    "                                                         self.dong_ho.split('-')[1], self.rooms, self.size)"
   ]
  },
  {
   "cell_type": "code",
   "execution_count": null,
   "id": "dcb244f9",
   "metadata": {},
   "outputs": [],
   "source": [
    "from House import House\n",
    " \n",
    "class Vile(House):\n",
    "    def __init__(self, address, size, rooms, yard):\n",
    "        super().__init__(size, rooms)\n",
    "        self.address = address\n",
    "        self.yard = yard\n",
    "        \n",
    "    def __lt__(self, other):\n",
    "        if self.size < other.size:\n",
    "            return True\n",
    "        else:\n",
    "            return False\n",
    "  \n",
    "    def __str__(self):\n",
    "        if(self.yard=='T'):\n",
    "            return '{}에 위치해 있는 {}개의 방이 있고 마당이 있는 {}평의 주택입니다.'.format(self.address, self.rooms, self.size)\n",
    "        else:\n",
    "            return '{}에 위치해 있는 {}개의 방이 있고 마당은 없는 {}평의 주택입니다.'.format(self.address, self.rooms, self.size)"
   ]
  },
  {
   "cell_type": "code",
   "execution_count": null,
   "id": "1c219fd3",
   "metadata": {},
   "outputs": [],
   "source": [
    "from Apartment import Apartment\n",
    "from Vile import Vile\n",
    " \n",
    "f = open(\"Apartment.txt\", 'r')\n",
    "N = int(f.readline())\n",
    " \n",
    "apartments=[]\n",
    "\n",
    "for i in range(N):\n",
    "    lst = f.readline().split(' ')\n",
    "    a = Apartment(lst[0], lst[1], lst[2].strip())\n",
    "    apartments.append(a)\n",
    "    \n",
    "f.close()"
   ]
  },
  {
   "cell_type": "code",
   "execution_count": null,
   "id": "46d0cc14",
   "metadata": {},
   "outputs": [],
   "source": [
    "# 클래스 리스트 정렬\n",
    "max_index=0\n",
    "# magic method가 작동하는 것을 직관적으로 파악해보기 위해 for문을 이용하여 최댓값을 찾아보세요!\n",
    "for j in range(N):\n",
    "    if apartments[max_index] < apartments[j]:\n",
    "        max_index = j"
   ]
  },
  {
   "cell_type": "code",
   "execution_count": null,
   "id": "041ff06e",
   "metadata": {},
   "outputs": [],
   "source": [
    "# 혹시 같은 인덱스가 있으면 같이 출력한다.\n",
    "print(apartments[max_index])\n",
    "for j in range(N):\n",
    "    if apartments[max_index] == apartments[j] and max_index != j:\n",
    "        print(apartments[j])"
   ]
  },
  {
   "cell_type": "code",
   "execution_count": null,
   "id": "229f7ea3",
   "metadata": {},
   "outputs": [],
   "source": [
    "# Vile에 대한 최대평수 출력은 max를 활용해보세요~!\n",
    "f = open(\"Vile.txt\", 'r')\n",
    "M = int(f.readline())\n",
    " \n",
    "viles = []\n",
    "\n",
    "for i in range(M):\n",
    "    lst = f.readline().split(' ')\n",
    "    v = Vile(lst[0], lst[1], lst[2], lst[3].strip())\n",
    "    viles.append(v)\n",
    "    \n",
    "f.close()"
   ]
  },
  {
   "cell_type": "code",
   "execution_count": null,
   "id": "3f36b21e",
   "metadata": {},
   "outputs": [],
   "source": [
    "print(max(viles))"
   ]
  },
  {
   "cell_type": "markdown",
   "id": "f65f5e4b",
   "metadata": {},
   "source": [
    "result: 216동 701호의 5개의 방이 있는 84평의 아파트입니다. 풍무로1에 위치해 있는 4개의 방이 있고 마당은 없는 140평의 주택입니다."
   ]
  }
 ],
 "metadata": {
  "kernelspec": {
   "display_name": "Python 3 (ipykernel)",
   "language": "python",
   "name": "python3"
  },
  "language_info": {
   "codemirror_mode": {
    "name": "ipython",
    "version": 3
   },
   "file_extension": ".py",
   "mimetype": "text/x-python",
   "name": "python",
   "nbconvert_exporter": "python",
   "pygments_lexer": "ipython3",
   "version": "3.11.4"
  }
 },
 "nbformat": 4,
 "nbformat_minor": 5
}
