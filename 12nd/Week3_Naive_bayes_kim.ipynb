{
 "cells": [
  {
   "cell_type": "code",
   "execution_count": null,
   "id": "923272b0",
   "metadata": {},
   "outputs": [],
   "source": [
    "from pandas import Series, DataFrame\n",
    "import pandas as pd\n",
    "import numpy as np"
   ]
  },
  {
   "cell_type": "code",
   "execution_count": null,
   "id": "43621c59",
   "metadata": {},
   "outputs": [],
   "source": [
    "data_url = './fraud.csv'\n",
    "df = pd.read_csv(data_url, sep=',')\n",
    "df.head(20)"
   ]
  },
  {
   "cell_type": "code",
   "execution_count": null,
   "id": "bfed6076",
   "metadata": {},
   "outputs": [],
   "source": [
    "# ID열을 삭제해줍니다.\n",
    "del df[\"ID\"] "
   ]
  },
  {
   "cell_type": "code",
   "execution_count": null,
   "id": "629ff4bc",
   "metadata": {},
   "outputs": [],
   "source": [
    "# Label(Y_data)을 따로 저장해 줍니다.\n",
    "Y_data = df.pop(\"Fraud\")\n",
    "# as_matrix()함수를 통해 array형태로 변환시켜 줍니다.\n",
    "# Convert the frame to its Numpy-array representation.\n",
    "# https://pandas.pydata.org/pandas-docs/stable/reference/api/pandas.DataFrame.as_matrix.html"
   ]
  },
  {
   "cell_type": "code",
   "execution_count": null,
   "id": "e5758a77",
   "metadata": {},
   "outputs": [],
   "source": [
    "Y_data = Y_data.as_matrix()\n",
    "Y_data"
   ]
  },
  {
   "cell_type": "code",
   "execution_count": null,
   "id": "d976464a",
   "metadata": {},
   "outputs": [],
   "source": [
    "type(Y_data)"
   ]
  },
  {
   "cell_type": "code",
   "execution_count": null,
   "id": "433345f5",
   "metadata": {},
   "outputs": [],
   "source": [
    "df.head(20)"
   ]
  },
  {
   "cell_type": "code",
   "execution_count": null,
   "id": "7a98d32c",
   "metadata": {},
   "outputs": [],
   "source": [
    "a = df.History.unique()\n",
    "b = np.array"
   ]
  },
  {
   "cell_type": "code",
   "execution_count": null,
   "id": "11bbecf9",
   "metadata": {},
   "outputs": [],
   "source": [
    "for i in a:\n",
    "    b = np.append(b, 'History_'+i)"
   ]
  },
  {
   "cell_type": "code",
   "execution_count": null,
   "id": "f887c64c",
   "metadata": {},
   "outputs": [],
   "source": [
    "b[1]"
   ]
  },
  {
   "cell_type": "code",
   "execution_count": null,
   "id": "5c70502c",
   "metadata": {},
   "outputs": [],
   "source": [
    "dummy_var_History = pd.get_dummies(df.History)\n",
    "dummy_var_History.rename(columns={'arrears': 'History_arrears', 'current': 'History_current', 'none': 'History_none', 'paid': 'History_paid'}, inplace=True)\n",
    "dummy_var_History"
   ]
  },
  {
   "cell_type": "code",
   "execution_count": null,
   "id": "77acbac1",
   "metadata": {},
   "outputs": [],
   "source": [
    "df.Accommodation.unique()"
   ]
  },
  {
   "cell_type": "code",
   "execution_count": null,
   "id": "479cd3d5",
   "metadata": {},
   "outputs": [],
   "source": [
    "dummy_var_CoApplicant = pd.get_dummies(df.CoApplicant)\n",
    "dummy_var_CoApplicant.rename(columns={'none': 'CoApplicant_none', 'guarantor': 'CoApplicant_guarantor', 'coapplicant': 'CoApplicant_coapplicant'}, inplace=True)\n",
    "dummy_var_CoApplicant"
   ]
  },
  {
   "cell_type": "code",
   "execution_count": null,
   "id": "a1c160b9",
   "metadata": {},
   "outputs": [],
   "source": [
    "dummy_var_Accommodation = pd.get_dummies(df.Accommodation)\n",
    "dummy_var_Accommodation.rename(columns={'own': 'Accommodation_own', 'rent': 'Accommodation_rent', 'free': 'Accommodation_free'}, inplace=True)\n",
    "dummy_var_Accommodation"
   ]
  },
  {
   "cell_type": "code",
   "execution_count": null,
   "id": "cac4ac7e",
   "metadata": {},
   "outputs": [],
   "source": [
    "df_true = pd.concat([df.drop(['History'], axis=1),dummy_var_History], axis=1)\n",
    "df_true = pd.concat([df_true.drop(['CoApplicant'], axis=1),dummy_var_CoApplicant], axis=1)\n",
    "df_true = pd.concat([df_true.drop(['Accommodation'], axis=1),dummy_var_Accommodation], axis=1)"
   ]
  },
  {
   "cell_type": "code",
   "execution_count": null,
   "id": "e06ae814",
   "metadata": {},
   "outputs": [],
   "source": [
    "x_df = df_true\n",
    "x_df.head(30) # dummy변수로 변환"
   ]
  },
  {
   "cell_type": "code",
   "execution_count": null,
   "id": "72ccc2f7",
   "metadata": {},
   "outputs": [],
   "source": [
    "x_data = x_df.as_matrix()\n",
    "x_data"
   ]
  },
  {
   "cell_type": "code",
   "execution_count": null,
   "id": "2c247e8c",
   "metadata": {},
   "outputs": [],
   "source": [
    "Y_data == True # boolean index"
   ]
  },
  {
   "cell_type": "code",
   "execution_count": null,
   "id": "992045cb",
   "metadata": {},
   "outputs": [],
   "source": [
    "len(set(Y_data))"
   ]
  },
  {
   "cell_type": "code",
   "execution_count": null,
   "id": "10df5884",
   "metadata": {},
   "outputs": [],
   "source": [
    "P_Y_True = sum(Y_data==True) / len(Y_data)\n",
    "P_Y_False = 1 - P_Y_True"
   ]
  },
  {
   "cell_type": "code",
   "execution_count": null,
   "id": "90c6e8a3",
   "metadata": {},
   "outputs": [],
   "source": [
    "ix_Y_True = np.where(Y_data) # Y_data == True인 인덱스를 뽑아줍니다."
   ]
  },
  {
   "cell_type": "code",
   "execution_count": null,
   "id": "8d89b802",
   "metadata": {},
   "outputs": [],
   "source": [
    "ix_Y_False = np.where(Y_data==False)"
   ]
  },
  {
   "cell_type": "code",
   "execution_count": null,
   "id": "568c68ec",
   "metadata": {},
   "outputs": [],
   "source": [
    "p_x_y_true = (x_data[ix_Y_True].sum(axis=0) / sum(Y_data==True))  # Q.뒤에 sum(Y_data == True) 필요한가요? # 앞에 식이 P(X_cap_Y1)인 것 같은데...\n",
    "p_x_y_false = (x_data[ix_Y_False].sum(axis=0) / sum(Y_data==False))# y가 True라는 전제의 조건부 확률이기 때문입니다"
   ]
  },
  {
   "cell_type": "code",
   "execution_count": null,
   "id": "bb530dbc",
   "metadata": {},
   "outputs": [],
   "source": [
    "# 총 10개의 값에 대해서 확률을 구해준다.\n",
    "x_test = [0,1,0,0,0,1,0, 0,1,0]\n",
    "p_out = []\n",
    "\n",
    "for n, i in enumerate(x_test):\n",
    "    if i == 0:\n",
    "        p_out.append(1-p_x_y_true[n])\n",
    "    else:\n",
    "        p_out.append(p_x_y_true[n])"
   ]
  },
  {
   "cell_type": "code",
   "execution_count": null,
   "id": "80ac1e19",
   "metadata": {},
   "outputs": [],
   "source": [
    "p_out"
   ]
  },
  {
   "cell_type": "code",
   "execution_count": null,
   "id": "a6cba1cc",
   "metadata": {},
   "outputs": [],
   "source": [
    "p_out_x_y_t = [ p if x_test[n] == 1 else 1-p for n, p in enumerate(p_x_y_true) ]\n",
    "p_out_x_y_true = 1\n",
    "\n",
    "for i in p_out_x_y_t:\n",
    "    p_out_x_y_true*=i"
   ]
  },
  {
   "cell_type": "code",
   "execution_count": null,
   "id": "04f3b287",
   "metadata": {},
   "outputs": [],
   "source": [
    "p_out_x_y_true"
   ]
  },
  {
   "cell_type": "code",
   "execution_count": null,
   "id": "b6a428f5",
   "metadata": {},
   "outputs": [],
   "source": [
    "[ p if x_test[n] == 1 else 1-p for n, p in enumerate(p_x_y_false) ]\n",
    "p_out_x_y_f = [ p if x_test[n] == 1 else 1-p for n, p in enumerate(p_x_y_false) ]\n",
    "p_out_x_y_false = 1\n",
    "for i in p_out_x_y_f:\n",
    "    p_out_x_y_false*=i\n",
    "p_out_x_y_false"
   ]
  },
  {
   "cell_type": "code",
   "execution_count": null,
   "id": "002a79f2",
   "metadata": {},
   "outputs": [],
   "source": [
    "import math\n",
    "\n",
    "p_y_true_test = p_out_x_y_true/(p_out_x_y_true+p_out_x_y_false)\n",
    "p_y_false_test = p_out_x_y_false/(p_out_x_y_true+p_out_x_y_false)"
   ]
  },
  {
   "cell_type": "code",
   "execution_count": null,
   "id": "29dd1ab5",
   "metadata": {},
   "outputs": [],
   "source": [
    "# p_x_y_true의 해당 y의 값에대해 조건부 확률을 곱한게 우도인 ㅣikelihood이다\n",
    "# 이 우도에 p(y)를 곱하고 p(Xi)의 곱들로 나누어 주면 원하는 확률을 얻게된다\n",
    "# 이떄 우도는 독립변수 x가 많아 질 수록 확률분포가 넓어지므로 sparse해져 간혹 값이 매우 작아져 독립이라는 가정하에 각 변수 x의 조건부 확률을\n",
    "# 곱하였을 때 값이 작아지는 경우가 생긴다\n",
    "# 이때 보통 분모에 들어가는 p(Xi)의 곱들은 p(y|x)에서 y의 값에 상관없이 들어가므로 p(y)*likelihood의 값만 비교해도 되는데 그 값이 너무 작아지면\n",
    "# 비교하기가 힘드므로 log를 취해주거나 값이 0에 수렴하거나 0이 되지않도록 smoothing을 통해 최소한의 확률을 정해준다\n",
    "# 현재 주어진 iris데이터의 경우 5,8번쨰 돌립변수 x의 조건부확률이 1이 되어버려 0에 근사하는게 아닌 y가 false일때 아예 우도값이 0이된다\n",
    "# 이는 smoothing을 통해서는 보정이 가능하지만 log를 취하게 되면 log(0)은 값이 없고 근사하더라도 음의 무한으로 발산하므로 데이터 비교에 용이하지않다\n",
    "# 따라서 아래처럼 smoothing을 통해 확률을 구한다"
   ]
  },
  {
   "cell_type": "code",
   "execution_count": null,
   "id": "02f7778b",
   "metadata": {},
   "outputs": [],
   "source": [
    "smoothing_p = 2\n",
    "\n",
    "p_x_y_true = (x_data[ix_Y_True].sum(axis=0)+smoothing_p) / (sum(Y_data==True)+smoothing_p*10)\n",
    "p_x_y_false = (p_x_y_true-1)*(-1)"
   ]
  },
  {
   "cell_type": "code",
   "execution_count": null,
   "id": "f5bf8652",
   "metadata": {},
   "outputs": [],
   "source": [
    "x_test = [0,1,0,0,0,1,0,0,1,0]\n",
    "p_out_y_t = [ p if x_test[n] == 1 else 1-p for n, p in enumerate(p_x_y_true) ]\n",
    "p_out_y_true = 1\n",
    "\n",
    "for i in p_out_y_t:\n",
    "    p_out_y_true*=i"
   ]
  },
  {
   "cell_type": "code",
   "execution_count": null,
   "id": "6e38c188",
   "metadata": {},
   "outputs": [],
   "source": [
    "p_out_y_true"
   ]
  },
  {
   "cell_type": "code",
   "execution_count": null,
   "id": "6f7bca74",
   "metadata": {},
   "outputs": [],
   "source": [
    "p_out_y_f = [ p if x_test[n] == 1 else 1-p for n, p in enumerate(p_x_y_false) ]\n",
    "p_out_y_false = 1\n",
    "\n",
    "for i in p_out_y_f:\n",
    "    p_out_y_false*=i"
   ]
  },
  {
   "cell_type": "code",
   "execution_count": null,
   "id": "e8af7c47",
   "metadata": {},
   "outputs": [],
   "source": [
    "p_out_y_false"
   ]
  },
  {
   "cell_type": "code",
   "execution_count": null,
   "id": "c52bdeed",
   "metadata": {},
   "outputs": [],
   "source": [
    "p_out_y_f = [ p if x_test[n] == 1 else 1-p for n, p in enumerate(p_x_y_false) ]\n",
    "p_out_y_false = 1\n",
    "\n",
    "for i in p_out_y_f:\n",
    "    p_out_y_false*=i"
   ]
  },
  {
   "cell_type": "code",
   "execution_count": null,
   "id": "fd1bacb4",
   "metadata": {},
   "outputs": [],
   "source": [
    "p_out_y_false"
   ]
  },
  {
   "cell_type": "code",
   "execution_count": null,
   "id": "a2651706",
   "metadata": {},
   "outputs": [],
   "source": [
    "import math\n",
    " \n",
    "p_y_true_test =  P_Y_True*p_out_y_true/(P_Y_True*p_out_y_true+P_Y_False*p_out_y_false)\n",
    "p_y_false_test = P_Y_False*p_out_y_false/(P_Y_True*p_out_y_true+P_Y_False*p_out_y_false)"
   ]
  },
  {
   "cell_type": "code",
   "execution_count": null,
   "id": "96e85f97",
   "metadata": {},
   "outputs": [],
   "source": [
    "p_y_true_test < p_y_false_test"
   ]
  },
  {
   "cell_type": "code",
   "execution_count": null,
   "id": "157f829d",
   "metadata": {},
   "outputs": [],
   "source": [
    "smoothing_p = 20\n",
    "\n",
    "p_x_y_true = (x_data[ix_Y_True].sum(axis=0)+smoothing_p) / (sum(Y_data==True)+smoothing_p*10)\n",
    "p_x_y_false = (p_x_y_true-1)*(-1)"
   ]
  },
  {
   "cell_type": "code",
   "execution_count": null,
   "id": "f1a870bd",
   "metadata": {},
   "outputs": [],
   "source": [
    "x_test = [0,1,0,0,0,1,0,0,1,0]"
   ]
  },
  {
   "cell_type": "code",
   "execution_count": null,
   "id": "ad12e302",
   "metadata": {},
   "outputs": [],
   "source": [
    "p_out_y_t = [ p if x_test[n] == 1 else 1-p for n, p in enumerate(p_x_y_true) ]\n",
    "p_out_y_true = 1\n",
    "\n",
    "for i in p_out_y_t:\n",
    "    p_out_y_true*=i"
   ]
  },
  {
   "cell_type": "code",
   "execution_count": null,
   "id": "315bc7cf",
   "metadata": {},
   "outputs": [],
   "source": [
    "p_out_y_true"
   ]
  },
  {
   "cell_type": "code",
   "execution_count": null,
   "id": "15ea4d74",
   "metadata": {},
   "outputs": [],
   "source": [
    "p_out_y_f = [ p if x_test[n] == 1 else 1-p for n, p in enumerate(p_x_y_false) ]\n",
    "p_out_y_false = 1\n",
    "\n",
    "for i in p_out_y_f:\n",
    "    p_out_y_false*=i"
   ]
  },
  {
   "cell_type": "code",
   "execution_count": null,
   "id": "3a00ec1f",
   "metadata": {},
   "outputs": [],
   "source": [
    "p_out_y_false"
   ]
  },
  {
   "cell_type": "code",
   "execution_count": null,
   "id": "2b055658",
   "metadata": {},
   "outputs": [],
   "source": [
    "import math\n",
    "\n",
    "p_y_true_test =  P_Y_True*p_out_y_true/(P_Y_True*p_out_y_true+P_Y_False*p_out_y_false)\n",
    "p_y_false_test = P_Y_False*p_out_y_false/(P_Y_True*p_out_y_true+P_Y_False*p_out_y_false)"
   ]
  },
  {
   "cell_type": "code",
   "execution_count": null,
   "id": "d098fee5",
   "metadata": {},
   "outputs": [],
   "source": [
    "# 위에서 얘기하였듯이 주어진 표본에서 다음 y의값이 1일 확률이 100%가 되면 실제로 현실에서 그런 경우는 없다고 봐도 무방하므로\n",
    "# 인위적으로 최소한의 확률을 주는 smoothing을 하여보았다\n",
    "# 그 결과 y가 true일 때의 확률이 100%가 아닌 특정 값으로 나왔지만 여전히 99%로 매우 높은 값을 가짐을 볼 수 있어 \n",
    "# 좀더 높은 값으로 parameter를 20으로 주어 보았으나 여전히 99퍼센트로 y가 true일 확률이 매우 높은 것을 볼 수 있었다"
   ]
  }
 ],
 "metadata": {
  "kernelspec": {
   "display_name": "Python 3 (ipykernel)",
   "language": "python",
   "name": "python3"
  },
  "language_info": {
   "codemirror_mode": {
    "name": "ipython",
    "version": 3
   },
   "file_extension": ".py",
   "mimetype": "text/x-python",
   "name": "python",
   "nbconvert_exporter": "python",
   "pygments_lexer": "ipython3",
   "version": "3.11.4"
  }
 },
 "nbformat": 4,
 "nbformat_minor": 5
}
